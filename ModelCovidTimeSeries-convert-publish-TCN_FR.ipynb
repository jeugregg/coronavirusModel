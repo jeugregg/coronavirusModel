{
 "cells": [
  {
   "cell_type": "markdown",
   "metadata": {},
   "source": [
    "# Model Time Series for COVID: Publish for app\n",
    "\n",
    "This notebook use multistep time serie model  (predicting number of cases future next days).\n",
    "\n",
    "It converts Tensorflow model into TensorFlow Lite to be able to use it in a Lambda fonction on AWS.\n",
    "\n",
    "After that, the lite model is tested and publish on AWS\n",
    "\n",
    "Finally, the lambda function is tested"
   ]
  },
  {
   "cell_type": "markdown",
   "metadata": {},
   "source": [
    "## Convert model in TFlite"
   ]
  },
  {
   "cell_type": "markdown",
   "metadata": {},
   "source": [
    "**IMPORTANT TO DO manually:**\n",
    "- **Update TRAIN_SPLIT in my_helpers.model module**"
   ]
  },
  {
   "cell_type": "markdown",
   "metadata": {},
   "source": [
    "### import"
   ]
  },
  {
   "cell_type": "code",
   "execution_count": 1,
   "metadata": {},
   "outputs": [],
   "source": [
    "# data useful lib\n",
    "import pandas as pd\n",
    "import numpy as np\n",
    "\n",
    "# helper lib\n",
    "import shutil\n",
    "import os, stat\n",
    "import re\n",
    "import datetime\n",
    "import math\n",
    "\n",
    "# read json from http\n",
    "import json\n",
    "import urllib.request\n",
    "\n",
    "# read csv from http\n",
    "import io\n",
    "import requests\n",
    "\n",
    "# model lib\n",
    "import tensorflow as tf\n",
    "\n",
    "# from project\n",
    "from my_helpers.model import prepare_to_lambda, retrieve_from_lambda\n",
    "from my_helpers.model import prepare_to_lambda_future\n",
    "from my_helpers.model import create_list_past_hist, predict_list"
   ]
  },
  {
   "cell_type": "markdown",
   "metadata": {},
   "source": [
    "### Definitions"
   ]
  },
  {
   "cell_type": "code",
   "execution_count": 2,
   "metadata": {},
   "outputs": [
    {
     "name": "stdout",
     "output_type": "stream",
     "text": [
      "TRAIN_SPLIT = 346\n"
     ]
    }
   ],
   "source": [
    "PATH_TO_SAVE_DATA = \".\"\n",
    "PATH_DF_POS_FR = PATH_TO_SAVE_DATA + '/' + 'df_pos_fr.csv'\n",
    "PATH_DF_TEST_FR = PATH_TO_SAVE_DATA + '/' + 'df_test_fr.csv'\n",
    "PATH_JSON_METEO_FR = PATH_TO_SAVE_DATA + '/' + 'data_meteo_fr.json'\n",
    "PATH_DF_FEAT_FR = PATH_TO_SAVE_DATA + '/' + 'df_feat_fr.csv' \n",
    "PATH_GEO_DEP_FR = PATH_TO_SAVE_DATA + '/sources/geofrance/' + 'departments.csv'\n",
    "PATH_MDL_MULTI_STEP = PATH_TO_SAVE_DATA + '/' + \"mdl_multi_step_pos_fr_tcn\"\n",
    "PATH_MDL_MULTI_TFLITE = PATH_TO_SAVE_DATA + '/' + \\\n",
    "    'serverless/tensorflow_lite_on_aws_lambda'\n",
    "PATH_MDL_MULTI_TFLITE_FILE = PATH_MDL_MULTI_TFLITE + '/' + \\\n",
    "    \"converted_model.tflite\"\n",
    "PATH_SERVERLESS = PATH_MDL_MULTI_TFLITE + '/' + 'serverless.yml'\n",
    "\n",
    "date_format = \"%Y-%m-%d\"\n",
    "\n",
    "#NB_POS_DATE_MIN_DF_FEAT = 140734 # on 13/05/2020\n",
    "NB_POS_DATE_MIN_DF_FEAT = 140227 # on 12/05/2020\n",
    "\n",
    "URL_PREDICT = 'https://yl0910jrga.execute-api.us-east-2.amazonaws.com/dev/infer'\n",
    "\n",
    "# model \n",
    "PAST_HISTORY = 14 # days used to predict next values in future\n",
    "FUTURE_TARGET = 7 # nb predict days later\n",
    "STEP = 1\n",
    "\n",
    "# plot\n",
    "NB_DAY_PLOT = FUTURE_TARGET*9\n",
    "\n",
    "# train split\n",
    "from my_helpers.model import TRAIN_SPLIT\n",
    "print(f\"TRAIN_SPLIT = {TRAIN_SPLIT}\")"
   ]
  },
  {
   "cell_type": "markdown",
   "metadata": {},
   "source": [
    "### helper functions"
   ]
  },
  {
   "cell_type": "code",
   "execution_count": 3,
   "metadata": {},
   "outputs": [],
   "source": [
    "# save file before update\n",
    "def clean_file(path_file_name):\n",
    "    '''\n",
    "    Clean file already traited : rename file with date\n",
    "    '''\n",
    "    try:\n",
    "        d = datetime.datetime.now()\n",
    "        str_date = '_' + d.strftime(\"%Y%m%d_%H_%M_%S\")\n",
    "       \n",
    "        res_re = re.search('\\.\\w+$', path_file_name)\n",
    "        \n",
    "        path_file_name_saved = \\\n",
    "            path_file_name[0:res_re.start()] + str_date + res_re.group(0)\n",
    "         \n",
    "        shutil.move(path_file_name, path_file_name_saved) \n",
    "        print('File {} moved!'.format(path_file_name_saved))\n",
    "    except:\n",
    "        print('File {} does not exist!'.format(path_file_name))"
   ]
  },
  {
   "cell_type": "markdown",
   "metadata": {},
   "source": [
    "### load data"
   ]
  },
  {
   "cell_type": "code",
   "execution_count": 4,
   "metadata": {},
   "outputs": [
    {
     "data": {
      "text/html": [
       "<div>\n",
       "<style scoped>\n",
       "    .dataframe tbody tr th:only-of-type {\n",
       "        vertical-align: middle;\n",
       "    }\n",
       "\n",
       "    .dataframe tbody tr th {\n",
       "        vertical-align: top;\n",
       "    }\n",
       "\n",
       "    .dataframe thead th {\n",
       "        text-align: right;\n",
       "    }\n",
       "</style>\n",
       "<table border=\"1\" class=\"dataframe\">\n",
       "  <thead>\n",
       "    <tr style=\"text-align: right;\">\n",
       "      <th></th>\n",
       "      <th>T_min</th>\n",
       "      <th>date</th>\n",
       "      <th>T_max</th>\n",
       "      <th>H_min</th>\n",
       "      <th>H_max</th>\n",
       "      <th>extrap</th>\n",
       "      <th>pos</th>\n",
       "      <th>age_pos</th>\n",
       "      <th>test</th>\n",
       "      <th>age_test</th>\n",
       "      <th>day_num</th>\n",
       "      <th>nb_cases</th>\n",
       "      <th>sum_cases</th>\n",
       "      <th>Rt</th>\n",
       "      <th>rate_pos</th>\n",
       "      <th>train</th>\n",
       "    </tr>\n",
       "    <tr>\n",
       "      <th>date</th>\n",
       "      <th></th>\n",
       "      <th></th>\n",
       "      <th></th>\n",
       "      <th></th>\n",
       "      <th></th>\n",
       "      <th></th>\n",
       "      <th></th>\n",
       "      <th></th>\n",
       "      <th></th>\n",
       "      <th></th>\n",
       "      <th></th>\n",
       "      <th></th>\n",
       "      <th></th>\n",
       "      <th></th>\n",
       "      <th></th>\n",
       "      <th></th>\n",
       "    </tr>\n",
       "  </thead>\n",
       "  <tbody>\n",
       "    <tr>\n",
       "      <th>2020-05-13</th>\n",
       "      <td>284.926667</td>\n",
       "      <td>2020-05-13</td>\n",
       "      <td>290.505000</td>\n",
       "      <td>64.661017</td>\n",
       "      <td>88.135593</td>\n",
       "      <td>0.0</td>\n",
       "      <td>884</td>\n",
       "      <td>61.085973</td>\n",
       "      <td>39096</td>\n",
       "      <td>55.449279</td>\n",
       "      <td>3</td>\n",
       "      <td>141111</td>\n",
       "      <td>NaN</td>\n",
       "      <td>NaN</td>\n",
       "      <td>2.261101</td>\n",
       "      <td>True</td>\n",
       "    </tr>\n",
       "    <tr>\n",
       "      <th>2020-05-14</th>\n",
       "      <td>285.050000</td>\n",
       "      <td>2020-05-14</td>\n",
       "      <td>290.963333</td>\n",
       "      <td>59.406780</td>\n",
       "      <td>84.847458</td>\n",
       "      <td>0.0</td>\n",
       "      <td>980</td>\n",
       "      <td>60.456122</td>\n",
       "      <td>42021</td>\n",
       "      <td>54.836820</td>\n",
       "      <td>4</td>\n",
       "      <td>142091</td>\n",
       "      <td>NaN</td>\n",
       "      <td>NaN</td>\n",
       "      <td>2.332167</td>\n",
       "      <td>True</td>\n",
       "    </tr>\n",
       "    <tr>\n",
       "      <th>2020-05-15</th>\n",
       "      <td>285.308333</td>\n",
       "      <td>2020-05-15</td>\n",
       "      <td>291.920000</td>\n",
       "      <td>57.372881</td>\n",
       "      <td>82.966102</td>\n",
       "      <td>0.0</td>\n",
       "      <td>1021</td>\n",
       "      <td>60.042116</td>\n",
       "      <td>47694</td>\n",
       "      <td>54.388833</td>\n",
       "      <td>5</td>\n",
       "      <td>143112</td>\n",
       "      <td>NaN</td>\n",
       "      <td>NaN</td>\n",
       "      <td>2.140730</td>\n",
       "      <td>True</td>\n",
       "    </tr>\n",
       "    <tr>\n",
       "      <th>2020-05-16</th>\n",
       "      <td>284.956667</td>\n",
       "      <td>2020-05-16</td>\n",
       "      <td>293.500000</td>\n",
       "      <td>53.741379</td>\n",
       "      <td>86.534483</td>\n",
       "      <td>0.0</td>\n",
       "      <td>292</td>\n",
       "      <td>60.085616</td>\n",
       "      <td>16541</td>\n",
       "      <td>54.488000</td>\n",
       "      <td>6</td>\n",
       "      <td>143404</td>\n",
       "      <td>NaN</td>\n",
       "      <td>NaN</td>\n",
       "      <td>1.765310</td>\n",
       "      <td>True</td>\n",
       "    </tr>\n",
       "    <tr>\n",
       "      <th>2020-05-17</th>\n",
       "      <td>285.598333</td>\n",
       "      <td>2020-05-17</td>\n",
       "      <td>294.446667</td>\n",
       "      <td>49.879310</td>\n",
       "      <td>85.500000</td>\n",
       "      <td>0.0</td>\n",
       "      <td>139</td>\n",
       "      <td>61.568345</td>\n",
       "      <td>6612</td>\n",
       "      <td>58.282970</td>\n",
       "      <td>0</td>\n",
       "      <td>143543</td>\n",
       "      <td>NaN</td>\n",
       "      <td>NaN</td>\n",
       "      <td>2.102238</td>\n",
       "      <td>True</td>\n",
       "    </tr>\n",
       "    <tr>\n",
       "      <th>...</th>\n",
       "      <td>...</td>\n",
       "      <td>...</td>\n",
       "      <td>...</td>\n",
       "      <td>...</td>\n",
       "      <td>...</td>\n",
       "      <td>...</td>\n",
       "      <td>...</td>\n",
       "      <td>...</td>\n",
       "      <td>...</td>\n",
       "      <td>...</td>\n",
       "      <td>...</td>\n",
       "      <td>...</td>\n",
       "      <td>...</td>\n",
       "      <td>...</td>\n",
       "      <td>...</td>\n",
       "      <td>...</td>\n",
       "    </tr>\n",
       "    <tr>\n",
       "      <th>2021-05-03</th>\n",
       "      <td>281.508333</td>\n",
       "      <td>2021-05-03</td>\n",
       "      <td>291.938333</td>\n",
       "      <td>46.450000</td>\n",
       "      <td>86.866667</td>\n",
       "      <td>0.0</td>\n",
       "      <td>32488</td>\n",
       "      <td>42.164245</td>\n",
       "      <td>479742</td>\n",
       "      <td>43.617855</td>\n",
       "      <td>1</td>\n",
       "      <td>5626704</td>\n",
       "      <td>338361.0</td>\n",
       "      <td>0.682814</td>\n",
       "      <td>6.771973</td>\n",
       "      <td>False</td>\n",
       "    </tr>\n",
       "    <tr>\n",
       "      <th>2021-05-04</th>\n",
       "      <td>284.020000</td>\n",
       "      <td>2021-05-04</td>\n",
       "      <td>290.883333</td>\n",
       "      <td>55.266667</td>\n",
       "      <td>85.683333</td>\n",
       "      <td>0.0</td>\n",
       "      <td>22842</td>\n",
       "      <td>41.566632</td>\n",
       "      <td>409480</td>\n",
       "      <td>40.603736</td>\n",
       "      <td>2</td>\n",
       "      <td>5649546</td>\n",
       "      <td>326092.0</td>\n",
       "      <td>0.693442</td>\n",
       "      <td>5.578294</td>\n",
       "      <td>False</td>\n",
       "    </tr>\n",
       "    <tr>\n",
       "      <th>2021-05-05</th>\n",
       "      <td>284.170000</td>\n",
       "      <td>2021-05-05</td>\n",
       "      <td>290.341667</td>\n",
       "      <td>53.066667</td>\n",
       "      <td>86.883333</td>\n",
       "      <td>0.0</td>\n",
       "      <td>19969</td>\n",
       "      <td>40.927488</td>\n",
       "      <td>357256</td>\n",
       "      <td>43.091884</td>\n",
       "      <td>3</td>\n",
       "      <td>5669515</td>\n",
       "      <td>313036.0</td>\n",
       "      <td>0.682506</td>\n",
       "      <td>5.589549</td>\n",
       "      <td>False</td>\n",
       "    </tr>\n",
       "    <tr>\n",
       "      <th>2021-05-06</th>\n",
       "      <td>283.796667</td>\n",
       "      <td>2021-05-06</td>\n",
       "      <td>290.420000</td>\n",
       "      <td>63.350000</td>\n",
       "      <td>90.016667</td>\n",
       "      <td>0.0</td>\n",
       "      <td>19120</td>\n",
       "      <td>40.429132</td>\n",
       "      <td>443036</td>\n",
       "      <td>38.192122</td>\n",
       "      <td>4</td>\n",
       "      <td>5688635</td>\n",
       "      <td>300542.0</td>\n",
       "      <td>0.670251</td>\n",
       "      <td>4.315676</td>\n",
       "      <td>False</td>\n",
       "    </tr>\n",
       "    <tr>\n",
       "      <th>2021-05-07</th>\n",
       "      <td>284.735000</td>\n",
       "      <td>2021-05-07</td>\n",
       "      <td>291.736667</td>\n",
       "      <td>54.416667</td>\n",
       "      <td>88.750000</td>\n",
       "      <td>0.0</td>\n",
       "      <td>19854</td>\n",
       "      <td>39.767906</td>\n",
       "      <td>498154</td>\n",
       "      <td>39.334949</td>\n",
       "      <td>5</td>\n",
       "      <td>5708489</td>\n",
       "      <td>288222.0</td>\n",
       "      <td>0.658251</td>\n",
       "      <td>3.985515</td>\n",
       "      <td>False</td>\n",
       "    </tr>\n",
       "  </tbody>\n",
       "</table>\n",
       "<p>360 rows × 16 columns</p>\n",
       "</div>"
      ],
      "text/plain": [
       "                 T_min        date       T_max      H_min      H_max  extrap  \\\n",
       "date                                                                           \n",
       "2020-05-13  284.926667  2020-05-13  290.505000  64.661017  88.135593     0.0   \n",
       "2020-05-14  285.050000  2020-05-14  290.963333  59.406780  84.847458     0.0   \n",
       "2020-05-15  285.308333  2020-05-15  291.920000  57.372881  82.966102     0.0   \n",
       "2020-05-16  284.956667  2020-05-16  293.500000  53.741379  86.534483     0.0   \n",
       "2020-05-17  285.598333  2020-05-17  294.446667  49.879310  85.500000     0.0   \n",
       "...                ...         ...         ...        ...        ...     ...   \n",
       "2021-05-03  281.508333  2021-05-03  291.938333  46.450000  86.866667     0.0   \n",
       "2021-05-04  284.020000  2021-05-04  290.883333  55.266667  85.683333     0.0   \n",
       "2021-05-05  284.170000  2021-05-05  290.341667  53.066667  86.883333     0.0   \n",
       "2021-05-06  283.796667  2021-05-06  290.420000  63.350000  90.016667     0.0   \n",
       "2021-05-07  284.735000  2021-05-07  291.736667  54.416667  88.750000     0.0   \n",
       "\n",
       "              pos    age_pos    test   age_test  day_num  nb_cases  sum_cases  \\\n",
       "date                                                                            \n",
       "2020-05-13    884  61.085973   39096  55.449279        3    141111        NaN   \n",
       "2020-05-14    980  60.456122   42021  54.836820        4    142091        NaN   \n",
       "2020-05-15   1021  60.042116   47694  54.388833        5    143112        NaN   \n",
       "2020-05-16    292  60.085616   16541  54.488000        6    143404        NaN   \n",
       "2020-05-17    139  61.568345    6612  58.282970        0    143543        NaN   \n",
       "...           ...        ...     ...        ...      ...       ...        ...   \n",
       "2021-05-03  32488  42.164245  479742  43.617855        1   5626704   338361.0   \n",
       "2021-05-04  22842  41.566632  409480  40.603736        2   5649546   326092.0   \n",
       "2021-05-05  19969  40.927488  357256  43.091884        3   5669515   313036.0   \n",
       "2021-05-06  19120  40.429132  443036  38.192122        4   5688635   300542.0   \n",
       "2021-05-07  19854  39.767906  498154  39.334949        5   5708489   288222.0   \n",
       "\n",
       "                  Rt  rate_pos  train  \n",
       "date                                   \n",
       "2020-05-13       NaN  2.261101   True  \n",
       "2020-05-14       NaN  2.332167   True  \n",
       "2020-05-15       NaN  2.140730   True  \n",
       "2020-05-16       NaN  1.765310   True  \n",
       "2020-05-17       NaN  2.102238   True  \n",
       "...              ...       ...    ...  \n",
       "2021-05-03  0.682814  6.771973  False  \n",
       "2021-05-04  0.693442  5.578294  False  \n",
       "2021-05-05  0.682506  5.589549  False  \n",
       "2021-05-06  0.670251  4.315676  False  \n",
       "2021-05-07  0.658251  3.985515  False  \n",
       "\n",
       "[360 rows x 16 columns]"
      ]
     },
     "execution_count": 4,
     "metadata": {},
     "output_type": "execute_result"
    }
   ],
   "source": [
    "df_feat_fr = pd.read_csv(PATH_DF_FEAT_FR)\n",
    "df_feat_fr.index = df_feat_fr[\"date\"]\n",
    "df_feat_fr[\"train\"] = [True if I <= TRAIN_SPLIT else False \\\n",
    "                       for I in range(df_feat_fr.shape[0])]\n",
    "df_feat_fr\n"
   ]
  },
  {
   "cell_type": "markdown",
   "metadata": {},
   "source": [
    "### prepare features"
   ]
  },
  {
   "cell_type": "code",
   "execution_count": 5,
   "metadata": {},
   "outputs": [
    {
     "data": {
      "text/html": [
       "<div>\n",
       "<style scoped>\n",
       "    .dataframe tbody tr th:only-of-type {\n",
       "        vertical-align: middle;\n",
       "    }\n",
       "\n",
       "    .dataframe tbody tr th {\n",
       "        vertical-align: top;\n",
       "    }\n",
       "\n",
       "    .dataframe thead th {\n",
       "        text-align: right;\n",
       "    }\n",
       "</style>\n",
       "<table border=\"1\" class=\"dataframe\">\n",
       "  <thead>\n",
       "    <tr style=\"text-align: right;\">\n",
       "      <th></th>\n",
       "      <th>T_min</th>\n",
       "      <th>T_max</th>\n",
       "      <th>H_min</th>\n",
       "      <th>H_max</th>\n",
       "      <th>pos</th>\n",
       "      <th>test</th>\n",
       "      <th>day_num</th>\n",
       "      <th>age_pos</th>\n",
       "      <th>age_test</th>\n",
       "    </tr>\n",
       "    <tr>\n",
       "      <th>date</th>\n",
       "      <th></th>\n",
       "      <th></th>\n",
       "      <th></th>\n",
       "      <th></th>\n",
       "      <th></th>\n",
       "      <th></th>\n",
       "      <th></th>\n",
       "      <th></th>\n",
       "      <th></th>\n",
       "    </tr>\n",
       "  </thead>\n",
       "  <tbody>\n",
       "    <tr>\n",
       "      <th>2020-05-13</th>\n",
       "      <td>284.926667</td>\n",
       "      <td>290.505000</td>\n",
       "      <td>64.661017</td>\n",
       "      <td>88.135593</td>\n",
       "      <td>884</td>\n",
       "      <td>39096</td>\n",
       "      <td>3</td>\n",
       "      <td>61.085973</td>\n",
       "      <td>55.449279</td>\n",
       "    </tr>\n",
       "    <tr>\n",
       "      <th>2020-05-14</th>\n",
       "      <td>285.050000</td>\n",
       "      <td>290.963333</td>\n",
       "      <td>59.406780</td>\n",
       "      <td>84.847458</td>\n",
       "      <td>980</td>\n",
       "      <td>42021</td>\n",
       "      <td>4</td>\n",
       "      <td>60.456122</td>\n",
       "      <td>54.836820</td>\n",
       "    </tr>\n",
       "    <tr>\n",
       "      <th>2020-05-15</th>\n",
       "      <td>285.308333</td>\n",
       "      <td>291.920000</td>\n",
       "      <td>57.372881</td>\n",
       "      <td>82.966102</td>\n",
       "      <td>1021</td>\n",
       "      <td>47694</td>\n",
       "      <td>5</td>\n",
       "      <td>60.042116</td>\n",
       "      <td>54.388833</td>\n",
       "    </tr>\n",
       "    <tr>\n",
       "      <th>2020-05-16</th>\n",
       "      <td>284.956667</td>\n",
       "      <td>293.500000</td>\n",
       "      <td>53.741379</td>\n",
       "      <td>86.534483</td>\n",
       "      <td>292</td>\n",
       "      <td>16541</td>\n",
       "      <td>6</td>\n",
       "      <td>60.085616</td>\n",
       "      <td>54.488000</td>\n",
       "    </tr>\n",
       "    <tr>\n",
       "      <th>2020-05-17</th>\n",
       "      <td>285.598333</td>\n",
       "      <td>294.446667</td>\n",
       "      <td>49.879310</td>\n",
       "      <td>85.500000</td>\n",
       "      <td>139</td>\n",
       "      <td>6612</td>\n",
       "      <td>0</td>\n",
       "      <td>61.568345</td>\n",
       "      <td>58.282970</td>\n",
       "    </tr>\n",
       "    <tr>\n",
       "      <th>...</th>\n",
       "      <td>...</td>\n",
       "      <td>...</td>\n",
       "      <td>...</td>\n",
       "      <td>...</td>\n",
       "      <td>...</td>\n",
       "      <td>...</td>\n",
       "      <td>...</td>\n",
       "      <td>...</td>\n",
       "      <td>...</td>\n",
       "    </tr>\n",
       "    <tr>\n",
       "      <th>2021-05-03</th>\n",
       "      <td>281.508333</td>\n",
       "      <td>291.938333</td>\n",
       "      <td>46.450000</td>\n",
       "      <td>86.866667</td>\n",
       "      <td>32488</td>\n",
       "      <td>479742</td>\n",
       "      <td>1</td>\n",
       "      <td>42.164245</td>\n",
       "      <td>43.617855</td>\n",
       "    </tr>\n",
       "    <tr>\n",
       "      <th>2021-05-04</th>\n",
       "      <td>284.020000</td>\n",
       "      <td>290.883333</td>\n",
       "      <td>55.266667</td>\n",
       "      <td>85.683333</td>\n",
       "      <td>22842</td>\n",
       "      <td>409480</td>\n",
       "      <td>2</td>\n",
       "      <td>41.566632</td>\n",
       "      <td>40.603736</td>\n",
       "    </tr>\n",
       "    <tr>\n",
       "      <th>2021-05-05</th>\n",
       "      <td>284.170000</td>\n",
       "      <td>290.341667</td>\n",
       "      <td>53.066667</td>\n",
       "      <td>86.883333</td>\n",
       "      <td>19969</td>\n",
       "      <td>357256</td>\n",
       "      <td>3</td>\n",
       "      <td>40.927488</td>\n",
       "      <td>43.091884</td>\n",
       "    </tr>\n",
       "    <tr>\n",
       "      <th>2021-05-06</th>\n",
       "      <td>283.796667</td>\n",
       "      <td>290.420000</td>\n",
       "      <td>63.350000</td>\n",
       "      <td>90.016667</td>\n",
       "      <td>19120</td>\n",
       "      <td>443036</td>\n",
       "      <td>4</td>\n",
       "      <td>40.429132</td>\n",
       "      <td>38.192122</td>\n",
       "    </tr>\n",
       "    <tr>\n",
       "      <th>2021-05-07</th>\n",
       "      <td>284.735000</td>\n",
       "      <td>291.736667</td>\n",
       "      <td>54.416667</td>\n",
       "      <td>88.750000</td>\n",
       "      <td>19854</td>\n",
       "      <td>498154</td>\n",
       "      <td>5</td>\n",
       "      <td>39.767906</td>\n",
       "      <td>39.334949</td>\n",
       "    </tr>\n",
       "  </tbody>\n",
       "</table>\n",
       "<p>360 rows × 9 columns</p>\n",
       "</div>"
      ],
      "text/plain": [
       "                 T_min       T_max      H_min      H_max    pos    test  \\\n",
       "date                                                                      \n",
       "2020-05-13  284.926667  290.505000  64.661017  88.135593    884   39096   \n",
       "2020-05-14  285.050000  290.963333  59.406780  84.847458    980   42021   \n",
       "2020-05-15  285.308333  291.920000  57.372881  82.966102   1021   47694   \n",
       "2020-05-16  284.956667  293.500000  53.741379  86.534483    292   16541   \n",
       "2020-05-17  285.598333  294.446667  49.879310  85.500000    139    6612   \n",
       "...                ...         ...        ...        ...    ...     ...   \n",
       "2021-05-03  281.508333  291.938333  46.450000  86.866667  32488  479742   \n",
       "2021-05-04  284.020000  290.883333  55.266667  85.683333  22842  409480   \n",
       "2021-05-05  284.170000  290.341667  53.066667  86.883333  19969  357256   \n",
       "2021-05-06  283.796667  290.420000  63.350000  90.016667  19120  443036   \n",
       "2021-05-07  284.735000  291.736667  54.416667  88.750000  19854  498154   \n",
       "\n",
       "            day_num    age_pos   age_test  \n",
       "date                                       \n",
       "2020-05-13        3  61.085973  55.449279  \n",
       "2020-05-14        4  60.456122  54.836820  \n",
       "2020-05-15        5  60.042116  54.388833  \n",
       "2020-05-16        6  60.085616  54.488000  \n",
       "2020-05-17        0  61.568345  58.282970  \n",
       "...             ...        ...        ...  \n",
       "2021-05-03        1  42.164245  43.617855  \n",
       "2021-05-04        2  41.566632  40.603736  \n",
       "2021-05-05        3  40.927488  43.091884  \n",
       "2021-05-06        4  40.429132  38.192122  \n",
       "2021-05-07        5  39.767906  39.334949  \n",
       "\n",
       "[360 rows x 9 columns]"
      ]
     },
     "execution_count": 5,
     "metadata": {},
     "output_type": "execute_result"
    }
   ],
   "source": [
    "features = df_feat_fr.copy().filter(items=['T_min', 'T_max', 'H_min',\n",
    "                                           'H_max', 'pos', 'test', 'day_num',\n",
    "                                          'age_pos', 'age_test'])\n",
    "features"
   ]
  },
  {
   "cell_type": "markdown",
   "metadata": {},
   "source": [
    "### Prepare dataset"
   ]
  },
  {
   "cell_type": "code",
   "execution_count": 6,
   "metadata": {},
   "outputs": [],
   "source": [
    "dataset = features.values\n",
    "data_mean = dataset[:TRAIN_SPLIT].mean(axis=0)\n",
    "data_std = dataset[:TRAIN_SPLIT].std(axis=0)\n",
    "dataset = (dataset-data_mean)/data_std"
   ]
  },
  {
   "cell_type": "code",
   "execution_count": 7,
   "metadata": {},
   "outputs": [
    {
     "data": {
      "text/plain": [
       "9"
      ]
     },
     "execution_count": 7,
     "metadata": {},
     "output_type": "execute_result"
    }
   ],
   "source": [
    "dataset.shape[1]"
   ]
  },
  {
   "cell_type": "code",
   "execution_count": 8,
   "metadata": {},
   "outputs": [
    {
     "data": {
      "text/plain": [
       "14"
      ]
     },
     "execution_count": 8,
     "metadata": {},
     "output_type": "execute_result"
    }
   ],
   "source": [
    "PAST_HISTORY"
   ]
  },
  {
   "cell_type": "code",
   "execution_count": 9,
   "metadata": {},
   "outputs": [
    {
     "data": {
      "text/plain": [
       "9"
      ]
     },
     "execution_count": 9,
     "metadata": {},
     "output_type": "execute_result"
    }
   ],
   "source": [
    "dataset.shape[1]"
   ]
  },
  {
   "cell_type": "markdown",
   "metadata": {},
   "source": [
    "### Load model"
   ]
  },
  {
   "cell_type": "code",
   "execution_count": 10,
   "metadata": {},
   "outputs": [
    {
     "name": "stderr",
     "output_type": "stream",
     "text": [
      "/anaconda3/envs/coronavirusModel/lib/python3.7/site-packages/tensorflow/python/keras/layers/core.py:1045: UserWarning: tcn.tcn is not loaded, but a Lambda layer uses it. It may cause errors.\n",
      "  , UserWarning)\n"
     ]
    },
    {
     "name": "stdout",
     "output_type": "stream",
     "text": [
      "CPU times: user 1.38 s, sys: 122 ms, total: 1.5 s\n",
      "Wall time: 1.87 s\n"
     ]
    }
   ],
   "source": [
    "%%time\n",
    "# reload best model\n",
    "multi_step_model = tf.keras.models.load_model(PATH_MDL_MULTI_STEP)"
   ]
  },
  {
   "cell_type": "code",
   "execution_count": 11,
   "metadata": {},
   "outputs": [
    {
     "name": "stdout",
     "output_type": "stream",
     "text": [
      "Model: \"model\"\n",
      "_________________________________________________________________\n",
      "Layer (type)                 Output Shape              Param #   \n",
      "=================================================================\n",
      "input_1 (InputLayer)         [(None, 14, 9)]           0         \n",
      "_________________________________________________________________\n",
      "tcn (TCN)                    (None, 64)                43136     \n",
      "_________________________________________________________________\n",
      "dense (Dense)                (None, 7)                 455       \n",
      "=================================================================\n",
      "Total params: 43,591\n",
      "Trainable params: 43,591\n",
      "Non-trainable params: 0\n",
      "_________________________________________________________________\n"
     ]
    }
   ],
   "source": [
    "multi_step_model.summary()"
   ]
  },
  {
   "cell_type": "code",
   "execution_count": 12,
   "metadata": {},
   "outputs": [
    {
     "data": {
      "text/plain": [
       "tf.float32"
      ]
     },
     "execution_count": 12,
     "metadata": {},
     "output_type": "execute_result"
    }
   ],
   "source": [
    "multi_step_model.inputs[0].dtype"
   ]
  },
  {
   "cell_type": "code",
   "execution_count": 13,
   "metadata": {
    "scrolled": false
   },
   "outputs": [
    {
     "name": "stdout",
     "output_type": "stream",
     "text": [
      "WARNING:tensorflow:From /anaconda3/envs/coronavirusModel/lib/python3.7/site-packages/tensorflow/python/training/tracking/tracking.py:111: Model.state_updates (from tensorflow.python.keras.engine.training) is deprecated and will be removed in a future version.\n",
      "Instructions for updating:\n",
      "This property should not be used in TensorFlow 2.0, as updates are applied automatically.\n",
      "WARNING:tensorflow:From /anaconda3/envs/coronavirusModel/lib/python3.7/site-packages/tensorflow/python/training/tracking/tracking.py:111: Layer.updates (from tensorflow.python.keras.engine.base_layer) is deprecated and will be removed in a future version.\n",
      "Instructions for updating:\n",
      "This property should not be used in TensorFlow 2.0, as updates are applied automatically.\n",
      "INFO:tensorflow:Assets written to: ./keras_tcn/assets\n"
     ]
    }
   ],
   "source": [
    "run_model = tf.function(lambda x: multi_step_model(x))\n",
    "# This is important, let's fix the input size.\n",
    "INPUT_SIZE = dataset.shape[1]\n",
    "concrete_func = run_model.get_concrete_function(\n",
    "    tf.TensorSpec([1, PAST_HISTORY, INPUT_SIZE],\n",
    "                  multi_step_model.inputs[0].dtype))\n",
    "\n",
    "# model directory.\n",
    "MODEL_DIR = PATH_TO_SAVE_DATA + \"/\" + \"keras_tcn\"\n",
    "multi_step_model.save(MODEL_DIR, save_format=\"tf\", signatures=concrete_func)\n",
    "\n",
    "converter = tf.lite.TFLiteConverter.from_saved_model(MODEL_DIR)\n",
    "\n",
    "'''converter.target_spec.supported_ops = [\n",
    "  tf.lite.OpsSet.TFLITE_BUILTINS, # enable TensorFlow Lite ops.\n",
    "  tf.lite.OpsSet.SELECT_TF_OPS # enable TensorFlow ops.\n",
    "]\n",
    "converter.allow_custom_ops=True'''\n",
    "\n",
    "tflite_model = converter.convert()"
   ]
  },
  {
   "cell_type": "markdown",
   "metadata": {},
   "source": [
    "### Save model TFlite"
   ]
  },
  {
   "cell_type": "code",
   "execution_count": 14,
   "metadata": {},
   "outputs": [
    {
     "name": "stdout",
     "output_type": "stream",
     "text": [
      "File ./serverless/tensorflow_lite_on_aws_lambda/converted_model_20210513_17_15_20.tflite moved!\n"
     ]
    }
   ],
   "source": [
    "clean_file(PATH_MDL_MULTI_TFLITE_FILE)"
   ]
  },
  {
   "cell_type": "code",
   "execution_count": 15,
   "metadata": {},
   "outputs": [
    {
     "data": {
      "text/plain": [
       "'./serverless/tensorflow_lite_on_aws_lambda/converted_model.tflite'"
      ]
     },
     "execution_count": 15,
     "metadata": {},
     "output_type": "execute_result"
    }
   ],
   "source": [
    "PATH_MDL_MULTI_TFLITE_FILE"
   ]
  },
  {
   "cell_type": "code",
   "execution_count": 16,
   "metadata": {},
   "outputs": [
    {
     "data": {
      "text/plain": [
       "196784"
      ]
     },
     "execution_count": 16,
     "metadata": {},
     "output_type": "execute_result"
    }
   ],
   "source": [
    "open(PATH_MDL_MULTI_TFLITE_FILE, \"wb\").write(tflite_model)"
   ]
  },
  {
   "cell_type": "markdown",
   "metadata": {},
   "source": [
    "## Test converted model"
   ]
  },
  {
   "cell_type": "markdown",
   "metadata": {},
   "source": [
    "### Predict with TF model (not-converted one)"
   ]
  },
  {
   "cell_type": "markdown",
   "metadata": {},
   "source": [
    "#### Past days"
   ]
  },
  {
   "cell_type": "code",
   "execution_count": 17,
   "metadata": {},
   "outputs": [
    {
     "name": "stdout",
     "output_type": "stream",
     "text": [
      "[283 - 297]\n",
      "[290 - 304]\n",
      "[297 - 311]\n",
      "[304 - 318]\n",
      "[311 - 325]\n",
      "[318 - 332]\n",
      "[325 - 339]\n",
      "[332 - 346]\n",
      "[339 - 353]\n",
      "9\n"
     ]
    },
    {
     "data": {
      "text/plain": [
       "array([[12625.002  ,   812.1279 , 32628.348  , 30411.668  , 25571.75   ,\n",
       "        28717.842  , 29130.918  , 17504.062  ,  3867.2656 , 42829.355  ,\n",
       "        31617.336  , 31264.445  , 35936.434  , 35733.87   , 21650.307  ,\n",
       "          303.41504, 51001.734  , 38199.938  , 36159.258  , 41580.75   ,\n",
       "        41411.027  , 25209.348  ,  4266.3516 , 55886.414  , 42917.016  ,\n",
       "        42696.62   , 42241.223  , 40895.156  , 24291.615  ,  1556.626  ,\n",
       "        32905.344  , 54395.652  , 42239.504  , 40153.34   , 42065.105  ,\n",
       "        22045.387  ,  4050.6064 , 38742.77   , 36152.72   , 34210.3    ,\n",
       "        35270.676  , 33466.84   , 21846.68   ,  4346.3965 , 44620.617  ,\n",
       "        33530.043  , 29047.668  , 29611.496  , 30708.117  , 20941.64   ,\n",
       "        20108.002  , 33029.605  , 34652.887  , 24913.744  , 25485.781  ,\n",
       "        23569.66   , 14181.089  , 12421.854  , 30799.14   , 20832.086  ,\n",
       "        31349.742  , 43245.273  , 26669.346  ]], dtype=float32)"
      ]
     },
     "execution_count": 17,
     "metadata": {},
     "output_type": "execute_result"
    }
   ],
   "source": [
    "# TENSORFLOW MODEL :\n",
    "# prepare list of past histories\n",
    "list_x = create_list_past_hist(dataset)\n",
    "# predict\n",
    "y_multi_pred = predict_list(list_x, multi_step_model)\n",
    "# convert in positive cases\n",
    "y_pos_pred = (y_multi_pred * data_std[4]) + data_mean[4] \n",
    "y_pos_pred"
   ]
  },
  {
   "cell_type": "markdown",
   "metadata": {},
   "source": [
    "#### Future days"
   ]
  },
  {
   "cell_type": "code",
   "execution_count": 18,
   "metadata": {},
   "outputs": [],
   "source": [
    "# prepare data : very last days\n",
    "x_for_future = np.array([dataset[-PAST_HISTORY:,:]]) \n",
    "# predict next days\n",
    "y_future_pred = multi_step_model.predict(x_for_future)"
   ]
  },
  {
   "cell_type": "markdown",
   "metadata": {},
   "source": [
    "### Predict with TFlite & Compare "
   ]
  },
  {
   "cell_type": "markdown",
   "metadata": {},
   "source": [
    "#### Past days"
   ]
  },
  {
   "cell_type": "code",
   "execution_count": 19,
   "metadata": {},
   "outputs": [
    {
     "name": "stdout",
     "output_type": "stream",
     "text": [
      "Done. The result of TensorFlow matches the result of TensorFlow Lite.\n",
      "Done. The result of TensorFlow matches the result of TensorFlow Lite.\n",
      "Done. The result of TensorFlow matches the result of TensorFlow Lite.\n",
      "Done. The result of TensorFlow matches the result of TensorFlow Lite.\n",
      "Done. The result of TensorFlow matches the result of TensorFlow Lite.\n",
      "Done. The result of TensorFlow matches the result of TensorFlow Lite.\n",
      "Done. The result of TensorFlow matches the result of TensorFlow Lite.\n",
      "Done. The result of TensorFlow matches the result of TensorFlow Lite.\n",
      "Done. The result of TensorFlow matches the result of TensorFlow Lite.\n"
     ]
    }
   ],
   "source": [
    "# CONVERTED LITE MODEL\n",
    "# load \n",
    "interpreter = tf.lite.Interpreter(model_content=tflite_model)\n",
    "\n",
    "# Run the model with TensorFlow Lite\n",
    "interpreter.allocate_tensors()\n",
    "input_details = interpreter.get_input_details()\n",
    "output_details = interpreter.get_output_details()\n",
    "\n",
    "# check if same results \n",
    "for x_multi in list_x:\n",
    "    # predict with tensorflow model\n",
    "    expected = multi_step_model.predict(x_multi)\n",
    "    # predict with TFlite model\n",
    "    interpreter.set_tensor(input_details[0][\"index\"], \n",
    "                           x_multi.astype(np.float32))\n",
    "    interpreter.invoke()\n",
    "    result = interpreter.get_tensor(output_details[0][\"index\"])\n",
    "\n",
    "    # Assert if the result of TFLite model is consistent with the TF model.\n",
    "    np.testing.assert_almost_equal(expected, result, decimal=3)\n",
    "    print(\"Done. The result of TensorFlow matches the result of TensorFlow Lite.\")\n",
    "\n",
    "    # Please note: TfLite fused Lstm kernel is stateful, so we need to reset\n",
    "    # the states.\n",
    "    # Clean up internal states.\n",
    "    interpreter.reset_all_variables()"
   ]
  },
  {
   "cell_type": "markdown",
   "metadata": {},
   "source": [
    "### Reload Tlite model"
   ]
  },
  {
   "cell_type": "code",
   "execution_count": 20,
   "metadata": {},
   "outputs": [],
   "source": [
    "interpreter = tf.lite.Interpreter(model_path=PATH_MDL_MULTI_TFLITE_FILE)"
   ]
  },
  {
   "cell_type": "code",
   "execution_count": 21,
   "metadata": {},
   "outputs": [
    {
     "data": {
      "text/plain": [
       "'./serverless/tensorflow_lite_on_aws_lambda/converted_model.tflite'"
      ]
     },
     "execution_count": 21,
     "metadata": {},
     "output_type": "execute_result"
    }
   ],
   "source": [
    "PATH_MDL_MULTI_TFLITE_FILE"
   ]
  },
  {
   "cell_type": "markdown",
   "metadata": {},
   "source": [
    "### Predict reloaded model"
   ]
  },
  {
   "cell_type": "markdown",
   "metadata": {},
   "source": [
    "#### Past days"
   ]
  },
  {
   "cell_type": "code",
   "execution_count": 22,
   "metadata": {},
   "outputs": [
    {
     "name": "stdout",
     "output_type": "stream",
     "text": [
      "Done. The result of TensorFlow matches the result of TensorFlow Lite.\n",
      "Done. The result of TensorFlow matches the result of TensorFlow Lite.\n",
      "Done. The result of TensorFlow matches the result of TensorFlow Lite.\n",
      "Done. The result of TensorFlow matches the result of TensorFlow Lite.\n",
      "Done. The result of TensorFlow matches the result of TensorFlow Lite.\n",
      "Done. The result of TensorFlow matches the result of TensorFlow Lite.\n",
      "Done. The result of TensorFlow matches the result of TensorFlow Lite.\n",
      "Done. The result of TensorFlow matches the result of TensorFlow Lite.\n",
      "Done. The result of TensorFlow matches the result of TensorFlow Lite.\n"
     ]
    }
   ],
   "source": [
    "# Run the model with TensorFlow Lite\n",
    "interpreter.allocate_tensors()\n",
    "input_details = interpreter.get_input_details()\n",
    "output_details = interpreter.get_output_details()\n",
    "\n",
    "# check if same results \n",
    "for x_multi in list_x:\n",
    "    \n",
    "    expected = multi_step_model.predict(x_multi)\n",
    "    \n",
    "    interpreter.set_tensor(input_details[0][\"index\"], \n",
    "                           x_multi.astype(np.float32))\n",
    "    interpreter.invoke()\n",
    "    result = interpreter.get_tensor(output_details[0][\"index\"])\n",
    "\n",
    "    # Assert if the result of TFLite model is consistent with the TF model.\n",
    "    np.testing.assert_almost_equal(expected, result, decimal=3)\n",
    "    print(\"Done. The result of TensorFlow matches the result of TensorFlow Lite.\")\n",
    "\n",
    "    # Please note: TfLite fused Lstm kernel is stateful, so we need to reset\n",
    "    # the states.\n",
    "    # Clean up internal states.\n",
    "    interpreter.reset_all_variables()"
   ]
  },
  {
   "cell_type": "code",
   "execution_count": 23,
   "metadata": {},
   "outputs": [
    {
     "data": {
      "text/plain": [
       "(1, 14, 9)"
      ]
     },
     "execution_count": 23,
     "metadata": {},
     "output_type": "execute_result"
    }
   ],
   "source": [
    "x_multi.shape"
   ]
  },
  {
   "cell_type": "code",
   "execution_count": 24,
   "metadata": {},
   "outputs": [
    {
     "data": {
      "text/plain": [
       "9"
      ]
     },
     "execution_count": 24,
     "metadata": {},
     "output_type": "execute_result"
    }
   ],
   "source": [
    "len(list_x)"
   ]
  },
  {
   "cell_type": "markdown",
   "metadata": {},
   "source": [
    "## Update API lambda AWS"
   ]
  },
  {
   "cell_type": "markdown",
   "metadata": {},
   "source": [
    "### API lambda simulate"
   ]
  },
  {
   "cell_type": "markdown",
   "metadata": {},
   "source": [
    "#### Past days"
   ]
  },
  {
   "cell_type": "code",
   "execution_count": 25,
   "metadata": {},
   "outputs": [
    {
     "data": {
      "text/plain": [
       "(360, 9)"
      ]
     },
     "execution_count": 25,
     "metadata": {},
     "output_type": "execute_result"
    }
   ],
   "source": [
    "dataset.shape"
   ]
  },
  {
   "cell_type": "code",
   "execution_count": 26,
   "metadata": {},
   "outputs": [
    {
     "name": "stdout",
     "output_type": "stream",
     "text": [
      "[283 - 297]\n",
      "[290 - 304]\n",
      "[297 - 311]\n",
      "[304 - 318]\n",
      "[311 - 325]\n",
      "[318 - 332]\n",
      "[325 - 339]\n",
      "[332 - 346]\n",
      "[339 - 353]\n"
     ]
    }
   ],
   "source": [
    "json_list_list_x = prepare_to_lambda(dataset)\n",
    "# simulate input to lambda (double dumps ? why ? i don't know yet)\n",
    "json_list_list_x = json.dumps(json_list_list_x)\n",
    "# simulate lambda\n",
    "\n",
    "event = {\"body\": json_list_list_x}"
   ]
  },
  {
   "cell_type": "code",
   "execution_count": 27,
   "metadata": {},
   "outputs": [
    {
     "name": "stdout",
     "output_type": "stream",
     "text": [
      "INPUT : nb. arrays : 9 / arrays shape: (1, 14, 9)\n",
      "OUTPUT : nb. arrays : 9 / arrays shape in list: (1, 7)\n"
     ]
    }
   ],
   "source": [
    "# lambda code (file ./serverless/tensorflow-lite-on-aws-lambda/handler.py)\n",
    "from serverless.tensorflow_lite_on_aws_lambda.handler import predict\n",
    "context = None\n",
    "response = predict(event, context)\n"
   ]
  },
  {
   "cell_type": "code",
   "execution_count": 28,
   "metadata": {},
   "outputs": [
    {
     "data": {
      "text/plain": [
       "(1, 63)"
      ]
     },
     "execution_count": 28,
     "metadata": {},
     "output_type": "execute_result"
    }
   ],
   "source": [
    "# Retrieve from lambda in App code\n",
    "# input : response\n",
    "y_multi_pred_out = retrieve_from_lambda(response)      \n",
    "y_multi_pred_out.shape"
   ]
  },
  {
   "cell_type": "code",
   "execution_count": 29,
   "metadata": {},
   "outputs": [
    {
     "data": {
      "text/plain": [
       "array([[-0.16877234, -0.92532384,  1.1123352 ,  0.9703686 ,  0.66039777,\n",
       "         0.86188805,  0.88834333,  0.1437054 , -0.7296586 ,  1.7656552 ,\n",
       "         1.0475851 ,  1.0249845 ,  1.3242004 ,  1.3112273 ,  0.40925017,\n",
       "        -0.9579042 ,  2.2890525 ,  1.4691657 ,  1.3384709 ,  1.6856886 ,\n",
       "         1.6748189 ,  0.63718784, -0.7040993 ,  2.60189   ,  1.7712693 ,\n",
       "         1.7571543 ,  1.7279884 ,  1.6417801 ,  0.5784119 , -0.87764275,\n",
       "         1.1300752 ,  2.5064147 ,  1.7278783 ,  1.5942706 ,  1.716709  ,\n",
       "         0.4345529 , -0.7179166 ,  1.503931  ,  1.3380523 ,  1.2136508 ,\n",
       "         1.2815621 ,  1.166036  ,  0.4218269 , -0.6989728 ,  1.880376  ,\n",
       "         1.1700838 ,  0.8830117 ,  0.91912186,  0.98935455,  0.36386386,\n",
       "         0.3104738 ,  1.1380334 ,  1.241996  ,  0.6182559 ,  0.65489185,\n",
       "         0.53217447, -0.06911331, -0.18178293,  0.9951841 ,  0.35684747,\n",
       "         1.0304472 ,  1.7922924 ,  0.73069286]], dtype=float32)"
      ]
     },
     "execution_count": 29,
     "metadata": {},
     "output_type": "execute_result"
    }
   ],
   "source": [
    "y_multi_pred"
   ]
  },
  {
   "cell_type": "code",
   "execution_count": 30,
   "metadata": {},
   "outputs": [
    {
     "data": {
      "text/plain": [
       "array([[-0.16877255, -0.92532372,  1.1123358 ,  0.97036874,  0.66039789,\n",
       "         0.86188817,  0.88834357,  0.14370513, -0.72965896,  1.76565588,\n",
       "         1.04758561,  1.02498424,  1.32420039,  1.3112272 ,  0.40924993,\n",
       "        -0.95790362,  2.28905177,  1.46916568,  1.33847058,  1.68568873,\n",
       "         1.67481875,  0.6371879 , -0.7040987 ,  2.60189033,  1.7712692 ,\n",
       "         1.75715411,  1.72798848,  1.64177978,  0.57841223, -0.87764359,\n",
       "         1.13007498,  2.50641418,  1.72787833,  1.59427071,  1.71670926,\n",
       "         0.43455303, -0.71791697,  1.50393128,  1.33805215,  1.21365118,\n",
       "         1.28156209,  1.16603565,  0.42182678, -0.69897294,  1.88037634,\n",
       "         1.17008328,  0.8830111 ,  0.91912162,  0.98935461,  0.36386383,\n",
       "         0.31047371,  1.13803351,  1.24199617,  0.61825597,  0.65489185,\n",
       "         0.53217465, -0.06911356, -0.18178278,  0.99518424,  0.35684776,\n",
       "         1.03044689,  1.79229236,  0.73069286]])"
      ]
     },
     "execution_count": 30,
     "metadata": {},
     "output_type": "execute_result"
    }
   ],
   "source": [
    "y_multi_pred_out"
   ]
  },
  {
   "cell_type": "code",
   "execution_count": 31,
   "metadata": {},
   "outputs": [
    {
     "name": "stdout",
     "output_type": "stream",
     "text": [
      "Done. The result of TensorFlow matches the result of TensorFlow Lite.\n"
     ]
    }
   ],
   "source": [
    "# Assert if the result of TFLite model is consistent with the TF model.\n",
    "np.testing.assert_almost_equal(y_multi_pred, y_multi_pred_out, decimal=3)\n",
    "print(\"Done. The result of TensorFlow matches the result of TensorFlow Lite.\")"
   ]
  },
  {
   "cell_type": "markdown",
   "metadata": {},
   "source": [
    "#### Future days"
   ]
  },
  {
   "cell_type": "code",
   "execution_count": 32,
   "metadata": {},
   "outputs": [
    {
     "name": "stdout",
     "output_type": "stream",
     "text": [
      "INPUT : nb. arrays : 1 / arrays shape: (1, 14, 9)\n",
      "OUTPUT : nb. arrays : 1 / arrays shape in list: (1, 7)\n"
     ]
    },
    {
     "data": {
      "text/plain": [
       "(1, 7)"
      ]
     },
     "execution_count": 32,
     "metadata": {},
     "output_type": "execute_result"
    }
   ],
   "source": [
    "# Prepare data to lambda (future)\n",
    "json_list_list_x = prepare_to_lambda_future(dataset)\n",
    "\n",
    "# simulate lambda\n",
    "json_list_list_x = json.dumps(json_list_list_x) # dumps again : I dont know why\n",
    "event = {\"body\": json_list_list_x}\n",
    "context = None\n",
    "response = predict(event, context)\n",
    "y_future_pred_out = retrieve_from_lambda(response)      \n",
    "y_future_pred_out.shape"
   ]
  },
  {
   "cell_type": "code",
   "execution_count": 33,
   "metadata": {},
   "outputs": [
    {
     "data": {
      "text/plain": [
       "array([[-0.42999434, -0.84252596,  0.94284254,  0.33344281,  1.0169729 ,\n",
       "         1.8877598 ,  0.5677042 ]])"
      ]
     },
     "execution_count": 33,
     "metadata": {},
     "output_type": "execute_result"
    }
   ],
   "source": [
    "y_future_pred_out"
   ]
  },
  {
   "cell_type": "code",
   "execution_count": 34,
   "metadata": {},
   "outputs": [
    {
     "data": {
      "text/plain": [
       "array([[-0.42999446, -0.8425262 ,  0.94284266,  0.33344257,  1.0169729 ,\n",
       "         1.8877599 ,  0.56770414]], dtype=float32)"
      ]
     },
     "execution_count": 34,
     "metadata": {},
     "output_type": "execute_result"
    }
   ],
   "source": [
    "y_future_pred"
   ]
  },
  {
   "cell_type": "code",
   "execution_count": 35,
   "metadata": {},
   "outputs": [
    {
     "name": "stdout",
     "output_type": "stream",
     "text": [
      "Done. The result of TensorFlow matches the result of TensorFlow Lite.\n"
     ]
    }
   ],
   "source": [
    "# Assert if the result of TFLite model is consistent with the TF model.\n",
    "np.testing.assert_almost_equal(y_future_pred, y_future_pred_out, decimal=3)\n",
    "print(\"Done. The result of TensorFlow matches the result of TensorFlow Lite.\")"
   ]
  },
  {
   "cell_type": "markdown",
   "metadata": {},
   "source": [
    "### Update AWS Lambda with new model\n"
   ]
  },
  {
   "cell_type": "markdown",
   "metadata": {},
   "source": [
    "This part does:\n",
    "- Go to : ./serverless//tensorflow-lite-on-aws-lambda\n",
    "    \n",
    "- Execute : sls deploy -v"
   ]
  },
  {
   "cell_type": "code",
   "execution_count": 36,
   "metadata": {},
   "outputs": [
    {
     "data": {
      "text/plain": [
       "'#!/bin/bash\\nexport PATH=\"/usr/local/bin:$PATH\"\\ncd ./serverless/tensorflow_lite_on_aws_lambda\\nserverless deploy -v'"
      ]
     },
     "execution_count": 36,
     "metadata": {},
     "output_type": "execute_result"
    }
   ],
   "source": [
    "str_exe = '#!/bin/bash\\n' + \\\n",
    "    'export PATH=\"/usr/local/bin:$PATH\"\\n' + \\\n",
    "    f'cd {PATH_MDL_MULTI_TFLITE}\\n' + \\\n",
    "    'serverless deploy -v'\n",
    "str_exe"
   ]
  },
  {
   "cell_type": "code",
   "execution_count": 37,
   "metadata": {},
   "outputs": [],
   "source": [
    "open('deploy_serverless.sh', \"w\").write(str_exe)\n",
    "os.chmod('deploy_serverless.sh', stat.S_IRWXU)"
   ]
  },
  {
   "cell_type": "code",
   "execution_count": 38,
   "metadata": {},
   "outputs": [
    {
     "name": "stdout",
     "output_type": "stream",
     "text": [
      "#!/bin/bash\r\n",
      "export PATH=\"/usr/local/bin:$PATH\"\r\n",
      "cd ./serverless/tensorflow_lite_on_aws_lambda\r\n",
      "serverless deploy -v"
     ]
    }
   ],
   "source": [
    "!cat ./deploy_serverless.sh"
   ]
  },
  {
   "cell_type": "code",
   "execution_count": 39,
   "metadata": {},
   "outputs": [
    {
     "name": "stdout",
     "output_type": "stream",
     "text": [
      "Serverless: \u001b[93mDeprecation warning: Support for \"package.include\" and \"package.exclude\" will be removed with next major release. Please use \"package.patterns\" instead\u001b[39m\n",
      "            \u001b[93mMore Info: https://www.serverless.com/framework/docs/deprecations/#NEW_PACKAGE_PATTERNS\u001b[39m\n",
      "Serverless: \u001b[93mDeprecation warning: Resolution of lambda version hashes was improved with better algorithm, which will be used in next major release.\u001b[39m\n",
      "\u001b[93m            Switch to it now by setting \"provider.lambdaHashingVersion\" to \"20201221\"\u001b[39m\n",
      "            \u001b[93mMore Info: https://www.serverless.com/framework/docs/deprecations/#LAMBDA_HASHING_VERSION_V2\u001b[39m\n",
      "Serverless: \u001b[33mGenerated requirements from /Users/gregory/Documents/CloudStationSinchon/Applications/python/CoronaVirus/code/coronavirusModel/serverless/tensorflow_lite_on_aws_lambda/requirements.txt in /Users/gregory/Documents/CloudStationSinchon/Applications/python/CoronaVirus/code/coronavirusModel/serverless/tensorflow_lite_on_aws_lambda/.serverless/requirements.txt...\u001b[39m\n",
      "Serverless: \u001b[33mUsing static cache of requirements found at /Users/gregory/Library/Caches/serverless-python-requirements/ef4e42eb03bbad46f74fee99a3c01f994e8119e7a557f947779093ab37b248d3_slspyc ...\u001b[39m\n",
      "Serverless: \u001b[33mPackaging service...\u001b[39m\n",
      "Serverless: \u001b[33mExcluding development dependencies...\u001b[39m\n",
      "Serverless: \u001b[33mInjecting required Python packages to package...\u001b[39m\n",
      "Serverless: \u001b[33mUploading CloudFormation file to S3...\u001b[39m\n",
      "Serverless: \u001b[33mUploading artifacts...\u001b[39m\n",
      "Serverless: \u001b[33mUploading service tensorflow-lite-on-aws-lambda.zip file to S3 (19.37 MB)...\u001b[39m\n",
      "Serverless: \u001b[33mValidating template...\u001b[39m\n",
      "Serverless: \u001b[33mUpdating Stack...\u001b[39m\n",
      "Serverless: \u001b[33mChecking Stack update progress...\u001b[39m\n",
      "CloudFormation - \u001b[33mUPDATE_IN_PROGRESS\u001b[39m - AWS::CloudFormation::Stack - tensorflow-lite-on-aws-lambda-dev\n",
      "CloudFormation - \u001b[33mUPDATE_IN_PROGRESS\u001b[39m - AWS::Lambda::Function - PredictLambdaFunction\n",
      "CloudFormation - \u001b[33mUPDATE_IN_PROGRESS\u001b[39m - AWS::S3::BucketPolicy - ServerlessDeploymentBucketPolicy\n",
      "CloudFormation - \u001b[32mUPDATE_COMPLETE\u001b[39m - AWS::S3::BucketPolicy - ServerlessDeploymentBucketPolicy\n",
      "CloudFormation - \u001b[32mUPDATE_COMPLETE\u001b[39m - AWS::Lambda::Function - PredictLambdaFunction\n",
      "CloudFormation - \u001b[33mCREATE_IN_PROGRESS\u001b[39m - AWS::Lambda::Version - PredictLambdaVersionqATP6fkvS5kX0R3OOiLK7fh9v2wl0glNj1Po0wCkQ8E\n",
      "CloudFormation - \u001b[33mCREATE_IN_PROGRESS\u001b[39m - AWS::Lambda::Version - PredictLambdaVersionqATP6fkvS5kX0R3OOiLK7fh9v2wl0glNj1Po0wCkQ8E\n",
      "CloudFormation - \u001b[32mCREATE_COMPLETE\u001b[39m - AWS::Lambda::Version - PredictLambdaVersionqATP6fkvS5kX0R3OOiLK7fh9v2wl0glNj1Po0wCkQ8E\n",
      "CloudFormation - \u001b[33mCREATE_IN_PROGRESS\u001b[39m - AWS::ApiGateway::Deployment - ApiGatewayDeployment1620919003014\n",
      "CloudFormation - \u001b[33mCREATE_IN_PROGRESS\u001b[39m - AWS::ApiGateway::Deployment - ApiGatewayDeployment1620919003014\n",
      "CloudFormation - \u001b[32mCREATE_COMPLETE\u001b[39m - AWS::ApiGateway::Deployment - ApiGatewayDeployment1620919003014\n",
      "CloudFormation - \u001b[33mUPDATE_COMPLETE_CLEANUP_IN_PROGRESS\u001b[39m - AWS::CloudFormation::Stack - tensorflow-lite-on-aws-lambda-dev\n",
      "CloudFormation - \u001b[33mDELETE_IN_PROGRESS\u001b[39m - AWS::ApiGateway::Deployment - ApiGatewayDeployment1614356580863\n",
      "CloudFormation - DELETE_SKIPPED - AWS::Lambda::Version - PredictLambdaVersionqbe1xR3teydRNJRqTuj2bpLHRYgasafQQtTVxE10\n",
      "CloudFormation - \u001b[32mDELETE_COMPLETE\u001b[39m - AWS::ApiGateway::Deployment - ApiGatewayDeployment1614356580863\n",
      "CloudFormation - \u001b[32mUPDATE_COMPLETE\u001b[39m - AWS::CloudFormation::Stack - tensorflow-lite-on-aws-lambda-dev\n",
      "Serverless: \u001b[33mStack update finished...\u001b[39m\n",
      "\u001b[33m\u001b[4mService Information\u001b[24m\u001b[39m\n",
      "\u001b[33mservice:\u001b[39m tensorflow-lite-on-aws-lambda\n",
      "\u001b[33mstage:\u001b[39m dev\n",
      "\u001b[33mregion:\u001b[39m us-east-2\n",
      "\u001b[33mstack:\u001b[39m tensorflow-lite-on-aws-lambda-dev\n",
      "\u001b[33mresources:\u001b[39m 11\n",
      "\u001b[33mapi keys:\u001b[39m\n",
      "  None\n",
      "\u001b[33mendpoints:\u001b[39m\n",
      "  POST - https://yl0910jrga.execute-api.us-east-2.amazonaws.com/dev/infer\n",
      "\u001b[33mfunctions:\u001b[39m\n",
      "  predict: tensorflow-lite-on-aws-lambda-dev-predict\n",
      "\u001b[33mlayers:\u001b[39m\n",
      "  None\n",
      "\u001b[33m\u001b[4m\u001b[24m\u001b[39m\n",
      "\u001b[33m\u001b[4mStack Outputs\u001b[24m\u001b[39m\n",
      "\u001b[33m\u001b[4m\u001b[24m\u001b[39m\u001b[33mPredictLambdaFunctionQualifiedArn\u001b[39m: arn:aws:lambda:us-east-2:324466407431:function:tensorflow-lite-on-aws-lambda-dev-predict:14\n",
      "\u001b[33mServiceEndpoint\u001b[39m: https://yl0910jrga.execute-api.us-east-2.amazonaws.com/dev\n",
      "\u001b[33mServerlessDeploymentBucketName\u001b[39m: tensorflow-lite-on-aws-l-serverlessdeploymentbuck-1vuz80v36l59q\n",
      "\n",
      "Serverless: \u001b[33mRemoving old service artifacts from S3...\u001b[39m\n",
      "\n",
      "********************************************************************************\n",
      "Serverless: \u001b[33mUpdate available. Run \"npm install -g serverless@^2.41.2\" to update\u001b[39m\n",
      "\u001b[33m            You may turn on automatic updates via \"serverless config --autoupdate\"\u001b[39m\n",
      "********************************************************************************\n",
      "\n"
     ]
    }
   ],
   "source": [
    "!./deploy_serverless.sh"
   ]
  },
  {
   "cell_type": "markdown",
   "metadata": {},
   "source": [
    "### API AWS real Test"
   ]
  },
  {
   "cell_type": "markdown",
   "metadata": {},
   "source": [
    "#### Past days"
   ]
  },
  {
   "cell_type": "code",
   "execution_count": 40,
   "metadata": {},
   "outputs": [
    {
     "name": "stdout",
     "output_type": "stream",
     "text": [
      "[283 - 297]\n",
      "[290 - 304]\n",
      "[297 - 311]\n",
      "[304 - 318]\n",
      "[311 - 325]\n",
      "[318 - 332]\n",
      "[325 - 339]\n",
      "[332 - 346]\n",
      "[339 - 353]\n",
      "status code :  200\n",
      "[[[-0.16877242922782898, -0.9253236055374146, 1.1123356819152832, 0.9703688621520996, 0.6603978872299194, 0.8618881702423096, 0.8883435726165771]], [[0.14370518922805786, -0.7296589612960815, 1.7656558752059937, 1.0475856065750122, 1.024984359741211, 1.3242002725601196, 1.3112274408340454]], [[0.4092499613761902, -0.9579036235809326, 2.2890515327453613, 1.4691659212112427, 1.3384703397750854, 1.6856886148452759, 1.674818754196167]], [[0.6371880173683167, -0.7040989398956299, 2.6018903255462646, 1.7712692022323608, 1.7571537494659424, 1.7279884815216064, 1.6417797803878784]], [[0.5784120559692383, -0.8776435852050781, 1.1300749778747559, 2.5064141750335693, 1.727878451347351, 1.5942707061767578, 1.7167092561721802]], [[0.43455296754837036, -0.7179169654846191, 1.5039314031600952, 1.3380520343780518, 1.2136512994766235, 1.281562089920044, 1.1660356521606445]], [[0.42182666063308716, -0.6989730596542358, 1.8803761005401611, 1.1700835227966309, 0.883010983467102, 0.9191216230392456, 0.9893545508384705]], [[0.36386382579803467, 0.310473769903183, 1.1380336284637451, 1.2419962882995605, 0.6182560324668884, 0.6548916101455688, 0.5321745872497559]], [[-0.06911341100931168, -0.1817827820777893, 0.9951842427253723, 0.35684773325920105, 1.0304468870162964, 1.7922923564910889, 0.7306931614875793]]]\n"
     ]
    }
   ],
   "source": [
    "# prepare input\n",
    "json_list_list_x = prepare_to_lambda(dataset)\n",
    "# REQUEST\n",
    "resp = requests.post(URL_PREDICT, json=json_list_list_x)\n",
    "print(\"status code : \", resp.status_code) \n",
    "print(resp.json())"
   ]
  },
  {
   "cell_type": "code",
   "execution_count": 41,
   "metadata": {},
   "outputs": [
    {
     "data": {
      "text/plain": [
       "23832"
      ]
     },
     "execution_count": 41,
     "metadata": {},
     "output_type": "execute_result"
    }
   ],
   "source": [
    "len(json_list_list_x)"
   ]
  },
  {
   "cell_type": "code",
   "execution_count": 42,
   "metadata": {},
   "outputs": [
    {
     "data": {
      "text/plain": [
       "[[[-0.16877242922782898,\n",
       "   -0.9253236055374146,\n",
       "   1.1123356819152832,\n",
       "   0.9703688621520996,\n",
       "   0.6603978872299194,\n",
       "   0.8618881702423096,\n",
       "   0.8883435726165771]],\n",
       " [[0.14370518922805786,\n",
       "   -0.7296589612960815,\n",
       "   1.7656558752059937,\n",
       "   1.0475856065750122,\n",
       "   1.024984359741211,\n",
       "   1.3242002725601196,\n",
       "   1.3112274408340454]],\n",
       " [[0.4092499613761902,\n",
       "   -0.9579036235809326,\n",
       "   2.2890515327453613,\n",
       "   1.4691659212112427,\n",
       "   1.3384703397750854,\n",
       "   1.6856886148452759,\n",
       "   1.674818754196167]],\n",
       " [[0.6371880173683167,\n",
       "   -0.7040989398956299,\n",
       "   2.6018903255462646,\n",
       "   1.7712692022323608,\n",
       "   1.7571537494659424,\n",
       "   1.7279884815216064,\n",
       "   1.6417797803878784]],\n",
       " [[0.5784120559692383,\n",
       "   -0.8776435852050781,\n",
       "   1.1300749778747559,\n",
       "   2.5064141750335693,\n",
       "   1.727878451347351,\n",
       "   1.5942707061767578,\n",
       "   1.7167092561721802]],\n",
       " [[0.43455296754837036,\n",
       "   -0.7179169654846191,\n",
       "   1.5039314031600952,\n",
       "   1.3380520343780518,\n",
       "   1.2136512994766235,\n",
       "   1.281562089920044,\n",
       "   1.1660356521606445]],\n",
       " [[0.42182666063308716,\n",
       "   -0.6989730596542358,\n",
       "   1.8803761005401611,\n",
       "   1.1700835227966309,\n",
       "   0.883010983467102,\n",
       "   0.9191216230392456,\n",
       "   0.9893545508384705]],\n",
       " [[0.36386382579803467,\n",
       "   0.310473769903183,\n",
       "   1.1380336284637451,\n",
       "   1.2419962882995605,\n",
       "   0.6182560324668884,\n",
       "   0.6548916101455688,\n",
       "   0.5321745872497559]],\n",
       " [[-0.06911341100931168,\n",
       "   -0.1817827820777893,\n",
       "   0.9951842427253723,\n",
       "   0.35684773325920105,\n",
       "   1.0304468870162964,\n",
       "   1.7922923564910889,\n",
       "   0.7306931614875793]]]"
      ]
     },
     "execution_count": 42,
     "metadata": {},
     "output_type": "execute_result"
    }
   ],
   "source": [
    "resp.json()"
   ]
  },
  {
   "cell_type": "code",
   "execution_count": 43,
   "metadata": {},
   "outputs": [
    {
     "data": {
      "text/plain": [
       "(1, 63)"
      ]
     },
     "execution_count": 43,
     "metadata": {},
     "output_type": "execute_result"
    }
   ],
   "source": [
    "y_multi_pred_out = retrieve_from_lambda(resp)      \n",
    "y_multi_pred_out.shape"
   ]
  },
  {
   "cell_type": "code",
   "execution_count": 44,
   "metadata": {},
   "outputs": [
    {
     "data": {
      "text/plain": [
       "array([[-0.16877243, -0.92532361,  1.11233568,  0.97036886,  0.66039789,\n",
       "         0.86188817,  0.88834357,  0.14370519, -0.72965896,  1.76565588,\n",
       "         1.04758561,  1.02498436,  1.32420027,  1.31122744,  0.40924996,\n",
       "        -0.95790362,  2.28905153,  1.46916592,  1.33847034,  1.68568861,\n",
       "         1.67481875,  0.63718802, -0.70409894,  2.60189033,  1.7712692 ,\n",
       "         1.75715375,  1.72798848,  1.64177978,  0.57841206, -0.87764359,\n",
       "         1.13007498,  2.50641418,  1.72787845,  1.59427071,  1.71670926,\n",
       "         0.43455297, -0.71791697,  1.5039314 ,  1.33805203,  1.2136513 ,\n",
       "         1.28156209,  1.16603565,  0.42182666, -0.69897306,  1.8803761 ,\n",
       "         1.17008352,  0.88301098,  0.91912162,  0.98935455,  0.36386383,\n",
       "         0.31047377,  1.13803363,  1.24199629,  0.61825603,  0.65489161,\n",
       "         0.53217459, -0.06911341, -0.18178278,  0.99518424,  0.35684773,\n",
       "         1.03044689,  1.79229236,  0.73069316]])"
      ]
     },
     "execution_count": 44,
     "metadata": {},
     "output_type": "execute_result"
    }
   ],
   "source": [
    "y_multi_pred_out"
   ]
  },
  {
   "cell_type": "code",
   "execution_count": 45,
   "metadata": {},
   "outputs": [
    {
     "data": {
      "text/plain": [
       "array([[-0.16877234, -0.92532384,  1.1123352 ,  0.9703686 ,  0.66039777,\n",
       "         0.86188805,  0.88834333,  0.1437054 , -0.7296586 ,  1.7656552 ,\n",
       "         1.0475851 ,  1.0249845 ,  1.3242004 ,  1.3112273 ,  0.40925017,\n",
       "        -0.9579042 ,  2.2890525 ,  1.4691657 ,  1.3384709 ,  1.6856886 ,\n",
       "         1.6748189 ,  0.63718784, -0.7040993 ,  2.60189   ,  1.7712693 ,\n",
       "         1.7571543 ,  1.7279884 ,  1.6417801 ,  0.5784119 , -0.87764275,\n",
       "         1.1300752 ,  2.5064147 ,  1.7278783 ,  1.5942706 ,  1.716709  ,\n",
       "         0.4345529 , -0.7179166 ,  1.503931  ,  1.3380523 ,  1.2136508 ,\n",
       "         1.2815621 ,  1.166036  ,  0.4218269 , -0.6989728 ,  1.880376  ,\n",
       "         1.1700838 ,  0.8830117 ,  0.91912186,  0.98935455,  0.36386386,\n",
       "         0.3104738 ,  1.1380334 ,  1.241996  ,  0.6182559 ,  0.65489185,\n",
       "         0.53217447, -0.06911331, -0.18178293,  0.9951841 ,  0.35684747,\n",
       "         1.0304472 ,  1.7922924 ,  0.73069286]], dtype=float32)"
      ]
     },
     "execution_count": 45,
     "metadata": {},
     "output_type": "execute_result"
    }
   ],
   "source": [
    "y_multi_pred"
   ]
  },
  {
   "cell_type": "code",
   "execution_count": 46,
   "metadata": {},
   "outputs": [
    {
     "name": "stdout",
     "output_type": "stream",
     "text": [
      "Done. The result of TensorFlow matches the result of TensorFlow Lite.\n"
     ]
    }
   ],
   "source": [
    "# Assert if the result of TFLite model is consistent with the TF model.\n",
    "np.testing.assert_almost_equal(y_multi_pred, y_multi_pred_out, decimal=3)\n",
    "print(\"Done. The result of TensorFlow matches the result of TensorFlow Lite.\")"
   ]
  },
  {
   "cell_type": "markdown",
   "metadata": {},
   "source": [
    "#### future days"
   ]
  },
  {
   "cell_type": "code",
   "execution_count": 47,
   "metadata": {},
   "outputs": [
    {
     "name": "stdout",
     "output_type": "stream",
     "text": [
      "status code :  200\n",
      "[[[-0.4299943447113037, -0.8425259590148926, 0.9428426027297974, 0.3334426283836365, 1.0169728994369507, 1.8877599239349365, 0.5677042603492737]]]\n"
     ]
    }
   ],
   "source": [
    "# prepare input\n",
    "json_list_list_x = prepare_to_lambda_future(dataset)\n",
    "# REQUEST URL_PREDICT = 'https://yl0910jrga.execute-api.us-east-2.amazonaws.com/dev/infer' \n",
    "resp = requests.post(URL_PREDICT, json=json_list_list_x)\n",
    "print(\"status code : \", resp.status_code) \n",
    "print(resp.json())"
   ]
  },
  {
   "cell_type": "code",
   "execution_count": 48,
   "metadata": {},
   "outputs": [
    {
     "data": {
      "text/plain": [
       "array([[-0.42999434, -0.84252596,  0.9428426 ,  0.33344263,  1.0169729 ,\n",
       "         1.88775992,  0.56770426]])"
      ]
     },
     "execution_count": 48,
     "metadata": {},
     "output_type": "execute_result"
    }
   ],
   "source": [
    "y_future_pred_out = retrieve_from_lambda(resp)      \n",
    "y_future_pred_out"
   ]
  },
  {
   "cell_type": "code",
   "execution_count": 49,
   "metadata": {},
   "outputs": [
    {
     "data": {
      "text/plain": [
       "array([[-0.42999446, -0.8425262 ,  0.94284266,  0.33344257,  1.0169729 ,\n",
       "         1.8877599 ,  0.56770414]], dtype=float32)"
      ]
     },
     "execution_count": 49,
     "metadata": {},
     "output_type": "execute_result"
    }
   ],
   "source": [
    "y_future_pred"
   ]
  },
  {
   "cell_type": "code",
   "execution_count": 50,
   "metadata": {},
   "outputs": [
    {
     "name": "stdout",
     "output_type": "stream",
     "text": [
      "Done. The result of TensorFlow matches the result of TensorFlow Lite.\n"
     ]
    }
   ],
   "source": [
    "# Assert if the result of TFLite model is consistent with the TF model.\n",
    "np.testing.assert_almost_equal(y_future_pred, y_future_pred_out, decimal=3)\n",
    "print(\"Done. The result of TensorFlow matches the result of TensorFlow Lite.\")"
   ]
  },
  {
   "cell_type": "code",
   "execution_count": null,
   "metadata": {},
   "outputs": [],
   "source": []
  }
 ],
 "metadata": {
  "kernelspec": {
   "display_name": "Python 3",
   "language": "python",
   "name": "python3"
  },
  "language_info": {
   "codemirror_mode": {
    "name": "ipython",
    "version": 3
   },
   "file_extension": ".py",
   "mimetype": "text/x-python",
   "name": "python",
   "nbconvert_exporter": "python",
   "pygments_lexer": "ipython3",
   "version": "3.7.6"
  },
  "toc": {
   "base_numbering": 1,
   "nav_menu": {
    "height": "260px",
    "width": "258px"
   },
   "number_sections": true,
   "sideBar": true,
   "skip_h1_title": false,
   "title_cell": "Table of Contents",
   "title_sidebar": "Contents",
   "toc_cell": false,
   "toc_position": {
    "height": "calc(100% - 180px)",
    "left": "10px",
    "top": "150px",
    "width": "205px"
   },
   "toc_section_display": true,
   "toc_window_display": true
  }
 },
 "nbformat": 4,
 "nbformat_minor": 4
}
