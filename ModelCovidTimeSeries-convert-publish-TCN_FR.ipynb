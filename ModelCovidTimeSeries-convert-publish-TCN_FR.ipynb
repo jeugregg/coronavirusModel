{
 "cells": [
  {
   "cell_type": "markdown",
   "metadata": {},
   "source": [
    "# Model Time Series for COVID: Publish for app\n",
    "\n",
    "This notebook use multistep time serie model  (predicting number of cases future next days).\n",
    "\n",
    "It converts Tensorflow model into TensorFlow Lite to be able to use it in a Lambda fonction on AWS.\n",
    "\n",
    "After that, the lite model is tested and publish on AWS\n",
    "\n",
    "Finally, the lambda function is tested"
   ]
  },
  {
   "cell_type": "markdown",
   "metadata": {},
   "source": [
    "## Convert model in TFlite"
   ]
  },
  {
   "cell_type": "markdown",
   "metadata": {},
   "source": [
    "**IMPORTANT TO DO manually:**\n",
    "- **Update TRAIN_SPLIT in my_helpers.model module**"
   ]
  },
  {
   "cell_type": "markdown",
   "metadata": {},
   "source": [
    "### import"
   ]
  },
  {
   "cell_type": "code",
   "execution_count": 1,
   "metadata": {},
   "outputs": [],
   "source": [
    "# data useful lib\n",
    "import pandas as pd\n",
    "import numpy as np\n",
    "\n",
    "# helper lib\n",
    "import shutil\n",
    "import os, stat\n",
    "import re\n",
    "import datetime\n",
    "import math\n",
    "\n",
    "# read json from http\n",
    "import json\n",
    "import urllib.request\n",
    "\n",
    "# read csv from http\n",
    "import io\n",
    "import requests\n",
    "\n",
    "# model lib\n",
    "import tensorflow as tf\n",
    "\n",
    "# from project\n",
    "from my_helpers.model import prepare_to_lambda, retrieve_from_lambda\n",
    "from my_helpers.model import prepare_to_lambda_future\n",
    "from my_helpers.model import create_list_past_hist, predict_list"
   ]
  },
  {
   "cell_type": "markdown",
   "metadata": {},
   "source": [
    "### Definitions"
   ]
  },
  {
   "cell_type": "code",
   "execution_count": 2,
   "metadata": {},
   "outputs": [
    {
     "name": "stdout",
     "output_type": "stream",
     "text": [
      "TRAIN_SPLIT = 346\n"
     ]
    }
   ],
   "source": [
    "PATH_TO_SAVE_DATA = \".\"\n",
    "PATH_DF_POS_FR = PATH_TO_SAVE_DATA + '/' + 'df_pos_fr.csv'\n",
    "PATH_DF_TEST_FR = PATH_TO_SAVE_DATA + '/' + 'df_test_fr.csv'\n",
    "PATH_JSON_METEO_FR = PATH_TO_SAVE_DATA + '/' + 'data_meteo_fr.json'\n",
    "PATH_DF_FEAT_FR = PATH_TO_SAVE_DATA + '/' + 'df_feat_fr.csv' \n",
    "PATH_GEO_DEP_FR = PATH_TO_SAVE_DATA + '/sources/geofrance/' + 'departments.csv'\n",
    "PATH_MDL_MULTI_STEP = PATH_TO_SAVE_DATA + '/' + \"mdl_multi_step_pos_fr_tcn\"\n",
    "PATH_MDL_MULTI_TFLITE = PATH_TO_SAVE_DATA + '/' + \\\n",
    "    'serverless/tensorflow_lite_on_aws_lambda'\n",
    "PATH_MDL_MULTI_TFLITE_FILE = PATH_MDL_MULTI_TFLITE + '/' + \\\n",
    "    \"converted_model.tflite\"\n",
    "PATH_SERVERLESS = PATH_MDL_MULTI_TFLITE + '/' + 'serverless.yml'\n",
    "\n",
    "date_format = \"%Y-%m-%d\"\n",
    "\n",
    "#NB_POS_DATE_MIN_DF_FEAT = 140734 # on 13/05/2020\n",
    "NB_POS_DATE_MIN_DF_FEAT = 140227 # on 12/05/2020\n",
    "\n",
    "URL_PREDICT = 'https://yl0910jrga.execute-api.us-east-2.amazonaws.com/dev/infer'\n",
    "\n",
    "# model \n",
    "PAST_HISTORY = 14 # days used to predict next values in future\n",
    "FUTURE_TARGET = 7 # nb predict days later\n",
    "STEP = 1\n",
    "\n",
    "# plot\n",
    "NB_DAY_PLOT = FUTURE_TARGET*9\n",
    "\n",
    "# train split\n",
    "from my_helpers.model import TRAIN_SPLIT\n",
    "print(f\"TRAIN_SPLIT = {TRAIN_SPLIT}\")"
   ]
  },
  {
   "cell_type": "markdown",
   "metadata": {},
   "source": [
    "### helper functions"
   ]
  },
  {
   "cell_type": "code",
   "execution_count": 3,
   "metadata": {},
   "outputs": [],
   "source": [
    "# save file before update\n",
    "def clean_file(path_file_name):\n",
    "    '''\n",
    "    Clean file already traited : rename file with date\n",
    "    '''\n",
    "    try:\n",
    "        d = datetime.datetime.now()\n",
    "        str_date = '_' + d.strftime(\"%Y%m%d_%H_%M_%S\")\n",
    "       \n",
    "        res_re = re.search('\\.\\w+$', path_file_name)\n",
    "        \n",
    "        path_file_name_saved = \\\n",
    "            path_file_name[0:res_re.start()] + str_date + res_re.group(0)\n",
    "         \n",
    "        shutil.move(path_file_name, path_file_name_saved) \n",
    "        print('File {} moved!'.format(path_file_name_saved))\n",
    "    except:\n",
    "        print('File {} does not exist!'.format(path_file_name))"
   ]
  },
  {
   "cell_type": "markdown",
   "metadata": {},
   "source": [
    "### load data"
   ]
  },
  {
   "cell_type": "code",
   "execution_count": 4,
   "metadata": {},
   "outputs": [
    {
     "data": {
      "text/html": [
       "<div>\n",
       "<style scoped>\n",
       "    .dataframe tbody tr th:only-of-type {\n",
       "        vertical-align: middle;\n",
       "    }\n",
       "\n",
       "    .dataframe tbody tr th {\n",
       "        vertical-align: top;\n",
       "    }\n",
       "\n",
       "    .dataframe thead th {\n",
       "        text-align: right;\n",
       "    }\n",
       "</style>\n",
       "<table border=\"1\" class=\"dataframe\">\n",
       "  <thead>\n",
       "    <tr style=\"text-align: right;\">\n",
       "      <th></th>\n",
       "      <th>T_min</th>\n",
       "      <th>date</th>\n",
       "      <th>T_max</th>\n",
       "      <th>H_min</th>\n",
       "      <th>H_max</th>\n",
       "      <th>extrap</th>\n",
       "      <th>pos</th>\n",
       "      <th>age_pos</th>\n",
       "      <th>test</th>\n",
       "      <th>age_test</th>\n",
       "      <th>day_num</th>\n",
       "      <th>nb_cases</th>\n",
       "      <th>sum_cases</th>\n",
       "      <th>Rt</th>\n",
       "      <th>rate_pos</th>\n",
       "      <th>train</th>\n",
       "    </tr>\n",
       "    <tr>\n",
       "      <th>date</th>\n",
       "      <th></th>\n",
       "      <th></th>\n",
       "      <th></th>\n",
       "      <th></th>\n",
       "      <th></th>\n",
       "      <th></th>\n",
       "      <th></th>\n",
       "      <th></th>\n",
       "      <th></th>\n",
       "      <th></th>\n",
       "      <th></th>\n",
       "      <th></th>\n",
       "      <th></th>\n",
       "      <th></th>\n",
       "      <th></th>\n",
       "      <th></th>\n",
       "    </tr>\n",
       "  </thead>\n",
       "  <tbody>\n",
       "    <tr>\n",
       "      <th>2020-05-13</th>\n",
       "      <td>284.926667</td>\n",
       "      <td>2020-05-13</td>\n",
       "      <td>290.505000</td>\n",
       "      <td>64.661017</td>\n",
       "      <td>88.135593</td>\n",
       "      <td>0.0</td>\n",
       "      <td>884</td>\n",
       "      <td>61.085973</td>\n",
       "      <td>39096</td>\n",
       "      <td>55.449279</td>\n",
       "      <td>3</td>\n",
       "      <td>141111</td>\n",
       "      <td>NaN</td>\n",
       "      <td>NaN</td>\n",
       "      <td>2.261101</td>\n",
       "      <td>True</td>\n",
       "    </tr>\n",
       "    <tr>\n",
       "      <th>2020-05-14</th>\n",
       "      <td>285.050000</td>\n",
       "      <td>2020-05-14</td>\n",
       "      <td>290.963333</td>\n",
       "      <td>59.406780</td>\n",
       "      <td>84.847458</td>\n",
       "      <td>0.0</td>\n",
       "      <td>980</td>\n",
       "      <td>60.456122</td>\n",
       "      <td>42021</td>\n",
       "      <td>54.836820</td>\n",
       "      <td>4</td>\n",
       "      <td>142091</td>\n",
       "      <td>NaN</td>\n",
       "      <td>NaN</td>\n",
       "      <td>2.332167</td>\n",
       "      <td>True</td>\n",
       "    </tr>\n",
       "    <tr>\n",
       "      <th>2020-05-15</th>\n",
       "      <td>285.308333</td>\n",
       "      <td>2020-05-15</td>\n",
       "      <td>291.920000</td>\n",
       "      <td>57.372881</td>\n",
       "      <td>82.966102</td>\n",
       "      <td>0.0</td>\n",
       "      <td>1021</td>\n",
       "      <td>60.042116</td>\n",
       "      <td>47694</td>\n",
       "      <td>54.388833</td>\n",
       "      <td>5</td>\n",
       "      <td>143112</td>\n",
       "      <td>NaN</td>\n",
       "      <td>NaN</td>\n",
       "      <td>2.140730</td>\n",
       "      <td>True</td>\n",
       "    </tr>\n",
       "    <tr>\n",
       "      <th>2020-05-16</th>\n",
       "      <td>284.956667</td>\n",
       "      <td>2020-05-16</td>\n",
       "      <td>293.500000</td>\n",
       "      <td>53.741379</td>\n",
       "      <td>86.534483</td>\n",
       "      <td>0.0</td>\n",
       "      <td>292</td>\n",
       "      <td>60.085616</td>\n",
       "      <td>16541</td>\n",
       "      <td>54.488000</td>\n",
       "      <td>6</td>\n",
       "      <td>143404</td>\n",
       "      <td>NaN</td>\n",
       "      <td>NaN</td>\n",
       "      <td>1.765310</td>\n",
       "      <td>True</td>\n",
       "    </tr>\n",
       "    <tr>\n",
       "      <th>2020-05-17</th>\n",
       "      <td>285.598333</td>\n",
       "      <td>2020-05-17</td>\n",
       "      <td>294.446667</td>\n",
       "      <td>49.879310</td>\n",
       "      <td>85.500000</td>\n",
       "      <td>0.0</td>\n",
       "      <td>139</td>\n",
       "      <td>61.568345</td>\n",
       "      <td>6612</td>\n",
       "      <td>58.282970</td>\n",
       "      <td>0</td>\n",
       "      <td>143543</td>\n",
       "      <td>NaN</td>\n",
       "      <td>NaN</td>\n",
       "      <td>2.102238</td>\n",
       "      <td>True</td>\n",
       "    </tr>\n",
       "    <tr>\n",
       "      <th>...</th>\n",
       "      <td>...</td>\n",
       "      <td>...</td>\n",
       "      <td>...</td>\n",
       "      <td>...</td>\n",
       "      <td>...</td>\n",
       "      <td>...</td>\n",
       "      <td>...</td>\n",
       "      <td>...</td>\n",
       "      <td>...</td>\n",
       "      <td>...</td>\n",
       "      <td>...</td>\n",
       "      <td>...</td>\n",
       "      <td>...</td>\n",
       "      <td>...</td>\n",
       "      <td>...</td>\n",
       "      <td>...</td>\n",
       "    </tr>\n",
       "    <tr>\n",
       "      <th>2021-05-03</th>\n",
       "      <td>281.508333</td>\n",
       "      <td>2021-05-03</td>\n",
       "      <td>291.938333</td>\n",
       "      <td>46.450000</td>\n",
       "      <td>86.866667</td>\n",
       "      <td>0.0</td>\n",
       "      <td>32488</td>\n",
       "      <td>42.164245</td>\n",
       "      <td>479742</td>\n",
       "      <td>43.617855</td>\n",
       "      <td>1</td>\n",
       "      <td>5626704</td>\n",
       "      <td>338361.0</td>\n",
       "      <td>0.682814</td>\n",
       "      <td>6.771973</td>\n",
       "      <td>False</td>\n",
       "    </tr>\n",
       "    <tr>\n",
       "      <th>2021-05-04</th>\n",
       "      <td>284.020000</td>\n",
       "      <td>2021-05-04</td>\n",
       "      <td>290.883333</td>\n",
       "      <td>55.266667</td>\n",
       "      <td>85.683333</td>\n",
       "      <td>0.0</td>\n",
       "      <td>22842</td>\n",
       "      <td>41.566632</td>\n",
       "      <td>409480</td>\n",
       "      <td>40.603736</td>\n",
       "      <td>2</td>\n",
       "      <td>5649546</td>\n",
       "      <td>326092.0</td>\n",
       "      <td>0.693442</td>\n",
       "      <td>5.578294</td>\n",
       "      <td>False</td>\n",
       "    </tr>\n",
       "    <tr>\n",
       "      <th>2021-05-05</th>\n",
       "      <td>284.170000</td>\n",
       "      <td>2021-05-05</td>\n",
       "      <td>290.341667</td>\n",
       "      <td>53.066667</td>\n",
       "      <td>86.883333</td>\n",
       "      <td>0.0</td>\n",
       "      <td>19969</td>\n",
       "      <td>40.927488</td>\n",
       "      <td>357256</td>\n",
       "      <td>43.091884</td>\n",
       "      <td>3</td>\n",
       "      <td>5669515</td>\n",
       "      <td>313036.0</td>\n",
       "      <td>0.682506</td>\n",
       "      <td>5.589549</td>\n",
       "      <td>False</td>\n",
       "    </tr>\n",
       "    <tr>\n",
       "      <th>2021-05-06</th>\n",
       "      <td>283.796667</td>\n",
       "      <td>2021-05-06</td>\n",
       "      <td>290.420000</td>\n",
       "      <td>63.350000</td>\n",
       "      <td>90.016667</td>\n",
       "      <td>0.0</td>\n",
       "      <td>19120</td>\n",
       "      <td>40.429132</td>\n",
       "      <td>443036</td>\n",
       "      <td>38.192122</td>\n",
       "      <td>4</td>\n",
       "      <td>5688635</td>\n",
       "      <td>300542.0</td>\n",
       "      <td>0.670251</td>\n",
       "      <td>4.315676</td>\n",
       "      <td>False</td>\n",
       "    </tr>\n",
       "    <tr>\n",
       "      <th>2021-05-07</th>\n",
       "      <td>284.735000</td>\n",
       "      <td>2021-05-07</td>\n",
       "      <td>291.736667</td>\n",
       "      <td>54.416667</td>\n",
       "      <td>88.750000</td>\n",
       "      <td>0.0</td>\n",
       "      <td>19854</td>\n",
       "      <td>39.767906</td>\n",
       "      <td>498154</td>\n",
       "      <td>39.334949</td>\n",
       "      <td>5</td>\n",
       "      <td>5708489</td>\n",
       "      <td>288222.0</td>\n",
       "      <td>0.658251</td>\n",
       "      <td>3.985515</td>\n",
       "      <td>False</td>\n",
       "    </tr>\n",
       "  </tbody>\n",
       "</table>\n",
       "<p>360 rows × 16 columns</p>\n",
       "</div>"
      ],
      "text/plain": [
       "                 T_min        date       T_max      H_min      H_max  extrap  \\\n",
       "date                                                                           \n",
       "2020-05-13  284.926667  2020-05-13  290.505000  64.661017  88.135593     0.0   \n",
       "2020-05-14  285.050000  2020-05-14  290.963333  59.406780  84.847458     0.0   \n",
       "2020-05-15  285.308333  2020-05-15  291.920000  57.372881  82.966102     0.0   \n",
       "2020-05-16  284.956667  2020-05-16  293.500000  53.741379  86.534483     0.0   \n",
       "2020-05-17  285.598333  2020-05-17  294.446667  49.879310  85.500000     0.0   \n",
       "...                ...         ...         ...        ...        ...     ...   \n",
       "2021-05-03  281.508333  2021-05-03  291.938333  46.450000  86.866667     0.0   \n",
       "2021-05-04  284.020000  2021-05-04  290.883333  55.266667  85.683333     0.0   \n",
       "2021-05-05  284.170000  2021-05-05  290.341667  53.066667  86.883333     0.0   \n",
       "2021-05-06  283.796667  2021-05-06  290.420000  63.350000  90.016667     0.0   \n",
       "2021-05-07  284.735000  2021-05-07  291.736667  54.416667  88.750000     0.0   \n",
       "\n",
       "              pos    age_pos    test   age_test  day_num  nb_cases  sum_cases  \\\n",
       "date                                                                            \n",
       "2020-05-13    884  61.085973   39096  55.449279        3    141111        NaN   \n",
       "2020-05-14    980  60.456122   42021  54.836820        4    142091        NaN   \n",
       "2020-05-15   1021  60.042116   47694  54.388833        5    143112        NaN   \n",
       "2020-05-16    292  60.085616   16541  54.488000        6    143404        NaN   \n",
       "2020-05-17    139  61.568345    6612  58.282970        0    143543        NaN   \n",
       "...           ...        ...     ...        ...      ...       ...        ...   \n",
       "2021-05-03  32488  42.164245  479742  43.617855        1   5626704   338361.0   \n",
       "2021-05-04  22842  41.566632  409480  40.603736        2   5649546   326092.0   \n",
       "2021-05-05  19969  40.927488  357256  43.091884        3   5669515   313036.0   \n",
       "2021-05-06  19120  40.429132  443036  38.192122        4   5688635   300542.0   \n",
       "2021-05-07  19854  39.767906  498154  39.334949        5   5708489   288222.0   \n",
       "\n",
       "                  Rt  rate_pos  train  \n",
       "date                                   \n",
       "2020-05-13       NaN  2.261101   True  \n",
       "2020-05-14       NaN  2.332167   True  \n",
       "2020-05-15       NaN  2.140730   True  \n",
       "2020-05-16       NaN  1.765310   True  \n",
       "2020-05-17       NaN  2.102238   True  \n",
       "...              ...       ...    ...  \n",
       "2021-05-03  0.682814  6.771973  False  \n",
       "2021-05-04  0.693442  5.578294  False  \n",
       "2021-05-05  0.682506  5.589549  False  \n",
       "2021-05-06  0.670251  4.315676  False  \n",
       "2021-05-07  0.658251  3.985515  False  \n",
       "\n",
       "[360 rows x 16 columns]"
      ]
     },
     "execution_count": 4,
     "metadata": {},
     "output_type": "execute_result"
    }
   ],
   "source": [
    "df_feat_fr = pd.read_csv(PATH_DF_FEAT_FR)\n",
    "df_feat_fr.index = df_feat_fr[\"date\"]\n",
    "df_feat_fr[\"train\"] = [True if I <= TRAIN_SPLIT else False \\\n",
    "                       for I in range(df_feat_fr.shape[0])]\n",
    "df_feat_fr\n"
   ]
  },
  {
   "cell_type": "markdown",
   "metadata": {},
   "source": [
    "### prepare features"
   ]
  },
  {
   "cell_type": "code",
   "execution_count": 5,
   "metadata": {},
   "outputs": [
    {
     "data": {
      "text/html": [
       "<div>\n",
       "<style scoped>\n",
       "    .dataframe tbody tr th:only-of-type {\n",
       "        vertical-align: middle;\n",
       "    }\n",
       "\n",
       "    .dataframe tbody tr th {\n",
       "        vertical-align: top;\n",
       "    }\n",
       "\n",
       "    .dataframe thead th {\n",
       "        text-align: right;\n",
       "    }\n",
       "</style>\n",
       "<table border=\"1\" class=\"dataframe\">\n",
       "  <thead>\n",
       "    <tr style=\"text-align: right;\">\n",
       "      <th></th>\n",
       "      <th>T_min</th>\n",
       "      <th>T_max</th>\n",
       "      <th>H_min</th>\n",
       "      <th>H_max</th>\n",
       "      <th>pos</th>\n",
       "      <th>test</th>\n",
       "      <th>day_num</th>\n",
       "      <th>age_pos</th>\n",
       "      <th>age_test</th>\n",
       "    </tr>\n",
       "    <tr>\n",
       "      <th>date</th>\n",
       "      <th></th>\n",
       "      <th></th>\n",
       "      <th></th>\n",
       "      <th></th>\n",
       "      <th></th>\n",
       "      <th></th>\n",
       "      <th></th>\n",
       "      <th></th>\n",
       "      <th></th>\n",
       "    </tr>\n",
       "  </thead>\n",
       "  <tbody>\n",
       "    <tr>\n",
       "      <th>2020-05-13</th>\n",
       "      <td>284.926667</td>\n",
       "      <td>290.505000</td>\n",
       "      <td>64.661017</td>\n",
       "      <td>88.135593</td>\n",
       "      <td>884</td>\n",
       "      <td>39096</td>\n",
       "      <td>3</td>\n",
       "      <td>61.085973</td>\n",
       "      <td>55.449279</td>\n",
       "    </tr>\n",
       "    <tr>\n",
       "      <th>2020-05-14</th>\n",
       "      <td>285.050000</td>\n",
       "      <td>290.963333</td>\n",
       "      <td>59.406780</td>\n",
       "      <td>84.847458</td>\n",
       "      <td>980</td>\n",
       "      <td>42021</td>\n",
       "      <td>4</td>\n",
       "      <td>60.456122</td>\n",
       "      <td>54.836820</td>\n",
       "    </tr>\n",
       "    <tr>\n",
       "      <th>2020-05-15</th>\n",
       "      <td>285.308333</td>\n",
       "      <td>291.920000</td>\n",
       "      <td>57.372881</td>\n",
       "      <td>82.966102</td>\n",
       "      <td>1021</td>\n",
       "      <td>47694</td>\n",
       "      <td>5</td>\n",
       "      <td>60.042116</td>\n",
       "      <td>54.388833</td>\n",
       "    </tr>\n",
       "    <tr>\n",
       "      <th>2020-05-16</th>\n",
       "      <td>284.956667</td>\n",
       "      <td>293.500000</td>\n",
       "      <td>53.741379</td>\n",
       "      <td>86.534483</td>\n",
       "      <td>292</td>\n",
       "      <td>16541</td>\n",
       "      <td>6</td>\n",
       "      <td>60.085616</td>\n",
       "      <td>54.488000</td>\n",
       "    </tr>\n",
       "    <tr>\n",
       "      <th>2020-05-17</th>\n",
       "      <td>285.598333</td>\n",
       "      <td>294.446667</td>\n",
       "      <td>49.879310</td>\n",
       "      <td>85.500000</td>\n",
       "      <td>139</td>\n",
       "      <td>6612</td>\n",
       "      <td>0</td>\n",
       "      <td>61.568345</td>\n",
       "      <td>58.282970</td>\n",
       "    </tr>\n",
       "    <tr>\n",
       "      <th>...</th>\n",
       "      <td>...</td>\n",
       "      <td>...</td>\n",
       "      <td>...</td>\n",
       "      <td>...</td>\n",
       "      <td>...</td>\n",
       "      <td>...</td>\n",
       "      <td>...</td>\n",
       "      <td>...</td>\n",
       "      <td>...</td>\n",
       "    </tr>\n",
       "    <tr>\n",
       "      <th>2021-05-03</th>\n",
       "      <td>281.508333</td>\n",
       "      <td>291.938333</td>\n",
       "      <td>46.450000</td>\n",
       "      <td>86.866667</td>\n",
       "      <td>32488</td>\n",
       "      <td>479742</td>\n",
       "      <td>1</td>\n",
       "      <td>42.164245</td>\n",
       "      <td>43.617855</td>\n",
       "    </tr>\n",
       "    <tr>\n",
       "      <th>2021-05-04</th>\n",
       "      <td>284.020000</td>\n",
       "      <td>290.883333</td>\n",
       "      <td>55.266667</td>\n",
       "      <td>85.683333</td>\n",
       "      <td>22842</td>\n",
       "      <td>409480</td>\n",
       "      <td>2</td>\n",
       "      <td>41.566632</td>\n",
       "      <td>40.603736</td>\n",
       "    </tr>\n",
       "    <tr>\n",
       "      <th>2021-05-05</th>\n",
       "      <td>284.170000</td>\n",
       "      <td>290.341667</td>\n",
       "      <td>53.066667</td>\n",
       "      <td>86.883333</td>\n",
       "      <td>19969</td>\n",
       "      <td>357256</td>\n",
       "      <td>3</td>\n",
       "      <td>40.927488</td>\n",
       "      <td>43.091884</td>\n",
       "    </tr>\n",
       "    <tr>\n",
       "      <th>2021-05-06</th>\n",
       "      <td>283.796667</td>\n",
       "      <td>290.420000</td>\n",
       "      <td>63.350000</td>\n",
       "      <td>90.016667</td>\n",
       "      <td>19120</td>\n",
       "      <td>443036</td>\n",
       "      <td>4</td>\n",
       "      <td>40.429132</td>\n",
       "      <td>38.192122</td>\n",
       "    </tr>\n",
       "    <tr>\n",
       "      <th>2021-05-07</th>\n",
       "      <td>284.735000</td>\n",
       "      <td>291.736667</td>\n",
       "      <td>54.416667</td>\n",
       "      <td>88.750000</td>\n",
       "      <td>19854</td>\n",
       "      <td>498154</td>\n",
       "      <td>5</td>\n",
       "      <td>39.767906</td>\n",
       "      <td>39.334949</td>\n",
       "    </tr>\n",
       "  </tbody>\n",
       "</table>\n",
       "<p>360 rows × 9 columns</p>\n",
       "</div>"
      ],
      "text/plain": [
       "                 T_min       T_max      H_min      H_max    pos    test  \\\n",
       "date                                                                      \n",
       "2020-05-13  284.926667  290.505000  64.661017  88.135593    884   39096   \n",
       "2020-05-14  285.050000  290.963333  59.406780  84.847458    980   42021   \n",
       "2020-05-15  285.308333  291.920000  57.372881  82.966102   1021   47694   \n",
       "2020-05-16  284.956667  293.500000  53.741379  86.534483    292   16541   \n",
       "2020-05-17  285.598333  294.446667  49.879310  85.500000    139    6612   \n",
       "...                ...         ...        ...        ...    ...     ...   \n",
       "2021-05-03  281.508333  291.938333  46.450000  86.866667  32488  479742   \n",
       "2021-05-04  284.020000  290.883333  55.266667  85.683333  22842  409480   \n",
       "2021-05-05  284.170000  290.341667  53.066667  86.883333  19969  357256   \n",
       "2021-05-06  283.796667  290.420000  63.350000  90.016667  19120  443036   \n",
       "2021-05-07  284.735000  291.736667  54.416667  88.750000  19854  498154   \n",
       "\n",
       "            day_num    age_pos   age_test  \n",
       "date                                       \n",
       "2020-05-13        3  61.085973  55.449279  \n",
       "2020-05-14        4  60.456122  54.836820  \n",
       "2020-05-15        5  60.042116  54.388833  \n",
       "2020-05-16        6  60.085616  54.488000  \n",
       "2020-05-17        0  61.568345  58.282970  \n",
       "...             ...        ...        ...  \n",
       "2021-05-03        1  42.164245  43.617855  \n",
       "2021-05-04        2  41.566632  40.603736  \n",
       "2021-05-05        3  40.927488  43.091884  \n",
       "2021-05-06        4  40.429132  38.192122  \n",
       "2021-05-07        5  39.767906  39.334949  \n",
       "\n",
       "[360 rows x 9 columns]"
      ]
     },
     "execution_count": 5,
     "metadata": {},
     "output_type": "execute_result"
    }
   ],
   "source": [
    "features = df_feat_fr.copy().filter(items=['T_min', 'T_max', 'H_min',\n",
    "                                           'H_max', 'pos', 'test', 'day_num',\n",
    "                                          'age_pos', 'age_test'])\n",
    "features"
   ]
  },
  {
   "cell_type": "markdown",
   "metadata": {},
   "source": [
    "### Prepare dataset"
   ]
  },
  {
   "cell_type": "code",
   "execution_count": 6,
   "metadata": {},
   "outputs": [],
   "source": [
    "dataset = features.values\n",
    "data_mean = dataset[:TRAIN_SPLIT].mean(axis=0)\n",
    "data_std = dataset[:TRAIN_SPLIT].std(axis=0)\n",
    "dataset = (dataset-data_mean)/data_std"
   ]
  },
  {
   "cell_type": "code",
   "execution_count": 7,
   "metadata": {},
   "outputs": [
    {
     "data": {
      "text/plain": [
       "9"
      ]
     },
     "execution_count": 7,
     "metadata": {},
     "output_type": "execute_result"
    }
   ],
   "source": [
    "dataset.shape[1]"
   ]
  },
  {
   "cell_type": "code",
   "execution_count": 8,
   "metadata": {},
   "outputs": [
    {
     "data": {
      "text/plain": [
       "14"
      ]
     },
     "execution_count": 8,
     "metadata": {},
     "output_type": "execute_result"
    }
   ],
   "source": [
    "PAST_HISTORY"
   ]
  },
  {
   "cell_type": "code",
   "execution_count": 9,
   "metadata": {},
   "outputs": [
    {
     "data": {
      "text/plain": [
       "9"
      ]
     },
     "execution_count": 9,
     "metadata": {},
     "output_type": "execute_result"
    }
   ],
   "source": [
    "dataset.shape[1]"
   ]
  },
  {
   "cell_type": "markdown",
   "metadata": {},
   "source": [
    "### Load model"
   ]
  },
  {
   "cell_type": "code",
   "execution_count": 10,
   "metadata": {},
   "outputs": [
    {
     "name": "stderr",
     "output_type": "stream",
     "text": [
      "/anaconda3/envs/coronavirusModel/lib/python3.7/site-packages/tensorflow/python/keras/layers/core.py:1045: UserWarning: tcn.tcn is not loaded, but a Lambda layer uses it. It may cause errors.\n",
      "  , UserWarning)\n"
     ]
    },
    {
     "name": "stdout",
     "output_type": "stream",
     "text": [
      "CPU times: user 1.38 s, sys: 122 ms, total: 1.5 s\n",
      "Wall time: 1.87 s\n"
     ]
    }
   ],
   "source": [
    "%%time\n",
    "# reload best model\n",
    "multi_step_model = tf.keras.models.load_model(PATH_MDL_MULTI_STEP)"
   ]
  },
  {
   "cell_type": "code",
   "execution_count": 11,
   "metadata": {},
   "outputs": [
    {
     "name": "stdout",
     "output_type": "stream",
     "text": [
      "Model: \"model\"\n",
      "_________________________________________________________________\n",
      "Layer (type)                 Output Shape              Param #   \n",
      "=================================================================\n",
      "input_1 (InputLayer)         [(None, 14, 9)]           0         \n",
      "_________________________________________________________________\n",
      "tcn (TCN)                    (None, 64)                43136     \n",
      "_________________________________________________________________\n",
      "dense (Dense)                (None, 7)                 455       \n",
      "=================================================================\n",
      "Total params: 43,591\n",
      "Trainable params: 43,591\n",
      "Non-trainable params: 0\n",
      "_________________________________________________________________\n"
     ]
    }
   ],
   "source": [
    "multi_step_model.summary()"
   ]
  },
  {
   "cell_type": "code",
   "execution_count": 12,
   "metadata": {},
   "outputs": [
    {
     "data": {
      "text/plain": [
       "tf.float32"
      ]
     },
     "execution_count": 12,
     "metadata": {},
     "output_type": "execute_result"
    }
   ],
   "source": [
    "multi_step_model.inputs[0].dtype"
   ]
  },
  {
   "cell_type": "code",
   "execution_count": 13,
   "metadata": {
    "scrolled": false
   },
   "outputs": [
    {
     "name": "stdout",
     "output_type": "stream",
     "text": [
      "WARNING:tensorflow:From /anaconda3/envs/coronavirusModel/lib/python3.7/site-packages/tensorflow/python/training/tracking/tracking.py:111: Model.state_updates (from tensorflow.python.keras.engine.training) is deprecated and will be removed in a future version.\n",
      "Instructions for updating:\n",
      "This property should not be used in TensorFlow 2.0, as updates are applied automatically.\n",
      "WARNING:tensorflow:From /anaconda3/envs/coronavirusModel/lib/python3.7/site-packages/tensorflow/python/training/tracking/tracking.py:111: Layer.updates (from tensorflow.python.keras.engine.base_layer) is deprecated and will be removed in a future version.\n",
      "Instructions for updating:\n",
      "This property should not be used in TensorFlow 2.0, as updates are applied automatically.\n",
      "INFO:tensorflow:Assets written to: ./keras_tcn/assets\n"
     ]
    }
   ],
   "source": [
    "run_model = tf.function(lambda x: multi_step_model(x))\n",
    "# This is important, let's fix the input size.\n",
    "INPUT_SIZE = dataset.shape[1]\n",
    "concrete_func = run_model.get_concrete_function(\n",
    "    tf.TensorSpec([1, PAST_HISTORY, INPUT_SIZE],\n",
    "                  multi_step_model.inputs[0].dtype))\n",
    "\n",
    "# model directory.\n",
    "MODEL_DIR = PATH_TO_SAVE_DATA + \"/\" + \"keras_tcn\"\n",
    "multi_step_model.save(MODEL_DIR, save_format=\"tf\", signatures=concrete_func)\n",
    "\n",
    "converter = tf.lite.TFLiteConverter.from_saved_model(MODEL_DIR)\n",
    "\n",
    "'''converter.target_spec.supported_ops = [\n",
    "  tf.lite.OpsSet.TFLITE_BUILTINS, # enable TensorFlow Lite ops.\n",
    "  tf.lite.OpsSet.SELECT_TF_OPS # enable TensorFlow ops.\n",
    "]\n",
    "converter.allow_custom_ops=True'''\n",
    "\n",
    "tflite_model = converter.convert()"
   ]
  },
  {
   "cell_type": "markdown",
   "metadata": {},
   "source": [
    "### Save model TFlite"
   ]
  },
  {
   "cell_type": "code",
   "execution_count": 14,
   "metadata": {},
   "outputs": [
    {
     "name": "stdout",
     "output_type": "stream",
     "text": [
      "File ./serverless/tensorflow_lite_on_aws_lambda/converted_model_20210513_17_15_20.tflite moved!\n"
     ]
    }
   ],
   "source": [
    "clean_file(PATH_MDL_MULTI_TFLITE_FILE)"
   ]
  },
  {
   "cell_type": "code",
   "execution_count": 15,
   "metadata": {},
   "outputs": [
    {
     "data": {
      "text/plain": [
       "'./serverless/tensorflow_lite_on_aws_lambda/converted_model.tflite'"
      ]
     },
     "execution_count": 15,
     "metadata": {},
     "output_type": "execute_result"
    }
   ],
   "source": [
    "PATH_MDL_MULTI_TFLITE_FILE"
   ]
  },
  {
   "cell_type": "code",
   "execution_count": 16,
   "metadata": {},
   "outputs": [
    {
     "data": {
      "text/plain": [
       "196784"
      ]
     },
     "execution_count": 16,
     "metadata": {},
     "output_type": "execute_result"
    }
   ],
   "source": [
    "open(PATH_MDL_MULTI_TFLITE_FILE, \"wb\").write(tflite_model)"
   ]
  },
  {
   "cell_type": "markdown",
   "metadata": {},
   "source": [
    "## Test converted model"
   ]
  },
  {
   "cell_type": "markdown",
   "metadata": {},
   "source": [
    "### Predict with TF model (not-converted one)"
   ]
  },
  {
   "cell_type": "markdown",
   "metadata": {},
   "source": [
    "#### Past days"
   ]
  },
  {
   "cell_type": "code",
   "execution_count": 17,
   "metadata": {},
   "outputs": [
    {
     "name": "stdout",
     "output_type": "stream",
     "text": [
      "[283 - 297]\n",
      "[290 - 304]\n",
      "[297 - 311]\n",
      "[304 - 318]\n",
      "[311 - 325]\n",
      "[318 - 332]\n",
      "[325 - 339]\n",
      "[332 - 346]\n",
      "[339 - 353]\n",
      "9\n"
     ]
    },
    {
     "data": {
      "text/plain": [
       "array([[12625.002  ,   812.1279 , 32628.348  , 30411.668  , 25571.75   ,\n",
       "        28717.842  , 29130.918  , 17504.062  ,  3867.2656 , 42829.355  ,\n",
       "        31617.336  , 31264.445  , 35936.434  , 35733.87   , 21650.307  ,\n",
       "          303.41504, 51001.734  , 38199.938  , 36159.258  , 41580.75   ,\n",
       "        41411.027  , 25209.348  ,  4266.3516 , 55886.414  , 42917.016  ,\n",
       "        42696.62   , 42241.223  , 40895.156  , 24291.615  ,  1556.626  ,\n",
       "        32905.344  , 54395.652  , 42239.504  , 40153.34   , 42065.105  ,\n",
       "        22045.387  ,  4050.6064 , 38742.77   , 36152.72   , 34210.3    ,\n",
       "        35270.676  , 33466.84   , 21846.68   ,  4346.3965 , 44620.617  ,\n",
       "        33530.043  , 29047.668  , 29611.496  , 30708.117  , 20941.64   ,\n",
       "        20108.002  , 33029.605  , 34652.887  , 24913.744  , 25485.781  ,\n",
       "        23569.66   , 14181.089  , 12421.854  , 30799.14   , 20832.086  ,\n",
       "        31349.742  , 43245.273  , 26669.346  ]], dtype=float32)"
      ]
     },
     "execution_count": 17,
     "metadata": {},
     "output_type": "execute_result"
    }
   ],
   "source": [
    "# TENSORFLOW MODEL :\n",
    "# prepare list of past histories\n",
    "list_x = create_list_past_hist(dataset)\n",
    "# predict\n",
    "y_multi_pred = predict_list(list_x, multi_step_model)\n",
    "# convert in positive cases\n",
    "y_pos_pred = (y_multi_pred * data_std[4]) + data_mean[4] \n",
    "y_pos_pred"
   ]
  },
  {
   "cell_type": "markdown",
   "metadata": {},
   "source": [
    "#### Future days"
   ]
  },
  {
   "cell_type": "code",
   "execution_count": 18,
   "metadata": {},
   "outputs": [],
   "source": [
    "# prepare data : very last days\n",
    "x_for_future = np.array([dataset[-PAST_HISTORY:,:]]) \n",
    "# predict next days\n",
    "y_future_pred = multi_step_model.predict(x_for_future)"
   ]
  },
  {
   "cell_type": "markdown",
   "metadata": {},
   "source": [
    "### Predict with TFlite & Compare "
   ]
  },
  {
   "cell_type": "markdown",
   "metadata": {},
   "source": [
    "#### Past days"
   ]
  },
  {
   "cell_type": "code",
   "execution_count": 19,
   "metadata": {},
   "outputs": [
    {
     "name": "stdout",
     "output_type": "stream",
     "text": [
      "Done. The result of TensorFlow matches the result of TensorFlow Lite.\n",
      "Done. The result of TensorFlow matches the result of TensorFlow Lite.\n",
      "Done. The result of TensorFlow matches the result of TensorFlow Lite.\n",
      "Done. The result of TensorFlow matches the result of TensorFlow Lite.\n",
      "Done. The result of TensorFlow matches the result of TensorFlow Lite.\n",
      "Done. The result of TensorFlow matches the result of TensorFlow Lite.\n",
      "Done. The result of TensorFlow matches the result of TensorFlow Lite.\n",
      "Done. The result of TensorFlow matches the result of TensorFlow Lite.\n",
      "Done. The result of TensorFlow matches the result of TensorFlow Lite.\n"
     ]
    }
   ],
   "source": [
    "# CONVERTED LITE MODEL\n",
    "# load \n",
    "interpreter = tf.lite.Interpreter(model_content=tflite_model)\n",
    "\n",
    "# Run the model with TensorFlow Lite\n",
    "interpreter.allocate_tensors()\n",
    "input_details = interpreter.get_input_details()\n",
    "output_details = interpreter.get_output_details()\n",
    "\n",
    "# check if same results \n",
    "for x_multi in list_x:\n",
    "    # predict with tensorflow model\n",
    "    expected = multi_step_model.predict(x_multi)\n",
    "    # predict with TFlite model\n",
    "    interpreter.set_tensor(input_details[0][\"index\"], \n",
    "                           x_multi.astype(np.float32))\n",
    "    interpreter.invoke()\n",
    "    result = interpreter.get_tensor(output_details[0][\"index\"])\n",
    "\n",
    "    # Assert if the result of TFLite model is consistent with the TF model.\n",
    "    np.testing.assert_almost_equal(expected, result, decimal=3)\n",
    "    print(\"Done. The result of TensorFlow matches the result of TensorFlow Lite.\")\n",
    "\n",
    "    # Please note: TfLite fused Lstm kernel is stateful, so we need to reset\n",
    "    # the states.\n",
    "    # Clean up internal states.\n",
    "    interpreter.reset_all_variables()"
   ]
  },
  {
   "cell_type": "markdown",
   "metadata": {},
   "source": [
    "### Reload Tlite model"
   ]
  },
  {
   "cell_type": "code",
   "execution_count": 20,
   "metadata": {},
   "outputs": [],
   "source": [
    "interpreter = tf.lite.Interpreter(model_path=PATH_MDL_MULTI_TFLITE_FILE)"
   ]
  },
  {
   "cell_type": "code",
   "execution_count": 21,
   "metadata": {},
   "outputs": [
    {
     "data": {
      "text/plain": [
       "'./serverless/tensorflow_lite_on_aws_lambda/converted_model.tflite'"
      ]
     },
     "execution_count": 21,
     "metadata": {},
     "output_type": "execute_result"
    }
   ],
   "source": [
    "PATH_MDL_MULTI_TFLITE_FILE"
   ]
  },
  {
   "cell_type": "markdown",
   "metadata": {},
   "source": [
    "### Predict reloaded model"
   ]
  },
  {
   "cell_type": "markdown",
   "metadata": {},
   "source": [
    "#### Past days"
   ]
  },
  {
   "cell_type": "code",
   "execution_count": 22,
   "metadata": {},
   "outputs": [
    {
     "name": "stdout",
     "output_type": "stream",
     "text": [
      "Done. The result of TensorFlow matches the result of TensorFlow Lite.\n",
      "Done. The result of TensorFlow matches the result of TensorFlow Lite.\n",
      "Done. The result of TensorFlow matches the result of TensorFlow Lite.\n",
      "Done. The result of TensorFlow matches the result of TensorFlow Lite.\n",
      "Done. The result of TensorFlow matches the result of TensorFlow Lite.\n",
      "Done. The result of TensorFlow matches the result of TensorFlow Lite.\n",
      "Done. The result of TensorFlow matches the result of TensorFlow Lite.\n",
      "Done. The result of TensorFlow matches the result of TensorFlow Lite.\n",
      "Done. The result of TensorFlow matches the result of TensorFlow Lite.\n"
     ]
    }
   ],
   "source": [
    "# Run the model with TensorFlow Lite\n",
    "interpreter.allocate_tensors()\n",
    "input_details = interpreter.get_input_details()\n",
    "output_details = interpreter.get_output_details()\n",
    "\n",
    "# check if same results \n",
    "for x_multi in list_x:\n",
    "    \n",
    "    expected = multi_step_model.predict(x_multi)\n",
    "    \n",
    "    interpreter.set_tensor(input_details[0][\"index\"], \n",
    "                           x_multi.astype(np.float32))\n",
    "    interpreter.invoke()\n",
    "    result = interpreter.get_tensor(output_details[0][\"index\"])\n",
    "\n",
    "    # Assert if the result of TFLite model is consistent with the TF model.\n",
    "    np.testing.assert_almost_equal(expected, result, decimal=3)\n",
    "    print(\"Done. The result of TensorFlow matches the result of TensorFlow Lite.\")\n",
    "\n",
    "    # Please note: TfLite fused Lstm kernel is stateful, so we need to reset\n",
    "    # the states.\n",
    "    # Clean up internal states.\n",
    "    interpreter.reset_all_variables()"
   ]
  },
  {
   "cell_type": "code",
   "execution_count": 23,
   "metadata": {},
   "outputs": [
    {
     "data": {
      "text/plain": [
       "(1, 14, 9)"
      ]
     },
     "execution_count": 23,
     "metadata": {},
     "output_type": "execute_result"
    }
   ],
   "source": [
    "x_multi.shape"
   ]
  },
  {
   "cell_type": "code",
   "execution_count": 24,
   "metadata": {},
   "outputs": [
    {
     "data": {
      "text/plain": [
       "9"
      ]
     },
     "execution_count": 24,
     "metadata": {},
     "output_type": "execute_result"
    }
   ],
   "source": [
    "len(list_x)"
   ]
  },
  {
   "cell_type": "markdown",
   "metadata": {},
   "source": [
    "## Update API lambda AWS"
   ]
  },
  {
   "cell_type": "markdown",
   "metadata": {},
   "source": [
    "### API lambda simulate"
   ]
  },
  {
   "cell_type": "markdown",
   "metadata": {},
   "source": [
    "#### Past days"
   ]
  },
  {
   "cell_type": "code",
   "execution_count": 25,
   "metadata": {},
   "outputs": [
    {
     "data": {
      "text/plain": [
       "(360, 9)"
      ]
     },
     "execution_count": 25,
     "metadata": {},
     "output_type": "execute_result"
    }
   ],
   "source": [
    "dataset.shape"
   ]
  },
  {
   "cell_type": "code",
   "execution_count": 26,
   "metadata": {},
   "outputs": [
    {
     "name": "stdout",
     "output_type": "stream",
     "text": [
      "[283 - 297]\n",
      "[290 - 304]\n",
      "[297 - 311]\n",
      "[304 - 318]\n",
      "[311 - 325]\n",
      "[318 - 332]\n",
      "[325 - 339]\n",
      "[332 - 346]\n",
      "[339 - 353]\n"
     ]
    }
   ],
   "source": [
    "json_list_list_x = prepare_to_lambda(dataset)\n",
    "# simulate input to lambda (double dumps ? why ? i don't know yet)\n",
    "json_list_list_x = json.dumps(json_list_list_x)\n",
    "# simulate lambda\n",
    "\n",
    "event = {\"body\": json_list_list_x}"
   ]
  },
  {
   "cell_type": "code",
   "execution_count": 27,
   "metadata": {},
   "outputs": [
    {
     "name": "stdout",
     "output_type": "stream",
     "text": [
      "INPUT : nb. arrays : 9 / arrays shape: (1, 14, 9)\n",
      "OUTPUT : nb. arrays : 9 / arrays shape in list: (1, 7)\n"
     ]
    }
   ],
   "source": [
    "# lambda code (file ./serverless/tensorflow-lite-on-aws-lambda/handler.py)\n",
    "from serverless.tensorflow_lite_on_aws_lambda.handler import predict\n",
    "context = None\n",
    "response = predict(event, context)\n"
   ]
  },
  {
   "cell_type": "code",
   "execution_count": 28,
   "metadata": {},
   "outputs": [
    {
     "data": {
      "text/plain": [
       "(1, 63)"
      ]
     },
     "execution_count": 28,
     "metadata": {},
     "output_type": "execute_result"
    }
   ],
   "source": [
    "# Retrieve from lambda in App code\n",
    "# input : response\n",
    "y_multi_pred_out = retrieve_from_lambda(response)      \n",
    "y_multi_pred_out.shape"
   ]
  },
  {
   "cell_type": "code",
   "execution_count": 29,
   "metadata": {},
   "outputs": [
    {
     "data": {
      "text/plain": [
       "array([[-0.16877234, -0.92532384,  1.1123352 ,  0.9703686 ,  0.66039777,\n",
       "         0.86188805,  0.88834333,  0.1437054 , -0.7296586 ,  1.7656552 ,\n",
       "         1.0475851 ,  1.0249845 ,  1.3242004 ,  1.3112273 ,  0.40925017,\n",
       "        -0.9579042 ,  2.2890525 ,  1.4691657 ,  1.3384709 ,  1.6856886 ,\n",
       "         1.6748189 ,  0.63718784, -0.7040993 ,  2.60189   ,  1.7712693 ,\n",
       "         1.7571543 ,  1.7279884 ,  1.6417801 ,  0.5784119 , -0.87764275,\n",
       "         1.1300752 ,  2.5064147 ,  1.7278783 ,  1.5942706 ,  1.716709  ,\n",
       "         0.4345529 , -0.7179166 ,  1.503931  ,  1.3380523 ,  1.2136508 ,\n",
       "         1.2815621 ,  1.166036  ,  0.4218269 , -0.6989728 ,  1.880376  ,\n",
       "         1.1700838 ,  0.8830117 ,  0.91912186,  0.98935455,  0.36386386,\n",
       "         0.3104738 ,  1.1380334 ,  1.241996  ,  0.6182559 ,  0.65489185,\n",
       "         0.53217447, -0.06911331, -0.18178293,  0.9951841 ,  0.35684747,\n",
       "         1.0304472 ,  1.7922924 ,  0.73069286]], dtype=float32)"
      ]
     },
     "execution_count": 29,
     "metadata": {},
     "output_type": "execute_result"
    }
   ],
   "source": [
    "y_multi_pred"
   ]
  },
  {
   "cell_type": "code",
   "execution_count": 30,
   "metadata": {},
   "outputs": [
    {
     "data": {
      "text/plain": [
       "array([[-0.16877255, -0.92532372,  1.1123358 ,  0.97036874,  0.66039789,\n",
       "         0.86188817,  0.88834357,  0.14370513, -0.72965896,  1.76565588,\n",
       "         1.04758561,  1.02498424,  1.32420039,  1.3112272 ,  0.40924993,\n",
       "        -0.95790362,  2.28905177,  1.46916568,  1.33847058,  1.68568873,\n",
       "         1.67481875,  0.6371879 , -0.7040987 ,  2.60189033,  1.7712692 ,\n",
       "         1.75715411,  1.72798848,  1.64177978,  0.57841223, -0.87764359,\n",
       "         1.13007498,  2.50641418,  1.72787833,  1.59427071,  1.71670926,\n",
       "         0.43455303, -0.71791697,  1.50393128,  1.33805215,  1.21365118,\n",
       "         1.28156209,  1.16603565,  0.42182678, -0.69897294,  1.88037634,\n",
       "         1.17008328,  0.8830111 ,  0.91912162,  0.98935461,  0.36386383,\n",
       "         0.31047371,  1.13803351,  1.24199617,  0.61825597,  0.65489185,\n",
       "         0.53217465, -0.06911356, -0.18178278,  0.99518424,  0.35684776,\n",
       "         1.03044689,  1.79229236,  0.73069286]])"
      ]
     },
     "execution_count": 30,
     "metadata": {},
     "output_type": "execute_result"
    }
   ],
   "source": [
    "y_multi_pred_out"
   ]
  },
  {
   "cell_type": "code",
   "execution_count": 31,
   "metadata": {},
   "outputs": [
    {
     "name": "stdout",
     "output_type": "stream",
     "text": [
      "Done. The result of TensorFlow matches the result of TensorFlow Lite.\n"
     ]
    }
   ],
   "source": [
    "# Assert if the result of TFLite model is consistent with the TF model.\n",
    "np.testing.assert_almost_equal(y_multi_pred, y_multi_pred_out, decimal=3)\n",
    "print(\"Done. The result of TensorFlow matches the result of TensorFlow Lite.\")"
   ]
  },
  {
   "cell_type": "markdown",
   "metadata": {},
   "source": [
    "#### Future days"
   ]
  },
  {
   "cell_type": "code",
   "execution_count": 32,
   "metadata": {},
   "outputs": [
    {
     "name": "stdout",
     "output_type": "stream",
     "text": [
      "INPUT : nb. arrays : 1 / arrays shape: (1, 14, 9)\n",
      "OUTPUT : nb. arrays : 1 / arrays shape in list: (1, 7)\n"
     ]
    },
    {
     "data": {
      "text/plain": [
       "(1, 7)"
      ]
     },
     "execution_count": 32,
     "metadata": {},
     "output_type": "execute_result"
    }
   ],
   "source": [
    "# Prepare data to lambda (future)\n",
    "json_list_list_x = prepare_to_lambda_future(dataset)\n",
    "\n",
    "# simulate lambda\n",
    "json_list_list_x = json.dumps(json_list_list_x) # dumps again : I dont know why\n",
    "event = {\"body\": json_list_list_x}\n",
    "context = None\n",
    "response = predict(event, context)\n",
    "y_future_pred_out = retrieve_from_lambda(response)      \n",
    "y_future_pred_out.shape"
   ]
  },
  {
   "cell_type": "code",
   "execution_count": 33,
   "metadata": {},
   "outputs": [
    {
     "data": {
      "text/plain": [
       "array([[-0.42999434, -0.84252596,  0.94284254,  0.33344281,  1.0169729 ,\n",
       "         1.8877598 ,  0.5677042 ]])"
      ]
     },
     "execution_count": 33,
     "metadata": {},
     "output_type": "execute_result"
    }
   ],
   "source": [
    "y_future_pred_out"
   ]
  },
  {
   "cell_type": "code",
   "execution_count": 34,
   "metadata": {},
   "outputs": [
    {
     "data": {
      "text/plain": [
       "array([[-0.42999446, -0.8425262 ,  0.94284266,  0.33344257,  1.0169729 ,\n",
       "         1.8877599 ,  0.56770414]], dtype=float32)"
      ]
     },
     "execution_count": 34,
     "metadata": {},
     "output_type": "execute_result"
    }
   ],
   "source": [
    "y_future_pred"
   ]
  },
  {
   "cell_type": "code",
   "execution_count": 35,
   "metadata": {},
   "outputs": [
    {
     "name": "stdout",
     "output_type": "stream",
     "text": [
      "Done. The result of TensorFlow matches the result of TensorFlow Lite.\n"
     ]
    }
   ],
   "source": [
    "# Assert if the result of TFLite model is consistent with the TF model.\n",
    "np.testing.assert_almost_equal(y_future_pred, y_future_pred_out, decimal=3)\n",
    "print(\"Done. The result of TensorFlow matches the result of TensorFlow Lite.\")"
   ]
  },
  {
   "cell_type": "markdown",
   "metadata": {},
   "source": [
    "### Update AWS Lambda with new model\n"
   ]
  },
  {
   "cell_type": "markdown",
   "metadata": {},
   "source": [
    "This part does:\n",
    "- Go to : ./serverless//tensorflow-lite-on-aws-lambda\n",
    "    \n",
    "- Execute : sls deploy -v"
   ]
  },
  {
   "cell_type": "code",
   "execution_count": 36,
   "metadata": {},
   "outputs": [
    {
     "data": {
      "text/plain": [
       "'#!/bin/bash\\nexport PATH=\"/usr/local/bin:$PATH\"\\ncd ./serverless/tensorflow_lite_on_aws_lambda\\nserverless deploy -v'"
      ]
     },
     "execution_count": 36,
     "metadata": {},
     "output_type": "execute_result"
    }
   ],
   "source": [
    "str_exe = '#!/bin/bash\\n' + \\\n",
    "    'export PATH=\"/usr/local/bin:$PATH\"\\n' + \\\n",
    "    f'cd {PATH_MDL_MULTI_TFLITE}\\n' + \\\n",
    "    'serverless deploy -v'\n",
    "str_exe"
   ]
  },
  {
   "cell_type": "code",
   "execution_count": 37,
   "metadata": {},
   "outputs": [],
   "source": [
    "open('deploy_serverless.sh', \"w\").write(str_exe)\n",
    "os.chmod('deploy_serverless.sh', stat.S_IRWXU)"
   ]
  },
  {
   "cell_type": "code",
   "execution_count": 38,
   "metadata": {},
   "outputs": [
    {
     "name": "stdout",
     "output_type": "stream",
     "text": [
      "#!/bin/bash\r\n",
      "export PATH=\"/usr/local/bin:$PATH\"\r\n",
      "cd ./serverless/tensorflow_lite_on_aws_lambda\r\n",
      "serverless deploy -v"
     ]
    }
   ],
   "source": [
    "!cat ./deploy_serverless.sh"
   ]
  },
  {
   "cell_type": "code",
   "execution_count": null,
   "metadata": {},
   "outputs": [
    {
     "name": "stdout",
     "output_type": "stream",
     "text": [
      "Serverless: \u001b[93mDeprecation warning: Support for \"package.include\" and \"package.exclude\" will be removed with next major release. Please use \"package.patterns\" instead\u001b[39m\n",
      "            \u001b[93mMore Info: https://www.serverless.com/framework/docs/deprecations/#NEW_PACKAGE_PATTERNS\u001b[39m\n",
      "Serverless: \u001b[93mDeprecation warning: Resolution of lambda version hashes was improved with better algorithm, which will be used in next major release.\u001b[39m\n",
      "\u001b[93m            Switch to it now by setting \"provider.lambdaHashingVersion\" to \"20201221\"\u001b[39m\n",
      "            \u001b[93mMore Info: https://www.serverless.com/framework/docs/deprecations/#LAMBDA_HASHING_VERSION_V2\u001b[39m\n",
      "Serverless: \u001b[33mGenerated requirements from /Users/gregory/Documents/CloudStationSinchon/Applications/python/CoronaVirus/code/coronavirusModel/serverless/tensorflow_lite_on_aws_lambda/requirements.txt in /Users/gregory/Documents/CloudStationSinchon/Applications/python/CoronaVirus/code/coronavirusModel/serverless/tensorflow_lite_on_aws_lambda/.serverless/requirements.txt...\u001b[39m\n",
      "Serverless: \u001b[33mUsing static cache of requirements found at /Users/gregory/Library/Caches/serverless-python-requirements/ef4e42eb03bbad46f74fee99a3c01f994e8119e7a557f947779093ab37b248d3_slspyc ...\u001b[39m\n",
      "Serverless: \u001b[33mPackaging service...\u001b[39m\n",
      "Serverless: \u001b[33mExcluding development dependencies...\u001b[39m\n",
      "Serverless: \u001b[33mInjecting required Python packages to package...\u001b[39m\n",
      "Serverless: \u001b[33mUploading CloudFormation file to S3...\u001b[39m\n",
      "Serverless: \u001b[33mUploading artifacts...\u001b[39m\n",
      "Serverless: \u001b[33mUploading service tensorflow-lite-on-aws-lambda.zip file to S3 (19.37 MB)...\u001b[39m\n"
     ]
    }
   ],
   "source": [
    "!./deploy_serverless.sh"
   ]
  },
  {
   "cell_type": "markdown",
   "metadata": {},
   "source": [
    "### API AWS real Test"
   ]
  },
  {
   "cell_type": "markdown",
   "metadata": {},
   "source": [
    "#### Past days"
   ]
  },
  {
   "cell_type": "code",
   "execution_count": 41,
   "metadata": {},
   "outputs": [
    {
     "name": "stdout",
     "output_type": "stream",
     "text": [
      "[209 - 223]\n",
      "[216 - 230]\n",
      "[223 - 237]\n",
      "[230 - 244]\n",
      "[237 - 251]\n",
      "[244 - 258]\n",
      "[251 - 265]\n",
      "[258 - 272]\n",
      "[265 - 279]\n",
      "status code :  200\n",
      "[[[0.6313385963439941, 0.4845772087574005, 0.10181833058595657, -0.42727288603782654, -0.1286216676235199, -0.7164102792739868, 0.7911065816879272]], [[0.6758114695549011, 0.5853428244590759, 0.3674325942993164, -0.5780857801437378, 0.15994828939437866, -0.6099607944488525, 1.2931898832321167]], [[0.8436340689659119, 0.7296856045722961, 0.5848000049591064, 0.6288303136825562, 0.1109854206442833, -0.5554006099700928, 1.3095240592956543]], [[0.795085608959198, 0.728304922580719, 0.7957692742347717, 0.7765070199966431, 0.21930435299873352, -0.6844580173492432, 1.3908019065856934]], [[0.9412429928779602, 0.7927110195159912, 0.9861341714859009, 0.9564946889877319, 0.16759172081947327, -0.5527455806732178, 1.4842952489852905]], [[0.9574208855628967, 0.8731704950332642, 0.947494387626648, 0.9387067556381226, 0.19061687588691711, -0.6054768562316895, 1.5345828533172607]], [[1.0760161876678467, 0.7422314882278442, 0.7731742858886719, 0.8362303972244263, 0.11004368215799332, -0.6801232099533081, 1.2896432876586914]], [[1.1321886777877808, 0.4958815276622772, 1.1443076133728027, 0.7832947969436646, 0.05576779693365097, -0.7208045721054077, 1.5633714199066162]], [[0.9871092438697815, 0.5902820229530334, 0.7362396717071533, 0.6751961708068848, -0.06482908874750137, -0.6588770151138306, 1.3200912475585938]]]\n"
     ]
    }
   ],
   "source": [
    "# prepare input\n",
    "json_list_list_x = prepare_to_lambda(dataset)\n",
    "# REQUEST\n",
    "resp = requests.post(URL_PREDICT, json=json_list_list_x)\n",
    "print(\"status code : \", resp.status_code) \n",
    "print(resp.json())"
   ]
  },
  {
   "cell_type": "code",
   "execution_count": 42,
   "metadata": {},
   "outputs": [
    {
     "data": {
      "text/plain": [
       "23640"
      ]
     },
     "execution_count": 42,
     "metadata": {},
     "output_type": "execute_result"
    }
   ],
   "source": [
    "len(json_list_list_x)"
   ]
  },
  {
   "cell_type": "code",
   "execution_count": 43,
   "metadata": {},
   "outputs": [
    {
     "data": {
      "text/plain": [
       "[[[0.6313385963439941,\n",
       "   0.4845772087574005,\n",
       "   0.10181833058595657,\n",
       "   -0.42727288603782654,\n",
       "   -0.1286216676235199,\n",
       "   -0.7164102792739868,\n",
       "   0.7911065816879272]],\n",
       " [[0.6758114695549011,\n",
       "   0.5853428244590759,\n",
       "   0.3674325942993164,\n",
       "   -0.5780857801437378,\n",
       "   0.15994828939437866,\n",
       "   -0.6099607944488525,\n",
       "   1.2931898832321167]],\n",
       " [[0.8436340689659119,\n",
       "   0.7296856045722961,\n",
       "   0.5848000049591064,\n",
       "   0.6288303136825562,\n",
       "   0.1109854206442833,\n",
       "   -0.5554006099700928,\n",
       "   1.3095240592956543]],\n",
       " [[0.795085608959198,\n",
       "   0.728304922580719,\n",
       "   0.7957692742347717,\n",
       "   0.7765070199966431,\n",
       "   0.21930435299873352,\n",
       "   -0.6844580173492432,\n",
       "   1.3908019065856934]],\n",
       " [[0.9412429928779602,\n",
       "   0.7927110195159912,\n",
       "   0.9861341714859009,\n",
       "   0.9564946889877319,\n",
       "   0.16759172081947327,\n",
       "   -0.5527455806732178,\n",
       "   1.4842952489852905]],\n",
       " [[0.9574208855628967,\n",
       "   0.8731704950332642,\n",
       "   0.947494387626648,\n",
       "   0.9387067556381226,\n",
       "   0.19061687588691711,\n",
       "   -0.6054768562316895,\n",
       "   1.5345828533172607]],\n",
       " [[1.0760161876678467,\n",
       "   0.7422314882278442,\n",
       "   0.7731742858886719,\n",
       "   0.8362303972244263,\n",
       "   0.11004368215799332,\n",
       "   -0.6801232099533081,\n",
       "   1.2896432876586914]],\n",
       " [[1.1321886777877808,\n",
       "   0.4958815276622772,\n",
       "   1.1443076133728027,\n",
       "   0.7832947969436646,\n",
       "   0.05576779693365097,\n",
       "   -0.7208045721054077,\n",
       "   1.5633714199066162]],\n",
       " [[0.9871092438697815,\n",
       "   0.5902820229530334,\n",
       "   0.7362396717071533,\n",
       "   0.6751961708068848,\n",
       "   -0.06482908874750137,\n",
       "   -0.6588770151138306,\n",
       "   1.3200912475585938]]]"
      ]
     },
     "execution_count": 43,
     "metadata": {},
     "output_type": "execute_result"
    }
   ],
   "source": [
    "resp.json()"
   ]
  },
  {
   "cell_type": "code",
   "execution_count": 44,
   "metadata": {},
   "outputs": [
    {
     "data": {
      "text/plain": [
       "(1, 63)"
      ]
     },
     "execution_count": 44,
     "metadata": {},
     "output_type": "execute_result"
    }
   ],
   "source": [
    "y_multi_pred_out = retrieve_from_lambda(resp)      \n",
    "y_multi_pred_out.shape"
   ]
  },
  {
   "cell_type": "code",
   "execution_count": 45,
   "metadata": {},
   "outputs": [
    {
     "data": {
      "text/plain": [
       "array([[ 0.6313386 ,  0.48457721,  0.10181833, -0.42727289, -0.12862167,\n",
       "        -0.71641028,  0.79110658,  0.67581147,  0.58534282,  0.36743259,\n",
       "        -0.57808578,  0.15994829, -0.60996079,  1.29318988,  0.84363407,\n",
       "         0.7296856 ,  0.5848    ,  0.62883031,  0.11098542, -0.55540061,\n",
       "         1.30952406,  0.79508561,  0.72830492,  0.79576927,  0.77650702,\n",
       "         0.21930435, -0.68445802,  1.39080191,  0.94124299,  0.79271102,\n",
       "         0.98613417,  0.95649469,  0.16759172, -0.55274558,  1.48429525,\n",
       "         0.95742089,  0.8731705 ,  0.94749439,  0.93870676,  0.19061688,\n",
       "        -0.60547686,  1.53458285,  1.07601619,  0.74223149,  0.77317429,\n",
       "         0.8362304 ,  0.11004368, -0.68012321,  1.28964329,  1.13218868,\n",
       "         0.49588153,  1.14430761,  0.7832948 ,  0.0557678 , -0.72080457,\n",
       "         1.56337142,  0.98710924,  0.59028202,  0.73623967,  0.67519617,\n",
       "        -0.06482909, -0.65887702,  1.32009125]])"
      ]
     },
     "execution_count": 45,
     "metadata": {},
     "output_type": "execute_result"
    }
   ],
   "source": [
    "y_multi_pred_out"
   ]
  },
  {
   "cell_type": "code",
   "execution_count": 46,
   "metadata": {},
   "outputs": [
    {
     "data": {
      "text/plain": [
       "array([[ 0.63133883,  0.48457733,  0.10181797, -0.42727283, -0.12862182,\n",
       "        -0.71641016,  0.7911065 ,  0.67581123,  0.5853429 ,  0.3674326 ,\n",
       "        -0.5780858 ,  0.15994838, -0.6099609 ,  1.2931899 ,  0.8436339 ,\n",
       "         0.72968566,  0.5847996 ,  0.62883043,  0.11098569, -0.55540013,\n",
       "         1.3095238 ,  0.7950855 ,  0.7283052 ,  0.79576933,  0.7765069 ,\n",
       "         0.21930435, -0.68445873,  1.3908021 ,  0.9412429 ,  0.79271096,\n",
       "         0.9861343 ,  0.9564949 ,  0.16759148, -0.5527456 ,  1.4842949 ,\n",
       "         0.95742136,  0.87317044,  0.94749475,  0.9387069 ,  0.19061682,\n",
       "        -0.605477  ,  1.5345829 ,  1.0760161 ,  0.7422315 ,  0.77317417,\n",
       "         0.8362305 ,  0.11004395, -0.6801231 ,  1.2896433 ,  1.1321889 ,\n",
       "         0.49588153,  1.1443069 ,  0.78329515,  0.05576815, -0.72080433,\n",
       "         1.5633714 ,  0.9871089 ,  0.5902819 ,  0.7362398 ,  0.6751962 ,\n",
       "        -0.06482896, -0.65887725,  1.320092  ]], dtype=float32)"
      ]
     },
     "execution_count": 46,
     "metadata": {},
     "output_type": "execute_result"
    }
   ],
   "source": [
    "y_multi_pred"
   ]
  },
  {
   "cell_type": "code",
   "execution_count": 47,
   "metadata": {},
   "outputs": [
    {
     "name": "stdout",
     "output_type": "stream",
     "text": [
      "Done. The result of TensorFlow matches the result of TensorFlow Lite.\n"
     ]
    }
   ],
   "source": [
    "# Assert if the result of TFLite model is consistent with the TF model.\n",
    "np.testing.assert_almost_equal(y_multi_pred, y_multi_pred_out, decimal=3)\n",
    "print(\"Done. The result of TensorFlow matches the result of TensorFlow Lite.\")"
   ]
  },
  {
   "cell_type": "markdown",
   "metadata": {},
   "source": [
    "#### future days"
   ]
  },
  {
   "cell_type": "code",
   "execution_count": 48,
   "metadata": {},
   "outputs": [
    {
     "name": "stdout",
     "output_type": "stream",
     "text": [
      "status code :  200\n",
      "[[[1.1811994314193726, 0.7687239646911621, 0.9476237297058105, 1.000583529472351, 0.05631598085165024, -0.7521871328353882, 1.6063339710235596]]]\n"
     ]
    }
   ],
   "source": [
    "# prepare input\n",
    "json_list_list_x = prepare_to_lambda_future(dataset)\n",
    "# REQUEST URL_PREDICT = 'https://yl0910jrga.execute-api.us-east-2.amazonaws.com/dev/infer' \n",
    "resp = requests.post(URL_PREDICT, json=json_list_list_x)\n",
    "print(\"status code : \", resp.status_code) \n",
    "print(resp.json())"
   ]
  },
  {
   "cell_type": "code",
   "execution_count": 49,
   "metadata": {},
   "outputs": [
    {
     "data": {
      "text/plain": [
       "array([[ 1.18119943,  0.76872396,  0.94762373,  1.00058353,  0.05631598,\n",
       "        -0.75218713,  1.60633397]])"
      ]
     },
     "execution_count": 49,
     "metadata": {},
     "output_type": "execute_result"
    }
   ],
   "source": [
    "y_future_pred_out = retrieve_from_lambda(resp)      \n",
    "y_future_pred_out"
   ]
  },
  {
   "cell_type": "code",
   "execution_count": 50,
   "metadata": {},
   "outputs": [
    {
     "data": {
      "text/plain": [
       "array([[ 1.1811993 ,  0.7687239 ,  0.94762385,  1.0005833 ,  0.05631609,\n",
       "        -0.752187  ,  1.6063344 ]], dtype=float32)"
      ]
     },
     "execution_count": 50,
     "metadata": {},
     "output_type": "execute_result"
    }
   ],
   "source": [
    "y_future_pred"
   ]
  },
  {
   "cell_type": "code",
   "execution_count": 51,
   "metadata": {},
   "outputs": [
    {
     "name": "stdout",
     "output_type": "stream",
     "text": [
      "Done. The result of TensorFlow matches the result of TensorFlow Lite.\n"
     ]
    }
   ],
   "source": [
    "# Assert if the result of TFLite model is consistent with the TF model.\n",
    "np.testing.assert_almost_equal(y_future_pred, y_future_pred_out, decimal=3)\n",
    "print(\"Done. The result of TensorFlow matches the result of TensorFlow Lite.\")"
   ]
  },
  {
   "cell_type": "code",
   "execution_count": null,
   "metadata": {},
   "outputs": [],
   "source": []
  }
 ],
 "metadata": {
  "kernelspec": {
   "display_name": "Python 3",
   "language": "python",
   "name": "python3"
  },
  "language_info": {
   "codemirror_mode": {
    "name": "ipython",
    "version": 3
   },
   "file_extension": ".py",
   "mimetype": "text/x-python",
   "name": "python",
   "nbconvert_exporter": "python",
   "pygments_lexer": "ipython3",
   "version": "3.7.6"
  },
  "toc": {
   "base_numbering": 1,
   "nav_menu": {
    "height": "260px",
    "width": "258px"
   },
   "number_sections": true,
   "sideBar": true,
   "skip_h1_title": false,
   "title_cell": "Table of Contents",
   "title_sidebar": "Contents",
   "toc_cell": false,
   "toc_position": {
    "height": "calc(100% - 180px)",
    "left": "10px",
    "top": "150px",
    "width": "205px"
   },
   "toc_section_display": true,
   "toc_window_display": true
  }
 },
 "nbformat": 4,
 "nbformat_minor": 4
}
