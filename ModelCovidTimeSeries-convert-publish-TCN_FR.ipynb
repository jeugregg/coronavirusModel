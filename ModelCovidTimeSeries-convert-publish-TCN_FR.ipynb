{
 "cells": [
  {
   "cell_type": "markdown",
   "metadata": {},
   "source": [
    "# Model Time Series for COVID: Publish for app\n",
    "\n",
    "This notebook use multistep time serie model  (predicting number of cases future next days).\n",
    "\n",
    "It converts Tensorflow model into TensorFlow Lite to be able to use it in a Lambda fonction on AWS.\n",
    "\n",
    "After that, the lite model is tested and publish on AWS\n",
    "\n",
    "Finally, the lambda function is tested"
   ]
  },
  {
   "cell_type": "markdown",
   "metadata": {},
   "source": [
    "## Convert model in TFlite"
   ]
  },
  {
   "cell_type": "markdown",
   "metadata": {},
   "source": [
    "**IMPORTANT TO DO manually:**\n",
    "- **Update TRAIN_SPLIT in my_helpers.model module**"
   ]
  },
  {
   "cell_type": "markdown",
   "metadata": {},
   "source": [
    "### import"
   ]
  },
  {
   "cell_type": "code",
   "execution_count": 1,
   "metadata": {},
   "outputs": [],
   "source": [
    "# data useful lib\n",
    "import pandas as pd\n",
    "import numpy as np\n",
    "\n",
    "# helper lib\n",
    "import shutil\n",
    "import os, stat\n",
    "import re\n",
    "import datetime\n",
    "import math\n",
    "\n",
    "# read json from http\n",
    "import json\n",
    "import urllib.request\n",
    "\n",
    "# read csv from http\n",
    "import io\n",
    "import requests\n",
    "\n",
    "# model lib\n",
    "import tensorflow as tf\n",
    "\n",
    "# from project\n",
    "from my_helpers.model import prepare_to_lambda, retrieve_from_lambda\n",
    "from my_helpers.model import prepare_to_lambda_future\n",
    "from my_helpers.model import create_list_past_hist, predict_list"
   ]
  },
  {
   "cell_type": "code",
   "execution_count": 2,
   "metadata": {},
   "outputs": [
    {
     "data": {
      "text/plain": [
       "'2.5.0'"
      ]
     },
     "execution_count": 2,
     "metadata": {},
     "output_type": "execute_result"
    }
   ],
   "source": [
    "tf.__version__"
   ]
  },
  {
   "cell_type": "markdown",
   "metadata": {},
   "source": [
    "### Definitions"
   ]
  },
  {
   "cell_type": "code",
   "execution_count": 3,
   "metadata": {},
   "outputs": [
    {
     "name": "stdout",
     "output_type": "stream",
     "text": [
      "TRAIN_SPLIT = 405\n"
     ]
    }
   ],
   "source": [
    "PATH_TO_SAVE_DATA = \".\"\n",
    "PATH_DF_POS_FR = PATH_TO_SAVE_DATA + '/' + 'df_pos_fr.csv'\n",
    "PATH_DF_TEST_FR = PATH_TO_SAVE_DATA + '/' + 'df_test_fr.csv'\n",
    "PATH_JSON_METEO_FR = PATH_TO_SAVE_DATA + '/' + 'data_meteo_fr.json'\n",
    "PATH_DF_FEAT_FR = PATH_TO_SAVE_DATA + '/' + 'df_feat_fr.csv' \n",
    "PATH_GEO_DEP_FR = PATH_TO_SAVE_DATA + '/sources/geofrance/' + 'departments.csv'\n",
    "PATH_MDL_MULTI_STEP = PATH_TO_SAVE_DATA + '/' + \"mdl_multi_step_pos_fr_tcn\"\n",
    "PATH_MDL_MULTI_TFLITE = PATH_TO_SAVE_DATA + '/' + \\\n",
    "    'serverless/tensorflow_lite_on_aws_lambda'\n",
    "PATH_MDL_MULTI_TFLITE_FILE = PATH_MDL_MULTI_TFLITE + '/' + \\\n",
    "    \"converted_model.tflite\"\n",
    "PATH_SERVERLESS = PATH_MDL_MULTI_TFLITE + '/' + 'serverless.yml'\n",
    "\n",
    "date_format = \"%Y-%m-%d\"\n",
    "\n",
    "#NB_POS_DATE_MIN_DF_FEAT = 140734 # on 13/05/2020\n",
    "NB_POS_DATE_MIN_DF_FEAT = 140227 # on 12/05/2020\n",
    "\n",
    "URL_PREDICT = 'https://yl0910jrga.execute-api.us-east-2.amazonaws.com/dev/infer'\n",
    "\n",
    "# model \n",
    "PAST_HISTORY = 14 # days used to predict next values in future\n",
    "FUTURE_TARGET = 7 # nb predict days later\n",
    "STEP = 1\n",
    "\n",
    "# plot\n",
    "NB_DAY_PLOT = FUTURE_TARGET*9\n",
    "\n",
    "# train split\n",
    "from my_helpers.model import TRAIN_SPLIT\n",
    "print(f\"TRAIN_SPLIT = {TRAIN_SPLIT}\")"
   ]
  },
  {
   "cell_type": "markdown",
   "metadata": {},
   "source": [
    "### helper functions"
   ]
  },
  {
   "cell_type": "code",
   "execution_count": 4,
   "metadata": {},
   "outputs": [],
   "source": [
    "# save file before update\n",
    "def clean_file(path_file_name):\n",
    "    '''\n",
    "    Clean file already traited : rename file with date\n",
    "    '''\n",
    "    try:\n",
    "        d = datetime.datetime.now()\n",
    "        str_date = '_' + d.strftime(\"%Y%m%d_%H_%M_%S\")\n",
    "       \n",
    "        res_re = re.search('\\.\\w+$', path_file_name)\n",
    "        \n",
    "        path_file_name_saved = \\\n",
    "            path_file_name[0:res_re.start()] + str_date + res_re.group(0)\n",
    "         \n",
    "        shutil.move(path_file_name, path_file_name_saved) \n",
    "        print('File {} moved!'.format(path_file_name_saved))\n",
    "    except:\n",
    "        print('File {} does not exist!'.format(path_file_name))"
   ]
  },
  {
   "cell_type": "markdown",
   "metadata": {},
   "source": [
    "### load data"
   ]
  },
  {
   "cell_type": "code",
   "execution_count": 5,
   "metadata": {},
   "outputs": [
    {
     "data": {
      "text/html": [
       "<div>\n",
       "<style scoped>\n",
       "    .dataframe tbody tr th:only-of-type {\n",
       "        vertical-align: middle;\n",
       "    }\n",
       "\n",
       "    .dataframe tbody tr th {\n",
       "        vertical-align: top;\n",
       "    }\n",
       "\n",
       "    .dataframe thead th {\n",
       "        text-align: right;\n",
       "    }\n",
       "</style>\n",
       "<table border=\"1\" class=\"dataframe\">\n",
       "  <thead>\n",
       "    <tr style=\"text-align: right;\">\n",
       "      <th></th>\n",
       "      <th>T_min</th>\n",
       "      <th>date</th>\n",
       "      <th>T_max</th>\n",
       "      <th>H_min</th>\n",
       "      <th>H_max</th>\n",
       "      <th>extrap</th>\n",
       "      <th>pos</th>\n",
       "      <th>age_pos</th>\n",
       "      <th>test</th>\n",
       "      <th>age_test</th>\n",
       "      <th>day_num</th>\n",
       "      <th>nb_cases</th>\n",
       "      <th>sum_cases</th>\n",
       "      <th>Rt</th>\n",
       "      <th>rate_pos</th>\n",
       "      <th>train</th>\n",
       "    </tr>\n",
       "    <tr>\n",
       "      <th>date</th>\n",
       "      <th></th>\n",
       "      <th></th>\n",
       "      <th></th>\n",
       "      <th></th>\n",
       "      <th></th>\n",
       "      <th></th>\n",
       "      <th></th>\n",
       "      <th></th>\n",
       "      <th></th>\n",
       "      <th></th>\n",
       "      <th></th>\n",
       "      <th></th>\n",
       "      <th></th>\n",
       "      <th></th>\n",
       "      <th></th>\n",
       "      <th></th>\n",
       "    </tr>\n",
       "  </thead>\n",
       "  <tbody>\n",
       "    <tr>\n",
       "      <th>2020-05-13</th>\n",
       "      <td>284.926667</td>\n",
       "      <td>2020-05-13</td>\n",
       "      <td>290.505000</td>\n",
       "      <td>64.661017</td>\n",
       "      <td>88.135593</td>\n",
       "      <td>0.0</td>\n",
       "      <td>881</td>\n",
       "      <td>61.104427</td>\n",
       "      <td>39013</td>\n",
       "      <td>55.451567</td>\n",
       "      <td>3</td>\n",
       "      <td>141108</td>\n",
       "      <td>NaN</td>\n",
       "      <td>NaN</td>\n",
       "      <td>2.258222</td>\n",
       "      <td>True</td>\n",
       "    </tr>\n",
       "    <tr>\n",
       "      <th>2020-05-14</th>\n",
       "      <td>285.050000</td>\n",
       "      <td>2020-05-14</td>\n",
       "      <td>290.963333</td>\n",
       "      <td>59.406780</td>\n",
       "      <td>84.847458</td>\n",
       "      <td>0.0</td>\n",
       "      <td>981</td>\n",
       "      <td>60.403670</td>\n",
       "      <td>41975</td>\n",
       "      <td>54.832186</td>\n",
       "      <td>4</td>\n",
       "      <td>142089</td>\n",
       "      <td>NaN</td>\n",
       "      <td>NaN</td>\n",
       "      <td>2.337105</td>\n",
       "      <td>True</td>\n",
       "    </tr>\n",
       "    <tr>\n",
       "      <th>2020-05-15</th>\n",
       "      <td>285.308333</td>\n",
       "      <td>2020-05-15</td>\n",
       "      <td>291.920000</td>\n",
       "      <td>57.372881</td>\n",
       "      <td>82.966102</td>\n",
       "      <td>0.0</td>\n",
       "      <td>1019</td>\n",
       "      <td>60.063788</td>\n",
       "      <td>47596</td>\n",
       "      <td>54.404446</td>\n",
       "      <td>5</td>\n",
       "      <td>143108</td>\n",
       "      <td>NaN</td>\n",
       "      <td>NaN</td>\n",
       "      <td>2.140936</td>\n",
       "      <td>True</td>\n",
       "    </tr>\n",
       "    <tr>\n",
       "      <th>2020-05-16</th>\n",
       "      <td>284.956667</td>\n",
       "      <td>2020-05-16</td>\n",
       "      <td>293.500000</td>\n",
       "      <td>53.741379</td>\n",
       "      <td>86.534483</td>\n",
       "      <td>0.0</td>\n",
       "      <td>291</td>\n",
       "      <td>60.020619</td>\n",
       "      <td>16523</td>\n",
       "      <td>54.480058</td>\n",
       "      <td>6</td>\n",
       "      <td>143399</td>\n",
       "      <td>NaN</td>\n",
       "      <td>NaN</td>\n",
       "      <td>1.761181</td>\n",
       "      <td>True</td>\n",
       "    </tr>\n",
       "    <tr>\n",
       "      <th>2020-05-17</th>\n",
       "      <td>285.598333</td>\n",
       "      <td>2020-05-17</td>\n",
       "      <td>294.446667</td>\n",
       "      <td>49.879310</td>\n",
       "      <td>85.500000</td>\n",
       "      <td>0.0</td>\n",
       "      <td>141</td>\n",
       "      <td>61.248227</td>\n",
       "      <td>6611</td>\n",
       "      <td>58.226895</td>\n",
       "      <td>0</td>\n",
       "      <td>143540</td>\n",
       "      <td>NaN</td>\n",
       "      <td>NaN</td>\n",
       "      <td>2.132809</td>\n",
       "      <td>True</td>\n",
       "    </tr>\n",
       "    <tr>\n",
       "      <th>...</th>\n",
       "      <td>...</td>\n",
       "      <td>...</td>\n",
       "      <td>...</td>\n",
       "      <td>...</td>\n",
       "      <td>...</td>\n",
       "      <td>...</td>\n",
       "      <td>...</td>\n",
       "      <td>...</td>\n",
       "      <td>...</td>\n",
       "      <td>...</td>\n",
       "      <td>...</td>\n",
       "      <td>...</td>\n",
       "      <td>...</td>\n",
       "      <td>...</td>\n",
       "      <td>...</td>\n",
       "      <td>...</td>\n",
       "    </tr>\n",
       "    <tr>\n",
       "      <th>2021-09-26</th>\n",
       "      <td>289.327966</td>\n",
       "      <td>2021-09-26</td>\n",
       "      <td>295.911017</td>\n",
       "      <td>63.152542</td>\n",
       "      <td>93.118644</td>\n",
       "      <td>0.0</td>\n",
       "      <td>1114</td>\n",
       "      <td>41.244165</td>\n",
       "      <td>100587</td>\n",
       "      <td>42.809677</td>\n",
       "      <td>0</td>\n",
       "      <td>6914879</td>\n",
       "      <td>86104.0</td>\n",
       "      <td>0.549098</td>\n",
       "      <td>1.107499</td>\n",
       "      <td>False</td>\n",
       "    </tr>\n",
       "    <tr>\n",
       "      <th>2021-09-27</th>\n",
       "      <td>287.765000</td>\n",
       "      <td>2021-09-27</td>\n",
       "      <td>295.293333</td>\n",
       "      <td>59.216667</td>\n",
       "      <td>92.000000</td>\n",
       "      <td>0.0</td>\n",
       "      <td>7466</td>\n",
       "      <td>40.135548</td>\n",
       "      <td>556021</td>\n",
       "      <td>43.227554</td>\n",
       "      <td>1</td>\n",
       "      <td>6922345</td>\n",
       "      <td>81997.0</td>\n",
       "      <td>0.560663</td>\n",
       "      <td>1.342755</td>\n",
       "      <td>False</td>\n",
       "    </tr>\n",
       "    <tr>\n",
       "      <th>2021-09-28</th>\n",
       "      <td>286.375000</td>\n",
       "      <td>2021-09-28</td>\n",
       "      <td>293.993333</td>\n",
       "      <td>58.983333</td>\n",
       "      <td>90.233333</td>\n",
       "      <td>0.0</td>\n",
       "      <td>5443</td>\n",
       "      <td>40.472717</td>\n",
       "      <td>472517</td>\n",
       "      <td>41.694517</td>\n",
       "      <td>2</td>\n",
       "      <td>6927788</td>\n",
       "      <td>79168.0</td>\n",
       "      <td>0.572139</td>\n",
       "      <td>1.151916</td>\n",
       "      <td>False</td>\n",
       "    </tr>\n",
       "    <tr>\n",
       "      <th>2021-09-29</th>\n",
       "      <td>286.875000</td>\n",
       "      <td>2021-09-29</td>\n",
       "      <td>293.856667</td>\n",
       "      <td>55.383333</td>\n",
       "      <td>88.766667</td>\n",
       "      <td>0.0</td>\n",
       "      <td>4971</td>\n",
       "      <td>39.492456</td>\n",
       "      <td>422979</td>\n",
       "      <td>42.556555</td>\n",
       "      <td>3</td>\n",
       "      <td>6932759</td>\n",
       "      <td>76406.0</td>\n",
       "      <td>0.582932</td>\n",
       "      <td>1.175236</td>\n",
       "      <td>False</td>\n",
       "    </tr>\n",
       "    <tr>\n",
       "      <th>2021-09-30</th>\n",
       "      <td>284.388333</td>\n",
       "      <td>2021-09-30</td>\n",
       "      <td>292.543333</td>\n",
       "      <td>57.416667</td>\n",
       "      <td>88.200000</td>\n",
       "      <td>0.0</td>\n",
       "      <td>4801</td>\n",
       "      <td>40.963549</td>\n",
       "      <td>511877</td>\n",
       "      <td>39.266591</td>\n",
       "      <td>4</td>\n",
       "      <td>6937560</td>\n",
       "      <td>74104.0</td>\n",
       "      <td>0.591828</td>\n",
       "      <td>0.937921</td>\n",
       "      <td>False</td>\n",
       "    </tr>\n",
       "  </tbody>\n",
       "</table>\n",
       "<p>506 rows × 16 columns</p>\n",
       "</div>"
      ],
      "text/plain": [
       "                 T_min        date       T_max      H_min      H_max  extrap  \\\n",
       "date                                                                           \n",
       "2020-05-13  284.926667  2020-05-13  290.505000  64.661017  88.135593     0.0   \n",
       "2020-05-14  285.050000  2020-05-14  290.963333  59.406780  84.847458     0.0   \n",
       "2020-05-15  285.308333  2020-05-15  291.920000  57.372881  82.966102     0.0   \n",
       "2020-05-16  284.956667  2020-05-16  293.500000  53.741379  86.534483     0.0   \n",
       "2020-05-17  285.598333  2020-05-17  294.446667  49.879310  85.500000     0.0   \n",
       "...                ...         ...         ...        ...        ...     ...   \n",
       "2021-09-26  289.327966  2021-09-26  295.911017  63.152542  93.118644     0.0   \n",
       "2021-09-27  287.765000  2021-09-27  295.293333  59.216667  92.000000     0.0   \n",
       "2021-09-28  286.375000  2021-09-28  293.993333  58.983333  90.233333     0.0   \n",
       "2021-09-29  286.875000  2021-09-29  293.856667  55.383333  88.766667     0.0   \n",
       "2021-09-30  284.388333  2021-09-30  292.543333  57.416667  88.200000     0.0   \n",
       "\n",
       "             pos    age_pos    test   age_test  day_num  nb_cases  sum_cases  \\\n",
       "date                                                                           \n",
       "2020-05-13   881  61.104427   39013  55.451567        3    141108        NaN   \n",
       "2020-05-14   981  60.403670   41975  54.832186        4    142089        NaN   \n",
       "2020-05-15  1019  60.063788   47596  54.404446        5    143108        NaN   \n",
       "2020-05-16   291  60.020619   16523  54.480058        6    143399        NaN   \n",
       "2020-05-17   141  61.248227    6611  58.226895        0    143540        NaN   \n",
       "...          ...        ...     ...        ...      ...       ...        ...   \n",
       "2021-09-26  1114  41.244165  100587  42.809677        0   6914879    86104.0   \n",
       "2021-09-27  7466  40.135548  556021  43.227554        1   6922345    81997.0   \n",
       "2021-09-28  5443  40.472717  472517  41.694517        2   6927788    79168.0   \n",
       "2021-09-29  4971  39.492456  422979  42.556555        3   6932759    76406.0   \n",
       "2021-09-30  4801  40.963549  511877  39.266591        4   6937560    74104.0   \n",
       "\n",
       "                  Rt  rate_pos  train  \n",
       "date                                   \n",
       "2020-05-13       NaN  2.258222   True  \n",
       "2020-05-14       NaN  2.337105   True  \n",
       "2020-05-15       NaN  2.140936   True  \n",
       "2020-05-16       NaN  1.761181   True  \n",
       "2020-05-17       NaN  2.132809   True  \n",
       "...              ...       ...    ...  \n",
       "2021-09-26  0.549098  1.107499  False  \n",
       "2021-09-27  0.560663  1.342755  False  \n",
       "2021-09-28  0.572139  1.151916  False  \n",
       "2021-09-29  0.582932  1.175236  False  \n",
       "2021-09-30  0.591828  0.937921  False  \n",
       "\n",
       "[506 rows x 16 columns]"
      ]
     },
     "execution_count": 5,
     "metadata": {},
     "output_type": "execute_result"
    }
   ],
   "source": [
    "df_feat_fr = pd.read_csv(PATH_DF_FEAT_FR)\n",
    "df_feat_fr.index = df_feat_fr[\"date\"]\n",
    "df_feat_fr[\"train\"] = [True if I <= TRAIN_SPLIT else False \\\n",
    "                       for I in range(df_feat_fr.shape[0])]\n",
    "df_feat_fr\n"
   ]
  },
  {
   "cell_type": "markdown",
   "metadata": {},
   "source": [
    "### prepare features"
   ]
  },
  {
   "cell_type": "code",
   "execution_count": 6,
   "metadata": {},
   "outputs": [
    {
     "data": {
      "text/html": [
       "<div>\n",
       "<style scoped>\n",
       "    .dataframe tbody tr th:only-of-type {\n",
       "        vertical-align: middle;\n",
       "    }\n",
       "\n",
       "    .dataframe tbody tr th {\n",
       "        vertical-align: top;\n",
       "    }\n",
       "\n",
       "    .dataframe thead th {\n",
       "        text-align: right;\n",
       "    }\n",
       "</style>\n",
       "<table border=\"1\" class=\"dataframe\">\n",
       "  <thead>\n",
       "    <tr style=\"text-align: right;\">\n",
       "      <th></th>\n",
       "      <th>T_min</th>\n",
       "      <th>T_max</th>\n",
       "      <th>H_min</th>\n",
       "      <th>H_max</th>\n",
       "      <th>pos</th>\n",
       "      <th>test</th>\n",
       "      <th>day_num</th>\n",
       "      <th>age_pos</th>\n",
       "      <th>age_test</th>\n",
       "    </tr>\n",
       "    <tr>\n",
       "      <th>date</th>\n",
       "      <th></th>\n",
       "      <th></th>\n",
       "      <th></th>\n",
       "      <th></th>\n",
       "      <th></th>\n",
       "      <th></th>\n",
       "      <th></th>\n",
       "      <th></th>\n",
       "      <th></th>\n",
       "    </tr>\n",
       "  </thead>\n",
       "  <tbody>\n",
       "    <tr>\n",
       "      <th>2020-05-13</th>\n",
       "      <td>284.926667</td>\n",
       "      <td>290.505000</td>\n",
       "      <td>64.661017</td>\n",
       "      <td>88.135593</td>\n",
       "      <td>881</td>\n",
       "      <td>39013</td>\n",
       "      <td>3</td>\n",
       "      <td>61.104427</td>\n",
       "      <td>55.451567</td>\n",
       "    </tr>\n",
       "    <tr>\n",
       "      <th>2020-05-14</th>\n",
       "      <td>285.050000</td>\n",
       "      <td>290.963333</td>\n",
       "      <td>59.406780</td>\n",
       "      <td>84.847458</td>\n",
       "      <td>981</td>\n",
       "      <td>41975</td>\n",
       "      <td>4</td>\n",
       "      <td>60.403670</td>\n",
       "      <td>54.832186</td>\n",
       "    </tr>\n",
       "    <tr>\n",
       "      <th>2020-05-15</th>\n",
       "      <td>285.308333</td>\n",
       "      <td>291.920000</td>\n",
       "      <td>57.372881</td>\n",
       "      <td>82.966102</td>\n",
       "      <td>1019</td>\n",
       "      <td>47596</td>\n",
       "      <td>5</td>\n",
       "      <td>60.063788</td>\n",
       "      <td>54.404446</td>\n",
       "    </tr>\n",
       "    <tr>\n",
       "      <th>2020-05-16</th>\n",
       "      <td>284.956667</td>\n",
       "      <td>293.500000</td>\n",
       "      <td>53.741379</td>\n",
       "      <td>86.534483</td>\n",
       "      <td>291</td>\n",
       "      <td>16523</td>\n",
       "      <td>6</td>\n",
       "      <td>60.020619</td>\n",
       "      <td>54.480058</td>\n",
       "    </tr>\n",
       "    <tr>\n",
       "      <th>2020-05-17</th>\n",
       "      <td>285.598333</td>\n",
       "      <td>294.446667</td>\n",
       "      <td>49.879310</td>\n",
       "      <td>85.500000</td>\n",
       "      <td>141</td>\n",
       "      <td>6611</td>\n",
       "      <td>0</td>\n",
       "      <td>61.248227</td>\n",
       "      <td>58.226895</td>\n",
       "    </tr>\n",
       "    <tr>\n",
       "      <th>...</th>\n",
       "      <td>...</td>\n",
       "      <td>...</td>\n",
       "      <td>...</td>\n",
       "      <td>...</td>\n",
       "      <td>...</td>\n",
       "      <td>...</td>\n",
       "      <td>...</td>\n",
       "      <td>...</td>\n",
       "      <td>...</td>\n",
       "    </tr>\n",
       "    <tr>\n",
       "      <th>2021-09-26</th>\n",
       "      <td>289.327966</td>\n",
       "      <td>295.911017</td>\n",
       "      <td>63.152542</td>\n",
       "      <td>93.118644</td>\n",
       "      <td>1114</td>\n",
       "      <td>100587</td>\n",
       "      <td>0</td>\n",
       "      <td>41.244165</td>\n",
       "      <td>42.809677</td>\n",
       "    </tr>\n",
       "    <tr>\n",
       "      <th>2021-09-27</th>\n",
       "      <td>287.765000</td>\n",
       "      <td>295.293333</td>\n",
       "      <td>59.216667</td>\n",
       "      <td>92.000000</td>\n",
       "      <td>7466</td>\n",
       "      <td>556021</td>\n",
       "      <td>1</td>\n",
       "      <td>40.135548</td>\n",
       "      <td>43.227554</td>\n",
       "    </tr>\n",
       "    <tr>\n",
       "      <th>2021-09-28</th>\n",
       "      <td>286.375000</td>\n",
       "      <td>293.993333</td>\n",
       "      <td>58.983333</td>\n",
       "      <td>90.233333</td>\n",
       "      <td>5443</td>\n",
       "      <td>472517</td>\n",
       "      <td>2</td>\n",
       "      <td>40.472717</td>\n",
       "      <td>41.694517</td>\n",
       "    </tr>\n",
       "    <tr>\n",
       "      <th>2021-09-29</th>\n",
       "      <td>286.875000</td>\n",
       "      <td>293.856667</td>\n",
       "      <td>55.383333</td>\n",
       "      <td>88.766667</td>\n",
       "      <td>4971</td>\n",
       "      <td>422979</td>\n",
       "      <td>3</td>\n",
       "      <td>39.492456</td>\n",
       "      <td>42.556555</td>\n",
       "    </tr>\n",
       "    <tr>\n",
       "      <th>2021-09-30</th>\n",
       "      <td>284.388333</td>\n",
       "      <td>292.543333</td>\n",
       "      <td>57.416667</td>\n",
       "      <td>88.200000</td>\n",
       "      <td>4801</td>\n",
       "      <td>511877</td>\n",
       "      <td>4</td>\n",
       "      <td>40.963549</td>\n",
       "      <td>39.266591</td>\n",
       "    </tr>\n",
       "  </tbody>\n",
       "</table>\n",
       "<p>506 rows × 9 columns</p>\n",
       "</div>"
      ],
      "text/plain": [
       "                 T_min       T_max      H_min      H_max   pos    test  \\\n",
       "date                                                                     \n",
       "2020-05-13  284.926667  290.505000  64.661017  88.135593   881   39013   \n",
       "2020-05-14  285.050000  290.963333  59.406780  84.847458   981   41975   \n",
       "2020-05-15  285.308333  291.920000  57.372881  82.966102  1019   47596   \n",
       "2020-05-16  284.956667  293.500000  53.741379  86.534483   291   16523   \n",
       "2020-05-17  285.598333  294.446667  49.879310  85.500000   141    6611   \n",
       "...                ...         ...        ...        ...   ...     ...   \n",
       "2021-09-26  289.327966  295.911017  63.152542  93.118644  1114  100587   \n",
       "2021-09-27  287.765000  295.293333  59.216667  92.000000  7466  556021   \n",
       "2021-09-28  286.375000  293.993333  58.983333  90.233333  5443  472517   \n",
       "2021-09-29  286.875000  293.856667  55.383333  88.766667  4971  422979   \n",
       "2021-09-30  284.388333  292.543333  57.416667  88.200000  4801  511877   \n",
       "\n",
       "            day_num    age_pos   age_test  \n",
       "date                                       \n",
       "2020-05-13        3  61.104427  55.451567  \n",
       "2020-05-14        4  60.403670  54.832186  \n",
       "2020-05-15        5  60.063788  54.404446  \n",
       "2020-05-16        6  60.020619  54.480058  \n",
       "2020-05-17        0  61.248227  58.226895  \n",
       "...             ...        ...        ...  \n",
       "2021-09-26        0  41.244165  42.809677  \n",
       "2021-09-27        1  40.135548  43.227554  \n",
       "2021-09-28        2  40.472717  41.694517  \n",
       "2021-09-29        3  39.492456  42.556555  \n",
       "2021-09-30        4  40.963549  39.266591  \n",
       "\n",
       "[506 rows x 9 columns]"
      ]
     },
     "execution_count": 6,
     "metadata": {},
     "output_type": "execute_result"
    }
   ],
   "source": [
    "features = df_feat_fr.copy().filter(items=['T_min', 'T_max', 'H_min',\n",
    "                                           'H_max', 'pos', 'test', 'day_num',\n",
    "                                          'age_pos', 'age_test'])\n",
    "features"
   ]
  },
  {
   "cell_type": "markdown",
   "metadata": {},
   "source": [
    "### Prepare dataset"
   ]
  },
  {
   "cell_type": "code",
   "execution_count": 7,
   "metadata": {},
   "outputs": [],
   "source": [
    "dataset = features.values\n",
    "data_mean = dataset[:TRAIN_SPLIT].mean(axis=0)\n",
    "data_std = dataset[:TRAIN_SPLIT].std(axis=0)\n",
    "dataset = (dataset-data_mean)/data_std"
   ]
  },
  {
   "cell_type": "code",
   "execution_count": 8,
   "metadata": {},
   "outputs": [
    {
     "data": {
      "text/plain": [
       "9"
      ]
     },
     "execution_count": 8,
     "metadata": {},
     "output_type": "execute_result"
    }
   ],
   "source": [
    "dataset.shape[1]"
   ]
  },
  {
   "cell_type": "code",
   "execution_count": 9,
   "metadata": {},
   "outputs": [
    {
     "data": {
      "text/plain": [
       "14"
      ]
     },
     "execution_count": 9,
     "metadata": {},
     "output_type": "execute_result"
    }
   ],
   "source": [
    "PAST_HISTORY"
   ]
  },
  {
   "cell_type": "code",
   "execution_count": 10,
   "metadata": {},
   "outputs": [
    {
     "data": {
      "text/plain": [
       "9"
      ]
     },
     "execution_count": 10,
     "metadata": {},
     "output_type": "execute_result"
    }
   ],
   "source": [
    "dataset.shape[1]"
   ]
  },
  {
   "cell_type": "markdown",
   "metadata": {},
   "source": [
    "### Load model"
   ]
  },
  {
   "cell_type": "code",
   "execution_count": 11,
   "metadata": {},
   "outputs": [
    {
     "name": "stderr",
     "output_type": "stream",
     "text": [
      "/anaconda3/envs/coronavirusModel/lib/python3.7/site-packages/tensorflow/python/keras/layers/core.py:1061: UserWarning: tcn.tcn is not loaded, but a Lambda layer uses it. It may cause errors.\n",
      "  , UserWarning)\n"
     ]
    },
    {
     "name": "stdout",
     "output_type": "stream",
     "text": [
      "CPU times: user 1.36 s, sys: 63.5 ms, total: 1.43 s\n",
      "Wall time: 1.69 s\n"
     ]
    }
   ],
   "source": [
    "%%time\n",
    "# reload best model\n",
    "multi_step_model = tf.keras.models.load_model(PATH_MDL_MULTI_STEP)"
   ]
  },
  {
   "cell_type": "code",
   "execution_count": 12,
   "metadata": {},
   "outputs": [
    {
     "name": "stdout",
     "output_type": "stream",
     "text": [
      "Model: \"model\"\n",
      "_________________________________________________________________\n",
      "Layer (type)                 Output Shape              Param #   \n",
      "=================================================================\n",
      "input_1 (InputLayer)         [(None, 14, 9)]           0         \n",
      "_________________________________________________________________\n",
      "tcn (TCN)                    (None, 64)                43136     \n",
      "_________________________________________________________________\n",
      "dropout (Dropout)            (None, 64)                0         \n",
      "_________________________________________________________________\n",
      "dense (Dense)                (None, 7)                 455       \n",
      "=================================================================\n",
      "Total params: 43,591\n",
      "Trainable params: 43,591\n",
      "Non-trainable params: 0\n",
      "_________________________________________________________________\n"
     ]
    }
   ],
   "source": [
    "multi_step_model.summary()"
   ]
  },
  {
   "cell_type": "code",
   "execution_count": 13,
   "metadata": {},
   "outputs": [
    {
     "data": {
      "text/plain": [
       "tf.float32"
      ]
     },
     "execution_count": 13,
     "metadata": {},
     "output_type": "execute_result"
    }
   ],
   "source": [
    "multi_step_model.inputs[0].dtype"
   ]
  },
  {
   "cell_type": "code",
   "execution_count": 14,
   "metadata": {
    "scrolled": false
   },
   "outputs": [
    {
     "name": "stderr",
     "output_type": "stream",
     "text": [
      "WARNING:absl:Found untraced functions such as restored_function_body, restored_function_body, restored_function_body, restored_function_body, restored_function_body while saving (showing 5 of 125). These functions will not be directly callable after loading.\n"
     ]
    },
    {
     "name": "stdout",
     "output_type": "stream",
     "text": [
      "INFO:tensorflow:Assets written to: ./keras_tcn/assets\n"
     ]
    },
    {
     "name": "stderr",
     "output_type": "stream",
     "text": [
      "INFO:tensorflow:Assets written to: ./keras_tcn/assets\n"
     ]
    }
   ],
   "source": [
    "run_model = tf.function(lambda x: multi_step_model(x))\n",
    "# This is important, let's fix the input size.\n",
    "INPUT_SIZE = dataset.shape[1]\n",
    "concrete_func = run_model.get_concrete_function(\n",
    "    tf.TensorSpec([1, PAST_HISTORY, INPUT_SIZE],\n",
    "                  multi_step_model.inputs[0].dtype))\n",
    "\n",
    "# model directory.\n",
    "MODEL_DIR = PATH_TO_SAVE_DATA + \"/\" + \"keras_tcn\"\n",
    "multi_step_model.save(MODEL_DIR, save_format=\"tf\", signatures=concrete_func)\n",
    "\n",
    "converter = tf.lite.TFLiteConverter.from_saved_model(MODEL_DIR)\n",
    "\n",
    "'''converter.target_spec.supported_ops = [\n",
    "  tf.lite.OpsSet.TFLITE_BUILTINS, # enable TensorFlow Lite ops.\n",
    "  tf.lite.OpsSet.SELECT_TF_OPS # enable TensorFlow ops.\n",
    "]\n",
    "converter.allow_custom_ops=True'''\n",
    "\n",
    "tflite_model = converter.convert()"
   ]
  },
  {
   "cell_type": "markdown",
   "metadata": {},
   "source": [
    "### Save model TFlite"
   ]
  },
  {
   "cell_type": "code",
   "execution_count": 15,
   "metadata": {},
   "outputs": [
    {
     "name": "stdout",
     "output_type": "stream",
     "text": [
      "File ./serverless/tensorflow_lite_on_aws_lambda/converted_model_20211004_09_10_10.tflite moved!\n"
     ]
    }
   ],
   "source": [
    "clean_file(PATH_MDL_MULTI_TFLITE_FILE)"
   ]
  },
  {
   "cell_type": "code",
   "execution_count": 16,
   "metadata": {},
   "outputs": [
    {
     "data": {
      "text/plain": [
       "'./serverless/tensorflow_lite_on_aws_lambda/converted_model.tflite'"
      ]
     },
     "execution_count": 16,
     "metadata": {},
     "output_type": "execute_result"
    }
   ],
   "source": [
    "PATH_MDL_MULTI_TFLITE_FILE"
   ]
  },
  {
   "cell_type": "code",
   "execution_count": 17,
   "metadata": {},
   "outputs": [
    {
     "data": {
      "text/plain": [
       "188752"
      ]
     },
     "execution_count": 17,
     "metadata": {},
     "output_type": "execute_result"
    }
   ],
   "source": [
    "open(PATH_MDL_MULTI_TFLITE_FILE, \"wb\").write(tflite_model)"
   ]
  },
  {
   "cell_type": "markdown",
   "metadata": {},
   "source": [
    "## Test converted model"
   ]
  },
  {
   "cell_type": "markdown",
   "metadata": {},
   "source": [
    "### Predict with TF model (not-converted one)"
   ]
  },
  {
   "cell_type": "markdown",
   "metadata": {},
   "source": [
    "#### Past days"
   ]
  },
  {
   "cell_type": "code",
   "execution_count": 18,
   "metadata": {},
   "outputs": [
    {
     "name": "stdout",
     "output_type": "stream",
     "text": [
      "[429 - 443]\n",
      "[436 - 450]\n",
      "[443 - 457]\n",
      "[450 - 464]\n",
      "[457 - 471]\n",
      "[464 - 478]\n",
      "[471 - 485]\n",
      "[478 - 492]\n",
      "[485 - 499]\n",
      "9\n"
     ]
    },
    {
     "data": {
      "text/plain": [
       "array([[10803.118 ,  5189.6836,  8209.056 , 14307.943 , 14013.451 ,\n",
       "        13030.132 , 13237.821 , 12943.4   ,  6850.291 ,  5076.327 ,\n",
       "        17426.22  , 14922.551 , 13669.156 , 14062.6   , 13524.233 ,\n",
       "         7096.1226,  7034.626 , 14198.331 , 18265.172 , 15847.949 ,\n",
       "        14747.983 , 14318.767 ,  8467.92  ,  1814.8662, 14326.796 ,\n",
       "        15907.879 , 14164.119 , 13057.618 , 11945.486 ,  7424.291 ,\n",
       "         3791.7969, 11514.87  , 14324.931 , 12671.196 , 11402.303 ,\n",
       "        11727.681 ,  7613.127 ,  2506.6797, 11933.139 , 12927.409 ,\n",
       "        11631.558 , 10958.156 ,  7878.8926,  6275.1147,  3822.1719,\n",
       "         8826.252 ,  8726.592 ,  7938.5425,  7728.9897,  6350.4204,\n",
       "         5330.6953,  3950.7734,  7640.366 ,  7253.7183,  6779.8374,\n",
       "         6546.6284,  5336.7734,  5330.7803,  5111.9395,  5966.573 ,\n",
       "         6496.1123,  6163.1494,  5762.5864]], dtype=float32)"
      ]
     },
     "execution_count": 18,
     "metadata": {},
     "output_type": "execute_result"
    }
   ],
   "source": [
    "# TENSORFLOW MODEL :\n",
    "# prepare list of past histories\n",
    "list_x = create_list_past_hist(dataset)\n",
    "# predict\n",
    "y_multi_pred = predict_list(list_x, multi_step_model)\n",
    "# convert in positive cases\n",
    "y_pos_pred = (y_multi_pred * data_std[4]) + data_mean[4] \n",
    "y_pos_pred"
   ]
  },
  {
   "cell_type": "markdown",
   "metadata": {},
   "source": [
    "#### Future days"
   ]
  },
  {
   "cell_type": "code",
   "execution_count": 19,
   "metadata": {},
   "outputs": [],
   "source": [
    "# prepare data : very last days\n",
    "x_for_future = np.array([dataset[-PAST_HISTORY:,:]]) \n",
    "# predict next days\n",
    "y_future_pred = multi_step_model.predict(x_for_future)"
   ]
  },
  {
   "cell_type": "markdown",
   "metadata": {},
   "source": [
    "### Predict with TFlite & Compare "
   ]
  },
  {
   "cell_type": "markdown",
   "metadata": {},
   "source": [
    "#### Past days"
   ]
  },
  {
   "cell_type": "code",
   "execution_count": 20,
   "metadata": {},
   "outputs": [
    {
     "name": "stdout",
     "output_type": "stream",
     "text": [
      "Done. The result of TensorFlow matches the result of TensorFlow Lite.\n",
      "Done. The result of TensorFlow matches the result of TensorFlow Lite.\n",
      "Done. The result of TensorFlow matches the result of TensorFlow Lite.\n",
      "Done. The result of TensorFlow matches the result of TensorFlow Lite.\n",
      "Done. The result of TensorFlow matches the result of TensorFlow Lite.\n",
      "Done. The result of TensorFlow matches the result of TensorFlow Lite.\n",
      "Done. The result of TensorFlow matches the result of TensorFlow Lite.\n",
      "Done. The result of TensorFlow matches the result of TensorFlow Lite.\n",
      "Done. The result of TensorFlow matches the result of TensorFlow Lite.\n"
     ]
    }
   ],
   "source": [
    "# CONVERTED LITE MODEL\n",
    "# load \n",
    "interpreter = tf.lite.Interpreter(model_content=tflite_model)\n",
    "\n",
    "# Run the model with TensorFlow Lite\n",
    "interpreter.allocate_tensors()\n",
    "input_details = interpreter.get_input_details()\n",
    "output_details = interpreter.get_output_details()\n",
    "\n",
    "# check if same results \n",
    "for x_multi in list_x:\n",
    "    # predict with tensorflow model\n",
    "    expected = multi_step_model.predict(x_multi)\n",
    "    # predict with TFlite model\n",
    "    interpreter.set_tensor(input_details[0][\"index\"], \n",
    "                           x_multi.astype(np.float32))\n",
    "    interpreter.invoke()\n",
    "    result = interpreter.get_tensor(output_details[0][\"index\"])\n",
    "\n",
    "    # Assert if the result of TFLite model is consistent with the TF model.\n",
    "    np.testing.assert_almost_equal(expected, result, decimal=3)\n",
    "    print(\"Done. The result of TensorFlow matches the result of TensorFlow Lite.\")\n",
    "\n",
    "    # Please note: TfLite fused Lstm kernel is stateful, so we need to reset\n",
    "    # the states.\n",
    "    # Clean up internal states.\n",
    "    interpreter.reset_all_variables()"
   ]
  },
  {
   "cell_type": "markdown",
   "metadata": {},
   "source": [
    "### Reload Tlite model"
   ]
  },
  {
   "cell_type": "code",
   "execution_count": 21,
   "metadata": {},
   "outputs": [],
   "source": [
    "interpreter = tf.lite.Interpreter(model_path=PATH_MDL_MULTI_TFLITE_FILE)"
   ]
  },
  {
   "cell_type": "code",
   "execution_count": 22,
   "metadata": {},
   "outputs": [
    {
     "data": {
      "text/plain": [
       "'./serverless/tensorflow_lite_on_aws_lambda/converted_model.tflite'"
      ]
     },
     "execution_count": 22,
     "metadata": {},
     "output_type": "execute_result"
    }
   ],
   "source": [
    "PATH_MDL_MULTI_TFLITE_FILE"
   ]
  },
  {
   "cell_type": "markdown",
   "metadata": {},
   "source": [
    "### Predict reloaded model"
   ]
  },
  {
   "cell_type": "markdown",
   "metadata": {},
   "source": [
    "#### Past days"
   ]
  },
  {
   "cell_type": "code",
   "execution_count": 23,
   "metadata": {},
   "outputs": [
    {
     "name": "stdout",
     "output_type": "stream",
     "text": [
      "Done. The result of TensorFlow matches the result of TensorFlow Lite.\n",
      "Done. The result of TensorFlow matches the result of TensorFlow Lite.\n",
      "Done. The result of TensorFlow matches the result of TensorFlow Lite.\n",
      "Done. The result of TensorFlow matches the result of TensorFlow Lite.\n",
      "Done. The result of TensorFlow matches the result of TensorFlow Lite.\n",
      "Done. The result of TensorFlow matches the result of TensorFlow Lite.\n",
      "Done. The result of TensorFlow matches the result of TensorFlow Lite.\n",
      "Done. The result of TensorFlow matches the result of TensorFlow Lite.\n",
      "Done. The result of TensorFlow matches the result of TensorFlow Lite.\n"
     ]
    }
   ],
   "source": [
    "# Run the model with TensorFlow Lite\n",
    "interpreter.allocate_tensors()\n",
    "input_details = interpreter.get_input_details()\n",
    "output_details = interpreter.get_output_details()\n",
    "\n",
    "# check if same results \n",
    "for x_multi in list_x:\n",
    "    \n",
    "    expected = multi_step_model.predict(x_multi)\n",
    "    \n",
    "    interpreter.set_tensor(input_details[0][\"index\"], \n",
    "                           x_multi.astype(np.float32))\n",
    "    interpreter.invoke()\n",
    "    result = interpreter.get_tensor(output_details[0][\"index\"])\n",
    "\n",
    "    # Assert if the result of TFLite model is consistent with the TF model.\n",
    "    np.testing.assert_almost_equal(expected, result, decimal=3)\n",
    "    print(\"Done. The result of TensorFlow matches the result of TensorFlow Lite.\")\n",
    "\n",
    "    # Please note: TfLite fused Lstm kernel is stateful, so we need to reset\n",
    "    # the states.\n",
    "    # Clean up internal states.\n",
    "    interpreter.reset_all_variables()"
   ]
  },
  {
   "cell_type": "code",
   "execution_count": 24,
   "metadata": {},
   "outputs": [
    {
     "data": {
      "text/plain": [
       "(1, 14, 9)"
      ]
     },
     "execution_count": 24,
     "metadata": {},
     "output_type": "execute_result"
    }
   ],
   "source": [
    "x_multi.shape"
   ]
  },
  {
   "cell_type": "code",
   "execution_count": 25,
   "metadata": {},
   "outputs": [
    {
     "data": {
      "text/plain": [
       "9"
      ]
     },
     "execution_count": 25,
     "metadata": {},
     "output_type": "execute_result"
    }
   ],
   "source": [
    "len(list_x)"
   ]
  },
  {
   "cell_type": "markdown",
   "metadata": {},
   "source": [
    "## Update API lambda AWS"
   ]
  },
  {
   "cell_type": "markdown",
   "metadata": {},
   "source": [
    "### API lambda simulate"
   ]
  },
  {
   "cell_type": "markdown",
   "metadata": {},
   "source": [
    "#### Past days"
   ]
  },
  {
   "cell_type": "code",
   "execution_count": 26,
   "metadata": {},
   "outputs": [
    {
     "data": {
      "text/plain": [
       "(506, 9)"
      ]
     },
     "execution_count": 26,
     "metadata": {},
     "output_type": "execute_result"
    }
   ],
   "source": [
    "dataset.shape"
   ]
  },
  {
   "cell_type": "code",
   "execution_count": 27,
   "metadata": {},
   "outputs": [
    {
     "name": "stdout",
     "output_type": "stream",
     "text": [
      "[429 - 443]\n",
      "[436 - 450]\n",
      "[443 - 457]\n",
      "[450 - 464]\n",
      "[457 - 471]\n",
      "[464 - 478]\n",
      "[471 - 485]\n",
      "[478 - 492]\n",
      "[485 - 499]\n"
     ]
    }
   ],
   "source": [
    "json_list_list_x = prepare_to_lambda(dataset)\n",
    "# simulate input to lambda (double dumps ? why ? i don't know yet)\n",
    "json_list_list_x = json.dumps(json_list_list_x)\n",
    "# simulate lambda\n",
    "\n",
    "event = {\"body\": json_list_list_x}"
   ]
  },
  {
   "cell_type": "code",
   "execution_count": 28,
   "metadata": {},
   "outputs": [
    {
     "name": "stdout",
     "output_type": "stream",
     "text": [
      "INPUT : nb. arrays : 9 / arrays shape: (1, 14, 9)\n",
      "OUTPUT : nb. arrays : 9 / arrays shape in list: (1, 7)\n"
     ]
    }
   ],
   "source": [
    "# lambda code (file ./serverless/tensorflow-lite-on-aws-lambda/handler.py)\n",
    "from serverless.tensorflow_lite_on_aws_lambda.handler import predict\n",
    "context = None\n",
    "response = predict(event, context)\n"
   ]
  },
  {
   "cell_type": "code",
   "execution_count": 29,
   "metadata": {},
   "outputs": [
    {
     "data": {
      "text/plain": [
       "(1, 63)"
      ]
     },
     "execution_count": 29,
     "metadata": {},
     "output_type": "execute_result"
    }
   ],
   "source": [
    "# Retrieve from lambda in App code\n",
    "# input : response\n",
    "y_multi_pred_out = retrieve_from_lambda(response)      \n",
    "y_multi_pred_out.shape"
   ]
  },
  {
   "cell_type": "code",
   "execution_count": 30,
   "metadata": {},
   "outputs": [
    {
     "data": {
      "text/plain": [
       "array([[-0.208339  , -0.6097248 , -0.39382613,  0.04227173,  0.02121419,\n",
       "        -0.04909757, -0.0342468 , -0.05529922, -0.4909839 , -0.6178303 ,\n",
       "         0.26524252,  0.08621889, -0.00340444,  0.02472854, -0.01376706,\n",
       "        -0.47340584, -0.47780314,  0.03443396,  0.32523137,  0.15238905,\n",
       "         0.07373655,  0.04304564, -0.3753162 , -0.8510394 ,  0.04361975,\n",
       "         0.15667427,  0.03198767, -0.04713213, -0.1266546 , -0.44994032,\n",
       "        -0.70967996, -0.15744558,  0.04348642, -0.07476306, -0.16549462,\n",
       "        -0.14222866, -0.4364377 , -0.8015716 , -0.12753749, -0.05644268,\n",
       "        -0.14910188, -0.19725311, -0.41743428, -0.5321116 , -0.707508  ,\n",
       "        -0.34969383, -0.35682   , -0.41316903, -0.428153  , -0.5267269 ,\n",
       "        -0.5996418 , -0.6983124 , -0.43449   , -0.46213704, -0.49602166,\n",
       "        -0.51269716, -0.5992072 , -0.5996357 , -0.61528385, -0.5541737 ,\n",
       "        -0.51630926, -0.5401176 , -0.5687597 ]], dtype=float32)"
      ]
     },
     "execution_count": 30,
     "metadata": {},
     "output_type": "execute_result"
    }
   ],
   "source": [
    "y_multi_pred"
   ]
  },
  {
   "cell_type": "code",
   "execution_count": 31,
   "metadata": {},
   "outputs": [
    {
     "data": {
      "text/plain": [
       "array([[-0.20833898, -0.60972488, -0.39382607,  0.04227179,  0.02121407,\n",
       "        -0.04909766, -0.0342468 , -0.05529928, -0.49098393, -0.6178301 ,\n",
       "         0.26524252,  0.08621895, -0.00340438,  0.0247286 , -0.01376712,\n",
       "        -0.4734059 , -0.47780299,  0.0344339 ,  0.32523155,  0.15238911,\n",
       "         0.07373661,  0.0430457 , -0.37531617, -0.85103935,  0.04361987,\n",
       "         0.15667433,  0.03198773, -0.04713202, -0.12665454, -0.44994029,\n",
       "        -0.70967972, -0.15744555,  0.04348654, -0.07476294, -0.16549453,\n",
       "        -0.14222866, -0.43643773, -0.80157161, -0.12753743, -0.05644271,\n",
       "        -0.14910191, -0.19725311, -0.41743425, -0.53211159, -0.70750809,\n",
       "        -0.34969375, -0.35681999, -0.413169  , -0.42815298, -0.5267269 ,\n",
       "        -0.5996418 , -0.6983124 , -0.43448994, -0.46213701, -0.49602163,\n",
       "        -0.5126971 , -0.59920722, -0.59963572, -0.61528385, -0.55417371,\n",
       "        -0.51630926, -0.54011762, -0.56875968]])"
      ]
     },
     "execution_count": 31,
     "metadata": {},
     "output_type": "execute_result"
    }
   ],
   "source": [
    "y_multi_pred_out"
   ]
  },
  {
   "cell_type": "code",
   "execution_count": 32,
   "metadata": {},
   "outputs": [
    {
     "name": "stdout",
     "output_type": "stream",
     "text": [
      "Done. The result of TensorFlow matches the result of TensorFlow Lite.\n"
     ]
    }
   ],
   "source": [
    "# Assert if the result of TFLite model is consistent with the TF model.\n",
    "np.testing.assert_almost_equal(y_multi_pred, y_multi_pred_out, decimal=3)\n",
    "print(\"Done. The result of TensorFlow matches the result of TensorFlow Lite.\")"
   ]
  },
  {
   "cell_type": "markdown",
   "metadata": {},
   "source": [
    "#### Future days"
   ]
  },
  {
   "cell_type": "code",
   "execution_count": 33,
   "metadata": {},
   "outputs": [
    {
     "name": "stdout",
     "output_type": "stream",
     "text": [
      "INPUT : nb. arrays : 1 / arrays shape: (1, 14, 9)\n",
      "OUTPUT : nb. arrays : 1 / arrays shape in list: (1, 7)\n"
     ]
    },
    {
     "data": {
      "text/plain": [
       "(1, 7)"
      ]
     },
     "execution_count": 33,
     "metadata": {},
     "output_type": "execute_result"
    }
   ],
   "source": [
    "# Prepare data to lambda (future)\n",
    "json_list_list_x = prepare_to_lambda_future(dataset)\n",
    "\n",
    "# simulate lambda\n",
    "json_list_list_x = json.dumps(json_list_list_x) # dumps again : I dont know why\n",
    "event = {\"body\": json_list_list_x}\n",
    "context = None\n",
    "response = predict(event, context)\n",
    "y_future_pred_out = retrieve_from_lambda(response)      \n",
    "y_future_pred_out.shape"
   ]
  },
  {
   "cell_type": "code",
   "execution_count": 34,
   "metadata": {},
   "outputs": [
    {
     "data": {
      "text/plain": [
       "array([[-0.55822915, -0.59914285, -0.62153637, -0.52475232, -0.50238049,\n",
       "        -0.55130613, -0.59301567]])"
      ]
     },
     "execution_count": 34,
     "metadata": {},
     "output_type": "execute_result"
    }
   ],
   "source": [
    "y_future_pred_out"
   ]
  },
  {
   "cell_type": "code",
   "execution_count": 35,
   "metadata": {},
   "outputs": [
    {
     "data": {
      "text/plain": [
       "array([[-0.5582291, -0.5991429, -0.6215364, -0.5247523, -0.5023805,\n",
       "        -0.5513061, -0.5930157]], dtype=float32)"
      ]
     },
     "execution_count": 35,
     "metadata": {},
     "output_type": "execute_result"
    }
   ],
   "source": [
    "y_future_pred"
   ]
  },
  {
   "cell_type": "code",
   "execution_count": 36,
   "metadata": {},
   "outputs": [
    {
     "name": "stdout",
     "output_type": "stream",
     "text": [
      "Done. The result of TensorFlow matches the result of TensorFlow Lite.\n"
     ]
    }
   ],
   "source": [
    "# Assert if the result of TFLite model is consistent with the TF model.\n",
    "np.testing.assert_almost_equal(y_future_pred, y_future_pred_out, decimal=3)\n",
    "print(\"Done. The result of TensorFlow matches the result of TensorFlow Lite.\")"
   ]
  },
  {
   "cell_type": "markdown",
   "metadata": {},
   "source": [
    "### Update AWS Lambda with new model\n"
   ]
  },
  {
   "cell_type": "markdown",
   "metadata": {},
   "source": [
    "This part does:\n",
    "- Go to : ./serverless//tensorflow-lite-on-aws-lambda\n",
    "    \n",
    "- Execute : sls deploy -v"
   ]
  },
  {
   "cell_type": "code",
   "execution_count": 37,
   "metadata": {},
   "outputs": [
    {
     "data": {
      "text/plain": [
       "'#!/bin/bash\\nexport PATH=\"/usr/local/bin:$PATH\"\\ncd ./serverless/tensorflow_lite_on_aws_lambda\\nserverless deploy -v'"
      ]
     },
     "execution_count": 37,
     "metadata": {},
     "output_type": "execute_result"
    }
   ],
   "source": [
    "str_exe = '#!/bin/bash\\n' + \\\n",
    "    'export PATH=\"/usr/local/bin:$PATH\"\\n' + \\\n",
    "    f'cd {PATH_MDL_MULTI_TFLITE}\\n' + \\\n",
    "    'serverless deploy -v'\n",
    "str_exe"
   ]
  },
  {
   "cell_type": "code",
   "execution_count": 38,
   "metadata": {},
   "outputs": [],
   "source": [
    "open('deploy_serverless.sh', \"w\").write(str_exe)\n",
    "os.chmod('deploy_serverless.sh', stat.S_IRWXU)"
   ]
  },
  {
   "cell_type": "code",
   "execution_count": 39,
   "metadata": {},
   "outputs": [
    {
     "name": "stdout",
     "output_type": "stream",
     "text": [
      "#!/bin/bash\r\n",
      "export PATH=\"/usr/local/bin:$PATH\"\r\n",
      "cd ./serverless/tensorflow_lite_on_aws_lambda\r\n",
      "serverless deploy -v"
     ]
    }
   ],
   "source": [
    "!cat ./deploy_serverless.sh"
   ]
  },
  {
   "cell_type": "code",
   "execution_count": 40,
   "metadata": {},
   "outputs": [
    {
     "name": "stdout",
     "output_type": "stream",
     "text": [
      "Serverless: \u001b[93mDeprecation warning: Resolution of lambda version hashes was improved with better algorithm, which will be used in next major release.\u001b[39m\n",
      "\u001b[93m            Switch to it now by setting \"provider.lambdaHashingVersion\" to \"20201221\"\u001b[39m\n",
      "            \u001b[93mMore Info: https://www.serverless.com/framework/docs/deprecations/#LAMBDA_HASHING_VERSION_V2\u001b[39m\n",
      "Serverless: \u001b[33mGenerated requirements from /Users/gregory/Documents/CloudStationSinchon/Applications/python/CoronaVirus/code/coronavirusModel/serverless/tensorflow_lite_on_aws_lambda/requirements.txt in /Users/gregory/Documents/CloudStationSinchon/Applications/python/CoronaVirus/code/coronavirusModel/serverless/tensorflow_lite_on_aws_lambda/.serverless/requirements.txt...\u001b[39m\n",
      "Serverless: \u001b[33mUsing static cache of requirements found at /Users/gregory/Library/Caches/serverless-python-requirements/eddadf68f9f2c21cf494701082a5393692d7b3c4711137913b3ed1b03bec68cf_slspyc ...\u001b[39m\n",
      "Serverless: \u001b[33mPackaging service...\u001b[39m\n",
      "Serverless: \u001b[33mExcluding development dependencies...\u001b[39m\n",
      "Serverless: \u001b[33mInjecting required Python packages to package...\u001b[39m\n",
      "Serverless: \u001b[33mUploading CloudFormation file to S3...\u001b[39m\n",
      "Serverless: \u001b[33mUploading artifacts...\u001b[39m\n",
      "Serverless: \u001b[33mUploading service tensorflow-lite-on-aws-lambda.zip file to S3 (19.83 MB)...\u001b[39m\n",
      "Serverless: \u001b[33mValidating template...\u001b[39m\n",
      "Serverless: \u001b[33mUpdating Stack...\u001b[39m\n",
      "Serverless: \u001b[33mChecking Stack update progress...\u001b[39m\n",
      "CloudFormation - \u001b[33mUPDATE_IN_PROGRESS\u001b[39m - AWS::CloudFormation::Stack - tensorflow-lite-on-aws-lambda-dev\n",
      "CloudFormation - \u001b[33mUPDATE_IN_PROGRESS\u001b[39m - AWS::Lambda::Function - PredictLambdaFunction\n",
      "CloudFormation - \u001b[32mUPDATE_COMPLETE\u001b[39m - AWS::Lambda::Function - PredictLambdaFunction\n",
      "CloudFormation - \u001b[33mCREATE_IN_PROGRESS\u001b[39m - AWS::Lambda::Version - PredictLambdaVersionxE4joDbeK4LMBHXGTsLvTDlaeTQhqalALHKa3sRfG8\n",
      "CloudFormation - \u001b[33mCREATE_IN_PROGRESS\u001b[39m - AWS::Lambda::Version - PredictLambdaVersionxE4joDbeK4LMBHXGTsLvTDlaeTQhqalALHKa3sRfG8\n",
      "CloudFormation - \u001b[32mCREATE_COMPLETE\u001b[39m - AWS::Lambda::Version - PredictLambdaVersionxE4joDbeK4LMBHXGTsLvTDlaeTQhqalALHKa3sRfG8\n",
      "CloudFormation - \u001b[33mCREATE_IN_PROGRESS\u001b[39m - AWS::ApiGateway::Deployment - ApiGatewayDeployment1633306216001\n",
      "CloudFormation - \u001b[33mCREATE_IN_PROGRESS\u001b[39m - AWS::ApiGateway::Deployment - ApiGatewayDeployment1633306216001\n",
      "CloudFormation - \u001b[32mCREATE_COMPLETE\u001b[39m - AWS::ApiGateway::Deployment - ApiGatewayDeployment1633306216001\n",
      "CloudFormation - \u001b[33mUPDATE_COMPLETE_CLEANUP_IN_PROGRESS\u001b[39m - AWS::CloudFormation::Stack - tensorflow-lite-on-aws-lambda-dev\n",
      "CloudFormation - \u001b[33mDELETE_IN_PROGRESS\u001b[39m - AWS::ApiGateway::Deployment - ApiGatewayDeployment1624343868204\n",
      "CloudFormation - DELETE_SKIPPED - AWS::Lambda::Version - PredictLambdaVersiongw7wsN1Vlk08dxak77orTXa73QyzBVgkh0wGZirrkEQ\n",
      "CloudFormation - \u001b[32mDELETE_COMPLETE\u001b[39m - AWS::ApiGateway::Deployment - ApiGatewayDeployment1624343868204\n",
      "CloudFormation - \u001b[32mUPDATE_COMPLETE\u001b[39m - AWS::CloudFormation::Stack - tensorflow-lite-on-aws-lambda-dev\n",
      "Serverless: \u001b[33mStack update finished...\u001b[39m\n",
      "\u001b[33m\u001b[4mService Information\u001b[24m\u001b[39m\n",
      "\u001b[33mservice:\u001b[39m tensorflow-lite-on-aws-lambda\n",
      "\u001b[33mstage:\u001b[39m dev\n",
      "\u001b[33mregion:\u001b[39m us-east-2\n",
      "\u001b[33mstack:\u001b[39m tensorflow-lite-on-aws-lambda-dev\n",
      "\u001b[33mresources:\u001b[39m 11\n",
      "\u001b[33mapi keys:\u001b[39m\n",
      "  None\n",
      "\u001b[33mendpoints:\u001b[39m\n",
      "  POST - https://yl0910jrga.execute-api.us-east-2.amazonaws.com/dev/infer\n",
      "\u001b[33mfunctions:\u001b[39m\n",
      "  predict: tensorflow-lite-on-aws-lambda-dev-predict\n",
      "\u001b[33mlayers:\u001b[39m\n",
      "  None\n",
      "\u001b[33m\u001b[4m\u001b[24m\u001b[39m\n",
      "\u001b[33m\u001b[4mStack Outputs\u001b[24m\u001b[39m\n",
      "\u001b[33m\u001b[4m\u001b[24m\u001b[39m\u001b[33mPredictLambdaFunctionQualifiedArn\u001b[39m: arn:aws:lambda:us-east-2:324466407431:function:tensorflow-lite-on-aws-lambda-dev-predict:16\n",
      "\u001b[33mServiceEndpoint\u001b[39m: https://yl0910jrga.execute-api.us-east-2.amazonaws.com/dev\n",
      "\u001b[33mServerlessDeploymentBucketName\u001b[39m: tensorflow-lite-on-aws-l-serverlessdeploymentbuck-1vuz80v36l59q\n",
      "\n",
      "Serverless: \u001b[33mRemoving old service artifacts from S3...\u001b[39m\n",
      "\n",
      "********************************************************************************\n",
      "Serverless: \u001b[33mUpdate available. Run \"npm install -g serverless@^2.60.3\" to update\u001b[39m\n",
      "\u001b[33m            You may turn on automatic updates via \"serverless config --autoupdate\"\u001b[39m\n",
      "********************************************************************************\n",
      "\n"
     ]
    }
   ],
   "source": [
    "!./deploy_serverless.sh"
   ]
  },
  {
   "cell_type": "markdown",
   "metadata": {},
   "source": [
    "### API AWS real Test"
   ]
  },
  {
   "cell_type": "markdown",
   "metadata": {},
   "source": [
    "#### Past days"
   ]
  },
  {
   "cell_type": "code",
   "execution_count": 41,
   "metadata": {},
   "outputs": [
    {
     "name": "stdout",
     "output_type": "stream",
     "text": [
      "[429 - 443]\n",
      "[436 - 450]\n",
      "[443 - 457]\n",
      "[450 - 464]\n",
      "[457 - 471]\n",
      "[464 - 478]\n",
      "[471 - 485]\n",
      "[478 - 492]\n",
      "[485 - 499]\n",
      "status code :  200\n",
      "[[[-0.20833897590637207, -0.6097248196601868, -0.39382606744766235, 0.04227179288864136, 0.02121409773826599, -0.049097657203674316, -0.03424683213233948]], [[-0.05529928207397461, -0.4909839332103729, -0.6178300976753235, 0.2652425765991211, 0.0862189531326294, -0.0034043490886688232, 0.024728596210479736]], [[-0.013767123222351074, -0.4734058976173401, -0.4778030216693878, 0.03443402051925659, 0.32523155212402344, 0.15238898992538452, 0.07373654842376709]], [[0.04304569959640503, -0.37531617283821106, -0.8510393500328064, 0.04361993074417114, 0.156674325466156, 0.03198772668838501, -0.047132015228271484]], [[-0.1266545057296753, -0.4499402642250061, -0.7096797227859497, -0.15744554996490479, 0.04348653554916382, -0.07476294040679932, -0.16549453139305115]], [[-0.14222866296768188, -0.436437726020813, -0.8015716075897217, -0.12753742933273315, -0.056442707777023315, -0.14910191297531128, -0.19725310802459717]], [[-0.4174342453479767, -0.5321115851402283, -0.7075080871582031, -0.34969374537467957, -0.3568199872970581, -0.4131689965724945, -0.42815297842025757]], [[-0.5267268419265747, -0.5996417999267578, -0.6983124017715454, -0.4344899356365204, -0.46213701367378235, -0.4960216283798218, -0.5126971006393433]], [[-0.5992072224617004, -0.5996357202529907, -0.6152838468551636, -0.5541737079620361, -0.5163092613220215, -0.540117621421814, -0.5687596797943115]]]\n"
     ]
    }
   ],
   "source": [
    "# prepare input\n",
    "json_list_list_x = prepare_to_lambda(dataset)\n",
    "# REQUEST\n",
    "resp = requests.post(URL_PREDICT, json=json_list_list_x)\n",
    "print(\"status code : \", resp.status_code) \n",
    "print(resp.json())"
   ]
  },
  {
   "cell_type": "code",
   "execution_count": 42,
   "metadata": {},
   "outputs": [
    {
     "data": {
      "text/plain": [
       "23443"
      ]
     },
     "execution_count": 42,
     "metadata": {},
     "output_type": "execute_result"
    }
   ],
   "source": [
    "len(json_list_list_x)"
   ]
  },
  {
   "cell_type": "code",
   "execution_count": 43,
   "metadata": {},
   "outputs": [
    {
     "data": {
      "text/plain": [
       "[[[-0.20833897590637207,\n",
       "   -0.6097248196601868,\n",
       "   -0.39382606744766235,\n",
       "   0.04227179288864136,\n",
       "   0.02121409773826599,\n",
       "   -0.049097657203674316,\n",
       "   -0.03424683213233948]],\n",
       " [[-0.05529928207397461,\n",
       "   -0.4909839332103729,\n",
       "   -0.6178300976753235,\n",
       "   0.2652425765991211,\n",
       "   0.0862189531326294,\n",
       "   -0.0034043490886688232,\n",
       "   0.024728596210479736]],\n",
       " [[-0.013767123222351074,\n",
       "   -0.4734058976173401,\n",
       "   -0.4778030216693878,\n",
       "   0.03443402051925659,\n",
       "   0.32523155212402344,\n",
       "   0.15238898992538452,\n",
       "   0.07373654842376709]],\n",
       " [[0.04304569959640503,\n",
       "   -0.37531617283821106,\n",
       "   -0.8510393500328064,\n",
       "   0.04361993074417114,\n",
       "   0.156674325466156,\n",
       "   0.03198772668838501,\n",
       "   -0.047132015228271484]],\n",
       " [[-0.1266545057296753,\n",
       "   -0.4499402642250061,\n",
       "   -0.7096797227859497,\n",
       "   -0.15744554996490479,\n",
       "   0.04348653554916382,\n",
       "   -0.07476294040679932,\n",
       "   -0.16549453139305115]],\n",
       " [[-0.14222866296768188,\n",
       "   -0.436437726020813,\n",
       "   -0.8015716075897217,\n",
       "   -0.12753742933273315,\n",
       "   -0.056442707777023315,\n",
       "   -0.14910191297531128,\n",
       "   -0.19725310802459717]],\n",
       " [[-0.4174342453479767,\n",
       "   -0.5321115851402283,\n",
       "   -0.7075080871582031,\n",
       "   -0.34969374537467957,\n",
       "   -0.3568199872970581,\n",
       "   -0.4131689965724945,\n",
       "   -0.42815297842025757]],\n",
       " [[-0.5267268419265747,\n",
       "   -0.5996417999267578,\n",
       "   -0.6983124017715454,\n",
       "   -0.4344899356365204,\n",
       "   -0.46213701367378235,\n",
       "   -0.4960216283798218,\n",
       "   -0.5126971006393433]],\n",
       " [[-0.5992072224617004,\n",
       "   -0.5996357202529907,\n",
       "   -0.6152838468551636,\n",
       "   -0.5541737079620361,\n",
       "   -0.5163092613220215,\n",
       "   -0.540117621421814,\n",
       "   -0.5687596797943115]]]"
      ]
     },
     "execution_count": 43,
     "metadata": {},
     "output_type": "execute_result"
    }
   ],
   "source": [
    "resp.json()"
   ]
  },
  {
   "cell_type": "code",
   "execution_count": 44,
   "metadata": {},
   "outputs": [
    {
     "data": {
      "text/plain": [
       "(1, 63)"
      ]
     },
     "execution_count": 44,
     "metadata": {},
     "output_type": "execute_result"
    }
   ],
   "source": [
    "y_multi_pred_out = retrieve_from_lambda(resp)      \n",
    "y_multi_pred_out.shape"
   ]
  },
  {
   "cell_type": "code",
   "execution_count": 45,
   "metadata": {},
   "outputs": [
    {
     "data": {
      "text/plain": [
       "array([[-0.20833898, -0.60972482, -0.39382607,  0.04227179,  0.0212141 ,\n",
       "        -0.04909766, -0.03424683, -0.05529928, -0.49098393, -0.6178301 ,\n",
       "         0.26524258,  0.08621895, -0.00340435,  0.0247286 , -0.01376712,\n",
       "        -0.4734059 , -0.47780302,  0.03443402,  0.32523155,  0.15238899,\n",
       "         0.07373655,  0.0430457 , -0.37531617, -0.85103935,  0.04361993,\n",
       "         0.15667433,  0.03198773, -0.04713202, -0.12665451, -0.44994026,\n",
       "        -0.70967972, -0.15744555,  0.04348654, -0.07476294, -0.16549453,\n",
       "        -0.14222866, -0.43643773, -0.80157161, -0.12753743, -0.05644271,\n",
       "        -0.14910191, -0.19725311, -0.41743425, -0.53211159, -0.70750809,\n",
       "        -0.34969375, -0.35681999, -0.413169  , -0.42815298, -0.52672684,\n",
       "        -0.5996418 , -0.6983124 , -0.43448994, -0.46213701, -0.49602163,\n",
       "        -0.5126971 , -0.59920722, -0.59963572, -0.61528385, -0.55417371,\n",
       "        -0.51630926, -0.54011762, -0.56875968]])"
      ]
     },
     "execution_count": 45,
     "metadata": {},
     "output_type": "execute_result"
    }
   ],
   "source": [
    "y_multi_pred_out"
   ]
  },
  {
   "cell_type": "code",
   "execution_count": 46,
   "metadata": {},
   "outputs": [
    {
     "data": {
      "text/plain": [
       "array([[-0.208339  , -0.6097248 , -0.39382613,  0.04227173,  0.02121419,\n",
       "        -0.04909757, -0.0342468 , -0.05529922, -0.4909839 , -0.6178303 ,\n",
       "         0.26524252,  0.08621889, -0.00340444,  0.02472854, -0.01376706,\n",
       "        -0.47340584, -0.47780314,  0.03443396,  0.32523137,  0.15238905,\n",
       "         0.07373655,  0.04304564, -0.3753162 , -0.8510394 ,  0.04361975,\n",
       "         0.15667427,  0.03198767, -0.04713213, -0.1266546 , -0.44994032,\n",
       "        -0.70967996, -0.15744558,  0.04348642, -0.07476306, -0.16549462,\n",
       "        -0.14222866, -0.4364377 , -0.8015716 , -0.12753749, -0.05644268,\n",
       "        -0.14910188, -0.19725311, -0.41743428, -0.5321116 , -0.707508  ,\n",
       "        -0.34969383, -0.35682   , -0.41316903, -0.428153  , -0.5267269 ,\n",
       "        -0.5996418 , -0.6983124 , -0.43449   , -0.46213704, -0.49602166,\n",
       "        -0.51269716, -0.5992072 , -0.5996357 , -0.61528385, -0.5541737 ,\n",
       "        -0.51630926, -0.5401176 , -0.5687597 ]], dtype=float32)"
      ]
     },
     "execution_count": 46,
     "metadata": {},
     "output_type": "execute_result"
    }
   ],
   "source": [
    "y_multi_pred"
   ]
  },
  {
   "cell_type": "code",
   "execution_count": 47,
   "metadata": {},
   "outputs": [
    {
     "name": "stdout",
     "output_type": "stream",
     "text": [
      "Done. The result of TensorFlow matches the result of TensorFlow Lite.\n"
     ]
    }
   ],
   "source": [
    "# Assert if the result of TFLite model is consistent with the TF model.\n",
    "np.testing.assert_almost_equal(y_multi_pred, y_multi_pred_out, decimal=3)\n",
    "print(\"Done. The result of TensorFlow matches the result of TensorFlow Lite.\")"
   ]
  },
  {
   "cell_type": "markdown",
   "metadata": {},
   "source": [
    "#### future days"
   ]
  },
  {
   "cell_type": "code",
   "execution_count": 48,
   "metadata": {},
   "outputs": [
    {
     "name": "stdout",
     "output_type": "stream",
     "text": [
      "status code :  200\n",
      "[[[-0.5582291483879089, -0.599142849445343, -0.621536374092102, -0.5247523188591003, -0.5023804903030396, -0.5513061285018921, -0.5930156707763672]]]\n"
     ]
    }
   ],
   "source": [
    "# prepare input\n",
    "json_list_list_x = prepare_to_lambda_future(dataset)\n",
    "# REQUEST URL_PREDICT = 'https://yl0910jrga.execute-api.us-east-2.amazonaws.com/dev/infer' \n",
    "resp = requests.post(URL_PREDICT, json=json_list_list_x)\n",
    "print(\"status code : \", resp.status_code) \n",
    "print(resp.json())"
   ]
  },
  {
   "cell_type": "code",
   "execution_count": 49,
   "metadata": {},
   "outputs": [
    {
     "data": {
      "text/plain": [
       "array([[-0.55822915, -0.59914285, -0.62153637, -0.52475232, -0.50238049,\n",
       "        -0.55130613, -0.59301567]])"
      ]
     },
     "execution_count": 49,
     "metadata": {},
     "output_type": "execute_result"
    }
   ],
   "source": [
    "y_future_pred_out = retrieve_from_lambda(resp)      \n",
    "y_future_pred_out"
   ]
  },
  {
   "cell_type": "code",
   "execution_count": 50,
   "metadata": {},
   "outputs": [
    {
     "data": {
      "text/plain": [
       "array([[-0.5582291, -0.5991429, -0.6215364, -0.5247523, -0.5023805,\n",
       "        -0.5513061, -0.5930157]], dtype=float32)"
      ]
     },
     "execution_count": 50,
     "metadata": {},
     "output_type": "execute_result"
    }
   ],
   "source": [
    "y_future_pred"
   ]
  },
  {
   "cell_type": "code",
   "execution_count": 51,
   "metadata": {},
   "outputs": [
    {
     "name": "stdout",
     "output_type": "stream",
     "text": [
      "Done. The result of TensorFlow matches the result of TensorFlow Lite.\n"
     ]
    }
   ],
   "source": [
    "# Assert if the result of TFLite model is consistent with the TF model.\n",
    "np.testing.assert_almost_equal(y_future_pred, y_future_pred_out, decimal=3)\n",
    "print(\"Done. The result of TensorFlow matches the result of TensorFlow Lite.\")"
   ]
  },
  {
   "cell_type": "code",
   "execution_count": null,
   "metadata": {},
   "outputs": [],
   "source": []
  }
 ],
 "metadata": {
  "kernelspec": {
   "display_name": "Python 3",
   "language": "python",
   "name": "python3"
  },
  "language_info": {
   "codemirror_mode": {
    "name": "ipython",
    "version": 3
   },
   "file_extension": ".py",
   "mimetype": "text/x-python",
   "name": "python",
   "nbconvert_exporter": "python",
   "pygments_lexer": "ipython3",
   "version": "3.7.6"
  },
  "toc": {
   "base_numbering": 1,
   "nav_menu": {
    "height": "260px",
    "width": "258px"
   },
   "number_sections": true,
   "sideBar": true,
   "skip_h1_title": false,
   "title_cell": "Table of Contents",
   "title_sidebar": "Contents",
   "toc_cell": false,
   "toc_position": {
    "height": "calc(100% - 180px)",
    "left": "10px",
    "top": "150px",
    "width": "205px"
   },
   "toc_section_display": true,
   "toc_window_display": true
  }
 },
 "nbformat": 4,
 "nbformat_minor": 4
}
