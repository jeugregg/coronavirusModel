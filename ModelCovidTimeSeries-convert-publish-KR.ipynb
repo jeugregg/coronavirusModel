{
 "cells": [
  {
   "cell_type": "markdown",
   "metadata": {},
   "source": [
    "# Model South Korea Time Series for COVID: Publish for app\n",
    "\n",
    "This notebook use multistep time serie model  (predicting number of cases future next days).\n",
    "\n",
    "It converts Tensorflow model into TensorFlow Lite to be able to use it in a Lambda fonction on AWS.\n",
    "\n",
    "After that, the lite model is tested and publish on AWS\n",
    "\n",
    "Finally, the lambda function is tested"
   ]
  },
  {
   "cell_type": "markdown",
   "metadata": {},
   "source": [
    "## Convert model in TFlite"
   ]
  },
  {
   "cell_type": "markdown",
   "metadata": {},
   "source": [
    "**IMPORTANT TO DO manually:**\n",
    "- **Update TRAIN_SPLIT in my_helpers.model module**"
   ]
  },
  {
   "cell_type": "markdown",
   "metadata": {},
   "source": [
    "### import"
   ]
  },
  {
   "cell_type": "code",
   "execution_count": 1,
   "metadata": {},
   "outputs": [],
   "source": [
    "# data useful lib\n",
    "import pandas as pd\n",
    "import numpy as np\n",
    "\n",
    "# helper lib\n",
    "import shutil\n",
    "import os, stat\n",
    "import re\n",
    "import datetime\n",
    "import math\n",
    "\n",
    "# read json from http\n",
    "import json\n",
    "import urllib.request\n",
    "\n",
    "# read csv from http\n",
    "import io\n",
    "import requests\n",
    "\n",
    "# model lib\n",
    "import tensorflow as tf\n",
    "\n",
    "# from project\n",
    "from my_helpers.data_plots_kr import load_df_feat_kr\n",
    "from my_helpers.model import prepare_to_lambda, retrieve_from_lambda\n",
    "from my_helpers.model import prepare_to_lambda_future\n",
    "from my_helpers.model import create_list_past_hist, predict_list\n",
    "\n",
    "from my_helpers.model_kr import prepare_data_features_kr\n",
    "from my_helpers.model_kr import prepare_dataset_kr\n",
    "\n",
    "from my_helpers.utils import clean_file\n",
    "\n",
    "import settings"
   ]
  },
  {
   "cell_type": "code",
   "execution_count": 2,
   "metadata": {},
   "outputs": [
    {
     "data": {
      "text/plain": [
       "'2.5.0'"
      ]
     },
     "execution_count": 2,
     "metadata": {},
     "output_type": "execute_result"
    }
   ],
   "source": [
    "tf.__version__"
   ]
  },
  {
   "cell_type": "markdown",
   "metadata": {},
   "source": [
    "### Definitions"
   ]
  },
  {
   "cell_type": "code",
   "execution_count": 3,
   "metadata": {},
   "outputs": [
    {
     "name": "stdout",
     "output_type": "stream",
     "text": [
      "TRAIN_SPLIT = 347\n"
     ]
    }
   ],
   "source": [
    "PATH_TO_SAVE_DATA = settings.PATH_TO_SAVE_DATA\n",
    "\n",
    "from my_helpers.model_kr import PATH_MDL_MULTI_STEP_KR\n",
    "from my_helpers.model_kr import PATH_MDL_MULTI_TFLITE_KR \n",
    "from my_helpers.model_kr import PATH_MDL_MULTI_TFLITE_FILE_KR\n",
    "from my_helpers.model_kr import PATH_SERVERLESS_KR\n",
    "from my_helpers.model_kr import URL_PREDICT_KR\n",
    "from my_helpers.model_kr import PAST_HISTORY # days used to predict next values in future\n",
    "from my_helpers.model_kr import FUTURE_TARGET  # predict 3 days later\n",
    "from my_helpers.model_kr import STEP \n",
    "\n",
    "from my_helpers.data_plots_kr import PATH_DF_FEAT_KR\n",
    "\n",
    "date_format = \"%Y-%m-%d\"\n",
    "\n",
    "#NB_POS_DATE_MIN_DF_FEAT = 140227 # on 12/05/2020\n",
    "\n",
    "# plot\n",
    "NB_DAY_PLOT = FUTURE_TARGET*9\n",
    "\n",
    "# train split\n",
    "from my_helpers.model_kr import TRAIN_SPLIT\n",
    "print(f\"TRAIN_SPLIT = {TRAIN_SPLIT}\")\n"
   ]
  },
  {
   "cell_type": "markdown",
   "metadata": {},
   "source": [
    "### helper functions"
   ]
  },
  {
   "cell_type": "markdown",
   "metadata": {},
   "source": [
    "### load data"
   ]
  },
  {
   "cell_type": "code",
   "execution_count": 4,
   "metadata": {},
   "outputs": [
    {
     "data": {
      "text/html": [
       "<div>\n",
       "<style scoped>\n",
       "    .dataframe tbody tr th:only-of-type {\n",
       "        vertical-align: middle;\n",
       "    }\n",
       "\n",
       "    .dataframe tbody tr th {\n",
       "        vertical-align: top;\n",
       "    }\n",
       "\n",
       "    .dataframe thead th {\n",
       "        text-align: right;\n",
       "    }\n",
       "</style>\n",
       "<table border=\"1\" class=\"dataframe\">\n",
       "  <thead>\n",
       "    <tr style=\"text-align: right;\">\n",
       "      <th></th>\n",
       "      <th>nb_cases</th>\n",
       "      <th>nb_tests</th>\n",
       "      <th>nb_deaths</th>\n",
       "      <th>date</th>\n",
       "      <th>day_num</th>\n",
       "      <th>Jeju</th>\n",
       "      <th>Gyeongnam</th>\n",
       "      <th>Gyeongbuk</th>\n",
       "      <th>Jeonnam</th>\n",
       "      <th>Jeonbuk</th>\n",
       "      <th>...</th>\n",
       "      <th>Rt_Jeonbuk</th>\n",
       "      <th>sum_Jeonnam</th>\n",
       "      <th>Rt_Jeonnam</th>\n",
       "      <th>sum_Gyeongbuk</th>\n",
       "      <th>Rt_Gyeongbuk</th>\n",
       "      <th>sum_Gyeongnam</th>\n",
       "      <th>Rt_Gyeongnam</th>\n",
       "      <th>sum_Jeju</th>\n",
       "      <th>Rt_Jeju</th>\n",
       "      <th>train</th>\n",
       "    </tr>\n",
       "    <tr>\n",
       "      <th>date</th>\n",
       "      <th></th>\n",
       "      <th></th>\n",
       "      <th></th>\n",
       "      <th></th>\n",
       "      <th></th>\n",
       "      <th></th>\n",
       "      <th></th>\n",
       "      <th></th>\n",
       "      <th></th>\n",
       "      <th></th>\n",
       "      <th></th>\n",
       "      <th></th>\n",
       "      <th></th>\n",
       "      <th></th>\n",
       "      <th></th>\n",
       "      <th></th>\n",
       "      <th></th>\n",
       "      <th></th>\n",
       "      <th></th>\n",
       "      <th></th>\n",
       "      <th></th>\n",
       "    </tr>\n",
       "  </thead>\n",
       "  <tbody>\n",
       "    <tr>\n",
       "      <th>2020-04-03</th>\n",
       "      <td>10062.0</td>\n",
       "      <td>424365.0</td>\n",
       "      <td>174.0</td>\n",
       "      <td>2020-04-03</td>\n",
       "      <td>5.0</td>\n",
       "      <td>0.0</td>\n",
       "      <td>1.0</td>\n",
       "      <td>5.0</td>\n",
       "      <td>1.0</td>\n",
       "      <td>1.0</td>\n",
       "      <td>...</td>\n",
       "      <td>5.000000</td>\n",
       "      <td>10.0</td>\n",
       "      <td>inf</td>\n",
       "      <td>106.0</td>\n",
       "      <td>4.240000</td>\n",
       "      <td>20.0</td>\n",
       "      <td>20.000000</td>\n",
       "      <td>5.0</td>\n",
       "      <td>inf</td>\n",
       "      <td>True</td>\n",
       "    </tr>\n",
       "    <tr>\n",
       "      <th>2020-04-04</th>\n",
       "      <td>10156.0</td>\n",
       "      <td>434888.0</td>\n",
       "      <td>177.0</td>\n",
       "      <td>2020-04-04</td>\n",
       "      <td>6.0</td>\n",
       "      <td>0.0</td>\n",
       "      <td>1.0</td>\n",
       "      <td>1.0</td>\n",
       "      <td>0.0</td>\n",
       "      <td>0.0</td>\n",
       "      <td>...</td>\n",
       "      <td>5.000000</td>\n",
       "      <td>10.0</td>\n",
       "      <td>inf</td>\n",
       "      <td>67.0</td>\n",
       "      <td>1.030769</td>\n",
       "      <td>21.0</td>\n",
       "      <td>21.000000</td>\n",
       "      <td>5.0</td>\n",
       "      <td>inf</td>\n",
       "      <td>True</td>\n",
       "    </tr>\n",
       "    <tr>\n",
       "      <th>2020-04-05</th>\n",
       "      <td>10237.0</td>\n",
       "      <td>441662.0</td>\n",
       "      <td>183.0</td>\n",
       "      <td>2020-04-05</td>\n",
       "      <td>0.0</td>\n",
       "      <td>3.0</td>\n",
       "      <td>1.0</td>\n",
       "      <td>4.0</td>\n",
       "      <td>0.0</td>\n",
       "      <td>1.0</td>\n",
       "      <td>...</td>\n",
       "      <td>6.000000</td>\n",
       "      <td>9.0</td>\n",
       "      <td>9.000000</td>\n",
       "      <td>60.0</td>\n",
       "      <td>0.789474</td>\n",
       "      <td>21.0</td>\n",
       "      <td>10.500000</td>\n",
       "      <td>8.0</td>\n",
       "      <td>inf</td>\n",
       "      <td>True</td>\n",
       "    </tr>\n",
       "    <tr>\n",
       "      <th>2020-04-06</th>\n",
       "      <td>10284.0</td>\n",
       "      <td>447509.0</td>\n",
       "      <td>186.0</td>\n",
       "      <td>2020-04-06</td>\n",
       "      <td>1.0</td>\n",
       "      <td>0.0</td>\n",
       "      <td>2.0</td>\n",
       "      <td>2.0</td>\n",
       "      <td>0.0</td>\n",
       "      <td>0.0</td>\n",
       "      <td>...</td>\n",
       "      <td>6.000000</td>\n",
       "      <td>9.0</td>\n",
       "      <td>9.000000</td>\n",
       "      <td>60.0</td>\n",
       "      <td>0.769231</td>\n",
       "      <td>22.0</td>\n",
       "      <td>7.333333</td>\n",
       "      <td>8.0</td>\n",
       "      <td>inf</td>\n",
       "      <td>True</td>\n",
       "    </tr>\n",
       "    <tr>\n",
       "      <th>2020-04-07</th>\n",
       "      <td>10331.0</td>\n",
       "      <td>456654.0</td>\n",
       "      <td>192.0</td>\n",
       "      <td>2020-04-07</td>\n",
       "      <td>2.0</td>\n",
       "      <td>0.0</td>\n",
       "      <td>1.0</td>\n",
       "      <td>1.0</td>\n",
       "      <td>0.0</td>\n",
       "      <td>0.0</td>\n",
       "      <td>...</td>\n",
       "      <td>6.000000</td>\n",
       "      <td>9.0</td>\n",
       "      <td>9.000000</td>\n",
       "      <td>60.0</td>\n",
       "      <td>0.759494</td>\n",
       "      <td>22.0</td>\n",
       "      <td>5.500000</td>\n",
       "      <td>8.0</td>\n",
       "      <td>inf</td>\n",
       "      <td>True</td>\n",
       "    </tr>\n",
       "    <tr>\n",
       "      <th>...</th>\n",
       "      <td>...</td>\n",
       "      <td>...</td>\n",
       "      <td>...</td>\n",
       "      <td>...</td>\n",
       "      <td>...</td>\n",
       "      <td>...</td>\n",
       "      <td>...</td>\n",
       "      <td>...</td>\n",
       "      <td>...</td>\n",
       "      <td>...</td>\n",
       "      <td>...</td>\n",
       "      <td>...</td>\n",
       "      <td>...</td>\n",
       "      <td>...</td>\n",
       "      <td>...</td>\n",
       "      <td>...</td>\n",
       "      <td>...</td>\n",
       "      <td>...</td>\n",
       "      <td>...</td>\n",
       "      <td>...</td>\n",
       "      <td>...</td>\n",
       "    </tr>\n",
       "    <tr>\n",
       "      <th>2021-06-06</th>\n",
       "      <td>144152.0</td>\n",
       "      <td>9823232.0</td>\n",
       "      <td>1973.0</td>\n",
       "      <td>2021-06-06</td>\n",
       "      <td>0.0</td>\n",
       "      <td>19.0</td>\n",
       "      <td>17.0</td>\n",
       "      <td>10.0</td>\n",
       "      <td>9.0</td>\n",
       "      <td>0.0</td>\n",
       "      <td>...</td>\n",
       "      <td>0.554217</td>\n",
       "      <td>128.0</td>\n",
       "      <td>0.558952</td>\n",
       "      <td>162.0</td>\n",
       "      <td>0.589091</td>\n",
       "      <td>269.0</td>\n",
       "      <td>0.838006</td>\n",
       "      <td>203.0</td>\n",
       "      <td>1.362416</td>\n",
       "      <td>False</td>\n",
       "    </tr>\n",
       "    <tr>\n",
       "      <th>2021-06-07</th>\n",
       "      <td>144637.0</td>\n",
       "      <td>9835771.0</td>\n",
       "      <td>1974.0</td>\n",
       "      <td>2021-06-07</td>\n",
       "      <td>1.0</td>\n",
       "      <td>13.0</td>\n",
       "      <td>28.0</td>\n",
       "      <td>9.0</td>\n",
       "      <td>3.0</td>\n",
       "      <td>3.0</td>\n",
       "      <td>...</td>\n",
       "      <td>0.565217</td>\n",
       "      <td>117.0</td>\n",
       "      <td>0.500000</td>\n",
       "      <td>159.0</td>\n",
       "      <td>0.593284</td>\n",
       "      <td>280.0</td>\n",
       "      <td>0.869565</td>\n",
       "      <td>197.0</td>\n",
       "      <td>1.279221</td>\n",
       "      <td>False</td>\n",
       "    </tr>\n",
       "    <tr>\n",
       "      <th>2021-06-08</th>\n",
       "      <td>145090.0</td>\n",
       "      <td>9869323.0</td>\n",
       "      <td>1975.0</td>\n",
       "      <td>2021-06-08</td>\n",
       "      <td>2.0</td>\n",
       "      <td>8.0</td>\n",
       "      <td>48.0</td>\n",
       "      <td>7.0</td>\n",
       "      <td>8.0</td>\n",
       "      <td>4.0</td>\n",
       "      <td>...</td>\n",
       "      <td>0.584416</td>\n",
       "      <td>118.0</td>\n",
       "      <td>0.510823</td>\n",
       "      <td>154.0</td>\n",
       "      <td>0.581132</td>\n",
       "      <td>314.0</td>\n",
       "      <td>0.963190</td>\n",
       "      <td>188.0</td>\n",
       "      <td>1.278912</td>\n",
       "      <td>False</td>\n",
       "    </tr>\n",
       "    <tr>\n",
       "      <th>2021-06-09</th>\n",
       "      <td>145692.0</td>\n",
       "      <td>9913359.0</td>\n",
       "      <td>1977.0</td>\n",
       "      <td>2021-06-09</td>\n",
       "      <td>3.0</td>\n",
       "      <td>7.0</td>\n",
       "      <td>39.0</td>\n",
       "      <td>13.0</td>\n",
       "      <td>6.0</td>\n",
       "      <td>6.0</td>\n",
       "      <td>...</td>\n",
       "      <td>0.652174</td>\n",
       "      <td>113.0</td>\n",
       "      <td>0.502222</td>\n",
       "      <td>158.0</td>\n",
       "      <td>0.591760</td>\n",
       "      <td>333.0</td>\n",
       "      <td>1.009091</td>\n",
       "      <td>189.0</td>\n",
       "      <td>1.350000</td>\n",
       "      <td>False</td>\n",
       "    </tr>\n",
       "    <tr>\n",
       "      <th>2021-06-10</th>\n",
       "      <td>146303.0</td>\n",
       "      <td>9946535.0</td>\n",
       "      <td>1979.0</td>\n",
       "      <td>2021-06-10</td>\n",
       "      <td>4.0</td>\n",
       "      <td>10.0</td>\n",
       "      <td>33.0</td>\n",
       "      <td>11.0</td>\n",
       "      <td>4.0</td>\n",
       "      <td>2.0</td>\n",
       "      <td>...</td>\n",
       "      <td>0.641791</td>\n",
       "      <td>101.0</td>\n",
       "      <td>0.441048</td>\n",
       "      <td>157.0</td>\n",
       "      <td>0.613281</td>\n",
       "      <td>348.0</td>\n",
       "      <td>1.101266</td>\n",
       "      <td>173.0</td>\n",
       "      <td>1.101911</td>\n",
       "      <td>False</td>\n",
       "    </tr>\n",
       "  </tbody>\n",
       "</table>\n",
       "<p>434 rows × 88 columns</p>\n",
       "</div>"
      ],
      "text/plain": [
       "            nb_cases   nb_tests  nb_deaths        date  day_num  Jeju  \\\n",
       "date                                                                    \n",
       "2020-04-03   10062.0   424365.0      174.0  2020-04-03      5.0   0.0   \n",
       "2020-04-04   10156.0   434888.0      177.0  2020-04-04      6.0   0.0   \n",
       "2020-04-05   10237.0   441662.0      183.0  2020-04-05      0.0   3.0   \n",
       "2020-04-06   10284.0   447509.0      186.0  2020-04-06      1.0   0.0   \n",
       "2020-04-07   10331.0   456654.0      192.0  2020-04-07      2.0   0.0   \n",
       "...              ...        ...        ...         ...      ...   ...   \n",
       "2021-06-06  144152.0  9823232.0     1973.0  2021-06-06      0.0  19.0   \n",
       "2021-06-07  144637.0  9835771.0     1974.0  2021-06-07      1.0  13.0   \n",
       "2021-06-08  145090.0  9869323.0     1975.0  2021-06-08      2.0   8.0   \n",
       "2021-06-09  145692.0  9913359.0     1977.0  2021-06-09      3.0   7.0   \n",
       "2021-06-10  146303.0  9946535.0     1979.0  2021-06-10      4.0  10.0   \n",
       "\n",
       "            Gyeongnam  Gyeongbuk  Jeonnam  Jeonbuk  ...  Rt_Jeonbuk  \\\n",
       "date                                                ...               \n",
       "2020-04-03        1.0        5.0      1.0      1.0  ...    5.000000   \n",
       "2020-04-04        1.0        1.0      0.0      0.0  ...    5.000000   \n",
       "2020-04-05        1.0        4.0      0.0      1.0  ...    6.000000   \n",
       "2020-04-06        2.0        2.0      0.0      0.0  ...    6.000000   \n",
       "2020-04-07        1.0        1.0      0.0      0.0  ...    6.000000   \n",
       "...               ...        ...      ...      ...  ...         ...   \n",
       "2021-06-06       17.0       10.0      9.0      0.0  ...    0.554217   \n",
       "2021-06-07       28.0        9.0      3.0      3.0  ...    0.565217   \n",
       "2021-06-08       48.0        7.0      8.0      4.0  ...    0.584416   \n",
       "2021-06-09       39.0       13.0      6.0      6.0  ...    0.652174   \n",
       "2021-06-10       33.0       11.0      4.0      2.0  ...    0.641791   \n",
       "\n",
       "            sum_Jeonnam  Rt_Jeonnam  sum_Gyeongbuk  Rt_Gyeongbuk  \\\n",
       "date                                                               \n",
       "2020-04-03         10.0         inf          106.0      4.240000   \n",
       "2020-04-04         10.0         inf           67.0      1.030769   \n",
       "2020-04-05          9.0    9.000000           60.0      0.789474   \n",
       "2020-04-06          9.0    9.000000           60.0      0.769231   \n",
       "2020-04-07          9.0    9.000000           60.0      0.759494   \n",
       "...                 ...         ...            ...           ...   \n",
       "2021-06-06        128.0    0.558952          162.0      0.589091   \n",
       "2021-06-07        117.0    0.500000          159.0      0.593284   \n",
       "2021-06-08        118.0    0.510823          154.0      0.581132   \n",
       "2021-06-09        113.0    0.502222          158.0      0.591760   \n",
       "2021-06-10        101.0    0.441048          157.0      0.613281   \n",
       "\n",
       "            sum_Gyeongnam  Rt_Gyeongnam  sum_Jeju   Rt_Jeju  train  \n",
       "date                                                                \n",
       "2020-04-03           20.0     20.000000       5.0       inf   True  \n",
       "2020-04-04           21.0     21.000000       5.0       inf   True  \n",
       "2020-04-05           21.0     10.500000       8.0       inf   True  \n",
       "2020-04-06           22.0      7.333333       8.0       inf   True  \n",
       "2020-04-07           22.0      5.500000       8.0       inf   True  \n",
       "...                   ...           ...       ...       ...    ...  \n",
       "2021-06-06          269.0      0.838006     203.0  1.362416  False  \n",
       "2021-06-07          280.0      0.869565     197.0  1.279221  False  \n",
       "2021-06-08          314.0      0.963190     188.0  1.278912  False  \n",
       "2021-06-09          333.0      1.009091     189.0  1.350000  False  \n",
       "2021-06-10          348.0      1.101266     173.0  1.101911  False  \n",
       "\n",
       "[434 rows x 88 columns]"
      ]
     },
     "execution_count": 4,
     "metadata": {},
     "output_type": "execute_result"
    }
   ],
   "source": [
    "# load\n",
    "df_feat_kr = load_df_feat_kr()\n",
    "# clean\n",
    "df_feat_kr = prepare_data_features_kr(df_feat_kr)\n",
    "# split train/test\n",
    "df_feat_kr[\"train\"] = [True if I <= TRAIN_SPLIT else False \\\n",
    "                       for I in range(df_feat_kr.shape[0])]\n",
    "df_feat_kr"
   ]
  },
  {
   "cell_type": "code",
   "execution_count": 5,
   "metadata": {},
   "outputs": [
    {
     "data": {
      "text/html": [
       "<div>\n",
       "<style scoped>\n",
       "    .dataframe tbody tr th:only-of-type {\n",
       "        vertical-align: middle;\n",
       "    }\n",
       "\n",
       "    .dataframe tbody tr th {\n",
       "        vertical-align: top;\n",
       "    }\n",
       "\n",
       "    .dataframe thead th {\n",
       "        text-align: right;\n",
       "    }\n",
       "</style>\n",
       "<table border=\"1\" class=\"dataframe\">\n",
       "  <thead>\n",
       "    <tr style=\"text-align: right;\">\n",
       "      <th></th>\n",
       "      <th>nb_cases</th>\n",
       "      <th>nb_tests</th>\n",
       "      <th>nb_deaths</th>\n",
       "      <th>date</th>\n",
       "      <th>day_num</th>\n",
       "      <th>Jeju</th>\n",
       "      <th>Gyeongnam</th>\n",
       "      <th>Gyeongbuk</th>\n",
       "      <th>Jeonnam</th>\n",
       "      <th>Jeonbuk</th>\n",
       "      <th>...</th>\n",
       "      <th>Rt_Jeonbuk</th>\n",
       "      <th>sum_Jeonnam</th>\n",
       "      <th>Rt_Jeonnam</th>\n",
       "      <th>sum_Gyeongbuk</th>\n",
       "      <th>Rt_Gyeongbuk</th>\n",
       "      <th>sum_Gyeongnam</th>\n",
       "      <th>Rt_Gyeongnam</th>\n",
       "      <th>sum_Jeju</th>\n",
       "      <th>Rt_Jeju</th>\n",
       "      <th>train</th>\n",
       "    </tr>\n",
       "    <tr>\n",
       "      <th>date</th>\n",
       "      <th></th>\n",
       "      <th></th>\n",
       "      <th></th>\n",
       "      <th></th>\n",
       "      <th></th>\n",
       "      <th></th>\n",
       "      <th></th>\n",
       "      <th></th>\n",
       "      <th></th>\n",
       "      <th></th>\n",
       "      <th></th>\n",
       "      <th></th>\n",
       "      <th></th>\n",
       "      <th></th>\n",
       "      <th></th>\n",
       "      <th></th>\n",
       "      <th></th>\n",
       "      <th></th>\n",
       "      <th></th>\n",
       "      <th></th>\n",
       "      <th></th>\n",
       "    </tr>\n",
       "  </thead>\n",
       "  <tbody>\n",
       "    <tr>\n",
       "      <th>2021-03-17</th>\n",
       "      <td>96839.0</td>\n",
       "      <td>7088038.0</td>\n",
       "      <td>1686.0</td>\n",
       "      <td>2021-03-17</td>\n",
       "      <td>3.0</td>\n",
       "      <td>1.0</td>\n",
       "      <td>45.0</td>\n",
       "      <td>4.0</td>\n",
       "      <td>0.0</td>\n",
       "      <td>21.0</td>\n",
       "      <td>...</td>\n",
       "      <td>0.767241</td>\n",
       "      <td>34.0</td>\n",
       "      <td>0.453333</td>\n",
       "      <td>102.0</td>\n",
       "      <td>0.573034</td>\n",
       "      <td>350.0</td>\n",
       "      <td>4.605263</td>\n",
       "      <td>33.0</td>\n",
       "      <td>1.064516</td>\n",
       "      <td>False</td>\n",
       "    </tr>\n",
       "    <tr>\n",
       "      <th>2021-03-18</th>\n",
       "      <td>97284.0</td>\n",
       "      <td>7128355.0</td>\n",
       "      <td>1688.0</td>\n",
       "      <td>2021-03-18</td>\n",
       "      <td>4.0</td>\n",
       "      <td>2.0</td>\n",
       "      <td>35.0</td>\n",
       "      <td>5.0</td>\n",
       "      <td>0.0</td>\n",
       "      <td>15.0</td>\n",
       "      <td>...</td>\n",
       "      <td>0.844828</td>\n",
       "      <td>33.0</td>\n",
       "      <td>0.458333</td>\n",
       "      <td>100.0</td>\n",
       "      <td>0.617284</td>\n",
       "      <td>375.0</td>\n",
       "      <td>4.746835</td>\n",
       "      <td>32.0</td>\n",
       "      <td>1.103448</td>\n",
       "      <td>False</td>\n",
       "    </tr>\n",
       "    <tr>\n",
       "      <th>2021-03-19</th>\n",
       "      <td>97747.0</td>\n",
       "      <td>7176590.0</td>\n",
       "      <td>1690.0</td>\n",
       "      <td>2021-03-19</td>\n",
       "      <td>5.0</td>\n",
       "      <td>0.0</td>\n",
       "      <td>42.0</td>\n",
       "      <td>4.0</td>\n",
       "      <td>0.0</td>\n",
       "      <td>15.0</td>\n",
       "      <td>...</td>\n",
       "      <td>0.948276</td>\n",
       "      <td>33.0</td>\n",
       "      <td>0.532258</td>\n",
       "      <td>98.0</td>\n",
       "      <td>0.671233</td>\n",
       "      <td>414.0</td>\n",
       "      <td>5.671233</td>\n",
       "      <td>30.0</td>\n",
       "      <td>1.071429</td>\n",
       "      <td>False</td>\n",
       "    </tr>\n",
       "    <tr>\n",
       "      <th>2021-03-20</th>\n",
       "      <td>98194.0</td>\n",
       "      <td>7215917.0</td>\n",
       "      <td>1693.0</td>\n",
       "      <td>2021-03-20</td>\n",
       "      <td>6.0</td>\n",
       "      <td>1.0</td>\n",
       "      <td>31.0</td>\n",
       "      <td>11.0</td>\n",
       "      <td>0.0</td>\n",
       "      <td>16.0</td>\n",
       "      <td>...</td>\n",
       "      <td>1.089286</td>\n",
       "      <td>30.0</td>\n",
       "      <td>0.545455</td>\n",
       "      <td>96.0</td>\n",
       "      <td>0.685714</td>\n",
       "      <td>440.0</td>\n",
       "      <td>6.285714</td>\n",
       "      <td>26.0</td>\n",
       "      <td>0.838710</td>\n",
       "      <td>False</td>\n",
       "    </tr>\n",
       "    <tr>\n",
       "      <th>2021-03-21</th>\n",
       "      <td>98650.0</td>\n",
       "      <td>7234391.0</td>\n",
       "      <td>1696.0</td>\n",
       "      <td>2021-03-21</td>\n",
       "      <td>0.0</td>\n",
       "      <td>1.0</td>\n",
       "      <td>54.0</td>\n",
       "      <td>5.0</td>\n",
       "      <td>0.0</td>\n",
       "      <td>11.0</td>\n",
       "      <td>...</td>\n",
       "      <td>1.174312</td>\n",
       "      <td>24.0</td>\n",
       "      <td>0.452830</td>\n",
       "      <td>88.0</td>\n",
       "      <td>0.602740</td>\n",
       "      <td>491.0</td>\n",
       "      <td>7.439394</td>\n",
       "      <td>23.0</td>\n",
       "      <td>0.718750</td>\n",
       "      <td>False</td>\n",
       "    </tr>\n",
       "  </tbody>\n",
       "</table>\n",
       "<p>5 rows × 88 columns</p>\n",
       "</div>"
      ],
      "text/plain": [
       "            nb_cases   nb_tests  nb_deaths        date  day_num  Jeju  \\\n",
       "date                                                                    \n",
       "2021-03-17   96839.0  7088038.0     1686.0  2021-03-17      3.0   1.0   \n",
       "2021-03-18   97284.0  7128355.0     1688.0  2021-03-18      4.0   2.0   \n",
       "2021-03-19   97747.0  7176590.0     1690.0  2021-03-19      5.0   0.0   \n",
       "2021-03-20   98194.0  7215917.0     1693.0  2021-03-20      6.0   1.0   \n",
       "2021-03-21   98650.0  7234391.0     1696.0  2021-03-21      0.0   1.0   \n",
       "\n",
       "            Gyeongnam  Gyeongbuk  Jeonnam  Jeonbuk  ...  Rt_Jeonbuk  \\\n",
       "date                                                ...               \n",
       "2021-03-17       45.0        4.0      0.0     21.0  ...    0.767241   \n",
       "2021-03-18       35.0        5.0      0.0     15.0  ...    0.844828   \n",
       "2021-03-19       42.0        4.0      0.0     15.0  ...    0.948276   \n",
       "2021-03-20       31.0       11.0      0.0     16.0  ...    1.089286   \n",
       "2021-03-21       54.0        5.0      0.0     11.0  ...    1.174312   \n",
       "\n",
       "            sum_Jeonnam  Rt_Jeonnam  sum_Gyeongbuk  Rt_Gyeongbuk  \\\n",
       "date                                                               \n",
       "2021-03-17         34.0    0.453333          102.0      0.573034   \n",
       "2021-03-18         33.0    0.458333          100.0      0.617284   \n",
       "2021-03-19         33.0    0.532258           98.0      0.671233   \n",
       "2021-03-20         30.0    0.545455           96.0      0.685714   \n",
       "2021-03-21         24.0    0.452830           88.0      0.602740   \n",
       "\n",
       "            sum_Gyeongnam  Rt_Gyeongnam  sum_Jeju   Rt_Jeju  train  \n",
       "date                                                                \n",
       "2021-03-17          350.0      4.605263      33.0  1.064516  False  \n",
       "2021-03-18          375.0      4.746835      32.0  1.103448  False  \n",
       "2021-03-19          414.0      5.671233      30.0  1.071429  False  \n",
       "2021-03-20          440.0      6.285714      26.0  0.838710  False  \n",
       "2021-03-21          491.0      7.439394      23.0  0.718750  False  \n",
       "\n",
       "[5 rows x 88 columns]"
      ]
     },
     "execution_count": 5,
     "metadata": {},
     "output_type": "execute_result"
    }
   ],
   "source": [
    "df_feat_kr[df_feat_kr[\"train\"] == False].head(5)"
   ]
  },
  {
   "cell_type": "markdown",
   "metadata": {},
   "source": [
    "### Prepare dataset"
   ]
  },
  {
   "cell_type": "code",
   "execution_count": 6,
   "metadata": {},
   "outputs": [
    {
     "name": "stdout",
     "output_type": "stream",
     "text": [
      "[[-0.43842911 -0.03335956 -1.13417801 ... -0.54278014  0.99641704\n",
      "  -0.36171153]\n",
      " [-0.43518827 -0.12215801 -1.30377381 ... -0.54175984  1.49462556\n",
      "  -0.36171153]\n",
      " [-0.69121488 -0.47024795 -1.81069496 ... -0.78082929 -1.49462556\n",
      "  -0.36171153]\n",
      " ...\n",
      " [ 0.93244756  1.18850717  0.0758542  ...  0.92677324 -0.49820852\n",
      "  -0.64043942]\n",
      " [ 0.92920672  1.36610408 -0.46955843 ...  1.59532597  0.\n",
      "  -0.53435665]\n",
      " [ 0.96161515  1.04998158  0.24964907 ...  0.90279615  0.49820852\n",
      "  -0.5718529 ]]\n",
      "data_mean :  [9.74274736e+00 1.91463977e+01 6.28461287e+01 1.83575408e+01\n",
      " 2.47927954e+02 1.90186801e+04 3.00000000e+00 4.41442174e+01]\n",
      "data_std :  [1.02853891e+01 9.38454775e+00 1.42888758e+01 6.26324047e+00\n",
      " 3.18936079e+02 1.56816352e+04 2.00719168e+00 6.20951246e+00]\n"
     ]
    }
   ],
   "source": [
    "dataset, data_std, data_mean = prepare_dataset_kr(df_feat_kr)\n",
    "print(dataset)\n",
    "print(\"data_mean : \", data_mean)\n",
    "print(\"data_std : \", data_std)"
   ]
  },
  {
   "cell_type": "code",
   "execution_count": 7,
   "metadata": {},
   "outputs": [
    {
     "data": {
      "text/plain": [
       "8"
      ]
     },
     "execution_count": 7,
     "metadata": {},
     "output_type": "execute_result"
    }
   ],
   "source": [
    "dataset.shape[1]"
   ]
  },
  {
   "cell_type": "code",
   "execution_count": 8,
   "metadata": {},
   "outputs": [
    {
     "data": {
      "text/plain": [
       "14"
      ]
     },
     "execution_count": 8,
     "metadata": {},
     "output_type": "execute_result"
    }
   ],
   "source": [
    "PAST_HISTORY"
   ]
  },
  {
   "cell_type": "code",
   "execution_count": 9,
   "metadata": {},
   "outputs": [
    {
     "data": {
      "text/plain": [
       "8"
      ]
     },
     "execution_count": 9,
     "metadata": {},
     "output_type": "execute_result"
    }
   ],
   "source": [
    "dataset.shape[1]"
   ]
  },
  {
   "cell_type": "markdown",
   "metadata": {},
   "source": [
    "### Load model"
   ]
  },
  {
   "cell_type": "code",
   "execution_count": 10,
   "metadata": {},
   "outputs": [
    {
     "name": "stdout",
     "output_type": "stream",
     "text": [
      "WARNING:tensorflow:SavedModel saved prior to TF 2.5 detected when loading Keras model. Please ensure that you are saving the model with model.save() or tf.keras.models.save_model(), *NOT* tf.saved_model.save(). To confirm, there should be a file named \"keras_metadata.pb\" in the SavedModel directory.\n",
      "CPU times: user 1.61 s, sys: 93.3 ms, total: 1.7 s\n",
      "Wall time: 1.85 s\n"
     ]
    }
   ],
   "source": [
    "%%time\n",
    "# reload best model\n",
    "multi_step_model = tf.keras.models.load_model(PATH_MDL_MULTI_STEP_KR)"
   ]
  },
  {
   "cell_type": "code",
   "execution_count": 11,
   "metadata": {},
   "outputs": [
    {
     "data": {
      "text/plain": [
       "tf.float32"
      ]
     },
     "execution_count": 11,
     "metadata": {},
     "output_type": "execute_result"
    }
   ],
   "source": [
    "multi_step_model.inputs[0].dtype"
   ]
  },
  {
   "cell_type": "code",
   "execution_count": 12,
   "metadata": {
    "scrolled": false
   },
   "outputs": [
    {
     "name": "stdout",
     "output_type": "stream",
     "text": [
      "INFO:tensorflow:Assets written to: /Users/gregory/Documents/CloudStationSinchon/Applications/python/CoronaVirus/code/coronavirusModel/keras_lstm/assets\n"
     ]
    }
   ],
   "source": [
    "run_model = tf.function(lambda x: multi_step_model(x))\n",
    "# This is important, let's fix the input size.\n",
    "INPUT_SIZE = dataset.shape[1]\n",
    "concrete_func = run_model.get_concrete_function(\n",
    "    tf.TensorSpec([1, PAST_HISTORY, INPUT_SIZE],\n",
    "                  multi_step_model.inputs[0].dtype))\n",
    "\n",
    "# model directory.\n",
    "MODEL_DIR = PATH_TO_SAVE_DATA + \"/\" + \"keras_lstm\"\n",
    "multi_step_model.save(MODEL_DIR, save_format=\"tf\", signatures=concrete_func)\n",
    "\n",
    "converter = tf.lite.TFLiteConverter.from_saved_model(MODEL_DIR)\n",
    "\n",
    "'''converter.target_spec.supported_ops = [\n",
    "  tf.lite.OpsSet.TFLITE_BUILTINS, # enable TensorFlow Lite ops.\n",
    "  tf.lite.OpsSet.SELECT_TF_OPS # enable TensorFlow ops.\n",
    "]\n",
    "converter.allow_custom_ops=True'''\n",
    "\n",
    "tflite_model = converter.convert()"
   ]
  },
  {
   "cell_type": "markdown",
   "metadata": {},
   "source": [
    "### Save model TFlite"
   ]
  },
  {
   "cell_type": "code",
   "execution_count": 13,
   "metadata": {},
   "outputs": [
    {
     "name": "stdout",
     "output_type": "stream",
     "text": [
      "File /Users/gregory/Documents/CloudStationSinchon/Applications/python/CoronaVirus/code/coronavirusModel/serverless/tensorflow_lite_on_aws_lambda_kr/converted_model_20210618_10_09_55.tflite moved!\n"
     ]
    }
   ],
   "source": [
    "clean_file(PATH_MDL_MULTI_TFLITE_FILE_KR)"
   ]
  },
  {
   "cell_type": "code",
   "execution_count": 14,
   "metadata": {},
   "outputs": [
    {
     "data": {
      "text/plain": [
       "16684"
      ]
     },
     "execution_count": 14,
     "metadata": {},
     "output_type": "execute_result"
    }
   ],
   "source": [
    "open(PATH_MDL_MULTI_TFLITE_FILE_KR, \"wb\").write(tflite_model)"
   ]
  },
  {
   "cell_type": "markdown",
   "metadata": {},
   "source": [
    "## Test converted model"
   ]
  },
  {
   "cell_type": "markdown",
   "metadata": {},
   "source": [
    "### Predict with TF model (not-converted one)"
   ]
  },
  {
   "cell_type": "markdown",
   "metadata": {},
   "source": [
    "#### Past days"
   ]
  },
  {
   "cell_type": "code",
   "execution_count": 15,
   "metadata": {},
   "outputs": [
    {
     "name": "stdout",
     "output_type": "stream",
     "text": [
      "[357 - 371]\n",
      "[364 - 378]\n",
      "[371 - 385]\n",
      "[378 - 392]\n",
      "[385 - 399]\n",
      "[392 - 406]\n",
      "[399 - 413]\n",
      "[406 - 420]\n",
      "[413 - 427]\n",
      "9\n"
     ]
    },
    {
     "data": {
      "text/plain": [
       "array([[613.6644 , 648.78076, 630.8229 , 640.5824 , 560.076  , 589.45905,\n",
       "        589.4885 , 599.4492 , 622.3203 , 612.393  , 620.29285, 561.33026,\n",
       "        582.824  , 582.336  , 700.3687 , 762.6068 , 734.11414, 737.3379 ,\n",
       "        617.61523, 671.828  , 679.07764, 663.67224, 719.06104, 692.5442 ,\n",
       "        695.2577 , 587.1393 , 633.1209 , 638.65125, 616.40076, 664.9818 ,\n",
       "        638.49927, 644.74646, 545.38464, 581.7986 , 582.6671 , 651.83386,\n",
       "        704.9096 , 680.4376 , 685.52637, 574.2683 , 624.26697, 629.7843 ,\n",
       "        595.51013, 612.8972 , 610.70374, 616.7048 , 554.61865, 588.5552 ,\n",
       "        591.2001 , 594.70044, 629.8554 , 613.10626, 618.7514 , 535.37354,\n",
       "        570.31244, 570.8958 , 569.1732 , 584.3329 , 581.26025, 588.7269 ,\n",
       "        530.13   , 559.1876 , 559.6262 ]], dtype=float32)"
      ]
     },
     "execution_count": 15,
     "metadata": {},
     "output_type": "execute_result"
    }
   ],
   "source": [
    "# TENSORFLOW MODEL :\n",
    "# prepare list of past histories\n",
    "list_x = create_list_past_hist(dataset)\n",
    "# predict\n",
    "y_multi_pred = predict_list(list_x, multi_step_model)\n",
    "# convert in positive cases\n",
    "y_pos_pred = (y_multi_pred * data_std[4]) + data_mean[4] \n",
    "y_pos_pred"
   ]
  },
  {
   "cell_type": "markdown",
   "metadata": {},
   "source": [
    "#### Future days"
   ]
  },
  {
   "cell_type": "code",
   "execution_count": 16,
   "metadata": {},
   "outputs": [],
   "source": [
    "# prepare data : very last days\n",
    "x_for_future = np.array([dataset[-PAST_HISTORY:,:]]) \n",
    "# predict next days\n",
    "y_future_pred = multi_step_model.predict(x_for_future)"
   ]
  },
  {
   "cell_type": "markdown",
   "metadata": {},
   "source": [
    "### Predict with TFlite & Compare "
   ]
  },
  {
   "cell_type": "markdown",
   "metadata": {},
   "source": [
    "#### Past days"
   ]
  },
  {
   "cell_type": "code",
   "execution_count": 17,
   "metadata": {},
   "outputs": [
    {
     "name": "stdout",
     "output_type": "stream",
     "text": [
      "Done. The result of TensorFlow matches the result of TensorFlow Lite.\n",
      "Done. The result of TensorFlow matches the result of TensorFlow Lite.\n",
      "Done. The result of TensorFlow matches the result of TensorFlow Lite.\n",
      "Done. The result of TensorFlow matches the result of TensorFlow Lite.\n",
      "Done. The result of TensorFlow matches the result of TensorFlow Lite.\n",
      "Done. The result of TensorFlow matches the result of TensorFlow Lite.\n",
      "Done. The result of TensorFlow matches the result of TensorFlow Lite.\n",
      "Done. The result of TensorFlow matches the result of TensorFlow Lite.\n",
      "Done. The result of TensorFlow matches the result of TensorFlow Lite.\n"
     ]
    }
   ],
   "source": [
    "# CONVERTED LITE MODEL\n",
    "# load \n",
    "interpreter = tf.lite.Interpreter(model_content=tflite_model)\n",
    "\n",
    "# Run the model with TensorFlow Lite\n",
    "interpreter.allocate_tensors()\n",
    "input_details = interpreter.get_input_details()\n",
    "output_details = interpreter.get_output_details()\n",
    "\n",
    "# check if same results \n",
    "for x_multi in list_x:\n",
    "    # predict with tensorflow model\n",
    "    expected = multi_step_model.predict(x_multi)\n",
    "    # predict with TFlite model\n",
    "    interpreter.set_tensor(input_details[0][\"index\"], \n",
    "                           x_multi.astype(np.float32))\n",
    "    interpreter.invoke()\n",
    "    result = interpreter.get_tensor(output_details[0][\"index\"])\n",
    "\n",
    "    # Assert if the result of TFLite model is consistent with the TF model.\n",
    "    np.testing.assert_almost_equal(expected, result, decimal=3)\n",
    "    print(\"Done. The result of TensorFlow matches the result of TensorFlow Lite.\")\n",
    "\n",
    "    # Please note: TfLite fused Lstm kernel is stateful, so we need to reset\n",
    "    # the states.\n",
    "    # Clean up internal states.\n",
    "    interpreter.reset_all_variables()"
   ]
  },
  {
   "cell_type": "markdown",
   "metadata": {},
   "source": [
    "### Reload Tlite model"
   ]
  },
  {
   "cell_type": "code",
   "execution_count": 18,
   "metadata": {},
   "outputs": [],
   "source": [
    "interpreter = tf.lite.Interpreter(model_path=PATH_MDL_MULTI_TFLITE_FILE_KR)"
   ]
  },
  {
   "cell_type": "code",
   "execution_count": 19,
   "metadata": {},
   "outputs": [
    {
     "data": {
      "text/plain": [
       "'/Users/gregory/Documents/CloudStationSinchon/Applications/python/CoronaVirus/code/coronavirusModel/serverless/tensorflow_lite_on_aws_lambda_kr/converted_model.tflite'"
      ]
     },
     "execution_count": 19,
     "metadata": {},
     "output_type": "execute_result"
    }
   ],
   "source": [
    "PATH_MDL_MULTI_TFLITE_FILE_KR"
   ]
  },
  {
   "cell_type": "markdown",
   "metadata": {},
   "source": [
    "### Predict reloaded model"
   ]
  },
  {
   "cell_type": "markdown",
   "metadata": {},
   "source": [
    "#### Past days"
   ]
  },
  {
   "cell_type": "code",
   "execution_count": 20,
   "metadata": {},
   "outputs": [
    {
     "name": "stdout",
     "output_type": "stream",
     "text": [
      "Done. The result of TensorFlow matches the result of TensorFlow Lite.\n",
      "Done. The result of TensorFlow matches the result of TensorFlow Lite.\n",
      "Done. The result of TensorFlow matches the result of TensorFlow Lite.\n",
      "Done. The result of TensorFlow matches the result of TensorFlow Lite.\n",
      "Done. The result of TensorFlow matches the result of TensorFlow Lite.\n",
      "Done. The result of TensorFlow matches the result of TensorFlow Lite.\n",
      "Done. The result of TensorFlow matches the result of TensorFlow Lite.\n",
      "Done. The result of TensorFlow matches the result of TensorFlow Lite.\n",
      "Done. The result of TensorFlow matches the result of TensorFlow Lite.\n"
     ]
    }
   ],
   "source": [
    "# Run the model with TensorFlow Lite\n",
    "interpreter.allocate_tensors()\n",
    "input_details = interpreter.get_input_details()\n",
    "output_details = interpreter.get_output_details()\n",
    "\n",
    "# check if same results \n",
    "for x_multi in list_x:\n",
    "    \n",
    "    expected = multi_step_model.predict(x_multi)\n",
    "    \n",
    "    interpreter.set_tensor(input_details[0][\"index\"], \n",
    "                           x_multi.astype(np.float32))\n",
    "    interpreter.invoke()\n",
    "    result = interpreter.get_tensor(output_details[0][\"index\"])\n",
    "\n",
    "    # Assert if the result of TFLite model is consistent with the TF model.\n",
    "    np.testing.assert_almost_equal(expected, result, decimal=3)\n",
    "    print(\"Done. The result of TensorFlow matches the result of TensorFlow Lite.\")\n",
    "\n",
    "    # Please note: TfLite fused Lstm kernel is stateful, so we need to reset\n",
    "    # the states.\n",
    "    # Clean up internal states.\n",
    "    interpreter.reset_all_variables()"
   ]
  },
  {
   "cell_type": "code",
   "execution_count": 21,
   "metadata": {},
   "outputs": [
    {
     "data": {
      "text/plain": [
       "(1, 14, 8)"
      ]
     },
     "execution_count": 21,
     "metadata": {},
     "output_type": "execute_result"
    }
   ],
   "source": [
    "x_multi.shape"
   ]
  },
  {
   "cell_type": "code",
   "execution_count": 22,
   "metadata": {},
   "outputs": [
    {
     "data": {
      "text/plain": [
       "9"
      ]
     },
     "execution_count": 22,
     "metadata": {},
     "output_type": "execute_result"
    }
   ],
   "source": [
    "len(list_x)"
   ]
  },
  {
   "cell_type": "markdown",
   "metadata": {},
   "source": [
    "## Update API lambda AWS"
   ]
  },
  {
   "cell_type": "markdown",
   "metadata": {},
   "source": [
    "### API lambda simulate"
   ]
  },
  {
   "cell_type": "markdown",
   "metadata": {},
   "source": [
    "#### Past days"
   ]
  },
  {
   "cell_type": "code",
   "execution_count": 23,
   "metadata": {},
   "outputs": [
    {
     "data": {
      "text/plain": [
       "(434, 8)"
      ]
     },
     "execution_count": 23,
     "metadata": {},
     "output_type": "execute_result"
    }
   ],
   "source": [
    "dataset.shape"
   ]
  },
  {
   "cell_type": "code",
   "execution_count": 24,
   "metadata": {},
   "outputs": [
    {
     "name": "stdout",
     "output_type": "stream",
     "text": [
      "[357 - 371]\n",
      "[364 - 378]\n",
      "[371 - 385]\n",
      "[378 - 392]\n",
      "[385 - 399]\n",
      "[392 - 406]\n",
      "[399 - 413]\n",
      "[406 - 420]\n",
      "[413 - 427]\n"
     ]
    }
   ],
   "source": [
    "json_list_list_x = prepare_to_lambda(dataset)\n",
    "# simulate input to lambda (double dumps ? why ? i don't know yet)\n",
    "json_list_list_x = json.dumps(json_list_list_x)\n",
    "# simulate lambda\n",
    "\n",
    "event = {\"body\": json_list_list_x}"
   ]
  },
  {
   "cell_type": "code",
   "execution_count": 25,
   "metadata": {},
   "outputs": [
    {
     "name": "stdout",
     "output_type": "stream",
     "text": [
      "INPUT : nb. arr. : 9 / arrays shape: (1, 14, 8)\n",
      "OUTPUT : nb. arrays : 9 / arrays shape in list: (1, 7)\n"
     ]
    }
   ],
   "source": [
    "# lambda code (file ./serverless/tensorflow-lite-on-aws-lambda/handler.py)\n",
    "from serverless.tensorflow_lite_on_aws_lambda_kr.handler import predict\n",
    "context = None\n",
    "response = predict(event, context)\n"
   ]
  },
  {
   "cell_type": "code",
   "execution_count": 26,
   "metadata": {},
   "outputs": [
    {
     "data": {
      "text/plain": [
       "(1, 63)"
      ]
     },
     "execution_count": 26,
     "metadata": {},
     "output_type": "execute_result"
    }
   ],
   "source": [
    "# Retrieve from lambda in App code\n",
    "# input : response\n",
    "y_multi_pred_out = retrieve_from_lambda(response)      \n",
    "y_multi_pred_out.shape"
   ]
  },
  {
   "cell_type": "code",
   "execution_count": 27,
   "metadata": {},
   "outputs": [
    {
     "data": {
      "text/plain": [
       "array([[1.1467392 , 1.2568437 , 1.2005383 , 1.2311383 , 0.9787166 ,\n",
       "        1.070845  , 1.0709375 , 1.1021686 , 1.173879  , 1.1427528 ,\n",
       "        1.1675222 , 0.9826493 , 1.0500412 , 1.0485113 , 1.4185939 ,\n",
       "        1.6137369 , 1.5244001 , 1.534508  , 1.1591265 , 1.3291066 ,\n",
       "        1.3518373 , 1.3035349 , 1.4772024 , 1.3940609 , 1.4025687 ,\n",
       "        1.0635716 , 1.2077435 , 1.2250835 , 1.1553187 , 1.3076409 ,\n",
       "        1.2246069 , 1.2441945 , 0.9326531 , 1.0468261 , 1.0495495 ,\n",
       "        1.2664165 , 1.4328315 , 1.3561014 , 1.3720568 , 1.0232157 ,\n",
       "        1.1799825 , 1.1972817 , 1.0898176 , 1.1443336 , 1.137456  ,\n",
       "        1.1562719 , 0.96160567, 1.0680109 , 1.076304  , 1.087279  ,\n",
       "        1.1975048 , 1.1449891 , 1.162689  , 0.90126395, 1.0108123 ,\n",
       "        1.0126414 , 1.0072403 , 1.0547724 , 1.0451384 , 1.0685495 ,\n",
       "        0.88482314, 0.9759312 , 0.9773065 ]], dtype=float32)"
      ]
     },
     "execution_count": 27,
     "metadata": {},
     "output_type": "execute_result"
    }
   ],
   "source": [
    "y_multi_pred"
   ]
  },
  {
   "cell_type": "code",
   "execution_count": 28,
   "metadata": {},
   "outputs": [
    {
     "data": {
      "text/plain": [
       "array([[1.14673924, 1.25684345, 1.20053792, 1.23113811, 0.97871655,\n",
       "        1.07084477, 1.0709374 , 1.10216868, 1.17387891, 1.14275265,\n",
       "        1.16752219, 0.98264927, 1.05004108, 1.04851127, 1.418594  ,\n",
       "        1.61373651, 1.52440012, 1.53450787, 1.15912652, 1.32910645,\n",
       "        1.35183716, 1.30353475, 1.47720218, 1.39406061, 1.40256846,\n",
       "        1.06357145, 1.20774364, 1.22508335, 1.15531886, 1.30764091,\n",
       "        1.22460663, 1.24419439, 0.93265319, 1.04682624, 1.04954946,\n",
       "        1.26641667, 1.43283141, 1.35610151, 1.37205672, 1.02321577,\n",
       "        1.17998278, 1.19728196, 1.08981776, 1.1443336 , 1.13745606,\n",
       "        1.15627193, 0.96160573, 1.06801093, 1.07630396, 1.08727908,\n",
       "        1.19750476, 1.14498901, 1.16268885, 0.90126407, 1.0108124 ,\n",
       "        1.01264167, 1.0072403 , 1.0547725 , 1.04513836, 1.06854975,\n",
       "        0.88482332, 0.97593147, 0.97730654]])"
      ]
     },
     "execution_count": 28,
     "metadata": {},
     "output_type": "execute_result"
    }
   ],
   "source": [
    "y_multi_pred_out"
   ]
  },
  {
   "cell_type": "code",
   "execution_count": 29,
   "metadata": {},
   "outputs": [
    {
     "name": "stdout",
     "output_type": "stream",
     "text": [
      "Done. The result of TensorFlow matches the result of TensorFlow Lite.\n"
     ]
    }
   ],
   "source": [
    "# Assert if the result of TFLite model is consistent with the TF model.\n",
    "np.testing.assert_almost_equal(y_multi_pred, y_multi_pred_out, decimal=3)\n",
    "print(\"Done. The result of TensorFlow matches the result of TensorFlow Lite.\")"
   ]
  },
  {
   "cell_type": "markdown",
   "metadata": {},
   "source": [
    "#### Future days"
   ]
  },
  {
   "cell_type": "code",
   "execution_count": 30,
   "metadata": {},
   "outputs": [
    {
     "name": "stdout",
     "output_type": "stream",
     "text": [
      "INPUT : nb. arr. : 1 / arrays shape: (1, 14, 8)\n",
      "OUTPUT : nb. arrays : 1 / arrays shape in list: (1, 7)\n"
     ]
    },
    {
     "data": {
      "text/plain": [
       "(1, 7)"
      ]
     },
     "execution_count": 30,
     "metadata": {},
     "output_type": "execute_result"
    }
   ],
   "source": [
    "# Prepare data to lambda (future)\n",
    "json_list_list_x = prepare_to_lambda_future(dataset)\n",
    "\n",
    "# simulate lambda\n",
    "json_list_list_x = json.dumps(json_list_list_x) # dumps again : I dont know why\n",
    "event = {\"body\": json_list_list_x}\n",
    "context = None\n",
    "response = predict(event, context)\n",
    "y_future_pred_out = retrieve_from_lambda(response)      \n",
    "y_future_pred_out.shape"
   ]
  },
  {
   "cell_type": "code",
   "execution_count": 31,
   "metadata": {},
   "outputs": [
    {
     "data": {
      "text/plain": [
       "array([[0.87332934, 0.98735368, 0.9342795 , 0.95373517, 0.68816513,\n",
       "        0.80265301, 0.80564356]])"
      ]
     },
     "execution_count": 31,
     "metadata": {},
     "output_type": "execute_result"
    }
   ],
   "source": [
    "y_future_pred_out"
   ]
  },
  {
   "cell_type": "code",
   "execution_count": 32,
   "metadata": {},
   "outputs": [
    {
     "data": {
      "text/plain": [
       "array([[0.8733294 , 0.9873537 , 0.93427956, 0.95373505, 0.6881651 ,\n",
       "        0.80265313, 0.8056435 ]], dtype=float32)"
      ]
     },
     "execution_count": 32,
     "metadata": {},
     "output_type": "execute_result"
    }
   ],
   "source": [
    "y_future_pred"
   ]
  },
  {
   "cell_type": "code",
   "execution_count": 33,
   "metadata": {},
   "outputs": [
    {
     "name": "stdout",
     "output_type": "stream",
     "text": [
      "Done. The result of TensorFlow matches the result of TensorFlow Lite.\n"
     ]
    }
   ],
   "source": [
    "# Assert if the result of TFLite model is consistent with the TF model.\n",
    "np.testing.assert_almost_equal(y_future_pred, y_future_pred_out, decimal=3)\n",
    "print(\"Done. The result of TensorFlow matches the result of TensorFlow Lite.\")"
   ]
  },
  {
   "cell_type": "markdown",
   "metadata": {},
   "source": [
    "### Update AWS Lambda with new model\n"
   ]
  },
  {
   "cell_type": "markdown",
   "metadata": {},
   "source": [
    "This part does:\n",
    "- Go to : ./serverless//tensorflow-lite-on-aws-lambda-kr\n",
    "    \n",
    "- Execute : sls deploy -v"
   ]
  },
  {
   "cell_type": "code",
   "execution_count": 34,
   "metadata": {},
   "outputs": [
    {
     "data": {
      "text/plain": [
       "'#!/bin/bash\\nexport PATH=\"/usr/local/bin:$PATH\"\\ncd /Users/gregory/Documents/CloudStationSinchon/Applications/python/CoronaVirus/code/coronavirusModel/serverless/tensorflow_lite_on_aws_lambda_kr\\nserverless deploy -v'"
      ]
     },
     "execution_count": 34,
     "metadata": {},
     "output_type": "execute_result"
    }
   ],
   "source": [
    "str_exe = '#!/bin/bash\\n' + \\\n",
    "    'export PATH=\"/usr/local/bin:$PATH\"\\n' + \\\n",
    "    f'cd {PATH_MDL_MULTI_TFLITE_KR}\\n' + \\\n",
    "    'serverless deploy -v'\n",
    "str_exe"
   ]
  },
  {
   "cell_type": "code",
   "execution_count": 35,
   "metadata": {},
   "outputs": [],
   "source": [
    "open('deploy_serverless_kr.sh', \"w\").write(str_exe)\n",
    "os.chmod('deploy_serverless_kr.sh', stat.S_IRWXU)"
   ]
  },
  {
   "cell_type": "code",
   "execution_count": 36,
   "metadata": {},
   "outputs": [
    {
     "name": "stdout",
     "output_type": "stream",
     "text": [
      "#!/bin/bash\r\n",
      "export PATH=\"/usr/local/bin:$PATH\"\r\n",
      "cd /Users/gregory/Documents/CloudStationSinchon/Applications/python/CoronaVirus/code/coronavirusModel/serverless/tensorflow_lite_on_aws_lambda_kr\r\n",
      "serverless deploy -v"
     ]
    }
   ],
   "source": [
    "!cat ./deploy_serverless_kr.sh"
   ]
  },
  {
   "cell_type": "code",
   "execution_count": 37,
   "metadata": {},
   "outputs": [
    {
     "name": "stdout",
     "output_type": "stream",
     "text": [
      "Serverless: \u001b[93mDeprecation warning: Resolution of lambda version hashes was improved with better algorithm, which will be used in next major release.\u001b[39m\n",
      "\u001b[93m            Switch to it now by setting \"provider.lambdaHashingVersion\" to \"20201221\"\u001b[39m\n",
      "            \u001b[93mMore Info: https://www.serverless.com/framework/docs/deprecations/#LAMBDA_HASHING_VERSION_V2\u001b[39m\n",
      "Serverless: \u001b[33mGenerated requirements from /Users/gregory/Documents/CloudStationSinchon/Applications/python/CoronaVirus/code/coronavirusModel/serverless/tensorflow_lite_on_aws_lambda_kr/requirements.txt in /Users/gregory/Documents/CloudStationSinchon/Applications/python/CoronaVirus/code/coronavirusModel/serverless/tensorflow_lite_on_aws_lambda_kr/.serverless/requirements.txt...\u001b[39m\n",
      "Serverless: \u001b[33mInstalling requirements from /Users/gregory/Library/Caches/serverless-python-requirements/eddadf68f9f2c21cf494701082a5393692d7b3c4711137913b3ed1b03bec68cf_slspyc/requirements.txt ...\u001b[39m\n",
      "Serverless: \u001b[33mDocker Image: lambci/lambda:build-python3.8\u001b[39m\n",
      "Serverless: \u001b[33mUsing download cache directory /Users/gregory/Library/Caches/serverless-python-requirements/downloadCacheslspyc\u001b[39m\n",
      "Serverless: \u001b[33mRunning docker run --rm -v /Users/gregory/Library/Caches/serverless-python-requirements/eddadf68f9f2c21cf494701082a5393692d7b3c4711137913b3ed1b03bec68cf_slspyc\\:/var/task\\:z -v /Users/gregory/Library/Caches/serverless-python-requirements/downloadCacheslspyc\\:/var/useDownloadCache\\:z -u 0 -v /Users/gregory/Documents/CloudStationSinchon/Applications/python/CoronaVirus/code/coronavirusModel/serverless/tensorflow_lite_on_aws_lambda_kr/wheels\\:/wheels lambci/lambda\\:build-python3.8 python3.8 -m pip install -t /var/task/ -r /var/task/requirements.txt --cache-dir /var/useDownloadCache...\u001b[39m\n",
      "Serverless: \u001b[33mPackaging service...\u001b[39m\n",
      "Serverless: \u001b[33mExcluding development dependencies...\u001b[39m\n",
      "Serverless: \u001b[33mInjecting required Python packages to package...\u001b[39m\n",
      "Serverless: \u001b[33mUploading CloudFormation file to S3...\u001b[39m\n",
      "Serverless: \u001b[33mUploading artifacts...\u001b[39m\n",
      "Serverless: \u001b[33mUploading service tensorflow-lite-on-aws-lambda-kr.zip file to S3 (19.68 MB)...\u001b[39m\n",
      "Serverless: \u001b[33mValidating template...\u001b[39m\n",
      "Serverless: \u001b[33mUpdating Stack...\u001b[39m\n",
      "Serverless: \u001b[33mChecking Stack update progress...\u001b[39m\n",
      "CloudFormation - \u001b[33mUPDATE_IN_PROGRESS\u001b[39m - AWS::CloudFormation::Stack - tensorflow-lite-on-aws-lambda-kr-dev\n",
      "CloudFormation - \u001b[33mUPDATE_IN_PROGRESS\u001b[39m - AWS::Lambda::Function - PredictLambdaFunction\n",
      "CloudFormation - \u001b[32mUPDATE_COMPLETE\u001b[39m - AWS::Lambda::Function - PredictLambdaFunction\n",
      "CloudFormation - \u001b[33mCREATE_IN_PROGRESS\u001b[39m - AWS::Lambda::Version - PredictLambdaVersionHaMbQXkoAo6qRQXCtzbgYaRn0cdG1GJnn5SR1sTwE\n",
      "CloudFormation - \u001b[33mCREATE_IN_PROGRESS\u001b[39m - AWS::Lambda::Version - PredictLambdaVersionHaMbQXkoAo6qRQXCtzbgYaRn0cdG1GJnn5SR1sTwE\n",
      "CloudFormation - \u001b[32mCREATE_COMPLETE\u001b[39m - AWS::Lambda::Version - PredictLambdaVersionHaMbQXkoAo6qRQXCtzbgYaRn0cdG1GJnn5SR1sTwE\n",
      "CloudFormation - \u001b[33mCREATE_IN_PROGRESS\u001b[39m - AWS::ApiGateway::Deployment - ApiGatewayDeployment1624027201750\n",
      "CloudFormation - \u001b[33mCREATE_IN_PROGRESS\u001b[39m - AWS::ApiGateway::Deployment - ApiGatewayDeployment1624027201750\n",
      "CloudFormation - \u001b[32mCREATE_COMPLETE\u001b[39m - AWS::ApiGateway::Deployment - ApiGatewayDeployment1624027201750\n",
      "CloudFormation - \u001b[33mUPDATE_COMPLETE_CLEANUP_IN_PROGRESS\u001b[39m - AWS::CloudFormation::Stack - tensorflow-lite-on-aws-lambda-kr-dev\n",
      "CloudFormation - DELETE_SKIPPED - AWS::Lambda::Version - PredictLambdaVersionaABJdX5f28x1yFiBGtMaSIZy1OZZkm4SaWR8gXhxtmY\n",
      "CloudFormation - \u001b[33mDELETE_IN_PROGRESS\u001b[39m - AWS::ApiGateway::Deployment - ApiGatewayDeployment1620741290691\n",
      "CloudFormation - \u001b[32mDELETE_COMPLETE\u001b[39m - AWS::ApiGateway::Deployment - ApiGatewayDeployment1620741290691\n",
      "CloudFormation - \u001b[32mUPDATE_COMPLETE\u001b[39m - AWS::CloudFormation::Stack - tensorflow-lite-on-aws-lambda-kr-dev\n",
      "Serverless: \u001b[33mStack update finished...\u001b[39m\n",
      "\u001b[33m\u001b[4mService Information\u001b[24m\u001b[39m\n",
      "\u001b[33mservice:\u001b[39m tensorflow-lite-on-aws-lambda-kr\n",
      "\u001b[33mstage:\u001b[39m dev\n",
      "\u001b[33mregion:\u001b[39m us-east-2\n",
      "\u001b[33mstack:\u001b[39m tensorflow-lite-on-aws-lambda-kr-dev\n",
      "\u001b[33mresources:\u001b[39m 11\n",
      "\u001b[33mapi keys:\u001b[39m\n",
      "  None\n",
      "\u001b[33mendpoints:\u001b[39m\n",
      "  POST - https://hauojq3o6f.execute-api.us-east-2.amazonaws.com/dev/infer\n",
      "\u001b[33mfunctions:\u001b[39m\n",
      "  predict: tensorflow-lite-on-aws-lambda-kr-dev-predict\n",
      "\u001b[33mlayers:\u001b[39m\n",
      "  None\n",
      "\u001b[33m\u001b[4m\u001b[24m\u001b[39m\n",
      "\u001b[33m\u001b[4mStack Outputs\u001b[24m\u001b[39m\n",
      "\u001b[33m\u001b[4m\u001b[24m\u001b[39m\u001b[33mPredictLambdaFunctionQualifiedArn\u001b[39m: arn:aws:lambda:us-east-2:324466407431:function:tensorflow-lite-on-aws-lambda-kr-dev-predict:6\n",
      "\u001b[33mServiceEndpoint\u001b[39m: https://hauojq3o6f.execute-api.us-east-2.amazonaws.com/dev\n",
      "\u001b[33mServerlessDeploymentBucketName\u001b[39m: tensorflow-lite-on-aws-l-serverlessdeploymentbuck-rj02mbrirkhj\n",
      "\n",
      "Serverless: \u001b[33mRemoving old service artifacts from S3...\u001b[39m\n",
      "\n",
      "********************************************************************************\n",
      "Serverless: \u001b[33mAnnouncing Metrics, CI/CD, Secrets and more built into Serverless Framework. Run \"serverless login\" to activate for free..\u001b[39m\n",
      "********************************************************************************\n",
      "\n"
     ]
    }
   ],
   "source": [
    "!./deploy_serverless_kr.sh"
   ]
  },
  {
   "cell_type": "markdown",
   "metadata": {},
   "source": [
    "### API AWS real Test"
   ]
  },
  {
   "cell_type": "markdown",
   "metadata": {},
   "source": [
    "#### Past days"
   ]
  },
  {
   "cell_type": "code",
   "execution_count": 38,
   "metadata": {},
   "outputs": [
    {
     "name": "stdout",
     "output_type": "stream",
     "text": [
      "[357 - 371]\n",
      "[364 - 378]\n",
      "[371 - 385]\n",
      "[378 - 392]\n",
      "[385 - 399]\n",
      "[392 - 406]\n",
      "[399 - 413]\n",
      "[406 - 420]\n",
      "[413 - 427]\n",
      "status code :  200\n",
      "[[[1.1467392444610596, 1.2568434476852417, 1.200537919998169, 1.2311381101608276, 0.9787165522575378, 1.0708447694778442, 1.0709373950958252]], [[1.1021686792373657, 1.1738789081573486, 1.1427526473999023, 1.1675221920013428, 0.9826492667198181, 1.0500410795211792, 1.048511266708374]], [[1.4185940027236938, 1.6137365102767944, 1.5244001150131226, 1.5345078706741333, 1.1591265201568604, 1.3291064500808716, 1.351837158203125]], [[1.303534746170044, 1.4772021770477295, 1.3940606117248535, 1.4025684595108032, 1.0635714530944824, 1.2077436447143555, 1.225083351135254]], [[1.1553188562393188, 1.3076409101486206, 1.2246066331863403, 1.2441943883895874, 0.9326531887054443, 1.0468262434005737, 1.0495494604110718]], [[1.2664166688919067, 1.4328314065933228, 1.3561015129089355, 1.3720567226409912, 1.0232157707214355, 1.1799827814102173, 1.1972819566726685]], [[1.089817762374878, 1.1443336009979248, 1.1374560594558716, 1.1562719345092773, 0.9616057276725769, 1.068010926246643, 1.0763039588928223]], [[1.0872790813446045, 1.1975047588348389, 1.144989013671875, 1.1626888513565063, 0.9012640714645386, 1.0108124017715454, 1.0126416683197021]], [[1.0072402954101562, 1.0547724962234497, 1.0451383590698242, 1.0685497522354126, 0.8848233222961426, 0.9759314656257629, 0.9773065447807312]]]\n"
     ]
    }
   ],
   "source": [
    "# prepare input\n",
    "json_list_list_x = prepare_to_lambda(dataset)\n",
    "# REQUEST\n",
    "resp = requests.post(URL_PREDICT_KR, json=json_list_list_x)\n",
    "print(\"status code : \", resp.status_code) \n",
    "print(resp.json())"
   ]
  },
  {
   "cell_type": "code",
   "execution_count": 39,
   "metadata": {},
   "outputs": [
    {
     "data": {
      "text/plain": [
       "20866"
      ]
     },
     "execution_count": 39,
     "metadata": {},
     "output_type": "execute_result"
    }
   ],
   "source": [
    "len(json_list_list_x)"
   ]
  },
  {
   "cell_type": "code",
   "execution_count": 40,
   "metadata": {},
   "outputs": [
    {
     "data": {
      "text/plain": [
       "[[[1.1467392444610596,\n",
       "   1.2568434476852417,\n",
       "   1.200537919998169,\n",
       "   1.2311381101608276,\n",
       "   0.9787165522575378,\n",
       "   1.0708447694778442,\n",
       "   1.0709373950958252]],\n",
       " [[1.1021686792373657,\n",
       "   1.1738789081573486,\n",
       "   1.1427526473999023,\n",
       "   1.1675221920013428,\n",
       "   0.9826492667198181,\n",
       "   1.0500410795211792,\n",
       "   1.048511266708374]],\n",
       " [[1.4185940027236938,\n",
       "   1.6137365102767944,\n",
       "   1.5244001150131226,\n",
       "   1.5345078706741333,\n",
       "   1.1591265201568604,\n",
       "   1.3291064500808716,\n",
       "   1.351837158203125]],\n",
       " [[1.303534746170044,\n",
       "   1.4772021770477295,\n",
       "   1.3940606117248535,\n",
       "   1.4025684595108032,\n",
       "   1.0635714530944824,\n",
       "   1.2077436447143555,\n",
       "   1.225083351135254]],\n",
       " [[1.1553188562393188,\n",
       "   1.3076409101486206,\n",
       "   1.2246066331863403,\n",
       "   1.2441943883895874,\n",
       "   0.9326531887054443,\n",
       "   1.0468262434005737,\n",
       "   1.0495494604110718]],\n",
       " [[1.2664166688919067,\n",
       "   1.4328314065933228,\n",
       "   1.3561015129089355,\n",
       "   1.3720567226409912,\n",
       "   1.0232157707214355,\n",
       "   1.1799827814102173,\n",
       "   1.1972819566726685]],\n",
       " [[1.089817762374878,\n",
       "   1.1443336009979248,\n",
       "   1.1374560594558716,\n",
       "   1.1562719345092773,\n",
       "   0.9616057276725769,\n",
       "   1.068010926246643,\n",
       "   1.0763039588928223]],\n",
       " [[1.0872790813446045,\n",
       "   1.1975047588348389,\n",
       "   1.144989013671875,\n",
       "   1.1626888513565063,\n",
       "   0.9012640714645386,\n",
       "   1.0108124017715454,\n",
       "   1.0126416683197021]],\n",
       " [[1.0072402954101562,\n",
       "   1.0547724962234497,\n",
       "   1.0451383590698242,\n",
       "   1.0685497522354126,\n",
       "   0.8848233222961426,\n",
       "   0.9759314656257629,\n",
       "   0.9773065447807312]]]"
      ]
     },
     "execution_count": 40,
     "metadata": {},
     "output_type": "execute_result"
    }
   ],
   "source": [
    "resp.json()"
   ]
  },
  {
   "cell_type": "code",
   "execution_count": 41,
   "metadata": {},
   "outputs": [
    {
     "data": {
      "text/plain": [
       "(1, 63)"
      ]
     },
     "execution_count": 41,
     "metadata": {},
     "output_type": "execute_result"
    }
   ],
   "source": [
    "y_multi_pred_out = retrieve_from_lambda(resp)      \n",
    "y_multi_pred_out.shape"
   ]
  },
  {
   "cell_type": "code",
   "execution_count": 42,
   "metadata": {},
   "outputs": [
    {
     "data": {
      "text/plain": [
       "array([[1.14673924, 1.25684345, 1.20053792, 1.23113811, 0.97871655,\n",
       "        1.07084477, 1.0709374 , 1.10216868, 1.17387891, 1.14275265,\n",
       "        1.16752219, 0.98264927, 1.05004108, 1.04851127, 1.418594  ,\n",
       "        1.61373651, 1.52440012, 1.53450787, 1.15912652, 1.32910645,\n",
       "        1.35183716, 1.30353475, 1.47720218, 1.39406061, 1.40256846,\n",
       "        1.06357145, 1.20774364, 1.22508335, 1.15531886, 1.30764091,\n",
       "        1.22460663, 1.24419439, 0.93265319, 1.04682624, 1.04954946,\n",
       "        1.26641667, 1.43283141, 1.35610151, 1.37205672, 1.02321577,\n",
       "        1.17998278, 1.19728196, 1.08981776, 1.1443336 , 1.13745606,\n",
       "        1.15627193, 0.96160573, 1.06801093, 1.07630396, 1.08727908,\n",
       "        1.19750476, 1.14498901, 1.16268885, 0.90126407, 1.0108124 ,\n",
       "        1.01264167, 1.0072403 , 1.0547725 , 1.04513836, 1.06854975,\n",
       "        0.88482332, 0.97593147, 0.97730654]])"
      ]
     },
     "execution_count": 42,
     "metadata": {},
     "output_type": "execute_result"
    }
   ],
   "source": [
    "y_multi_pred_out"
   ]
  },
  {
   "cell_type": "code",
   "execution_count": 43,
   "metadata": {},
   "outputs": [
    {
     "data": {
      "text/plain": [
       "array([[1.1467392 , 1.2568437 , 1.2005383 , 1.2311383 , 0.9787166 ,\n",
       "        1.070845  , 1.0709375 , 1.1021686 , 1.173879  , 1.1427528 ,\n",
       "        1.1675222 , 0.9826493 , 1.0500412 , 1.0485113 , 1.4185939 ,\n",
       "        1.6137369 , 1.5244001 , 1.534508  , 1.1591265 , 1.3291066 ,\n",
       "        1.3518373 , 1.3035349 , 1.4772024 , 1.3940609 , 1.4025687 ,\n",
       "        1.0635716 , 1.2077435 , 1.2250835 , 1.1553187 , 1.3076409 ,\n",
       "        1.2246069 , 1.2441945 , 0.9326531 , 1.0468261 , 1.0495495 ,\n",
       "        1.2664165 , 1.4328315 , 1.3561014 , 1.3720568 , 1.0232157 ,\n",
       "        1.1799825 , 1.1972817 , 1.0898176 , 1.1443336 , 1.137456  ,\n",
       "        1.1562719 , 0.96160567, 1.0680109 , 1.076304  , 1.087279  ,\n",
       "        1.1975048 , 1.1449891 , 1.162689  , 0.90126395, 1.0108123 ,\n",
       "        1.0126414 , 1.0072403 , 1.0547724 , 1.0451384 , 1.0685495 ,\n",
       "        0.88482314, 0.9759312 , 0.9773065 ]], dtype=float32)"
      ]
     },
     "execution_count": 43,
     "metadata": {},
     "output_type": "execute_result"
    }
   ],
   "source": [
    "y_multi_pred"
   ]
  },
  {
   "cell_type": "code",
   "execution_count": 44,
   "metadata": {},
   "outputs": [
    {
     "name": "stdout",
     "output_type": "stream",
     "text": [
      "Done. The result of TensorFlow matches the result of TensorFlow Lite.\n"
     ]
    }
   ],
   "source": [
    "# Assert if the result of TFLite model is consistent with the TF model.\n",
    "np.testing.assert_almost_equal(y_multi_pred, y_multi_pred_out, decimal=3)\n",
    "print(\"Done. The result of TensorFlow matches the result of TensorFlow Lite.\")"
   ]
  },
  {
   "cell_type": "markdown",
   "metadata": {},
   "source": [
    "#### future days"
   ]
  },
  {
   "cell_type": "code",
   "execution_count": 45,
   "metadata": {},
   "outputs": [
    {
     "name": "stdout",
     "output_type": "stream",
     "text": [
      "status code :  200\n",
      "[[[0.8733293414115906, 0.9873536825180054, 0.9342795014381409, 0.9537351727485657, 0.6881651282310486, 0.8026530146598816, 0.8056435585021973]]]\n"
     ]
    }
   ],
   "source": [
    "# prepare input\n",
    "json_list_list_x = prepare_to_lambda_future(dataset)\n",
    "resp = requests.post(URL_PREDICT_KR, json=json_list_list_x)\n",
    "print(\"status code : \", resp.status_code) \n",
    "print(resp.json())"
   ]
  },
  {
   "cell_type": "code",
   "execution_count": 46,
   "metadata": {},
   "outputs": [
    {
     "data": {
      "text/plain": [
       "array([[0.87332934, 0.98735368, 0.9342795 , 0.95373517, 0.68816513,\n",
       "        0.80265301, 0.80564356]])"
      ]
     },
     "execution_count": 46,
     "metadata": {},
     "output_type": "execute_result"
    }
   ],
   "source": [
    "y_future_pred_out = retrieve_from_lambda(resp)      \n",
    "y_future_pred_out"
   ]
  },
  {
   "cell_type": "code",
   "execution_count": 47,
   "metadata": {},
   "outputs": [
    {
     "data": {
      "text/plain": [
       "array([[0.8733294 , 0.9873537 , 0.93427956, 0.95373505, 0.6881651 ,\n",
       "        0.80265313, 0.8056435 ]], dtype=float32)"
      ]
     },
     "execution_count": 47,
     "metadata": {},
     "output_type": "execute_result"
    }
   ],
   "source": [
    "y_future_pred"
   ]
  },
  {
   "cell_type": "code",
   "execution_count": 48,
   "metadata": {},
   "outputs": [
    {
     "name": "stdout",
     "output_type": "stream",
     "text": [
      "Done. The result of TensorFlow matches the result of TensorFlow Lite.\n"
     ]
    }
   ],
   "source": [
    "# Assert if the result of TFLite model is consistent with the TF model.\n",
    "np.testing.assert_almost_equal(y_future_pred, y_future_pred_out, decimal=3)\n",
    "print(\"Done. The result of TensorFlow matches the result of TensorFlow Lite.\")"
   ]
  },
  {
   "cell_type": "code",
   "execution_count": null,
   "metadata": {},
   "outputs": [],
   "source": []
  }
 ],
 "metadata": {
  "kernelspec": {
   "display_name": "Python 3",
   "language": "python",
   "name": "python3"
  },
  "language_info": {
   "codemirror_mode": {
    "name": "ipython",
    "version": 3
   },
   "file_extension": ".py",
   "mimetype": "text/x-python",
   "name": "python",
   "nbconvert_exporter": "python",
   "pygments_lexer": "ipython3",
   "version": "3.7.6"
  },
  "toc": {
   "base_numbering": 1,
   "nav_menu": {
    "height": "260px",
    "width": "258px"
   },
   "number_sections": true,
   "sideBar": true,
   "skip_h1_title": false,
   "title_cell": "Table of Contents",
   "title_sidebar": "Contents",
   "toc_cell": false,
   "toc_position": {
    "height": "calc(100% - 180px)",
    "left": "10px",
    "top": "150px",
    "width": "205px"
   },
   "toc_section_display": true,
   "toc_window_display": true
  }
 },
 "nbformat": 4,
 "nbformat_minor": 4
}
