{
 "cells": [
  {
   "cell_type": "markdown",
   "metadata": {},
   "source": [
    "# Model South Korea Time Series for COVID: Publish for app\n",
    "\n",
    "This notebook use multistep time serie model  (predicting number of cases future next days).\n",
    "\n",
    "It converts Tensorflow model into TensorFlow Lite to be able to use it in a Lambda fonction on AWS.\n",
    "\n",
    "After that, the lite model is tested and publish on AWS\n",
    "\n",
    "Finally, the lambda function is tested"
   ]
  },
  {
   "cell_type": "markdown",
   "metadata": {},
   "source": [
    "## Convert model in TFlite"
   ]
  },
  {
   "cell_type": "markdown",
   "metadata": {},
   "source": [
    "**IMPORTANT TO DO manually:**\n",
    "- **Update TRAIN_SPLIT in my_helpers.model module**"
   ]
  },
  {
   "cell_type": "markdown",
   "metadata": {},
   "source": [
    "### import"
   ]
  },
  {
   "cell_type": "code",
   "execution_count": 1,
   "metadata": {},
   "outputs": [],
   "source": [
    "# data useful lib\n",
    "import pandas as pd\n",
    "import numpy as np\n",
    "\n",
    "# helper lib\n",
    "import shutil\n",
    "import os, stat\n",
    "import re\n",
    "import datetime\n",
    "import math\n",
    "\n",
    "# read json from http\n",
    "import json\n",
    "import urllib.request\n",
    "\n",
    "# read csv from http\n",
    "import io\n",
    "import requests\n",
    "\n",
    "# model lib\n",
    "import tensorflow as tf\n",
    "\n",
    "# from project\n",
    "from my_helpers.data_plots_kr import load_df_feat_kr\n",
    "from my_helpers.model import prepare_to_lambda, retrieve_from_lambda\n",
    "from my_helpers.model import prepare_to_lambda_future\n",
    "from my_helpers.model import create_list_past_hist, predict_list\n",
    "\n",
    "from my_helpers.model_kr import prepare_data_features_kr\n",
    "from my_helpers.model_kr import prepare_dataset_kr\n",
    "\n",
    "from my_helpers.utils import clean_file\n",
    "\n",
    "import settings"
   ]
  },
  {
   "cell_type": "code",
   "execution_count": 2,
   "metadata": {},
   "outputs": [
    {
     "data": {
      "text/plain": [
       "'2.5.0'"
      ]
     },
     "execution_count": 2,
     "metadata": {},
     "output_type": "execute_result"
    }
   ],
   "source": [
    "tf.__version__"
   ]
  },
  {
   "cell_type": "markdown",
   "metadata": {},
   "source": [
    "### Definitions"
   ]
  },
  {
   "cell_type": "code",
   "execution_count": 3,
   "metadata": {},
   "outputs": [
    {
     "name": "stdout",
     "output_type": "stream",
     "text": [
      "TRAIN_SPLIT = 439\n"
     ]
    }
   ],
   "source": [
    "PATH_TO_SAVE_DATA = settings.PATH_TO_SAVE_DATA\n",
    "\n",
    "from my_helpers.model_kr import PATH_MDL_MULTI_STEP_KR\n",
    "from my_helpers.model_kr import PATH_MDL_MULTI_TFLITE_KR \n",
    "from my_helpers.model_kr import PATH_MDL_MULTI_TFLITE_FILE_KR\n",
    "from my_helpers.model_kr import PATH_SERVERLESS_KR\n",
    "from my_helpers.model_kr import URL_PREDICT_KR\n",
    "from my_helpers.model_kr import PAST_HISTORY # days used to predict next values in future\n",
    "from my_helpers.model_kr import FUTURE_TARGET  # predict 3 days later\n",
    "from my_helpers.model_kr import STEP \n",
    "\n",
    "from my_helpers.data_plots_kr import PATH_DF_FEAT_KR\n",
    "\n",
    "date_format = \"%Y-%m-%d\"\n",
    "\n",
    "#NB_POS_DATE_MIN_DF_FEAT = 140227 # on 12/05/2020\n",
    "\n",
    "# plot\n",
    "NB_DAY_PLOT = FUTURE_TARGET*9\n",
    "\n",
    "# train split\n",
    "from my_helpers.model_kr import TRAIN_SPLIT\n",
    "print(f\"TRAIN_SPLIT = {TRAIN_SPLIT}\")\n"
   ]
  },
  {
   "cell_type": "markdown",
   "metadata": {},
   "source": [
    "### helper functions"
   ]
  },
  {
   "cell_type": "markdown",
   "metadata": {},
   "source": [
    "### load data"
   ]
  },
  {
   "cell_type": "code",
   "execution_count": 4,
   "metadata": {},
   "outputs": [
    {
     "data": {
      "text/html": [
       "<div>\n",
       "<style scoped>\n",
       "    .dataframe tbody tr th:only-of-type {\n",
       "        vertical-align: middle;\n",
       "    }\n",
       "\n",
       "    .dataframe tbody tr th {\n",
       "        vertical-align: top;\n",
       "    }\n",
       "\n",
       "    .dataframe thead th {\n",
       "        text-align: right;\n",
       "    }\n",
       "</style>\n",
       "<table border=\"1\" class=\"dataframe\">\n",
       "  <thead>\n",
       "    <tr style=\"text-align: right;\">\n",
       "      <th></th>\n",
       "      <th>nb_cases</th>\n",
       "      <th>nb_tests</th>\n",
       "      <th>nb_deaths</th>\n",
       "      <th>date</th>\n",
       "      <th>day_num</th>\n",
       "      <th>Jeju</th>\n",
       "      <th>Gyeongnam</th>\n",
       "      <th>Gyeongbuk</th>\n",
       "      <th>Jeonnam</th>\n",
       "      <th>Jeonbuk</th>\n",
       "      <th>...</th>\n",
       "      <th>Rt_Jeonbuk</th>\n",
       "      <th>sum_Jeonnam</th>\n",
       "      <th>Rt_Jeonnam</th>\n",
       "      <th>sum_Gyeongbuk</th>\n",
       "      <th>Rt_Gyeongbuk</th>\n",
       "      <th>sum_Gyeongnam</th>\n",
       "      <th>Rt_Gyeongnam</th>\n",
       "      <th>sum_Jeju</th>\n",
       "      <th>Rt_Jeju</th>\n",
       "      <th>train</th>\n",
       "    </tr>\n",
       "    <tr>\n",
       "      <th>date</th>\n",
       "      <th></th>\n",
       "      <th></th>\n",
       "      <th></th>\n",
       "      <th></th>\n",
       "      <th></th>\n",
       "      <th></th>\n",
       "      <th></th>\n",
       "      <th></th>\n",
       "      <th></th>\n",
       "      <th></th>\n",
       "      <th></th>\n",
       "      <th></th>\n",
       "      <th></th>\n",
       "      <th></th>\n",
       "      <th></th>\n",
       "      <th></th>\n",
       "      <th></th>\n",
       "      <th></th>\n",
       "      <th></th>\n",
       "      <th></th>\n",
       "      <th></th>\n",
       "    </tr>\n",
       "  </thead>\n",
       "  <tbody>\n",
       "    <tr>\n",
       "      <th>2020-04-03</th>\n",
       "      <td>10062.0</td>\n",
       "      <td>424365.0</td>\n",
       "      <td>174.0</td>\n",
       "      <td>2020-04-03</td>\n",
       "      <td>5.0</td>\n",
       "      <td>0.0</td>\n",
       "      <td>1.0</td>\n",
       "      <td>5.0</td>\n",
       "      <td>1.0</td>\n",
       "      <td>1.0</td>\n",
       "      <td>...</td>\n",
       "      <td>5.000000</td>\n",
       "      <td>10.0</td>\n",
       "      <td>inf</td>\n",
       "      <td>106.0</td>\n",
       "      <td>4.240000</td>\n",
       "      <td>20.0</td>\n",
       "      <td>20.000000</td>\n",
       "      <td>5.0</td>\n",
       "      <td>inf</td>\n",
       "      <td>True</td>\n",
       "    </tr>\n",
       "    <tr>\n",
       "      <th>2020-04-04</th>\n",
       "      <td>10156.0</td>\n",
       "      <td>434888.0</td>\n",
       "      <td>177.0</td>\n",
       "      <td>2020-04-04</td>\n",
       "      <td>6.0</td>\n",
       "      <td>0.0</td>\n",
       "      <td>1.0</td>\n",
       "      <td>1.0</td>\n",
       "      <td>0.0</td>\n",
       "      <td>0.0</td>\n",
       "      <td>...</td>\n",
       "      <td>5.000000</td>\n",
       "      <td>10.0</td>\n",
       "      <td>inf</td>\n",
       "      <td>67.0</td>\n",
       "      <td>1.030769</td>\n",
       "      <td>21.0</td>\n",
       "      <td>21.000000</td>\n",
       "      <td>5.0</td>\n",
       "      <td>inf</td>\n",
       "      <td>True</td>\n",
       "    </tr>\n",
       "    <tr>\n",
       "      <th>2020-04-05</th>\n",
       "      <td>10237.0</td>\n",
       "      <td>441662.0</td>\n",
       "      <td>183.0</td>\n",
       "      <td>2020-04-05</td>\n",
       "      <td>0.0</td>\n",
       "      <td>3.0</td>\n",
       "      <td>1.0</td>\n",
       "      <td>4.0</td>\n",
       "      <td>0.0</td>\n",
       "      <td>1.0</td>\n",
       "      <td>...</td>\n",
       "      <td>6.000000</td>\n",
       "      <td>9.0</td>\n",
       "      <td>9.000000</td>\n",
       "      <td>60.0</td>\n",
       "      <td>0.789474</td>\n",
       "      <td>21.0</td>\n",
       "      <td>10.500000</td>\n",
       "      <td>8.0</td>\n",
       "      <td>inf</td>\n",
       "      <td>True</td>\n",
       "    </tr>\n",
       "    <tr>\n",
       "      <th>2020-04-06</th>\n",
       "      <td>10284.0</td>\n",
       "      <td>447509.0</td>\n",
       "      <td>186.0</td>\n",
       "      <td>2020-04-06</td>\n",
       "      <td>1.0</td>\n",
       "      <td>0.0</td>\n",
       "      <td>2.0</td>\n",
       "      <td>2.0</td>\n",
       "      <td>0.0</td>\n",
       "      <td>0.0</td>\n",
       "      <td>...</td>\n",
       "      <td>6.000000</td>\n",
       "      <td>9.0</td>\n",
       "      <td>9.000000</td>\n",
       "      <td>60.0</td>\n",
       "      <td>0.769231</td>\n",
       "      <td>22.0</td>\n",
       "      <td>7.333333</td>\n",
       "      <td>8.0</td>\n",
       "      <td>inf</td>\n",
       "      <td>True</td>\n",
       "    </tr>\n",
       "    <tr>\n",
       "      <th>2020-04-07</th>\n",
       "      <td>10331.0</td>\n",
       "      <td>456654.0</td>\n",
       "      <td>192.0</td>\n",
       "      <td>2020-04-07</td>\n",
       "      <td>2.0</td>\n",
       "      <td>0.0</td>\n",
       "      <td>1.0</td>\n",
       "      <td>1.0</td>\n",
       "      <td>0.0</td>\n",
       "      <td>0.0</td>\n",
       "      <td>...</td>\n",
       "      <td>6.000000</td>\n",
       "      <td>9.0</td>\n",
       "      <td>9.000000</td>\n",
       "      <td>60.0</td>\n",
       "      <td>0.759494</td>\n",
       "      <td>22.0</td>\n",
       "      <td>5.500000</td>\n",
       "      <td>8.0</td>\n",
       "      <td>inf</td>\n",
       "      <td>True</td>\n",
       "    </tr>\n",
       "    <tr>\n",
       "      <th>...</th>\n",
       "      <td>...</td>\n",
       "      <td>...</td>\n",
       "      <td>...</td>\n",
       "      <td>...</td>\n",
       "      <td>...</td>\n",
       "      <td>...</td>\n",
       "      <td>...</td>\n",
       "      <td>...</td>\n",
       "      <td>...</td>\n",
       "      <td>...</td>\n",
       "      <td>...</td>\n",
       "      <td>...</td>\n",
       "      <td>...</td>\n",
       "      <td>...</td>\n",
       "      <td>...</td>\n",
       "      <td>...</td>\n",
       "      <td>...</td>\n",
       "      <td>...</td>\n",
       "      <td>...</td>\n",
       "      <td>...</td>\n",
       "      <td>...</td>\n",
       "    </tr>\n",
       "    <tr>\n",
       "      <th>2021-09-29</th>\n",
       "      <td>308723.0</td>\n",
       "      <td>13347641.0</td>\n",
       "      <td>2474.0</td>\n",
       "      <td>2021-09-29</td>\n",
       "      <td>3.0</td>\n",
       "      <td>5.0</td>\n",
       "      <td>84.0</td>\n",
       "      <td>88.0</td>\n",
       "      <td>23.0</td>\n",
       "      <td>41.0</td>\n",
       "      <td>...</td>\n",
       "      <td>2.096429</td>\n",
       "      <td>218.0</td>\n",
       "      <td>0.968889</td>\n",
       "      <td>672.0</td>\n",
       "      <td>1.476923</td>\n",
       "      <td>658.0</td>\n",
       "      <td>0.937322</td>\n",
       "      <td>117.0</td>\n",
       "      <td>0.893130</td>\n",
       "      <td>False</td>\n",
       "    </tr>\n",
       "    <tr>\n",
       "      <th>2021-09-30</th>\n",
       "      <td>311286.0</td>\n",
       "      <td>13394597.0</td>\n",
       "      <td>2481.0</td>\n",
       "      <td>2021-09-30</td>\n",
       "      <td>4.0</td>\n",
       "      <td>15.0</td>\n",
       "      <td>67.0</td>\n",
       "      <td>52.0</td>\n",
       "      <td>24.0</td>\n",
       "      <td>35.0</td>\n",
       "      <td>...</td>\n",
       "      <td>2.134752</td>\n",
       "      <td>234.0</td>\n",
       "      <td>1.063636</td>\n",
       "      <td>691.0</td>\n",
       "      <td>1.549327</td>\n",
       "      <td>692.0</td>\n",
       "      <td>1.016153</td>\n",
       "      <td>121.0</td>\n",
       "      <td>0.923664</td>\n",
       "      <td>False</td>\n",
       "    </tr>\n",
       "    <tr>\n",
       "      <th>2021-10-01</th>\n",
       "      <td>313772.0</td>\n",
       "      <td>13427198.0</td>\n",
       "      <td>2497.0</td>\n",
       "      <td>2021-10-01</td>\n",
       "      <td>5.0</td>\n",
       "      <td>9.0</td>\n",
       "      <td>69.0</td>\n",
       "      <td>60.0</td>\n",
       "      <td>29.0</td>\n",
       "      <td>32.0</td>\n",
       "      <td>...</td>\n",
       "      <td>2.062069</td>\n",
       "      <td>250.0</td>\n",
       "      <td>1.146789</td>\n",
       "      <td>713.0</td>\n",
       "      <td>1.627854</td>\n",
       "      <td>726.0</td>\n",
       "      <td>1.091729</td>\n",
       "      <td>121.0</td>\n",
       "      <td>0.930769</td>\n",
       "      <td>False</td>\n",
       "    </tr>\n",
       "    <tr>\n",
       "      <th>2021-10-02</th>\n",
       "      <td>316020.0</td>\n",
       "      <td>13465168.0</td>\n",
       "      <td>2504.0</td>\n",
       "      <td>2021-10-02</td>\n",
       "      <td>6.0</td>\n",
       "      <td>8.0</td>\n",
       "      <td>108.0</td>\n",
       "      <td>56.0</td>\n",
       "      <td>22.0</td>\n",
       "      <td>23.0</td>\n",
       "      <td>...</td>\n",
       "      <td>1.626113</td>\n",
       "      <td>265.0</td>\n",
       "      <td>1.358974</td>\n",
       "      <td>745.0</td>\n",
       "      <td>1.765403</td>\n",
       "      <td>791.0</td>\n",
       "      <td>1.205793</td>\n",
       "      <td>126.0</td>\n",
       "      <td>1.008000</td>\n",
       "      <td>False</td>\n",
       "    </tr>\n",
       "    <tr>\n",
       "      <th>2021-10-03</th>\n",
       "      <td>318105.0</td>\n",
       "      <td>13472249.0</td>\n",
       "      <td>2507.0</td>\n",
       "      <td>2021-10-03</td>\n",
       "      <td>0.0</td>\n",
       "      <td>5.0</td>\n",
       "      <td>65.0</td>\n",
       "      <td>97.0</td>\n",
       "      <td>25.0</td>\n",
       "      <td>29.0</td>\n",
       "      <td>...</td>\n",
       "      <td>1.623907</td>\n",
       "      <td>278.0</td>\n",
       "      <td>1.455497</td>\n",
       "      <td>801.0</td>\n",
       "      <td>1.902613</td>\n",
       "      <td>834.0</td>\n",
       "      <td>1.332268</td>\n",
       "      <td>125.0</td>\n",
       "      <td>1.008065</td>\n",
       "      <td>False</td>\n",
       "    </tr>\n",
       "  </tbody>\n",
       "</table>\n",
       "<p>549 rows × 88 columns</p>\n",
       "</div>"
      ],
      "text/plain": [
       "            nb_cases    nb_tests  nb_deaths        date  day_num  Jeju  \\\n",
       "date                                                                     \n",
       "2020-04-03   10062.0    424365.0      174.0  2020-04-03      5.0   0.0   \n",
       "2020-04-04   10156.0    434888.0      177.0  2020-04-04      6.0   0.0   \n",
       "2020-04-05   10237.0    441662.0      183.0  2020-04-05      0.0   3.0   \n",
       "2020-04-06   10284.0    447509.0      186.0  2020-04-06      1.0   0.0   \n",
       "2020-04-07   10331.0    456654.0      192.0  2020-04-07      2.0   0.0   \n",
       "...              ...         ...        ...         ...      ...   ...   \n",
       "2021-09-29  308723.0  13347641.0     2474.0  2021-09-29      3.0   5.0   \n",
       "2021-09-30  311286.0  13394597.0     2481.0  2021-09-30      4.0  15.0   \n",
       "2021-10-01  313772.0  13427198.0     2497.0  2021-10-01      5.0   9.0   \n",
       "2021-10-02  316020.0  13465168.0     2504.0  2021-10-02      6.0   8.0   \n",
       "2021-10-03  318105.0  13472249.0     2507.0  2021-10-03      0.0   5.0   \n",
       "\n",
       "            Gyeongnam  Gyeongbuk  Jeonnam  Jeonbuk  ...  Rt_Jeonbuk  \\\n",
       "date                                                ...               \n",
       "2020-04-03        1.0        5.0      1.0      1.0  ...    5.000000   \n",
       "2020-04-04        1.0        1.0      0.0      0.0  ...    5.000000   \n",
       "2020-04-05        1.0        4.0      0.0      1.0  ...    6.000000   \n",
       "2020-04-06        2.0        2.0      0.0      0.0  ...    6.000000   \n",
       "2020-04-07        1.0        1.0      0.0      0.0  ...    6.000000   \n",
       "...               ...        ...      ...      ...  ...         ...   \n",
       "2021-09-29       84.0       88.0     23.0     41.0  ...    2.096429   \n",
       "2021-09-30       67.0       52.0     24.0     35.0  ...    2.134752   \n",
       "2021-10-01       69.0       60.0     29.0     32.0  ...    2.062069   \n",
       "2021-10-02      108.0       56.0     22.0     23.0  ...    1.626113   \n",
       "2021-10-03       65.0       97.0     25.0     29.0  ...    1.623907   \n",
       "\n",
       "            sum_Jeonnam  Rt_Jeonnam  sum_Gyeongbuk  Rt_Gyeongbuk  \\\n",
       "date                                                               \n",
       "2020-04-03         10.0         inf          106.0      4.240000   \n",
       "2020-04-04         10.0         inf           67.0      1.030769   \n",
       "2020-04-05          9.0    9.000000           60.0      0.789474   \n",
       "2020-04-06          9.0    9.000000           60.0      0.769231   \n",
       "2020-04-07          9.0    9.000000           60.0      0.759494   \n",
       "...                 ...         ...            ...           ...   \n",
       "2021-09-29        218.0    0.968889          672.0      1.476923   \n",
       "2021-09-30        234.0    1.063636          691.0      1.549327   \n",
       "2021-10-01        250.0    1.146789          713.0      1.627854   \n",
       "2021-10-02        265.0    1.358974          745.0      1.765403   \n",
       "2021-10-03        278.0    1.455497          801.0      1.902613   \n",
       "\n",
       "            sum_Gyeongnam  Rt_Gyeongnam  sum_Jeju   Rt_Jeju  train  \n",
       "date                                                                \n",
       "2020-04-03           20.0     20.000000       5.0       inf   True  \n",
       "2020-04-04           21.0     21.000000       5.0       inf   True  \n",
       "2020-04-05           21.0     10.500000       8.0       inf   True  \n",
       "2020-04-06           22.0      7.333333       8.0       inf   True  \n",
       "2020-04-07           22.0      5.500000       8.0       inf   True  \n",
       "...                   ...           ...       ...       ...    ...  \n",
       "2021-09-29          658.0      0.937322     117.0  0.893130  False  \n",
       "2021-09-30          692.0      1.016153     121.0  0.923664  False  \n",
       "2021-10-01          726.0      1.091729     121.0  0.930769  False  \n",
       "2021-10-02          791.0      1.205793     126.0  1.008000  False  \n",
       "2021-10-03          834.0      1.332268     125.0  1.008065  False  \n",
       "\n",
       "[549 rows x 88 columns]"
      ]
     },
     "execution_count": 4,
     "metadata": {},
     "output_type": "execute_result"
    }
   ],
   "source": [
    "# load\n",
    "df_feat_kr = load_df_feat_kr()\n",
    "# clean\n",
    "df_feat_kr = prepare_data_features_kr(df_feat_kr)\n",
    "# split train/test\n",
    "df_feat_kr[\"train\"] = [True if I <= TRAIN_SPLIT else False \\\n",
    "                       for I in range(df_feat_kr.shape[0])]\n",
    "df_feat_kr"
   ]
  },
  {
   "cell_type": "code",
   "execution_count": 5,
   "metadata": {},
   "outputs": [
    {
     "data": {
      "text/html": [
       "<div>\n",
       "<style scoped>\n",
       "    .dataframe tbody tr th:only-of-type {\n",
       "        vertical-align: middle;\n",
       "    }\n",
       "\n",
       "    .dataframe tbody tr th {\n",
       "        vertical-align: top;\n",
       "    }\n",
       "\n",
       "    .dataframe thead th {\n",
       "        text-align: right;\n",
       "    }\n",
       "</style>\n",
       "<table border=\"1\" class=\"dataframe\">\n",
       "  <thead>\n",
       "    <tr style=\"text-align: right;\">\n",
       "      <th></th>\n",
       "      <th>nb_cases</th>\n",
       "      <th>nb_tests</th>\n",
       "      <th>nb_deaths</th>\n",
       "      <th>date</th>\n",
       "      <th>day_num</th>\n",
       "      <th>Jeju</th>\n",
       "      <th>Gyeongnam</th>\n",
       "      <th>Gyeongbuk</th>\n",
       "      <th>Jeonnam</th>\n",
       "      <th>Jeonbuk</th>\n",
       "      <th>...</th>\n",
       "      <th>Rt_Jeonbuk</th>\n",
       "      <th>sum_Jeonnam</th>\n",
       "      <th>Rt_Jeonnam</th>\n",
       "      <th>sum_Gyeongbuk</th>\n",
       "      <th>Rt_Gyeongbuk</th>\n",
       "      <th>sum_Gyeongnam</th>\n",
       "      <th>Rt_Gyeongnam</th>\n",
       "      <th>sum_Jeju</th>\n",
       "      <th>Rt_Jeju</th>\n",
       "      <th>train</th>\n",
       "    </tr>\n",
       "    <tr>\n",
       "      <th>date</th>\n",
       "      <th></th>\n",
       "      <th></th>\n",
       "      <th></th>\n",
       "      <th></th>\n",
       "      <th></th>\n",
       "      <th></th>\n",
       "      <th></th>\n",
       "      <th></th>\n",
       "      <th></th>\n",
       "      <th></th>\n",
       "      <th></th>\n",
       "      <th></th>\n",
       "      <th></th>\n",
       "      <th></th>\n",
       "      <th></th>\n",
       "      <th></th>\n",
       "      <th></th>\n",
       "      <th></th>\n",
       "      <th></th>\n",
       "      <th></th>\n",
       "      <th></th>\n",
       "    </tr>\n",
       "  </thead>\n",
       "  <tbody>\n",
       "    <tr>\n",
       "      <th>2021-06-17</th>\n",
       "      <td>149731.0</td>\n",
       "      <td>10136517.0</td>\n",
       "      <td>1994.0</td>\n",
       "      <td>2021-06-17</td>\n",
       "      <td>4.0</td>\n",
       "      <td>8.0</td>\n",
       "      <td>5.0</td>\n",
       "      <td>3.0</td>\n",
       "      <td>6.0</td>\n",
       "      <td>7.0</td>\n",
       "      <td>...</td>\n",
       "      <td>0.461538</td>\n",
       "      <td>89.0</td>\n",
       "      <td>0.654412</td>\n",
       "      <td>104.0</td>\n",
       "      <td>0.611765</td>\n",
       "      <td>310.0</td>\n",
       "      <td>1.270492</td>\n",
       "      <td>147.0</td>\n",
       "      <td>0.913043</td>\n",
       "      <td>False</td>\n",
       "    </tr>\n",
       "    <tr>\n",
       "      <th>2021-06-18</th>\n",
       "      <td>150238.0</td>\n",
       "      <td>10168211.0</td>\n",
       "      <td>1996.0</td>\n",
       "      <td>2021-06-18</td>\n",
       "      <td>5.0</td>\n",
       "      <td>6.0</td>\n",
       "      <td>14.0</td>\n",
       "      <td>11.0</td>\n",
       "      <td>4.0</td>\n",
       "      <td>4.0</td>\n",
       "      <td>...</td>\n",
       "      <td>0.528846</td>\n",
       "      <td>81.0</td>\n",
       "      <td>0.618321</td>\n",
       "      <td>104.0</td>\n",
       "      <td>0.611765</td>\n",
       "      <td>280.0</td>\n",
       "      <td>1.037037</td>\n",
       "      <td>132.0</td>\n",
       "      <td>0.745763</td>\n",
       "      <td>False</td>\n",
       "    </tr>\n",
       "    <tr>\n",
       "      <th>2021-06-19</th>\n",
       "      <td>150720.0</td>\n",
       "      <td>10194433.0</td>\n",
       "      <td>1997.0</td>\n",
       "      <td>2021-06-19</td>\n",
       "      <td>6.0</td>\n",
       "      <td>7.0</td>\n",
       "      <td>11.0</td>\n",
       "      <td>4.0</td>\n",
       "      <td>5.0</td>\n",
       "      <td>5.0</td>\n",
       "      <td>...</td>\n",
       "      <td>0.433962</td>\n",
       "      <td>72.0</td>\n",
       "      <td>0.558140</td>\n",
       "      <td>98.0</td>\n",
       "      <td>0.597561</td>\n",
       "      <td>271.0</td>\n",
       "      <td>1.007435</td>\n",
       "      <td>117.0</td>\n",
       "      <td>0.609375</td>\n",
       "      <td>False</td>\n",
       "    </tr>\n",
       "    <tr>\n",
       "      <th>2021-06-20</th>\n",
       "      <td>151149.0</td>\n",
       "      <td>10204572.0</td>\n",
       "      <td>2002.0</td>\n",
       "      <td>2021-06-20</td>\n",
       "      <td>0.0</td>\n",
       "      <td>2.0</td>\n",
       "      <td>11.0</td>\n",
       "      <td>6.0</td>\n",
       "      <td>3.0</td>\n",
       "      <td>3.0</td>\n",
       "      <td>...</td>\n",
       "      <td>0.532609</td>\n",
       "      <td>66.0</td>\n",
       "      <td>0.515625</td>\n",
       "      <td>94.0</td>\n",
       "      <td>0.580247</td>\n",
       "      <td>265.0</td>\n",
       "      <td>0.985130</td>\n",
       "      <td>100.0</td>\n",
       "      <td>0.492611</td>\n",
       "      <td>False</td>\n",
       "    </tr>\n",
       "    <tr>\n",
       "      <th>2021-06-21</th>\n",
       "      <td>151506.0</td>\n",
       "      <td>10217614.0</td>\n",
       "      <td>2004.0</td>\n",
       "      <td>2021-06-21</td>\n",
       "      <td>1.0</td>\n",
       "      <td>3.0</td>\n",
       "      <td>13.0</td>\n",
       "      <td>8.0</td>\n",
       "      <td>10.0</td>\n",
       "      <td>3.0</td>\n",
       "      <td>...</td>\n",
       "      <td>0.538462</td>\n",
       "      <td>73.0</td>\n",
       "      <td>0.623932</td>\n",
       "      <td>93.0</td>\n",
       "      <td>0.584906</td>\n",
       "      <td>250.0</td>\n",
       "      <td>0.892857</td>\n",
       "      <td>90.0</td>\n",
       "      <td>0.456853</td>\n",
       "      <td>False</td>\n",
       "    </tr>\n",
       "  </tbody>\n",
       "</table>\n",
       "<p>5 rows × 88 columns</p>\n",
       "</div>"
      ],
      "text/plain": [
       "            nb_cases    nb_tests  nb_deaths        date  day_num  Jeju  \\\n",
       "date                                                                     \n",
       "2021-06-17  149731.0  10136517.0     1994.0  2021-06-17      4.0   8.0   \n",
       "2021-06-18  150238.0  10168211.0     1996.0  2021-06-18      5.0   6.0   \n",
       "2021-06-19  150720.0  10194433.0     1997.0  2021-06-19      6.0   7.0   \n",
       "2021-06-20  151149.0  10204572.0     2002.0  2021-06-20      0.0   2.0   \n",
       "2021-06-21  151506.0  10217614.0     2004.0  2021-06-21      1.0   3.0   \n",
       "\n",
       "            Gyeongnam  Gyeongbuk  Jeonnam  Jeonbuk  ...  Rt_Jeonbuk  \\\n",
       "date                                                ...               \n",
       "2021-06-17        5.0        3.0      6.0      7.0  ...    0.461538   \n",
       "2021-06-18       14.0       11.0      4.0      4.0  ...    0.528846   \n",
       "2021-06-19       11.0        4.0      5.0      5.0  ...    0.433962   \n",
       "2021-06-20       11.0        6.0      3.0      3.0  ...    0.532609   \n",
       "2021-06-21       13.0        8.0     10.0      3.0  ...    0.538462   \n",
       "\n",
       "            sum_Jeonnam  Rt_Jeonnam  sum_Gyeongbuk  Rt_Gyeongbuk  \\\n",
       "date                                                               \n",
       "2021-06-17         89.0    0.654412          104.0      0.611765   \n",
       "2021-06-18         81.0    0.618321          104.0      0.611765   \n",
       "2021-06-19         72.0    0.558140           98.0      0.597561   \n",
       "2021-06-20         66.0    0.515625           94.0      0.580247   \n",
       "2021-06-21         73.0    0.623932           93.0      0.584906   \n",
       "\n",
       "            sum_Gyeongnam  Rt_Gyeongnam  sum_Jeju   Rt_Jeju  train  \n",
       "date                                                                \n",
       "2021-06-17          310.0      1.270492     147.0  0.913043  False  \n",
       "2021-06-18          280.0      1.037037     132.0  0.745763  False  \n",
       "2021-06-19          271.0      1.007435     117.0  0.609375  False  \n",
       "2021-06-20          265.0      0.985130     100.0  0.492611  False  \n",
       "2021-06-21          250.0      0.892857      90.0  0.456853  False  \n",
       "\n",
       "[5 rows x 88 columns]"
      ]
     },
     "execution_count": 5,
     "metadata": {},
     "output_type": "execute_result"
    }
   ],
   "source": [
    "df_feat_kr[df_feat_kr[\"train\"] == False].head(5)"
   ]
  },
  {
   "cell_type": "markdown",
   "metadata": {},
   "source": [
    "### Prepare dataset"
   ]
  },
  {
   "cell_type": "code",
   "execution_count": 6,
   "metadata": {},
   "outputs": [
    {
     "name": "stdout",
     "output_type": "stream",
     "text": [
      "[[-0.52130673 -0.1031765  -1.10889485 ... -0.70980736  0.99915011\n",
      "  -0.34245495]\n",
      " [-0.5177716  -0.19956414 -1.28111519 ... -0.70881939  1.49815682\n",
      "  -0.34245495]\n",
      " [-0.7970468  -0.57740371 -1.79588107 ... -0.94031407 -1.49588344\n",
      "  -0.34245495]\n",
      " ...\n",
      " [ 0.63821562  0.98022063  0.93216493 ...  0.6544614   0.99915011\n",
      "  -1.25058298]\n",
      " [ 0.76548027  0.98793164  0.74857378 ...  0.98598847  1.49815682\n",
      "  -1.27792609]\n",
      " [ 0.69831282  0.48286038  1.61749291 ... -0.92135732 -1.49588344\n",
      "  -1.27792609]]\n",
      "data_mean :  [1.01488231e+01 1.97253607e+01 6.22433941e+01 1.86501139e+01\n",
      " 3.15876993e+02 2.20021572e+04 2.99772210e+00 4.38250512e+01]\n",
      "data_std :  [9.42916997e+00 8.64564472e+00 1.40711215e+01 6.00590525e+00\n",
      " 3.16601549e+02 1.61947562e+04 2.00398107e+00 5.62668464e+00]\n"
     ]
    }
   ],
   "source": [
    "dataset, data_std, data_mean = prepare_dataset_kr(df_feat_kr)\n",
    "print(dataset)\n",
    "print(\"data_mean : \", data_mean)\n",
    "print(\"data_std : \", data_std)"
   ]
  },
  {
   "cell_type": "code",
   "execution_count": 7,
   "metadata": {},
   "outputs": [
    {
     "data": {
      "text/plain": [
       "8"
      ]
     },
     "execution_count": 7,
     "metadata": {},
     "output_type": "execute_result"
    }
   ],
   "source": [
    "dataset.shape[1]"
   ]
  },
  {
   "cell_type": "code",
   "execution_count": 8,
   "metadata": {},
   "outputs": [
    {
     "data": {
      "text/plain": [
       "14"
      ]
     },
     "execution_count": 8,
     "metadata": {},
     "output_type": "execute_result"
    }
   ],
   "source": [
    "PAST_HISTORY"
   ]
  },
  {
   "cell_type": "code",
   "execution_count": 9,
   "metadata": {},
   "outputs": [
    {
     "data": {
      "text/plain": [
       "8"
      ]
     },
     "execution_count": 9,
     "metadata": {},
     "output_type": "execute_result"
    }
   ],
   "source": [
    "dataset.shape[1]"
   ]
  },
  {
   "cell_type": "markdown",
   "metadata": {},
   "source": [
    "### Load model"
   ]
  },
  {
   "cell_type": "code",
   "execution_count": 10,
   "metadata": {},
   "outputs": [
    {
     "name": "stdout",
     "output_type": "stream",
     "text": [
      "CPU times: user 1.34 s, sys: 53.7 ms, total: 1.4 s\n",
      "Wall time: 1.45 s\n"
     ]
    }
   ],
   "source": [
    "%%time\n",
    "# reload best model\n",
    "multi_step_model = tf.keras.models.load_model(PATH_MDL_MULTI_STEP_KR)"
   ]
  },
  {
   "cell_type": "code",
   "execution_count": 11,
   "metadata": {},
   "outputs": [
    {
     "data": {
      "text/plain": [
       "tf.float32"
      ]
     },
     "execution_count": 11,
     "metadata": {},
     "output_type": "execute_result"
    }
   ],
   "source": [
    "multi_step_model.inputs[0].dtype"
   ]
  },
  {
   "cell_type": "code",
   "execution_count": 12,
   "metadata": {
    "scrolled": false
   },
   "outputs": [
    {
     "name": "stdout",
     "output_type": "stream",
     "text": [
      "INFO:tensorflow:Assets written to: /Users/gregory/Documents/CloudStationSinchon/Applications/python/CoronaVirus/code/coronavirusModel/keras_lstm/assets\n"
     ]
    }
   ],
   "source": [
    "run_model = tf.function(lambda x: multi_step_model(x))\n",
    "# This is important, let's fix the input size.\n",
    "INPUT_SIZE = dataset.shape[1]\n",
    "concrete_func = run_model.get_concrete_function(\n",
    "    tf.TensorSpec([1, PAST_HISTORY, INPUT_SIZE],\n",
    "                  multi_step_model.inputs[0].dtype))\n",
    "\n",
    "# model directory.\n",
    "MODEL_DIR = PATH_TO_SAVE_DATA + \"/\" + \"keras_lstm\"\n",
    "multi_step_model.save(MODEL_DIR, save_format=\"tf\", signatures=concrete_func)\n",
    "\n",
    "converter = tf.lite.TFLiteConverter.from_saved_model(MODEL_DIR)\n",
    "\n",
    "'''converter.target_spec.supported_ops = [\n",
    "  tf.lite.OpsSet.TFLITE_BUILTINS, # enable TensorFlow Lite ops.\n",
    "  tf.lite.OpsSet.SELECT_TF_OPS # enable TensorFlow ops.\n",
    "]\n",
    "converter.allow_custom_ops=True'''\n",
    "\n",
    "tflite_model = converter.convert()"
   ]
  },
  {
   "cell_type": "markdown",
   "metadata": {},
   "source": [
    "### Save model TFlite"
   ]
  },
  {
   "cell_type": "code",
   "execution_count": 13,
   "metadata": {},
   "outputs": [
    {
     "name": "stdout",
     "output_type": "stream",
     "text": [
      "File /Users/gregory/Documents/CloudStationSinchon/Applications/python/CoronaVirus/code/coronavirusModel/serverless/tensorflow_lite_on_aws_lambda_kr/converted_model_20211004_09_15_59.tflite moved!\n"
     ]
    }
   ],
   "source": [
    "clean_file(PATH_MDL_MULTI_TFLITE_FILE_KR)"
   ]
  },
  {
   "cell_type": "code",
   "execution_count": 14,
   "metadata": {},
   "outputs": [
    {
     "data": {
      "text/plain": [
       "16684"
      ]
     },
     "execution_count": 14,
     "metadata": {},
     "output_type": "execute_result"
    }
   ],
   "source": [
    "open(PATH_MDL_MULTI_TFLITE_FILE_KR, \"wb\").write(tflite_model)"
   ]
  },
  {
   "cell_type": "markdown",
   "metadata": {},
   "source": [
    "## Test converted model"
   ]
  },
  {
   "cell_type": "markdown",
   "metadata": {},
   "source": [
    "### Predict with TF model (not-converted one)"
   ]
  },
  {
   "cell_type": "markdown",
   "metadata": {},
   "source": [
    "#### Past days"
   ]
  },
  {
   "cell_type": "code",
   "execution_count": 15,
   "metadata": {},
   "outputs": [
    {
     "name": "stdout",
     "output_type": "stream",
     "text": [
      "[472 - 486]\n",
      "[479 - 493]\n",
      "[486 - 500]\n",
      "[493 - 507]\n",
      "[500 - 514]\n",
      "[507 - 521]\n",
      "[514 - 528]\n",
      "[521 - 535]\n",
      "[528 - 542]\n",
      "9\n"
     ]
    },
    {
     "data": {
      "text/plain": [
       "array([[1260.4694, 1160.9229, 1165.4574, 1165.5531, 1154.5641, 1148.7303,\n",
       "        1148.8328, 1272.7074, 1153.6986, 1158.1047, 1154.0541, 1141.6432,\n",
       "        1134.2705, 1136.2869, 1233.2959, 1143.6906, 1150.3574, 1146.8824,\n",
       "        1136.401 , 1129.2086, 1131.7054, 1314.1809, 1186.1752, 1190.2443,\n",
       "        1187.3574, 1177.5183, 1169.4241, 1172.5819, 1291.4713, 1177.1617,\n",
       "        1182.4962, 1178.139 , 1168.9706, 1160.4213, 1164.6143, 1170.6969,\n",
       "        1097.6621, 1102.1625, 1101.6741, 1090.5089, 1085.5936, 1085.1849,\n",
       "        1261.0684, 1151.3933, 1155.823 , 1151.1031, 1139.5338, 1130.4872,\n",
       "        1134.6945, 1294.6132, 1175.636 , 1180.804 , 1176.0377, 1166.109 ,\n",
       "        1156.1957, 1161.697 , 1314.4135, 1164.5364, 1167.9023, 1167.0577,\n",
       "        1159.0155, 1151.7686, 1153.8883]], dtype=float32)"
      ]
     },
     "execution_count": 15,
     "metadata": {},
     "output_type": "execute_result"
    }
   ],
   "source": [
    "# TENSORFLOW MODEL :\n",
    "# prepare list of past histories\n",
    "list_x = create_list_past_hist(dataset)\n",
    "# predict\n",
    "y_multi_pred = predict_list(list_x, multi_step_model)\n",
    "# convert in positive cases\n",
    "y_pos_pred = (y_multi_pred * data_std[4]) + data_mean[4] \n",
    "y_pos_pred"
   ]
  },
  {
   "cell_type": "markdown",
   "metadata": {},
   "source": [
    "#### Future days"
   ]
  },
  {
   "cell_type": "code",
   "execution_count": 16,
   "metadata": {},
   "outputs": [],
   "source": [
    "# prepare data : very last days\n",
    "x_for_future = np.array([dataset[-PAST_HISTORY:,:]]) \n",
    "# predict next days\n",
    "y_future_pred = multi_step_model.predict(x_for_future)"
   ]
  },
  {
   "cell_type": "markdown",
   "metadata": {},
   "source": [
    "### Predict with TFlite & Compare "
   ]
  },
  {
   "cell_type": "markdown",
   "metadata": {},
   "source": [
    "#### Past days"
   ]
  },
  {
   "cell_type": "code",
   "execution_count": 17,
   "metadata": {},
   "outputs": [
    {
     "name": "stdout",
     "output_type": "stream",
     "text": [
      "Done. The result of TensorFlow matches the result of TensorFlow Lite.\n",
      "Done. The result of TensorFlow matches the result of TensorFlow Lite.\n",
      "Done. The result of TensorFlow matches the result of TensorFlow Lite.\n",
      "Done. The result of TensorFlow matches the result of TensorFlow Lite.\n",
      "Done. The result of TensorFlow matches the result of TensorFlow Lite.\n",
      "Done. The result of TensorFlow matches the result of TensorFlow Lite.\n",
      "Done. The result of TensorFlow matches the result of TensorFlow Lite.\n",
      "Done. The result of TensorFlow matches the result of TensorFlow Lite.\n",
      "Done. The result of TensorFlow matches the result of TensorFlow Lite.\n"
     ]
    }
   ],
   "source": [
    "# CONVERTED LITE MODEL\n",
    "# load \n",
    "interpreter = tf.lite.Interpreter(model_content=tflite_model)\n",
    "\n",
    "# Run the model with TensorFlow Lite\n",
    "interpreter.allocate_tensors()\n",
    "input_details = interpreter.get_input_details()\n",
    "output_details = interpreter.get_output_details()\n",
    "\n",
    "# check if same results \n",
    "for x_multi in list_x:\n",
    "    # predict with tensorflow model\n",
    "    expected = multi_step_model.predict(x_multi)\n",
    "    # predict with TFlite model\n",
    "    interpreter.set_tensor(input_details[0][\"index\"], \n",
    "                           x_multi.astype(np.float32))\n",
    "    interpreter.invoke()\n",
    "    result = interpreter.get_tensor(output_details[0][\"index\"])\n",
    "\n",
    "    # Assert if the result of TFLite model is consistent with the TF model.\n",
    "    np.testing.assert_almost_equal(expected, result, decimal=3)\n",
    "    print(\"Done. The result of TensorFlow matches the result of TensorFlow Lite.\")\n",
    "\n",
    "    # Please note: TfLite fused Lstm kernel is stateful, so we need to reset\n",
    "    # the states.\n",
    "    # Clean up internal states.\n",
    "    interpreter.reset_all_variables()"
   ]
  },
  {
   "cell_type": "markdown",
   "metadata": {},
   "source": [
    "### Reload Tlite model"
   ]
  },
  {
   "cell_type": "code",
   "execution_count": 18,
   "metadata": {},
   "outputs": [],
   "source": [
    "interpreter = tf.lite.Interpreter(model_path=PATH_MDL_MULTI_TFLITE_FILE_KR)"
   ]
  },
  {
   "cell_type": "code",
   "execution_count": 19,
   "metadata": {},
   "outputs": [
    {
     "data": {
      "text/plain": [
       "'/Users/gregory/Documents/CloudStationSinchon/Applications/python/CoronaVirus/code/coronavirusModel/serverless/tensorflow_lite_on_aws_lambda_kr/converted_model.tflite'"
      ]
     },
     "execution_count": 19,
     "metadata": {},
     "output_type": "execute_result"
    }
   ],
   "source": [
    "PATH_MDL_MULTI_TFLITE_FILE_KR"
   ]
  },
  {
   "cell_type": "markdown",
   "metadata": {},
   "source": [
    "### Predict reloaded model"
   ]
  },
  {
   "cell_type": "markdown",
   "metadata": {},
   "source": [
    "#### Past days"
   ]
  },
  {
   "cell_type": "code",
   "execution_count": 20,
   "metadata": {},
   "outputs": [
    {
     "name": "stdout",
     "output_type": "stream",
     "text": [
      "Done. The result of TensorFlow matches the result of TensorFlow Lite.\n",
      "Done. The result of TensorFlow matches the result of TensorFlow Lite.\n",
      "Done. The result of TensorFlow matches the result of TensorFlow Lite.\n",
      "Done. The result of TensorFlow matches the result of TensorFlow Lite.\n",
      "Done. The result of TensorFlow matches the result of TensorFlow Lite.\n",
      "Done. The result of TensorFlow matches the result of TensorFlow Lite.\n",
      "Done. The result of TensorFlow matches the result of TensorFlow Lite.\n",
      "Done. The result of TensorFlow matches the result of TensorFlow Lite.\n",
      "Done. The result of TensorFlow matches the result of TensorFlow Lite.\n"
     ]
    }
   ],
   "source": [
    "# Run the model with TensorFlow Lite\n",
    "interpreter.allocate_tensors()\n",
    "input_details = interpreter.get_input_details()\n",
    "output_details = interpreter.get_output_details()\n",
    "\n",
    "# check if same results \n",
    "for x_multi in list_x:\n",
    "    \n",
    "    expected = multi_step_model.predict(x_multi)\n",
    "    \n",
    "    interpreter.set_tensor(input_details[0][\"index\"], \n",
    "                           x_multi.astype(np.float32))\n",
    "    interpreter.invoke()\n",
    "    result = interpreter.get_tensor(output_details[0][\"index\"])\n",
    "\n",
    "    # Assert if the result of TFLite model is consistent with the TF model.\n",
    "    np.testing.assert_almost_equal(expected, result, decimal=3)\n",
    "    print(\"Done. The result of TensorFlow matches the result of TensorFlow Lite.\")\n",
    "\n",
    "    # Please note: TfLite fused Lstm kernel is stateful, so we need to reset\n",
    "    # the states.\n",
    "    # Clean up internal states.\n",
    "    interpreter.reset_all_variables()"
   ]
  },
  {
   "cell_type": "code",
   "execution_count": 21,
   "metadata": {},
   "outputs": [
    {
     "data": {
      "text/plain": [
       "(1, 14, 8)"
      ]
     },
     "execution_count": 21,
     "metadata": {},
     "output_type": "execute_result"
    }
   ],
   "source": [
    "x_multi.shape"
   ]
  },
  {
   "cell_type": "code",
   "execution_count": 22,
   "metadata": {},
   "outputs": [
    {
     "data": {
      "text/plain": [
       "9"
      ]
     },
     "execution_count": 22,
     "metadata": {},
     "output_type": "execute_result"
    }
   ],
   "source": [
    "len(list_x)"
   ]
  },
  {
   "cell_type": "markdown",
   "metadata": {},
   "source": [
    "## Update API lambda AWS"
   ]
  },
  {
   "cell_type": "markdown",
   "metadata": {},
   "source": [
    "### API lambda simulate"
   ]
  },
  {
   "cell_type": "markdown",
   "metadata": {},
   "source": [
    "#### Past days"
   ]
  },
  {
   "cell_type": "code",
   "execution_count": 23,
   "metadata": {},
   "outputs": [
    {
     "data": {
      "text/plain": [
       "(549, 8)"
      ]
     },
     "execution_count": 23,
     "metadata": {},
     "output_type": "execute_result"
    }
   ],
   "source": [
    "dataset.shape"
   ]
  },
  {
   "cell_type": "code",
   "execution_count": 24,
   "metadata": {},
   "outputs": [
    {
     "name": "stdout",
     "output_type": "stream",
     "text": [
      "[472 - 486]\n",
      "[479 - 493]\n",
      "[486 - 500]\n",
      "[493 - 507]\n",
      "[500 - 514]\n",
      "[507 - 521]\n",
      "[514 - 528]\n",
      "[521 - 535]\n",
      "[528 - 542]\n"
     ]
    }
   ],
   "source": [
    "json_list_list_x = prepare_to_lambda(dataset)\n",
    "# simulate input to lambda (double dumps ? why ? i don't know yet)\n",
    "json_list_list_x = json.dumps(json_list_list_x)\n",
    "# simulate lambda\n",
    "\n",
    "event = {\"body\": json_list_list_x}"
   ]
  },
  {
   "cell_type": "code",
   "execution_count": 25,
   "metadata": {},
   "outputs": [
    {
     "name": "stdout",
     "output_type": "stream",
     "text": [
      "INPUT : nb. arr. : 9 / arrays shape: (1, 14, 8)\n",
      "OUTPUT : nb. arrays : 9 / arrays shape in list: (1, 7)\n"
     ]
    }
   ],
   "source": [
    "# lambda code (file ./serverless/tensorflow-lite-on-aws-lambda/handler.py)\n",
    "from serverless.tensorflow_lite_on_aws_lambda_kr.handler import predict\n",
    "context = None\n",
    "response = predict(event, context)\n"
   ]
  },
  {
   "cell_type": "code",
   "execution_count": 26,
   "metadata": {},
   "outputs": [
    {
     "data": {
      "text/plain": [
       "(1, 63)"
      ]
     },
     "execution_count": 26,
     "metadata": {},
     "output_type": "execute_result"
    }
   ],
   "source": [
    "# Retrieve from lambda in App code\n",
    "# input : response\n",
    "y_multi_pred_out = retrieve_from_lambda(response)      \n",
    "y_multi_pred_out.shape"
   ]
  },
  {
   "cell_type": "code",
   "execution_count": 27,
   "metadata": {},
   "outputs": [
    {
     "data": {
      "text/plain": [
       "array([[2.9835367, 2.6691148, 2.683437 , 2.6837394, 2.6490302, 2.6306043,\n",
       "        2.6309276, 3.022191 , 2.6462967, 2.6602135, 2.6474192, 2.608219 ,\n",
       "        2.584932 , 2.5913007, 2.8977082, 2.6146855, 2.6357434, 2.6247675,\n",
       "        2.5916612, 2.568944 , 2.5768301, 3.153187 , 2.7488751, 2.7617278,\n",
       "        2.7526093, 2.721532 , 2.695966 , 2.7059402, 3.0814576, 2.7204058,\n",
       "        2.737255 , 2.7234929, 2.6945336, 2.6675305, 2.680774 , 2.6999865,\n",
       "        2.4693027, 2.4835174, 2.4819748, 2.4467092, 2.431184 , 2.429893 ,\n",
       "        2.9854286, 2.6390152, 2.6530066, 2.6380987, 2.6015563, 2.572982 ,\n",
       "        2.5862713, 3.0913813, 2.715587 , 2.73191  , 2.7168558, 2.6854954,\n",
       "        2.6541836, 2.6715598, 3.1539216, 2.6805282, 2.6911597, 2.6884918,\n",
       "        2.6630902, 2.6402004, 2.6468956]], dtype=float32)"
      ]
     },
     "execution_count": 27,
     "metadata": {},
     "output_type": "execute_result"
    }
   ],
   "source": [
    "y_multi_pred"
   ]
  },
  {
   "cell_type": "code",
   "execution_count": 28,
   "metadata": {},
   "outputs": [
    {
     "data": {
      "text/plain": [
       "array([[2.98353624, 2.66911483, 2.68343711, 2.6837399 , 2.64902997,\n",
       "        2.63060403, 2.63092709, 3.02219105, 2.64629626, 2.66021347,\n",
       "        2.64741945, 2.60821891, 2.58493233, 2.59130096, 2.89770889,\n",
       "        2.61468577, 2.63574386, 2.62476802, 2.59166145, 2.56894445,\n",
       "        2.57683086, 3.15318727, 2.74887538, 2.76172757, 2.75260901,\n",
       "        2.72153211, 2.69596601, 2.70594072, 3.08145761, 2.72040534,\n",
       "        2.73725486, 2.72349286, 2.69453311, 2.66753078, 2.68077374,\n",
       "        2.69998598, 2.46930242, 2.48351741, 2.4819746 , 2.44670868,\n",
       "        2.43118358, 2.42989302, 2.98542833, 2.63901496, 2.65300679,\n",
       "        2.63809896, 2.6015563 , 2.57298207, 2.58627129, 3.09138155,\n",
       "        2.7155869 , 2.73191023, 2.716856  , 2.68549514, 2.65418363,\n",
       "        2.67155981, 3.15392184, 2.68052793, 2.69115949, 2.68849206,\n",
       "        2.66309023, 2.64020014, 2.64689565]])"
      ]
     },
     "execution_count": 28,
     "metadata": {},
     "output_type": "execute_result"
    }
   ],
   "source": [
    "y_multi_pred_out"
   ]
  },
  {
   "cell_type": "code",
   "execution_count": 29,
   "metadata": {},
   "outputs": [
    {
     "name": "stdout",
     "output_type": "stream",
     "text": [
      "Done. The result of TensorFlow matches the result of TensorFlow Lite.\n"
     ]
    }
   ],
   "source": [
    "# Assert if the result of TFLite model is consistent with the TF model.\n",
    "np.testing.assert_almost_equal(y_multi_pred, y_multi_pred_out, decimal=3)\n",
    "print(\"Done. The result of TensorFlow matches the result of TensorFlow Lite.\")"
   ]
  },
  {
   "cell_type": "markdown",
   "metadata": {},
   "source": [
    "#### Future days"
   ]
  },
  {
   "cell_type": "code",
   "execution_count": 30,
   "metadata": {},
   "outputs": [
    {
     "name": "stdout",
     "output_type": "stream",
     "text": [
      "INPUT : nb. arr. : 1 / arrays shape: (1, 14, 8)\n",
      "OUTPUT : nb. arrays : 1 / arrays shape in list: (1, 7)\n"
     ]
    },
    {
     "data": {
      "text/plain": [
       "(1, 7)"
      ]
     },
     "execution_count": 30,
     "metadata": {},
     "output_type": "execute_result"
    }
   ],
   "source": [
    "# Prepare data to lambda (future)\n",
    "json_list_list_x = prepare_to_lambda_future(dataset)\n",
    "\n",
    "# simulate lambda\n",
    "json_list_list_x = json.dumps(json_list_list_x) # dumps again : I dont know why\n",
    "event = {\"body\": json_list_list_x}\n",
    "context = None\n",
    "response = predict(event, context)\n",
    "y_future_pred_out = retrieve_from_lambda(response)      \n",
    "y_future_pred_out.shape"
   ]
  },
  {
   "cell_type": "code",
   "execution_count": 31,
   "metadata": {},
   "outputs": [
    {
     "data": {
      "text/plain": [
       "array([[3.14868689, 2.70926642, 2.72432876, 2.71968555, 2.69478297,\n",
       "        2.67252994, 2.67944908]])"
      ]
     },
     "execution_count": 31,
     "metadata": {},
     "output_type": "execute_result"
    }
   ],
   "source": [
    "y_future_pred_out"
   ]
  },
  {
   "cell_type": "code",
   "execution_count": 32,
   "metadata": {},
   "outputs": [
    {
     "data": {
      "text/plain": [
       "array([[3.1486866, 2.7092664, 2.7243288, 2.7196858, 2.694783 , 2.67253  ,\n",
       "        2.6794493]], dtype=float32)"
      ]
     },
     "execution_count": 32,
     "metadata": {},
     "output_type": "execute_result"
    }
   ],
   "source": [
    "y_future_pred"
   ]
  },
  {
   "cell_type": "code",
   "execution_count": 33,
   "metadata": {},
   "outputs": [
    {
     "name": "stdout",
     "output_type": "stream",
     "text": [
      "Done. The result of TensorFlow matches the result of TensorFlow Lite.\n"
     ]
    }
   ],
   "source": [
    "# Assert if the result of TFLite model is consistent with the TF model.\n",
    "np.testing.assert_almost_equal(y_future_pred, y_future_pred_out, decimal=3)\n",
    "print(\"Done. The result of TensorFlow matches the result of TensorFlow Lite.\")"
   ]
  },
  {
   "cell_type": "markdown",
   "metadata": {},
   "source": [
    "### Update AWS Lambda with new model\n"
   ]
  },
  {
   "cell_type": "markdown",
   "metadata": {},
   "source": [
    "This part does:\n",
    "- Go to : ./serverless//tensorflow-lite-on-aws-lambda-kr\n",
    "    \n",
    "- Execute : sls deploy -v"
   ]
  },
  {
   "cell_type": "code",
   "execution_count": 34,
   "metadata": {},
   "outputs": [
    {
     "data": {
      "text/plain": [
       "'#!/bin/bash\\nexport PATH=\"/usr/local/bin:$PATH\"\\ncd /Users/gregory/Documents/CloudStationSinchon/Applications/python/CoronaVirus/code/coronavirusModel/serverless/tensorflow_lite_on_aws_lambda_kr\\nserverless deploy -v'"
      ]
     },
     "execution_count": 34,
     "metadata": {},
     "output_type": "execute_result"
    }
   ],
   "source": [
    "str_exe = '#!/bin/bash\\n' + \\\n",
    "    'export PATH=\"/usr/local/bin:$PATH\"\\n' + \\\n",
    "    f'cd {PATH_MDL_MULTI_TFLITE_KR}\\n' + \\\n",
    "    'serverless deploy -v'\n",
    "str_exe"
   ]
  },
  {
   "cell_type": "code",
   "execution_count": 35,
   "metadata": {},
   "outputs": [],
   "source": [
    "open('deploy_serverless_kr.sh', \"w\").write(str_exe)\n",
    "os.chmod('deploy_serverless_kr.sh', stat.S_IRWXU)"
   ]
  },
  {
   "cell_type": "code",
   "execution_count": 36,
   "metadata": {},
   "outputs": [
    {
     "name": "stdout",
     "output_type": "stream",
     "text": [
      "#!/bin/bash\r\n",
      "export PATH=\"/usr/local/bin:$PATH\"\r\n",
      "cd /Users/gregory/Documents/CloudStationSinchon/Applications/python/CoronaVirus/code/coronavirusModel/serverless/tensorflow_lite_on_aws_lambda_kr\r\n",
      "serverless deploy -v"
     ]
    }
   ],
   "source": [
    "!cat ./deploy_serverless_kr.sh"
   ]
  },
  {
   "cell_type": "code",
   "execution_count": 37,
   "metadata": {},
   "outputs": [
    {
     "name": "stdout",
     "output_type": "stream",
     "text": [
      "Serverless: \u001b[93mDeprecation warning: Resolution of lambda version hashes was improved with better algorithm, which will be used in next major release.\u001b[39m\n",
      "\u001b[93m            Switch to it now by setting \"provider.lambdaHashingVersion\" to \"20201221\"\u001b[39m\n",
      "            \u001b[93mMore Info: https://www.serverless.com/framework/docs/deprecations/#LAMBDA_HASHING_VERSION_V2\u001b[39m\n",
      "Serverless: \u001b[33mGenerated requirements from /Users/gregory/Documents/CloudStationSinchon/Applications/python/CoronaVirus/code/coronavirusModel/serverless/tensorflow_lite_on_aws_lambda_kr/requirements.txt in /Users/gregory/Documents/CloudStationSinchon/Applications/python/CoronaVirus/code/coronavirusModel/serverless/tensorflow_lite_on_aws_lambda_kr/.serverless/requirements.txt...\u001b[39m\n",
      "Serverless: \u001b[33mUsing static cache of requirements found at /Users/gregory/Library/Caches/serverless-python-requirements/eddadf68f9f2c21cf494701082a5393692d7b3c4711137913b3ed1b03bec68cf_slspyc ...\u001b[39m\n",
      "Serverless: \u001b[33mPackaging service...\u001b[39m\n",
      "Serverless: \u001b[33mExcluding development dependencies...\u001b[39m\n",
      "Serverless: \u001b[33mInjecting required Python packages to package...\u001b[39m\n",
      "Serverless: \u001b[33mUploading CloudFormation file to S3...\u001b[39m\n",
      "Serverless: \u001b[33mUploading artifacts...\u001b[39m\n",
      "Serverless: \u001b[33mUploading service tensorflow-lite-on-aws-lambda-kr.zip file to S3 (19.68 MB)...\u001b[39m\n",
      "Serverless: \u001b[33mValidating template...\u001b[39m\n",
      "Serverless: \u001b[33mUpdating Stack...\u001b[39m\n",
      "Serverless: \u001b[33mChecking Stack update progress...\u001b[39m\n",
      "CloudFormation - \u001b[33mUPDATE_IN_PROGRESS\u001b[39m - AWS::CloudFormation::Stack - tensorflow-lite-on-aws-lambda-kr-dev\n",
      "CloudFormation - \u001b[33mUPDATE_IN_PROGRESS\u001b[39m - AWS::Lambda::Function - PredictLambdaFunction\n",
      "CloudFormation - \u001b[32mUPDATE_COMPLETE\u001b[39m - AWS::Lambda::Function - PredictLambdaFunction\n",
      "CloudFormation - \u001b[33mCREATE_IN_PROGRESS\u001b[39m - AWS::Lambda::Version - PredictLambdaVersionuh7ILYy1O18fTGMwFMrQrVe2dblaa0jdSKpAeBeyOHI\n",
      "CloudFormation - \u001b[33mCREATE_IN_PROGRESS\u001b[39m - AWS::Lambda::Version - PredictLambdaVersionuh7ILYy1O18fTGMwFMrQrVe2dblaa0jdSKpAeBeyOHI\n",
      "CloudFormation - \u001b[32mCREATE_COMPLETE\u001b[39m - AWS::Lambda::Version - PredictLambdaVersionuh7ILYy1O18fTGMwFMrQrVe2dblaa0jdSKpAeBeyOHI\n",
      "CloudFormation - \u001b[33mCREATE_IN_PROGRESS\u001b[39m - AWS::ApiGateway::Deployment - ApiGatewayDeployment1633306563678\n",
      "CloudFormation - \u001b[33mCREATE_IN_PROGRESS\u001b[39m - AWS::ApiGateway::Deployment - ApiGatewayDeployment1633306563678\n",
      "CloudFormation - \u001b[32mCREATE_COMPLETE\u001b[39m - AWS::ApiGateway::Deployment - ApiGatewayDeployment1633306563678\n",
      "CloudFormation - \u001b[33mUPDATE_COMPLETE_CLEANUP_IN_PROGRESS\u001b[39m - AWS::CloudFormation::Stack - tensorflow-lite-on-aws-lambda-kr-dev\n",
      "CloudFormation - \u001b[33mDELETE_IN_PROGRESS\u001b[39m - AWS::ApiGateway::Deployment - ApiGatewayDeployment1624027201750\n",
      "CloudFormation - DELETE_SKIPPED - AWS::Lambda::Version - PredictLambdaVersionHaMbQXkoAo6qRQXCtzbgYaRn0cdG1GJnn5SR1sTwE\n",
      "CloudFormation - \u001b[32mDELETE_COMPLETE\u001b[39m - AWS::ApiGateway::Deployment - ApiGatewayDeployment1624027201750\n",
      "CloudFormation - \u001b[32mUPDATE_COMPLETE\u001b[39m - AWS::CloudFormation::Stack - tensorflow-lite-on-aws-lambda-kr-dev\n",
      "Serverless: \u001b[33mStack update finished...\u001b[39m\n",
      "\u001b[33m\u001b[4mService Information\u001b[24m\u001b[39m\n",
      "\u001b[33mservice:\u001b[39m tensorflow-lite-on-aws-lambda-kr\n",
      "\u001b[33mstage:\u001b[39m dev\n",
      "\u001b[33mregion:\u001b[39m us-east-2\n",
      "\u001b[33mstack:\u001b[39m tensorflow-lite-on-aws-lambda-kr-dev\n",
      "\u001b[33mresources:\u001b[39m 11\n",
      "\u001b[33mapi keys:\u001b[39m\n",
      "  None\n",
      "\u001b[33mendpoints:\u001b[39m\n",
      "  POST - https://hauojq3o6f.execute-api.us-east-2.amazonaws.com/dev/infer\n",
      "\u001b[33mfunctions:\u001b[39m\n",
      "  predict: tensorflow-lite-on-aws-lambda-kr-dev-predict\n",
      "\u001b[33mlayers:\u001b[39m\n",
      "  None\n",
      "\u001b[33m\u001b[4m\u001b[24m\u001b[39m\n",
      "\u001b[33m\u001b[4mStack Outputs\u001b[24m\u001b[39m\n",
      "\u001b[33m\u001b[4m\u001b[24m\u001b[39m\u001b[33mPredictLambdaFunctionQualifiedArn\u001b[39m: arn:aws:lambda:us-east-2:324466407431:function:tensorflow-lite-on-aws-lambda-kr-dev-predict:7\n",
      "\u001b[33mServiceEndpoint\u001b[39m: https://hauojq3o6f.execute-api.us-east-2.amazonaws.com/dev\n",
      "\u001b[33mServerlessDeploymentBucketName\u001b[39m: tensorflow-lite-on-aws-l-serverlessdeploymentbuck-rj02mbrirkhj\n",
      "\n",
      "Serverless: \u001b[33mRemoving old service artifacts from S3...\u001b[39m\n"
     ]
    }
   ],
   "source": [
    "!./deploy_serverless_kr.sh"
   ]
  },
  {
   "cell_type": "markdown",
   "metadata": {},
   "source": [
    "### API AWS real Test"
   ]
  },
  {
   "cell_type": "markdown",
   "metadata": {},
   "source": [
    "#### Past days"
   ]
  },
  {
   "cell_type": "code",
   "execution_count": 38,
   "metadata": {},
   "outputs": [
    {
     "name": "stdout",
     "output_type": "stream",
     "text": [
      "[472 - 486]\n",
      "[479 - 493]\n",
      "[486 - 500]\n",
      "[493 - 507]\n",
      "[500 - 514]\n",
      "[507 - 521]\n",
      "[514 - 528]\n",
      "[521 - 535]\n",
      "[528 - 542]\n",
      "status code :  200\n",
      "[[[2.9835362434387207, 2.669114828109741, 2.6834371089935303, 2.6837399005889893, 2.6490299701690674, 2.6306040287017822, 2.630927085876465]], [[3.022191047668457, 2.646296262741089, 2.6602134704589844, 2.6474194526672363, 2.6082189083099365, 2.584932327270508, 2.5913009643554688]], [[2.8977088928222656, 2.6146857738494873, 2.6357438564300537, 2.624768018722534, 2.5916614532470703, 2.5689444541931152, 2.5768308639526367]], [[3.1531872749328613, 2.748875379562378, 2.7617275714874268, 2.7526090145111084, 2.721532106399536, 2.6959660053253174, 2.7059407234191895]], [[3.0814576148986816, 2.720405340194702, 2.7372548580169678, 2.7234928607940674, 2.694533109664917, 2.6675307750701904, 2.6807737350463867]], [[2.699985980987549, 2.4693024158477783, 2.4835174083709717, 2.4819746017456055, 2.4467086791992188, 2.4311835765838623, 2.4298930168151855]], [[2.9854283332824707, 2.639014959335327, 2.6530067920684814, 2.638098955154419, 2.6015563011169434, 2.5729820728302, 2.586271286010742]], [[3.091381549835205, 2.7155869007110596, 2.731910228729248, 2.716856002807617, 2.685495138168335, 2.6541836261749268, 2.6715598106384277]], [[3.1539218425750732, 2.680527925491333, 2.69115948677063, 2.6884920597076416, 2.663090229034424, 2.640200138092041, 2.64689564704895]]]\n"
     ]
    }
   ],
   "source": [
    "# prepare input\n",
    "json_list_list_x = prepare_to_lambda(dataset)\n",
    "# REQUEST\n",
    "resp = requests.post(URL_PREDICT_KR, json=json_list_list_x)\n",
    "print(\"status code : \", resp.status_code) \n",
    "print(resp.json())"
   ]
  },
  {
   "cell_type": "code",
   "execution_count": 39,
   "metadata": {},
   "outputs": [
    {
     "data": {
      "text/plain": [
       "20625"
      ]
     },
     "execution_count": 39,
     "metadata": {},
     "output_type": "execute_result"
    }
   ],
   "source": [
    "len(json_list_list_x)"
   ]
  },
  {
   "cell_type": "code",
   "execution_count": 40,
   "metadata": {},
   "outputs": [
    {
     "data": {
      "text/plain": [
       "[[[2.9835362434387207,\n",
       "   2.669114828109741,\n",
       "   2.6834371089935303,\n",
       "   2.6837399005889893,\n",
       "   2.6490299701690674,\n",
       "   2.6306040287017822,\n",
       "   2.630927085876465]],\n",
       " [[3.022191047668457,\n",
       "   2.646296262741089,\n",
       "   2.6602134704589844,\n",
       "   2.6474194526672363,\n",
       "   2.6082189083099365,\n",
       "   2.584932327270508,\n",
       "   2.5913009643554688]],\n",
       " [[2.8977088928222656,\n",
       "   2.6146857738494873,\n",
       "   2.6357438564300537,\n",
       "   2.624768018722534,\n",
       "   2.5916614532470703,\n",
       "   2.5689444541931152,\n",
       "   2.5768308639526367]],\n",
       " [[3.1531872749328613,\n",
       "   2.748875379562378,\n",
       "   2.7617275714874268,\n",
       "   2.7526090145111084,\n",
       "   2.721532106399536,\n",
       "   2.6959660053253174,\n",
       "   2.7059407234191895]],\n",
       " [[3.0814576148986816,\n",
       "   2.720405340194702,\n",
       "   2.7372548580169678,\n",
       "   2.7234928607940674,\n",
       "   2.694533109664917,\n",
       "   2.6675307750701904,\n",
       "   2.6807737350463867]],\n",
       " [[2.699985980987549,\n",
       "   2.4693024158477783,\n",
       "   2.4835174083709717,\n",
       "   2.4819746017456055,\n",
       "   2.4467086791992188,\n",
       "   2.4311835765838623,\n",
       "   2.4298930168151855]],\n",
       " [[2.9854283332824707,\n",
       "   2.639014959335327,\n",
       "   2.6530067920684814,\n",
       "   2.638098955154419,\n",
       "   2.6015563011169434,\n",
       "   2.5729820728302,\n",
       "   2.586271286010742]],\n",
       " [[3.091381549835205,\n",
       "   2.7155869007110596,\n",
       "   2.731910228729248,\n",
       "   2.716856002807617,\n",
       "   2.685495138168335,\n",
       "   2.6541836261749268,\n",
       "   2.6715598106384277]],\n",
       " [[3.1539218425750732,\n",
       "   2.680527925491333,\n",
       "   2.69115948677063,\n",
       "   2.6884920597076416,\n",
       "   2.663090229034424,\n",
       "   2.640200138092041,\n",
       "   2.64689564704895]]]"
      ]
     },
     "execution_count": 40,
     "metadata": {},
     "output_type": "execute_result"
    }
   ],
   "source": [
    "resp.json()"
   ]
  },
  {
   "cell_type": "code",
   "execution_count": 41,
   "metadata": {},
   "outputs": [
    {
     "data": {
      "text/plain": [
       "(1, 63)"
      ]
     },
     "execution_count": 41,
     "metadata": {},
     "output_type": "execute_result"
    }
   ],
   "source": [
    "y_multi_pred_out = retrieve_from_lambda(resp)      \n",
    "y_multi_pred_out.shape"
   ]
  },
  {
   "cell_type": "code",
   "execution_count": 42,
   "metadata": {},
   "outputs": [
    {
     "data": {
      "text/plain": [
       "array([[2.98353624, 2.66911483, 2.68343711, 2.6837399 , 2.64902997,\n",
       "        2.63060403, 2.63092709, 3.02219105, 2.64629626, 2.66021347,\n",
       "        2.64741945, 2.60821891, 2.58493233, 2.59130096, 2.89770889,\n",
       "        2.61468577, 2.63574386, 2.62476802, 2.59166145, 2.56894445,\n",
       "        2.57683086, 3.15318727, 2.74887538, 2.76172757, 2.75260901,\n",
       "        2.72153211, 2.69596601, 2.70594072, 3.08145761, 2.72040534,\n",
       "        2.73725486, 2.72349286, 2.69453311, 2.66753078, 2.68077374,\n",
       "        2.69998598, 2.46930242, 2.48351741, 2.4819746 , 2.44670868,\n",
       "        2.43118358, 2.42989302, 2.98542833, 2.63901496, 2.65300679,\n",
       "        2.63809896, 2.6015563 , 2.57298207, 2.58627129, 3.09138155,\n",
       "        2.7155869 , 2.73191023, 2.716856  , 2.68549514, 2.65418363,\n",
       "        2.67155981, 3.15392184, 2.68052793, 2.69115949, 2.68849206,\n",
       "        2.66309023, 2.64020014, 2.64689565]])"
      ]
     },
     "execution_count": 42,
     "metadata": {},
     "output_type": "execute_result"
    }
   ],
   "source": [
    "y_multi_pred_out"
   ]
  },
  {
   "cell_type": "code",
   "execution_count": 43,
   "metadata": {},
   "outputs": [
    {
     "data": {
      "text/plain": [
       "array([[2.9835367, 2.6691148, 2.683437 , 2.6837394, 2.6490302, 2.6306043,\n",
       "        2.6309276, 3.022191 , 2.6462967, 2.6602135, 2.6474192, 2.608219 ,\n",
       "        2.584932 , 2.5913007, 2.8977082, 2.6146855, 2.6357434, 2.6247675,\n",
       "        2.5916612, 2.568944 , 2.5768301, 3.153187 , 2.7488751, 2.7617278,\n",
       "        2.7526093, 2.721532 , 2.695966 , 2.7059402, 3.0814576, 2.7204058,\n",
       "        2.737255 , 2.7234929, 2.6945336, 2.6675305, 2.680774 , 2.6999865,\n",
       "        2.4693027, 2.4835174, 2.4819748, 2.4467092, 2.431184 , 2.429893 ,\n",
       "        2.9854286, 2.6390152, 2.6530066, 2.6380987, 2.6015563, 2.572982 ,\n",
       "        2.5862713, 3.0913813, 2.715587 , 2.73191  , 2.7168558, 2.6854954,\n",
       "        2.6541836, 2.6715598, 3.1539216, 2.6805282, 2.6911597, 2.6884918,\n",
       "        2.6630902, 2.6402004, 2.6468956]], dtype=float32)"
      ]
     },
     "execution_count": 43,
     "metadata": {},
     "output_type": "execute_result"
    }
   ],
   "source": [
    "y_multi_pred"
   ]
  },
  {
   "cell_type": "code",
   "execution_count": 44,
   "metadata": {},
   "outputs": [
    {
     "name": "stdout",
     "output_type": "stream",
     "text": [
      "Done. The result of TensorFlow matches the result of TensorFlow Lite.\n"
     ]
    }
   ],
   "source": [
    "# Assert if the result of TFLite model is consistent with the TF model.\n",
    "np.testing.assert_almost_equal(y_multi_pred, y_multi_pred_out, decimal=3)\n",
    "print(\"Done. The result of TensorFlow matches the result of TensorFlow Lite.\")"
   ]
  },
  {
   "cell_type": "markdown",
   "metadata": {},
   "source": [
    "#### future days"
   ]
  },
  {
   "cell_type": "code",
   "execution_count": 45,
   "metadata": {},
   "outputs": [
    {
     "name": "stdout",
     "output_type": "stream",
     "text": [
      "status code :  200\n",
      "[[[3.1486868858337402, 2.709266424179077, 2.7243287563323975, 2.7196855545043945, 2.6947829723358154, 2.672529935836792, 2.6794490814208984]]]\n"
     ]
    }
   ],
   "source": [
    "# prepare input\n",
    "json_list_list_x = prepare_to_lambda_future(dataset)\n",
    "resp = requests.post(URL_PREDICT_KR, json=json_list_list_x)\n",
    "print(\"status code : \", resp.status_code) \n",
    "print(resp.json())"
   ]
  },
  {
   "cell_type": "code",
   "execution_count": 46,
   "metadata": {},
   "outputs": [
    {
     "data": {
      "text/plain": [
       "array([[3.14868689, 2.70926642, 2.72432876, 2.71968555, 2.69478297,\n",
       "        2.67252994, 2.67944908]])"
      ]
     },
     "execution_count": 46,
     "metadata": {},
     "output_type": "execute_result"
    }
   ],
   "source": [
    "y_future_pred_out = retrieve_from_lambda(resp)      \n",
    "y_future_pred_out"
   ]
  },
  {
   "cell_type": "code",
   "execution_count": 47,
   "metadata": {},
   "outputs": [
    {
     "data": {
      "text/plain": [
       "array([[3.1486866, 2.7092664, 2.7243288, 2.7196858, 2.694783 , 2.67253  ,\n",
       "        2.6794493]], dtype=float32)"
      ]
     },
     "execution_count": 47,
     "metadata": {},
     "output_type": "execute_result"
    }
   ],
   "source": [
    "y_future_pred"
   ]
  },
  {
   "cell_type": "code",
   "execution_count": 48,
   "metadata": {},
   "outputs": [
    {
     "name": "stdout",
     "output_type": "stream",
     "text": [
      "Done. The result of TensorFlow matches the result of TensorFlow Lite.\n"
     ]
    }
   ],
   "source": [
    "# Assert if the result of TFLite model is consistent with the TF model.\n",
    "np.testing.assert_almost_equal(y_future_pred, y_future_pred_out, decimal=3)\n",
    "print(\"Done. The result of TensorFlow matches the result of TensorFlow Lite.\")"
   ]
  },
  {
   "cell_type": "code",
   "execution_count": null,
   "metadata": {},
   "outputs": [],
   "source": []
  }
 ],
 "metadata": {
  "kernelspec": {
   "display_name": "Python 3",
   "language": "python",
   "name": "python3"
  },
  "language_info": {
   "codemirror_mode": {
    "name": "ipython",
    "version": 3
   },
   "file_extension": ".py",
   "mimetype": "text/x-python",
   "name": "python",
   "nbconvert_exporter": "python",
   "pygments_lexer": "ipython3",
   "version": "3.7.6"
  },
  "toc": {
   "base_numbering": 1,
   "nav_menu": {
    "height": "260px",
    "width": "258px"
   },
   "number_sections": true,
   "sideBar": true,
   "skip_h1_title": false,
   "title_cell": "Table of Contents",
   "title_sidebar": "Contents",
   "toc_cell": false,
   "toc_position": {
    "height": "calc(100% - 180px)",
    "left": "10px",
    "top": "150px",
    "width": "205px"
   },
   "toc_section_display": true,
   "toc_window_display": true
  }
 },
 "nbformat": 4,
 "nbformat_minor": 4
}
