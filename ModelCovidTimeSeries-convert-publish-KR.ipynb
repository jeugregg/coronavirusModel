{
 "cells": [
  {
   "cell_type": "markdown",
   "metadata": {},
   "source": [
    "# Model South Korea Time Series for COVID: Publish for app\n",
    "\n",
    "This notebook use multistep time serie model  (predicting number of cases future next days).\n",
    "\n",
    "It converts Tensorflow model into TensorFlow Lite to be able to use it in a Lambda fonction on AWS.\n",
    "\n",
    "After that, the lite model is tested and publish on AWS\n",
    "\n",
    "Finally, the lambda function is tested"
   ]
  },
  {
   "cell_type": "markdown",
   "metadata": {},
   "source": [
    "## Convert model in TFlite"
   ]
  },
  {
   "cell_type": "markdown",
   "metadata": {},
   "source": [
    "**IMPORTANT TO DO manually:**\n",
    "- **Update TRAIN_SPLIT in my_helpers.model module**"
   ]
  },
  {
   "cell_type": "markdown",
   "metadata": {},
   "source": [
    "### import"
   ]
  },
  {
   "cell_type": "code",
   "execution_count": 1,
   "metadata": {},
   "outputs": [],
   "source": [
    "# data useful lib\n",
    "import pandas as pd\n",
    "import numpy as np\n",
    "\n",
    "# helper lib\n",
    "import shutil\n",
    "import os, stat\n",
    "import re\n",
    "import datetime\n",
    "import math\n",
    "\n",
    "# read json from http\n",
    "import json\n",
    "import urllib.request\n",
    "\n",
    "# read csv from http\n",
    "import io\n",
    "import requests\n",
    "\n",
    "# model lib\n",
    "import tensorflow as tf\n",
    "\n",
    "# from project\n",
    "from my_helpers.data_plots_kr import load_df_feat_kr\n",
    "from my_helpers.model import prepare_to_lambda, retrieve_from_lambda\n",
    "from my_helpers.model import prepare_to_lambda_future\n",
    "from my_helpers.model import create_list_past_hist, predict_list\n",
    "\n",
    "from my_helpers.model_kr import prepare_data_features_kr\n",
    "from my_helpers.model_kr import prepare_dataset_kr\n",
    "\n",
    "from my_helpers.utils import clean_file\n",
    "\n",
    "import settings"
   ]
  },
  {
   "cell_type": "markdown",
   "metadata": {},
   "source": [
    "### Definitions"
   ]
  },
  {
   "cell_type": "code",
   "execution_count": 2,
   "metadata": {},
   "outputs": [
    {
     "name": "stdout",
     "output_type": "stream",
     "text": [
      "TRAIN_SPLIT = 263\n"
     ]
    }
   ],
   "source": [
    "PATH_TO_SAVE_DATA = settings.PATH_TO_SAVE_DATA\n",
    "\n",
    "from my_helpers.model_kr import PATH_MDL_MULTI_STEP_KR\n",
    "from my_helpers.model_kr import PATH_MDL_MULTI_TFLITE_KR \n",
    "from my_helpers.model_kr import PATH_MDL_MULTI_TFLITE_FILE_KR\n",
    "from my_helpers.model_kr import PATH_SERVERLESS_KR\n",
    "from my_helpers.model_kr import URL_PREDICT_KR\n",
    "from my_helpers.model_kr import PAST_HISTORY # days used to predict next values in future\n",
    "from my_helpers.model_kr import FUTURE_TARGET  # predict 3 days later\n",
    "from my_helpers.model_kr import STEP \n",
    "\n",
    "from my_helpers.data_plots_kr import PATH_DF_FEAT_KR\n",
    "\n",
    "date_format = \"%Y-%m-%d\"\n",
    "\n",
    "#NB_POS_DATE_MIN_DF_FEAT = 140227 # on 12/05/2020\n",
    "\n",
    "# plot\n",
    "NB_DAY_PLOT = FUTURE_TARGET*9\n",
    "\n",
    "# train split\n",
    "from my_helpers.model_kr import TRAIN_SPLIT\n",
    "print(f\"TRAIN_SPLIT = {TRAIN_SPLIT}\")\n"
   ]
  },
  {
   "cell_type": "markdown",
   "metadata": {},
   "source": [
    "### helper functions"
   ]
  },
  {
   "cell_type": "markdown",
   "metadata": {},
   "source": [
    "### load data"
   ]
  },
  {
   "cell_type": "code",
   "execution_count": 3,
   "metadata": {},
   "outputs": [
    {
     "data": {
      "text/html": [
       "<div>\n",
       "<style scoped>\n",
       "    .dataframe tbody tr th:only-of-type {\n",
       "        vertical-align: middle;\n",
       "    }\n",
       "\n",
       "    .dataframe tbody tr th {\n",
       "        vertical-align: top;\n",
       "    }\n",
       "\n",
       "    .dataframe thead th {\n",
       "        text-align: right;\n",
       "    }\n",
       "</style>\n",
       "<table border=\"1\" class=\"dataframe\">\n",
       "  <thead>\n",
       "    <tr style=\"text-align: right;\">\n",
       "      <th></th>\n",
       "      <th>nb_cases</th>\n",
       "      <th>nb_tests</th>\n",
       "      <th>nb_deaths</th>\n",
       "      <th>date</th>\n",
       "      <th>day_num</th>\n",
       "      <th>Jeju</th>\n",
       "      <th>Gyeongnam</th>\n",
       "      <th>Gyeongbuk</th>\n",
       "      <th>Jeonnam</th>\n",
       "      <th>Jeonbuk</th>\n",
       "      <th>...</th>\n",
       "      <th>Rt_Jeonbuk</th>\n",
       "      <th>sum_Jeonnam</th>\n",
       "      <th>Rt_Jeonnam</th>\n",
       "      <th>sum_Gyeongbuk</th>\n",
       "      <th>Rt_Gyeongbuk</th>\n",
       "      <th>sum_Gyeongnam</th>\n",
       "      <th>Rt_Gyeongnam</th>\n",
       "      <th>sum_Jeju</th>\n",
       "      <th>Rt_Jeju</th>\n",
       "      <th>train</th>\n",
       "    </tr>\n",
       "    <tr>\n",
       "      <th>date</th>\n",
       "      <th></th>\n",
       "      <th></th>\n",
       "      <th></th>\n",
       "      <th></th>\n",
       "      <th></th>\n",
       "      <th></th>\n",
       "      <th></th>\n",
       "      <th></th>\n",
       "      <th></th>\n",
       "      <th></th>\n",
       "      <th></th>\n",
       "      <th></th>\n",
       "      <th></th>\n",
       "      <th></th>\n",
       "      <th></th>\n",
       "      <th></th>\n",
       "      <th></th>\n",
       "      <th></th>\n",
       "      <th></th>\n",
       "      <th></th>\n",
       "      <th></th>\n",
       "    </tr>\n",
       "  </thead>\n",
       "  <tbody>\n",
       "    <tr>\n",
       "      <th>2020-04-03</th>\n",
       "      <td>10062.0</td>\n",
       "      <td>424365.0</td>\n",
       "      <td>174.0</td>\n",
       "      <td>2020-04-03</td>\n",
       "      <td>5.0</td>\n",
       "      <td>0.0</td>\n",
       "      <td>1.0</td>\n",
       "      <td>5.0</td>\n",
       "      <td>1.0</td>\n",
       "      <td>1.0</td>\n",
       "      <td>...</td>\n",
       "      <td>5.000000</td>\n",
       "      <td>10.0</td>\n",
       "      <td>inf</td>\n",
       "      <td>106.0</td>\n",
       "      <td>4.240000</td>\n",
       "      <td>20.0</td>\n",
       "      <td>20.000000</td>\n",
       "      <td>5.0</td>\n",
       "      <td>inf</td>\n",
       "      <td>True</td>\n",
       "    </tr>\n",
       "    <tr>\n",
       "      <th>2020-04-04</th>\n",
       "      <td>10156.0</td>\n",
       "      <td>434888.0</td>\n",
       "      <td>177.0</td>\n",
       "      <td>2020-04-04</td>\n",
       "      <td>6.0</td>\n",
       "      <td>0.0</td>\n",
       "      <td>1.0</td>\n",
       "      <td>1.0</td>\n",
       "      <td>0.0</td>\n",
       "      <td>0.0</td>\n",
       "      <td>...</td>\n",
       "      <td>5.000000</td>\n",
       "      <td>10.0</td>\n",
       "      <td>inf</td>\n",
       "      <td>67.0</td>\n",
       "      <td>1.030769</td>\n",
       "      <td>21.0</td>\n",
       "      <td>21.000000</td>\n",
       "      <td>5.0</td>\n",
       "      <td>inf</td>\n",
       "      <td>True</td>\n",
       "    </tr>\n",
       "    <tr>\n",
       "      <th>2020-04-05</th>\n",
       "      <td>10237.0</td>\n",
       "      <td>441662.0</td>\n",
       "      <td>183.0</td>\n",
       "      <td>2020-04-05</td>\n",
       "      <td>0.0</td>\n",
       "      <td>3.0</td>\n",
       "      <td>1.0</td>\n",
       "      <td>4.0</td>\n",
       "      <td>0.0</td>\n",
       "      <td>1.0</td>\n",
       "      <td>...</td>\n",
       "      <td>6.000000</td>\n",
       "      <td>9.0</td>\n",
       "      <td>9.000000</td>\n",
       "      <td>60.0</td>\n",
       "      <td>0.789474</td>\n",
       "      <td>21.0</td>\n",
       "      <td>10.500000</td>\n",
       "      <td>8.0</td>\n",
       "      <td>inf</td>\n",
       "      <td>True</td>\n",
       "    </tr>\n",
       "    <tr>\n",
       "      <th>2020-04-06</th>\n",
       "      <td>10284.0</td>\n",
       "      <td>447509.0</td>\n",
       "      <td>186.0</td>\n",
       "      <td>2020-04-06</td>\n",
       "      <td>1.0</td>\n",
       "      <td>0.0</td>\n",
       "      <td>2.0</td>\n",
       "      <td>2.0</td>\n",
       "      <td>0.0</td>\n",
       "      <td>0.0</td>\n",
       "      <td>...</td>\n",
       "      <td>6.000000</td>\n",
       "      <td>9.0</td>\n",
       "      <td>9.000000</td>\n",
       "      <td>60.0</td>\n",
       "      <td>0.769231</td>\n",
       "      <td>22.0</td>\n",
       "      <td>7.333333</td>\n",
       "      <td>8.0</td>\n",
       "      <td>inf</td>\n",
       "      <td>True</td>\n",
       "    </tr>\n",
       "    <tr>\n",
       "      <th>2020-04-07</th>\n",
       "      <td>10331.0</td>\n",
       "      <td>456654.0</td>\n",
       "      <td>192.0</td>\n",
       "      <td>2020-04-07</td>\n",
       "      <td>2.0</td>\n",
       "      <td>0.0</td>\n",
       "      <td>1.0</td>\n",
       "      <td>1.0</td>\n",
       "      <td>0.0</td>\n",
       "      <td>0.0</td>\n",
       "      <td>...</td>\n",
       "      <td>6.000000</td>\n",
       "      <td>9.0</td>\n",
       "      <td>9.000000</td>\n",
       "      <td>60.0</td>\n",
       "      <td>0.759494</td>\n",
       "      <td>22.0</td>\n",
       "      <td>5.500000</td>\n",
       "      <td>8.0</td>\n",
       "      <td>inf</td>\n",
       "      <td>True</td>\n",
       "    </tr>\n",
       "    <tr>\n",
       "      <th>...</th>\n",
       "      <td>...</td>\n",
       "      <td>...</td>\n",
       "      <td>...</td>\n",
       "      <td>...</td>\n",
       "      <td>...</td>\n",
       "      <td>...</td>\n",
       "      <td>...</td>\n",
       "      <td>...</td>\n",
       "      <td>...</td>\n",
       "      <td>...</td>\n",
       "      <td>...</td>\n",
       "      <td>...</td>\n",
       "      <td>...</td>\n",
       "      <td>...</td>\n",
       "      <td>...</td>\n",
       "      <td>...</td>\n",
       "      <td>...</td>\n",
       "      <td>...</td>\n",
       "      <td>...</td>\n",
       "      <td>...</td>\n",
       "      <td>...</td>\n",
       "    </tr>\n",
       "    <tr>\n",
       "      <th>2020-12-31</th>\n",
       "      <td>60739.0</td>\n",
       "      <td>4043541.0</td>\n",
       "      <td>900.0</td>\n",
       "      <td>2020-12-31</td>\n",
       "      <td>4.0</td>\n",
       "      <td>9.0</td>\n",
       "      <td>22.0</td>\n",
       "      <td>23.0</td>\n",
       "      <td>5.0</td>\n",
       "      <td>12.0</td>\n",
       "      <td>...</td>\n",
       "      <td>0.936709</td>\n",
       "      <td>75.0</td>\n",
       "      <td>1.339286</td>\n",
       "      <td>522.0</td>\n",
       "      <td>3.052632</td>\n",
       "      <td>390.0</td>\n",
       "      <td>1.387900</td>\n",
       "      <td>262.0</td>\n",
       "      <td>3.638889</td>\n",
       "      <td>False</td>\n",
       "    </tr>\n",
       "    <tr>\n",
       "      <th>2021-01-01</th>\n",
       "      <td>61767.0</td>\n",
       "      <td>4092389.0</td>\n",
       "      <td>917.0</td>\n",
       "      <td>2021-01-01</td>\n",
       "      <td>5.0</td>\n",
       "      <td>5.0</td>\n",
       "      <td>35.0</td>\n",
       "      <td>24.0</td>\n",
       "      <td>6.0</td>\n",
       "      <td>8.0</td>\n",
       "      <td>...</td>\n",
       "      <td>0.895397</td>\n",
       "      <td>76.0</td>\n",
       "      <td>1.310345</td>\n",
       "      <td>515.0</td>\n",
       "      <td>2.668394</td>\n",
       "      <td>381.0</td>\n",
       "      <td>1.233010</td>\n",
       "      <td>240.0</td>\n",
       "      <td>2.474227</td>\n",
       "      <td>False</td>\n",
       "    </tr>\n",
       "    <tr>\n",
       "      <th>2021-01-02</th>\n",
       "      <td>62587.0</td>\n",
       "      <td>4123406.0</td>\n",
       "      <td>942.0</td>\n",
       "      <td>2021-01-02</td>\n",
       "      <td>6.0</td>\n",
       "      <td>13.0</td>\n",
       "      <td>37.0</td>\n",
       "      <td>20.0</td>\n",
       "      <td>11.0</td>\n",
       "      <td>11.0</td>\n",
       "      <td>...</td>\n",
       "      <td>0.886076</td>\n",
       "      <td>82.0</td>\n",
       "      <td>1.389831</td>\n",
       "      <td>506.0</td>\n",
       "      <td>2.468293</td>\n",
       "      <td>386.0</td>\n",
       "      <td>1.229299</td>\n",
       "      <td>229.0</td>\n",
       "      <td>1.908333</td>\n",
       "      <td>False</td>\n",
       "    </tr>\n",
       "    <tr>\n",
       "      <th>2021-01-03</th>\n",
       "      <td>63244.0</td>\n",
       "      <td>4154366.0</td>\n",
       "      <td>962.0</td>\n",
       "      <td>2021-01-03</td>\n",
       "      <td>0.0</td>\n",
       "      <td>4.0</td>\n",
       "      <td>12.0</td>\n",
       "      <td>14.0</td>\n",
       "      <td>12.0</td>\n",
       "      <td>5.0</td>\n",
       "      <td>...</td>\n",
       "      <td>0.732283</td>\n",
       "      <td>90.0</td>\n",
       "      <td>1.636364</td>\n",
       "      <td>495.0</td>\n",
       "      <td>2.260274</td>\n",
       "      <td>347.0</td>\n",
       "      <td>0.994269</td>\n",
       "      <td>209.0</td>\n",
       "      <td>1.451389</td>\n",
       "      <td>False</td>\n",
       "    </tr>\n",
       "    <tr>\n",
       "      <th>2021-01-04</th>\n",
       "      <td>64264.0</td>\n",
       "      <td>4185876.0</td>\n",
       "      <td>981.0</td>\n",
       "      <td>2021-01-04</td>\n",
       "      <td>1.0</td>\n",
       "      <td>10.0</td>\n",
       "      <td>33.0</td>\n",
       "      <td>25.0</td>\n",
       "      <td>3.0</td>\n",
       "      <td>13.0</td>\n",
       "      <td>...</td>\n",
       "      <td>0.759184</td>\n",
       "      <td>84.0</td>\n",
       "      <td>1.377049</td>\n",
       "      <td>472.0</td>\n",
       "      <td>1.829457</td>\n",
       "      <td>365.0</td>\n",
       "      <td>1.048851</td>\n",
       "      <td>196.0</td>\n",
       "      <td>1.173653</td>\n",
       "      <td>False</td>\n",
       "    </tr>\n",
       "  </tbody>\n",
       "</table>\n",
       "<p>277 rows × 88 columns</p>\n",
       "</div>"
      ],
      "text/plain": [
       "            nb_cases   nb_tests  nb_deaths        date  day_num  Jeju  \\\n",
       "date                                                                    \n",
       "2020-04-03   10062.0   424365.0      174.0  2020-04-03      5.0   0.0   \n",
       "2020-04-04   10156.0   434888.0      177.0  2020-04-04      6.0   0.0   \n",
       "2020-04-05   10237.0   441662.0      183.0  2020-04-05      0.0   3.0   \n",
       "2020-04-06   10284.0   447509.0      186.0  2020-04-06      1.0   0.0   \n",
       "2020-04-07   10331.0   456654.0      192.0  2020-04-07      2.0   0.0   \n",
       "...              ...        ...        ...         ...      ...   ...   \n",
       "2020-12-31   60739.0  4043541.0      900.0  2020-12-31      4.0   9.0   \n",
       "2021-01-01   61767.0  4092389.0      917.0  2021-01-01      5.0   5.0   \n",
       "2021-01-02   62587.0  4123406.0      942.0  2021-01-02      6.0  13.0   \n",
       "2021-01-03   63244.0  4154366.0      962.0  2021-01-03      0.0   4.0   \n",
       "2021-01-04   64264.0  4185876.0      981.0  2021-01-04      1.0  10.0   \n",
       "\n",
       "            Gyeongnam  Gyeongbuk  Jeonnam  Jeonbuk  ...  Rt_Jeonbuk  \\\n",
       "date                                                ...               \n",
       "2020-04-03        1.0        5.0      1.0      1.0  ...    5.000000   \n",
       "2020-04-04        1.0        1.0      0.0      0.0  ...    5.000000   \n",
       "2020-04-05        1.0        4.0      0.0      1.0  ...    6.000000   \n",
       "2020-04-06        2.0        2.0      0.0      0.0  ...    6.000000   \n",
       "2020-04-07        1.0        1.0      0.0      0.0  ...    6.000000   \n",
       "...               ...        ...      ...      ...  ...         ...   \n",
       "2020-12-31       22.0       23.0      5.0     12.0  ...    0.936709   \n",
       "2021-01-01       35.0       24.0      6.0      8.0  ...    0.895397   \n",
       "2021-01-02       37.0       20.0     11.0     11.0  ...    0.886076   \n",
       "2021-01-03       12.0       14.0     12.0      5.0  ...    0.732283   \n",
       "2021-01-04       33.0       25.0      3.0     13.0  ...    0.759184   \n",
       "\n",
       "            sum_Jeonnam  Rt_Jeonnam  sum_Gyeongbuk  Rt_Gyeongbuk  \\\n",
       "date                                                               \n",
       "2020-04-03         10.0         inf          106.0      4.240000   \n",
       "2020-04-04         10.0         inf           67.0      1.030769   \n",
       "2020-04-05          9.0    9.000000           60.0      0.789474   \n",
       "2020-04-06          9.0    9.000000           60.0      0.769231   \n",
       "2020-04-07          9.0    9.000000           60.0      0.759494   \n",
       "...                 ...         ...            ...           ...   \n",
       "2020-12-31         75.0    1.339286          522.0      3.052632   \n",
       "2021-01-01         76.0    1.310345          515.0      2.668394   \n",
       "2021-01-02         82.0    1.389831          506.0      2.468293   \n",
       "2021-01-03         90.0    1.636364          495.0      2.260274   \n",
       "2021-01-04         84.0    1.377049          472.0      1.829457   \n",
       "\n",
       "            sum_Gyeongnam  Rt_Gyeongnam  sum_Jeju   Rt_Jeju  train  \n",
       "date                                                                \n",
       "2020-04-03           20.0     20.000000       5.0       inf   True  \n",
       "2020-04-04           21.0     21.000000       5.0       inf   True  \n",
       "2020-04-05           21.0     10.500000       8.0       inf   True  \n",
       "2020-04-06           22.0      7.333333       8.0       inf   True  \n",
       "2020-04-07           22.0      5.500000       8.0       inf   True  \n",
       "...                   ...           ...       ...       ...    ...  \n",
       "2020-12-31          390.0      1.387900     262.0  3.638889  False  \n",
       "2021-01-01          381.0      1.233010     240.0  2.474227  False  \n",
       "2021-01-02          386.0      1.229299     229.0  1.908333  False  \n",
       "2021-01-03          347.0      0.994269     209.0  1.451389  False  \n",
       "2021-01-04          365.0      1.048851     196.0  1.173653  False  \n",
       "\n",
       "[277 rows x 88 columns]"
      ]
     },
     "execution_count": 3,
     "metadata": {},
     "output_type": "execute_result"
    }
   ],
   "source": [
    "# load\n",
    "df_feat_kr = load_df_feat_kr()\n",
    "# clean\n",
    "df_feat_kr = prepare_data_features_kr(df_feat_kr)\n",
    "# split train/test\n",
    "df_feat_kr[\"train\"] = [True if I <= TRAIN_SPLIT else False \\\n",
    "                       for I in range(df_feat_kr.shape[0])]\n",
    "df_feat_kr"
   ]
  },
  {
   "cell_type": "code",
   "execution_count": 4,
   "metadata": {},
   "outputs": [
    {
     "data": {
      "text/html": [
       "<div>\n",
       "<style scoped>\n",
       "    .dataframe tbody tr th:only-of-type {\n",
       "        vertical-align: middle;\n",
       "    }\n",
       "\n",
       "    .dataframe tbody tr th {\n",
       "        vertical-align: top;\n",
       "    }\n",
       "\n",
       "    .dataframe thead th {\n",
       "        text-align: right;\n",
       "    }\n",
       "</style>\n",
       "<table border=\"1\" class=\"dataframe\">\n",
       "  <thead>\n",
       "    <tr style=\"text-align: right;\">\n",
       "      <th></th>\n",
       "      <th>nb_cases</th>\n",
       "      <th>nb_tests</th>\n",
       "      <th>nb_deaths</th>\n",
       "      <th>date</th>\n",
       "      <th>day_num</th>\n",
       "      <th>Jeju</th>\n",
       "      <th>Gyeongnam</th>\n",
       "      <th>Gyeongbuk</th>\n",
       "      <th>Jeonnam</th>\n",
       "      <th>Jeonbuk</th>\n",
       "      <th>...</th>\n",
       "      <th>Rt_Jeonbuk</th>\n",
       "      <th>sum_Jeonnam</th>\n",
       "      <th>Rt_Jeonnam</th>\n",
       "      <th>sum_Gyeongbuk</th>\n",
       "      <th>Rt_Gyeongbuk</th>\n",
       "      <th>sum_Gyeongnam</th>\n",
       "      <th>Rt_Gyeongnam</th>\n",
       "      <th>sum_Jeju</th>\n",
       "      <th>Rt_Jeju</th>\n",
       "      <th>train</th>\n",
       "    </tr>\n",
       "    <tr>\n",
       "      <th>date</th>\n",
       "      <th></th>\n",
       "      <th></th>\n",
       "      <th></th>\n",
       "      <th></th>\n",
       "      <th></th>\n",
       "      <th></th>\n",
       "      <th></th>\n",
       "      <th></th>\n",
       "      <th></th>\n",
       "      <th></th>\n",
       "      <th></th>\n",
       "      <th></th>\n",
       "      <th></th>\n",
       "      <th></th>\n",
       "      <th></th>\n",
       "      <th></th>\n",
       "      <th></th>\n",
       "      <th></th>\n",
       "      <th></th>\n",
       "      <th></th>\n",
       "      <th></th>\n",
       "    </tr>\n",
       "  </thead>\n",
       "  <tbody>\n",
       "    <tr>\n",
       "      <th>2020-12-23</th>\n",
       "      <td>52550.0</td>\n",
       "      <td>3673462.0</td>\n",
       "      <td>739.0</td>\n",
       "      <td>2020-12-23</td>\n",
       "      <td>3.0</td>\n",
       "      <td>33.0</td>\n",
       "      <td>29.0</td>\n",
       "      <td>25.0</td>\n",
       "      <td>12.0</td>\n",
       "      <td>21.0</td>\n",
       "      <td>...</td>\n",
       "      <td>1.134259</td>\n",
       "      <td>69.0</td>\n",
       "      <td>0.831325</td>\n",
       "      <td>333.0</td>\n",
       "      <td>3.112150</td>\n",
       "      <td>351.0</td>\n",
       "      <td>1.240283</td>\n",
       "      <td>215.0</td>\n",
       "      <td>10.238095</td>\n",
       "      <td>False</td>\n",
       "    </tr>\n",
       "    <tr>\n",
       "      <th>2020-12-24</th>\n",
       "      <td>53533.0</td>\n",
       "      <td>3731677.0</td>\n",
       "      <td>756.0</td>\n",
       "      <td>2020-12-24</td>\n",
       "      <td>4.0</td>\n",
       "      <td>26.0</td>\n",
       "      <td>21.0</td>\n",
       "      <td>50.0</td>\n",
       "      <td>2.0</td>\n",
       "      <td>12.0</td>\n",
       "      <td>...</td>\n",
       "      <td>1.197115</td>\n",
       "      <td>66.0</td>\n",
       "      <td>0.835443</td>\n",
       "      <td>375.0</td>\n",
       "      <td>3.318584</td>\n",
       "      <td>356.0</td>\n",
       "      <td>1.401575</td>\n",
       "      <td>228.0</td>\n",
       "      <td>7.354839</td>\n",
       "      <td>False</td>\n",
       "    </tr>\n",
       "    <tr>\n",
       "      <th>2020-12-25</th>\n",
       "      <td>54770.0</td>\n",
       "      <td>3782568.0</td>\n",
       "      <td>773.0</td>\n",
       "      <td>2020-12-25</td>\n",
       "      <td>5.0</td>\n",
       "      <td>20.0</td>\n",
       "      <td>15.0</td>\n",
       "      <td>67.0</td>\n",
       "      <td>5.0</td>\n",
       "      <td>14.0</td>\n",
       "      <td>...</td>\n",
       "      <td>1.340314</td>\n",
       "      <td>67.0</td>\n",
       "      <td>0.930556</td>\n",
       "      <td>439.0</td>\n",
       "      <td>3.884956</td>\n",
       "      <td>359.0</td>\n",
       "      <td>1.581498</td>\n",
       "      <td>243.0</td>\n",
       "      <td>7.363636</td>\n",
       "      <td>False</td>\n",
       "    </tr>\n",
       "    <tr>\n",
       "      <th>2020-12-26</th>\n",
       "      <td>55902.0</td>\n",
       "      <td>3812403.0</td>\n",
       "      <td>793.0</td>\n",
       "      <td>2020-12-26</td>\n",
       "      <td>6.0</td>\n",
       "      <td>24.0</td>\n",
       "      <td>22.0</td>\n",
       "      <td>34.0</td>\n",
       "      <td>6.0</td>\n",
       "      <td>37.0</td>\n",
       "      <td>...</td>\n",
       "      <td>1.526596</td>\n",
       "      <td>65.0</td>\n",
       "      <td>0.890411</td>\n",
       "      <td>454.0</td>\n",
       "      <td>3.574803</td>\n",
       "      <td>364.0</td>\n",
       "      <td>1.582609</td>\n",
       "      <td>267.0</td>\n",
       "      <td>8.612903</td>\n",
       "      <td>False</td>\n",
       "    </tr>\n",
       "    <tr>\n",
       "      <th>2020-12-27</th>\n",
       "      <td>56872.0</td>\n",
       "      <td>3839436.0</td>\n",
       "      <td>808.0</td>\n",
       "      <td>2020-12-27</td>\n",
       "      <td>0.0</td>\n",
       "      <td>7.0</td>\n",
       "      <td>44.0</td>\n",
       "      <td>34.0</td>\n",
       "      <td>5.0</td>\n",
       "      <td>8.0</td>\n",
       "      <td>...</td>\n",
       "      <td>1.588889</td>\n",
       "      <td>64.0</td>\n",
       "      <td>1.084746</td>\n",
       "      <td>470.0</td>\n",
       "      <td>3.507463</td>\n",
       "      <td>384.0</td>\n",
       "      <td>1.606695</td>\n",
       "      <td>271.0</td>\n",
       "      <td>8.212121</td>\n",
       "      <td>False</td>\n",
       "    </tr>\n",
       "  </tbody>\n",
       "</table>\n",
       "<p>5 rows × 88 columns</p>\n",
       "</div>"
      ],
      "text/plain": [
       "            nb_cases   nb_tests  nb_deaths        date  day_num  Jeju  \\\n",
       "date                                                                    \n",
       "2020-12-23   52550.0  3673462.0      739.0  2020-12-23      3.0  33.0   \n",
       "2020-12-24   53533.0  3731677.0      756.0  2020-12-24      4.0  26.0   \n",
       "2020-12-25   54770.0  3782568.0      773.0  2020-12-25      5.0  20.0   \n",
       "2020-12-26   55902.0  3812403.0      793.0  2020-12-26      6.0  24.0   \n",
       "2020-12-27   56872.0  3839436.0      808.0  2020-12-27      0.0   7.0   \n",
       "\n",
       "            Gyeongnam  Gyeongbuk  Jeonnam  Jeonbuk  ...  Rt_Jeonbuk  \\\n",
       "date                                                ...               \n",
       "2020-12-23       29.0       25.0     12.0     21.0  ...    1.134259   \n",
       "2020-12-24       21.0       50.0      2.0     12.0  ...    1.197115   \n",
       "2020-12-25       15.0       67.0      5.0     14.0  ...    1.340314   \n",
       "2020-12-26       22.0       34.0      6.0     37.0  ...    1.526596   \n",
       "2020-12-27       44.0       34.0      5.0      8.0  ...    1.588889   \n",
       "\n",
       "            sum_Jeonnam  Rt_Jeonnam  sum_Gyeongbuk  Rt_Gyeongbuk  \\\n",
       "date                                                               \n",
       "2020-12-23         69.0    0.831325          333.0      3.112150   \n",
       "2020-12-24         66.0    0.835443          375.0      3.318584   \n",
       "2020-12-25         67.0    0.930556          439.0      3.884956   \n",
       "2020-12-26         65.0    0.890411          454.0      3.574803   \n",
       "2020-12-27         64.0    1.084746          470.0      3.507463   \n",
       "\n",
       "            sum_Gyeongnam  Rt_Gyeongnam  sum_Jeju    Rt_Jeju  train  \n",
       "date                                                                 \n",
       "2020-12-23          351.0      1.240283     215.0  10.238095  False  \n",
       "2020-12-24          356.0      1.401575     228.0   7.354839  False  \n",
       "2020-12-25          359.0      1.581498     243.0   7.363636  False  \n",
       "2020-12-26          364.0      1.582609     267.0   8.612903  False  \n",
       "2020-12-27          384.0      1.606695     271.0   8.212121  False  \n",
       "\n",
       "[5 rows x 88 columns]"
      ]
     },
     "execution_count": 4,
     "metadata": {},
     "output_type": "execute_result"
    }
   ],
   "source": [
    "df_feat_kr[df_feat_kr[\"train\"] == False].head(5)"
   ]
  },
  {
   "cell_type": "markdown",
   "metadata": {},
   "source": [
    "### Prepare dataset"
   ]
  },
  {
   "cell_type": "code",
   "execution_count": 5,
   "metadata": {},
   "outputs": [
    {
     "name": "stdout",
     "output_type": "stream",
     "text": [
      "[[-0.97450826 -0.49350721 -1.2887581  ... -0.21416374  0.99528077\n",
      "  -0.41215472]\n",
      " [-0.9705845  -0.60404409 -1.46231458 ... -0.2118543   1.49292115\n",
      "  -0.41215472]\n",
      " [-1.28056105 -1.03734863 -1.98107417 ... -0.75298622 -1.49292115\n",
      "  -0.41215472]\n",
      " ...\n",
      " [-2.22226195 -2.72635207 -1.29186159 ...  2.74625659  1.49292115\n",
      "   0.22669013]\n",
      " [-2.30466078 -2.77498829 -1.97104752 ...  2.73802919 -1.49292115\n",
      "   0.44381541]\n",
      " [-2.38705961 -3.25692906 -0.55060594 ...  2.81741637 -0.99528077\n",
      "   0.44381541]]\n",
      "data_mean :  [1.35120406e+01 2.25538657e+01 6.46346641e+01 1.82195184e+01\n",
      " 1.54429658e+02 1.19907414e+04 3.00000000e+00 4.43632349e+01]\n",
      "data_std :  [8.49526638e+00 7.53896237e+00 1.39627942e+01 6.06204431e+00\n",
      " 2.85166288e+02 6.92807025e+03 2.00948322e+00 5.98093301e+00]\n"
     ]
    }
   ],
   "source": [
    "dataset, data_std, data_mean = prepare_dataset_kr(df_feat_kr)\n",
    "print(dataset)\n",
    "print(\"data_mean : \", data_mean)\n",
    "print(\"data_std : \", data_std)"
   ]
  },
  {
   "cell_type": "code",
   "execution_count": 6,
   "metadata": {},
   "outputs": [
    {
     "data": {
      "text/plain": [
       "8"
      ]
     },
     "execution_count": 6,
     "metadata": {},
     "output_type": "execute_result"
    }
   ],
   "source": [
    "dataset.shape[1]"
   ]
  },
  {
   "cell_type": "code",
   "execution_count": 7,
   "metadata": {},
   "outputs": [
    {
     "data": {
      "text/plain": [
       "14"
      ]
     },
     "execution_count": 7,
     "metadata": {},
     "output_type": "execute_result"
    }
   ],
   "source": [
    "PAST_HISTORY"
   ]
  },
  {
   "cell_type": "code",
   "execution_count": 8,
   "metadata": {},
   "outputs": [
    {
     "data": {
      "text/plain": [
       "8"
      ]
     },
     "execution_count": 8,
     "metadata": {},
     "output_type": "execute_result"
    }
   ],
   "source": [
    "dataset.shape[1]"
   ]
  },
  {
   "cell_type": "markdown",
   "metadata": {},
   "source": [
    "### Load model"
   ]
  },
  {
   "cell_type": "code",
   "execution_count": 9,
   "metadata": {},
   "outputs": [
    {
     "name": "stdout",
     "output_type": "stream",
     "text": [
      "CPU times: user 2.37 s, sys: 146 ms, total: 2.52 s\n",
      "Wall time: 2.92 s\n"
     ]
    }
   ],
   "source": [
    "%%time\n",
    "# reload best model\n",
    "multi_step_model = tf.keras.models.load_model(PATH_MDL_MULTI_STEP_KR)"
   ]
  },
  {
   "cell_type": "code",
   "execution_count": 10,
   "metadata": {},
   "outputs": [
    {
     "data": {
      "text/plain": [
       "tf.float32"
      ]
     },
     "execution_count": 10,
     "metadata": {},
     "output_type": "execute_result"
    }
   ],
   "source": [
    "multi_step_model.inputs[0].dtype"
   ]
  },
  {
   "cell_type": "code",
   "execution_count": 11,
   "metadata": {
    "scrolled": false
   },
   "outputs": [
    {
     "name": "stdout",
     "output_type": "stream",
     "text": [
      "WARNING:tensorflow:From /anaconda3/envs/coronavirusModel/lib/python3.7/site-packages/tensorflow/python/training/tracking/tracking.py:111: Model.state_updates (from tensorflow.python.keras.engine.training) is deprecated and will be removed in a future version.\n",
      "Instructions for updating:\n",
      "This property should not be used in TensorFlow 2.0, as updates are applied automatically.\n",
      "WARNING:tensorflow:From /anaconda3/envs/coronavirusModel/lib/python3.7/site-packages/tensorflow/python/training/tracking/tracking.py:111: Layer.updates (from tensorflow.python.keras.engine.base_layer) is deprecated and will be removed in a future version.\n",
      "Instructions for updating:\n",
      "This property should not be used in TensorFlow 2.0, as updates are applied automatically.\n",
      "INFO:tensorflow:Assets written to: /Users/gregory/Documents/CloudStationSinchon/Applications/python/CoronaVirus/code/coronavirusModel/keras_lstm/assets\n"
     ]
    }
   ],
   "source": [
    "run_model = tf.function(lambda x: multi_step_model(x))\n",
    "# This is important, let's fix the input size.\n",
    "INPUT_SIZE = dataset.shape[1]\n",
    "concrete_func = run_model.get_concrete_function(\n",
    "    tf.TensorSpec([1, PAST_HISTORY, INPUT_SIZE],\n",
    "                  multi_step_model.inputs[0].dtype))\n",
    "\n",
    "# model directory.\n",
    "MODEL_DIR = PATH_TO_SAVE_DATA + \"/\" + \"keras_lstm\"\n",
    "multi_step_model.save(MODEL_DIR, save_format=\"tf\", signatures=concrete_func)\n",
    "\n",
    "converter = tf.lite.TFLiteConverter.from_saved_model(MODEL_DIR)\n",
    "\n",
    "'''converter.target_spec.supported_ops = [\n",
    "  tf.lite.OpsSet.TFLITE_BUILTINS, # enable TensorFlow Lite ops.\n",
    "  tf.lite.OpsSet.SELECT_TF_OPS # enable TensorFlow ops.\n",
    "]\n",
    "converter.allow_custom_ops=True'''\n",
    "\n",
    "tflite_model = converter.convert()"
   ]
  },
  {
   "cell_type": "markdown",
   "metadata": {},
   "source": [
    "### Save model TFlite"
   ]
  },
  {
   "cell_type": "code",
   "execution_count": 12,
   "metadata": {},
   "outputs": [
    {
     "name": "stdout",
     "output_type": "stream",
     "text": [
      "File /Users/gregory/Documents/CloudStationSinchon/Applications/python/CoronaVirus/code/coronavirusModel/serverless/tensorflow_lite_on_aws_lambda_kr/converted_model_20210106_08_43_35.tflite moved!\n"
     ]
    }
   ],
   "source": [
    "clean_file(PATH_MDL_MULTI_TFLITE_FILE_KR)"
   ]
  },
  {
   "cell_type": "code",
   "execution_count": 13,
   "metadata": {},
   "outputs": [
    {
     "data": {
      "text/plain": [
       "5500"
      ]
     },
     "execution_count": 13,
     "metadata": {},
     "output_type": "execute_result"
    }
   ],
   "source": [
    "open(PATH_MDL_MULTI_TFLITE_FILE_KR, \"wb\").write(tflite_model)"
   ]
  },
  {
   "cell_type": "markdown",
   "metadata": {},
   "source": [
    "## Test converted model"
   ]
  },
  {
   "cell_type": "markdown",
   "metadata": {},
   "source": [
    "### Predict with TF model (not-converted one)"
   ]
  },
  {
   "cell_type": "markdown",
   "metadata": {},
   "source": [
    "#### Past days"
   ]
  },
  {
   "cell_type": "code",
   "execution_count": 14,
   "metadata": {},
   "outputs": [
    {
     "name": "stdout",
     "output_type": "stream",
     "text": [
      "[200 - 214]\n",
      "[207 - 221]\n",
      "[214 - 228]\n",
      "[221 - 235]\n",
      "[228 - 242]\n",
      "[235 - 249]\n",
      "[242 - 256]\n",
      "[249 - 263]\n",
      "[256 - 270]\n",
      "9\n"
     ]
    },
    {
     "data": {
      "text/plain": [
       "array([[ 110.66412 ,  115.580246,  118.56093 ,  121.96298 ,  125.25475 ,\n",
       "         129.04161 ,  134.54053 ,  138.33543 ,  147.86386 ,  160.91809 ,\n",
       "         177.46422 ,  189.13292 ,  197.61052 ,  205.67947 ,  271.56055 ,\n",
       "         287.04593 ,  307.41833 ,  331.30585 ,  347.75702 ,  357.24808 ,\n",
       "         362.8896  ,  325.11945 ,  343.11267 ,  360.3051  ,  378.21387 ,\n",
       "         393.37393 ,  404.34286 ,  412.6293  ,  462.99106 ,  487.78815 ,\n",
       "         519.67834 ,  553.55164 ,  579.219   ,  593.2461  ,  602.64185 ,\n",
       "         665.39575 ,  685.89087 ,  726.8445  ,  771.42554 ,  804.4784  ,\n",
       "         821.0642  ,  831.3047  ,  820.62146 ,  869.8695  ,  914.1361  ,\n",
       "         943.71936 ,  965.3086  ,  971.4104  ,  975.1708  ,  902.46533 ,\n",
       "         931.2157  ,  967.3849  ,  991.71423 , 1012.1183  , 1018.8502  ,\n",
       "        1025.1606  ,  900.1637  ,  928.31104 ,  944.3738  ,  939.9888  ,\n",
       "         941.145   ,  941.0459  ,  944.9075  ]], dtype=float32)"
      ]
     },
     "execution_count": 14,
     "metadata": {},
     "output_type": "execute_result"
    }
   ],
   "source": [
    "# TENSORFLOW MODEL :\n",
    "# prepare list of past histories\n",
    "list_x = create_list_past_hist(dataset)\n",
    "# predict\n",
    "y_multi_pred = predict_list(list_x, multi_step_model)\n",
    "# convert in positive cases\n",
    "y_pos_pred = (y_multi_pred * data_std[4]) + data_mean[4] \n",
    "y_pos_pred"
   ]
  },
  {
   "cell_type": "markdown",
   "metadata": {},
   "source": [
    "#### Future days"
   ]
  },
  {
   "cell_type": "code",
   "execution_count": 15,
   "metadata": {},
   "outputs": [],
   "source": [
    "# prepare data : very last days\n",
    "x_for_future = np.array([dataset[-PAST_HISTORY:,:]]) \n",
    "# predict next days\n",
    "y_future_pred = multi_step_model.predict(x_for_future)"
   ]
  },
  {
   "cell_type": "markdown",
   "metadata": {},
   "source": [
    "### Predict with TFlite & Compare "
   ]
  },
  {
   "cell_type": "markdown",
   "metadata": {},
   "source": [
    "#### Past days"
   ]
  },
  {
   "cell_type": "code",
   "execution_count": 16,
   "metadata": {},
   "outputs": [
    {
     "name": "stdout",
     "output_type": "stream",
     "text": [
      "Done. The result of TensorFlow matches the result of TensorFlow Lite.\n",
      "Done. The result of TensorFlow matches the result of TensorFlow Lite.\n",
      "Done. The result of TensorFlow matches the result of TensorFlow Lite.\n",
      "Done. The result of TensorFlow matches the result of TensorFlow Lite.\n",
      "Done. The result of TensorFlow matches the result of TensorFlow Lite.\n",
      "Done. The result of TensorFlow matches the result of TensorFlow Lite.\n",
      "Done. The result of TensorFlow matches the result of TensorFlow Lite.\n",
      "Done. The result of TensorFlow matches the result of TensorFlow Lite.\n",
      "Done. The result of TensorFlow matches the result of TensorFlow Lite.\n"
     ]
    }
   ],
   "source": [
    "# CONVERTED LITE MODEL\n",
    "# load \n",
    "interpreter = tf.lite.Interpreter(model_content=tflite_model)\n",
    "\n",
    "# Run the model with TensorFlow Lite\n",
    "interpreter.allocate_tensors()\n",
    "input_details = interpreter.get_input_details()\n",
    "output_details = interpreter.get_output_details()\n",
    "\n",
    "# check if same results \n",
    "for x_multi in list_x:\n",
    "    # predict with tensorflow model\n",
    "    expected = multi_step_model.predict(x_multi)\n",
    "    # predict with TFlite model\n",
    "    interpreter.set_tensor(input_details[0][\"index\"], \n",
    "                           x_multi.astype(np.float32))\n",
    "    interpreter.invoke()\n",
    "    result = interpreter.get_tensor(output_details[0][\"index\"])\n",
    "\n",
    "    # Assert if the result of TFLite model is consistent with the TF model.\n",
    "    np.testing.assert_almost_equal(expected, result, decimal=3)\n",
    "    print(\"Done. The result of TensorFlow matches the result of TensorFlow Lite.\")\n",
    "\n",
    "    # Please note: TfLite fused Lstm kernel is stateful, so we need to reset\n",
    "    # the states.\n",
    "    # Clean up internal states.\n",
    "    interpreter.reset_all_variables()"
   ]
  },
  {
   "cell_type": "markdown",
   "metadata": {},
   "source": [
    "### Reload Tlite model"
   ]
  },
  {
   "cell_type": "code",
   "execution_count": 17,
   "metadata": {},
   "outputs": [],
   "source": [
    "interpreter = tf.lite.Interpreter(model_path=PATH_MDL_MULTI_TFLITE_FILE_KR)"
   ]
  },
  {
   "cell_type": "code",
   "execution_count": 18,
   "metadata": {},
   "outputs": [
    {
     "data": {
      "text/plain": [
       "'/Users/gregory/Documents/CloudStationSinchon/Applications/python/CoronaVirus/code/coronavirusModel/serverless/tensorflow_lite_on_aws_lambda_kr/converted_model.tflite'"
      ]
     },
     "execution_count": 18,
     "metadata": {},
     "output_type": "execute_result"
    }
   ],
   "source": [
    "PATH_MDL_MULTI_TFLITE_FILE_KR"
   ]
  },
  {
   "cell_type": "markdown",
   "metadata": {},
   "source": [
    "### Predict reloaded model"
   ]
  },
  {
   "cell_type": "markdown",
   "metadata": {},
   "source": [
    "#### Past days"
   ]
  },
  {
   "cell_type": "code",
   "execution_count": 19,
   "metadata": {},
   "outputs": [
    {
     "name": "stdout",
     "output_type": "stream",
     "text": [
      "Done. The result of TensorFlow matches the result of TensorFlow Lite.\n",
      "Done. The result of TensorFlow matches the result of TensorFlow Lite.\n",
      "Done. The result of TensorFlow matches the result of TensorFlow Lite.\n",
      "Done. The result of TensorFlow matches the result of TensorFlow Lite.\n",
      "Done. The result of TensorFlow matches the result of TensorFlow Lite.\n",
      "Done. The result of TensorFlow matches the result of TensorFlow Lite.\n",
      "Done. The result of TensorFlow matches the result of TensorFlow Lite.\n",
      "Done. The result of TensorFlow matches the result of TensorFlow Lite.\n",
      "Done. The result of TensorFlow matches the result of TensorFlow Lite.\n"
     ]
    }
   ],
   "source": [
    "# Run the model with TensorFlow Lite\n",
    "interpreter.allocate_tensors()\n",
    "input_details = interpreter.get_input_details()\n",
    "output_details = interpreter.get_output_details()\n",
    "\n",
    "# check if same results \n",
    "for x_multi in list_x:\n",
    "    \n",
    "    expected = multi_step_model.predict(x_multi)\n",
    "    \n",
    "    interpreter.set_tensor(input_details[0][\"index\"], \n",
    "                           x_multi.astype(np.float32))\n",
    "    interpreter.invoke()\n",
    "    result = interpreter.get_tensor(output_details[0][\"index\"])\n",
    "\n",
    "    # Assert if the result of TFLite model is consistent with the TF model.\n",
    "    np.testing.assert_almost_equal(expected, result, decimal=3)\n",
    "    print(\"Done. The result of TensorFlow matches the result of TensorFlow Lite.\")\n",
    "\n",
    "    # Please note: TfLite fused Lstm kernel is stateful, so we need to reset\n",
    "    # the states.\n",
    "    # Clean up internal states.\n",
    "    interpreter.reset_all_variables()"
   ]
  },
  {
   "cell_type": "code",
   "execution_count": 20,
   "metadata": {},
   "outputs": [
    {
     "data": {
      "text/plain": [
       "(1, 14, 8)"
      ]
     },
     "execution_count": 20,
     "metadata": {},
     "output_type": "execute_result"
    }
   ],
   "source": [
    "x_multi.shape"
   ]
  },
  {
   "cell_type": "code",
   "execution_count": 21,
   "metadata": {},
   "outputs": [
    {
     "data": {
      "text/plain": [
       "9"
      ]
     },
     "execution_count": 21,
     "metadata": {},
     "output_type": "execute_result"
    }
   ],
   "source": [
    "len(list_x)"
   ]
  },
  {
   "cell_type": "markdown",
   "metadata": {},
   "source": [
    "## Update API lambda AWS"
   ]
  },
  {
   "cell_type": "markdown",
   "metadata": {},
   "source": [
    "### API lambda simulate"
   ]
  },
  {
   "cell_type": "markdown",
   "metadata": {},
   "source": [
    "#### Past days"
   ]
  },
  {
   "cell_type": "code",
   "execution_count": 28,
   "metadata": {},
   "outputs": [
    {
     "data": {
      "text/plain": [
       "(277, 8)"
      ]
     },
     "execution_count": 28,
     "metadata": {},
     "output_type": "execute_result"
    }
   ],
   "source": [
    "dataset.shape"
   ]
  },
  {
   "cell_type": "code",
   "execution_count": 29,
   "metadata": {},
   "outputs": [
    {
     "name": "stdout",
     "output_type": "stream",
     "text": [
      "[200 - 214]\n",
      "[207 - 221]\n",
      "[214 - 228]\n",
      "[221 - 235]\n",
      "[228 - 242]\n",
      "[235 - 249]\n",
      "[242 - 256]\n",
      "[249 - 263]\n",
      "[256 - 270]\n"
     ]
    }
   ],
   "source": [
    "json_list_list_x = prepare_to_lambda(dataset)\n",
    "# simulate input to lambda (double dumps ? why ? i don't know yet)\n",
    "json_list_list_x = json.dumps(json_list_list_x)\n",
    "# simulate lambda\n",
    "\n",
    "event = {\"body\": json_list_list_x}"
   ]
  },
  {
   "cell_type": "code",
   "execution_count": 30,
   "metadata": {},
   "outputs": [
    {
     "name": "stdout",
     "output_type": "stream",
     "text": [
      "INPUT : nb. arrays : 9 / arrays shape: (1, 14, 8)\n",
      "OUTPUT : nb. arrays : 9 / arrays shape in list: (1, 7)\n"
     ]
    }
   ],
   "source": [
    "# lambda code (file ./serverless/tensorflow-lite-on-aws-lambda/handler.py)\n",
    "from serverless.tensorflow_lite_on_aws_lambda_kr.handler import predict\n",
    "context = None\n",
    "response = predict(event, context)\n"
   ]
  },
  {
   "cell_type": "code",
   "execution_count": 31,
   "metadata": {},
   "outputs": [
    {
     "data": {
      "text/plain": [
       "(1, 63)"
      ]
     },
     "execution_count": 31,
     "metadata": {},
     "output_type": "execute_result"
    }
   ],
   "source": [
    "# Retrieve from lambda in App code\n",
    "# input : response\n",
    "y_multi_pred_out = retrieve_from_lambda(response)      \n",
    "y_multi_pred_out.shape"
   ]
  },
  {
   "cell_type": "code",
   "execution_count": 32,
   "metadata": {},
   "outputs": [
    {
     "data": {
      "text/plain": [
       "array([[-0.15347373, -0.13623424, -0.12578179, -0.11385173, -0.10230839,\n",
       "        -0.08902889, -0.0697457 , -0.05643804, -0.02302444,  0.02275314,\n",
       "         0.0807759 ,  0.12169483,  0.15142345,  0.17971909,  0.41074586,\n",
       "         0.4650489 ,  0.5364894 ,  0.62025625,  0.67794603,  0.7112286 ,\n",
       "         0.73101187,  0.5985623 ,  0.66165966,  0.7219488 ,  0.7847498 ,\n",
       "         0.8379121 ,  0.8763771 ,  0.9054353 ,  1.0820402 ,  1.1689968 ,\n",
       "         1.280827  ,  1.3996115 ,  1.4896199 ,  1.538809  ,  1.5717573 ,\n",
       "         1.7918179 ,  1.863689  ,  2.0073018 ,  2.1636355 ,  2.2795427 ,\n",
       "         2.3377047 ,  2.3736153 ,  2.3361518 ,  2.5088515 ,  2.664082  ,\n",
       "         2.7678225 ,  2.8435302 ,  2.8649275 ,  2.8781142 ,  2.6231558 ,\n",
       "         2.723976  ,  2.8508112 ,  2.9361274 ,  3.0076787 ,  3.0312858 ,\n",
       "         3.0534148 ,  2.6150846 ,  2.71379   ,  2.7701173 ,  2.7547405 ,\n",
       "         2.758795  ,  2.7584474 ,  2.7719889 ]], dtype=float32)"
      ]
     },
     "execution_count": 32,
     "metadata": {},
     "output_type": "execute_result"
    }
   ],
   "source": [
    "y_multi_pred"
   ]
  },
  {
   "cell_type": "code",
   "execution_count": 33,
   "metadata": {},
   "outputs": [
    {
     "data": {
      "text/plain": [
       "array([[-0.15347375, -0.13623425, -0.12578179, -0.11385175, -0.10230839,\n",
       "        -0.08902891, -0.06974571, -0.056438  , -0.0230244 ,  0.0227532 ,\n",
       "         0.08077595,  0.12169488,  0.1514235 ,  0.17971914,  0.41074586,\n",
       "         0.46504891,  0.53648943,  0.6202563 ,  0.67794603,  0.71122861,\n",
       "         0.73101187,  0.5985623 ,  0.6616596 ,  0.7219488 ,  0.78474987,\n",
       "         0.83791202,  0.87637705,  0.90543532,  1.08204019,  1.16899669,\n",
       "         1.28082693,  1.39961147,  1.48961973,  1.53880894,  1.5717572 ,\n",
       "         1.7918179 ,  1.86368883,  2.00730181,  2.16363549,  2.27954268,\n",
       "         2.33770466,  2.37361503,  2.33615184,  2.50885177,  2.66408229,\n",
       "         2.7678225 ,  2.84353018,  2.86492729,  2.87811446,  2.62315583,\n",
       "         2.72397614,  2.85081124,  2.93612742,  3.00767851,  3.03128552,\n",
       "         3.05341458,  2.61508465,  2.7137897 ,  2.77011752,  2.75474048,\n",
       "         2.75879526,  2.75844741,  2.77198911]])"
      ]
     },
     "execution_count": 33,
     "metadata": {},
     "output_type": "execute_result"
    }
   ],
   "source": [
    "y_multi_pred_out"
   ]
  },
  {
   "cell_type": "code",
   "execution_count": 34,
   "metadata": {},
   "outputs": [
    {
     "name": "stdout",
     "output_type": "stream",
     "text": [
      "Done. The result of TensorFlow matches the result of TensorFlow Lite.\n"
     ]
    }
   ],
   "source": [
    "# Assert if the result of TFLite model is consistent with the TF model.\n",
    "np.testing.assert_almost_equal(y_multi_pred, y_multi_pred_out, decimal=3)\n",
    "print(\"Done. The result of TensorFlow matches the result of TensorFlow Lite.\")"
   ]
  },
  {
   "cell_type": "markdown",
   "metadata": {},
   "source": [
    "#### Future days"
   ]
  },
  {
   "cell_type": "code",
   "execution_count": 35,
   "metadata": {},
   "outputs": [
    {
     "name": "stdout",
     "output_type": "stream",
     "text": [
      "INPUT : nb. arrays : 1 / arrays shape: (1, 14, 8)\n",
      "OUTPUT : nb. arrays : 1 / arrays shape in list: (1, 7)\n"
     ]
    },
    {
     "data": {
      "text/plain": [
       "(1, 7)"
      ]
     },
     "execution_count": 35,
     "metadata": {},
     "output_type": "execute_result"
    }
   ],
   "source": [
    "# Prepare data to lambda (future)\n",
    "json_list_list_x = prepare_to_lambda_future(dataset)\n",
    "\n",
    "# simulate lambda\n",
    "json_list_list_x = json.dumps(json_list_list_x) # dumps again : I dont know why\n",
    "event = {\"body\": json_list_list_x}\n",
    "context = None\n",
    "response = predict(event, context)\n",
    "y_future_pred_out = retrieve_from_lambda(response)      \n",
    "y_future_pred_out.shape"
   ]
  },
  {
   "cell_type": "code",
   "execution_count": 36,
   "metadata": {},
   "outputs": [
    {
     "data": {
      "text/plain": [
       "array([[2.65488458, 2.72560668, 2.78775334, 2.79731798, 2.82567215,\n",
       "        2.84909391, 2.87972999]])"
      ]
     },
     "execution_count": 36,
     "metadata": {},
     "output_type": "execute_result"
    }
   ],
   "source": [
    "y_future_pred_out"
   ]
  },
  {
   "cell_type": "code",
   "execution_count": 37,
   "metadata": {},
   "outputs": [
    {
     "data": {
      "text/plain": [
       "array([[2.6548848, 2.7256072, 2.7877536, 2.7973182, 2.8256721, 2.8490942,\n",
       "        2.8797302]], dtype=float32)"
      ]
     },
     "execution_count": 37,
     "metadata": {},
     "output_type": "execute_result"
    }
   ],
   "source": [
    "y_future_pred"
   ]
  },
  {
   "cell_type": "code",
   "execution_count": 38,
   "metadata": {},
   "outputs": [
    {
     "name": "stdout",
     "output_type": "stream",
     "text": [
      "Done. The result of TensorFlow matches the result of TensorFlow Lite.\n"
     ]
    }
   ],
   "source": [
    "# Assert if the result of TFLite model is consistent with the TF model.\n",
    "np.testing.assert_almost_equal(y_future_pred, y_future_pred_out, decimal=3)\n",
    "print(\"Done. The result of TensorFlow matches the result of TensorFlow Lite.\")"
   ]
  },
  {
   "cell_type": "markdown",
   "metadata": {},
   "source": [
    "### Update AWS Lambda with new model\n"
   ]
  },
  {
   "cell_type": "markdown",
   "metadata": {},
   "source": [
    "This part does:\n",
    "- Go to : ./serverless//tensorflow-lite-on-aws-lambda-kr\n",
    "    \n",
    "- Execute : sls deploy -v"
   ]
  },
  {
   "cell_type": "code",
   "execution_count": 39,
   "metadata": {},
   "outputs": [
    {
     "data": {
      "text/plain": [
       "'#!/bin/bash\\nexport PATH=\"/usr/local/bin:$PATH\"\\ncd /Users/gregory/Documents/CloudStationSinchon/Applications/python/CoronaVirus/code/coronavirusModel/serverless/tensorflow_lite_on_aws_lambda_kr\\nserverless deploy -v'"
      ]
     },
     "execution_count": 39,
     "metadata": {},
     "output_type": "execute_result"
    }
   ],
   "source": [
    "str_exe = '#!/bin/bash\\n' + \\\n",
    "    'export PATH=\"/usr/local/bin:$PATH\"\\n' + \\\n",
    "    f'cd {PATH_MDL_MULTI_TFLITE_KR}\\n' + \\\n",
    "    'serverless deploy -v'\n",
    "str_exe"
   ]
  },
  {
   "cell_type": "code",
   "execution_count": 40,
   "metadata": {},
   "outputs": [],
   "source": [
    "open('deploy_serverless_kr.sh', \"w\").write(str_exe)\n",
    "os.chmod('deploy_serverless_kr.sh', stat.S_IRWXU)"
   ]
  },
  {
   "cell_type": "code",
   "execution_count": 41,
   "metadata": {},
   "outputs": [
    {
     "name": "stdout",
     "output_type": "stream",
     "text": [
      "#!/bin/bash\r\n",
      "export PATH=\"/usr/local/bin:$PATH\"\r\n",
      "cd /Users/gregory/Documents/CloudStationSinchon/Applications/python/CoronaVirus/code/coronavirusModel/serverless/tensorflow_lite_on_aws_lambda_kr\r\n",
      "serverless deploy -v"
     ]
    }
   ],
   "source": [
    "!cat ./deploy_serverless_kr.sh"
   ]
  },
  {
   "cell_type": "code",
   "execution_count": 42,
   "metadata": {},
   "outputs": [
    {
     "name": "stdout",
     "output_type": "stream",
     "text": [
      "Serverless: \u001b[33mGenerated requirements from /Users/gregory/Documents/CloudStationSinchon/Applications/python/CoronaVirus/code/coronavirusModel/serverless/tensorflow_lite_on_aws_lambda_kr/requirements.txt in /Users/gregory/Documents/CloudStationSinchon/Applications/python/CoronaVirus/code/coronavirusModel/serverless/tensorflow_lite_on_aws_lambda_kr/.serverless/requirements.txt...\u001b[39m\n",
      "Serverless: \u001b[33mUsing static cache of requirements found at /Users/gregory/Library/Caches/serverless-python-requirements/ef4e42eb03bbad46f74fee99a3c01f994e8119e7a557f947779093ab37b248d3_slspyc ...\u001b[39m\n",
      "Serverless: \u001b[33mPackaging service...\u001b[39m\n",
      "Serverless: \u001b[33mExcluding development dependencies...\u001b[39m\n",
      "Serverless: \u001b[33mInjecting required Python packages to package...\u001b[39m\n",
      "Serverless: \u001b[33mCreating Stack...\u001b[39m\n",
      "Serverless: \u001b[33mChecking Stack create progress...\u001b[39m\n",
      "CloudFormation - \u001b[33mCREATE_IN_PROGRESS\u001b[39m - AWS::CloudFormation::Stack - tensorflow-lite-on-aws-lambda-kr-dev\n",
      "CloudFormation - \u001b[33mCREATE_IN_PROGRESS\u001b[39m - AWS::S3::Bucket - ServerlessDeploymentBucket\n",
      "CloudFormation - \u001b[33mCREATE_IN_PROGRESS\u001b[39m - AWS::S3::Bucket - ServerlessDeploymentBucket\n",
      "CloudFormation - \u001b[32mCREATE_COMPLETE\u001b[39m - AWS::S3::Bucket - ServerlessDeploymentBucket\n",
      "CloudFormation - \u001b[33mCREATE_IN_PROGRESS\u001b[39m - AWS::S3::BucketPolicy - ServerlessDeploymentBucketPolicy\n",
      "CloudFormation - \u001b[33mCREATE_IN_PROGRESS\u001b[39m - AWS::S3::BucketPolicy - ServerlessDeploymentBucketPolicy\n",
      "CloudFormation - \u001b[32mCREATE_COMPLETE\u001b[39m - AWS::S3::BucketPolicy - ServerlessDeploymentBucketPolicy\n",
      "CloudFormation - \u001b[32mCREATE_COMPLETE\u001b[39m - AWS::CloudFormation::Stack - tensorflow-lite-on-aws-lambda-kr-dev\n",
      "Serverless: \u001b[33mStack create finished...\u001b[39m\n",
      "Serverless: \u001b[33mUploading CloudFormation file to S3...\u001b[39m\n",
      "Serverless: \u001b[33mUploading artifacts...\u001b[39m\n",
      "Serverless: \u001b[33mUploading service tensorflow-lite-on-aws-lambda-kr.zip file to S3 (18.4 MB)...\u001b[39m\n",
      "Serverless: \u001b[33mValidating template...\u001b[39m\n",
      "Serverless: \u001b[33mUpdating Stack...\u001b[39m\n",
      "Serverless: \u001b[33mChecking Stack update progress...\u001b[39m\n",
      "CloudFormation - \u001b[33mUPDATE_IN_PROGRESS\u001b[39m - AWS::CloudFormation::Stack - tensorflow-lite-on-aws-lambda-kr-dev\n",
      "CloudFormation - \u001b[33mCREATE_IN_PROGRESS\u001b[39m - AWS::ApiGateway::RestApi - ApiGatewayRestApi\n",
      "CloudFormation - \u001b[33mCREATE_IN_PROGRESS\u001b[39m - AWS::Logs::LogGroup - PredictLogGroup\n",
      "CloudFormation - \u001b[33mCREATE_IN_PROGRESS\u001b[39m - AWS::IAM::Role - IamRoleLambdaExecution\n",
      "CloudFormation - \u001b[33mCREATE_IN_PROGRESS\u001b[39m - AWS::ApiGateway::RestApi - ApiGatewayRestApi\n",
      "CloudFormation - \u001b[32mCREATE_COMPLETE\u001b[39m - AWS::ApiGateway::RestApi - ApiGatewayRestApi\n",
      "CloudFormation - \u001b[33mCREATE_IN_PROGRESS\u001b[39m - AWS::IAM::Role - IamRoleLambdaExecution\n",
      "CloudFormation - \u001b[33mCREATE_IN_PROGRESS\u001b[39m - AWS::Logs::LogGroup - PredictLogGroup\n",
      "CloudFormation - \u001b[32mCREATE_COMPLETE\u001b[39m - AWS::Logs::LogGroup - PredictLogGroup\n",
      "CloudFormation - \u001b[33mCREATE_IN_PROGRESS\u001b[39m - AWS::ApiGateway::Resource - ApiGatewayResourceInfer\n",
      "CloudFormation - \u001b[33mCREATE_IN_PROGRESS\u001b[39m - AWS::ApiGateway::Resource - ApiGatewayResourceInfer\n",
      "CloudFormation - \u001b[32mCREATE_COMPLETE\u001b[39m - AWS::ApiGateway::Resource - ApiGatewayResourceInfer\n",
      "CloudFormation - \u001b[32mCREATE_COMPLETE\u001b[39m - AWS::IAM::Role - IamRoleLambdaExecution\n",
      "CloudFormation - \u001b[33mCREATE_IN_PROGRESS\u001b[39m - AWS::Lambda::Function - PredictLambdaFunction\n",
      "CloudFormation - \u001b[33mCREATE_IN_PROGRESS\u001b[39m - AWS::Lambda::Function - PredictLambdaFunction\n",
      "CloudFormation - \u001b[32mCREATE_COMPLETE\u001b[39m - AWS::Lambda::Function - PredictLambdaFunction\n",
      "CloudFormation - \u001b[33mCREATE_IN_PROGRESS\u001b[39m - AWS::Lambda::Version - PredictLambdaVersionhCa1nBOwGnP4kdOMgOuj4I3jY3GHBk8wvbJPIi0\n",
      "CloudFormation - \u001b[33mCREATE_IN_PROGRESS\u001b[39m - AWS::ApiGateway::Method - ApiGatewayMethodInferPost\n",
      "CloudFormation - \u001b[33mCREATE_IN_PROGRESS\u001b[39m - AWS::Lambda::Permission - PredictLambdaPermissionApiGateway\n",
      "CloudFormation - \u001b[33mCREATE_IN_PROGRESS\u001b[39m - AWS::ApiGateway::Method - ApiGatewayMethodInferPost\n",
      "CloudFormation - \u001b[33mCREATE_IN_PROGRESS\u001b[39m - AWS::Lambda::Permission - PredictLambdaPermissionApiGateway\n",
      "CloudFormation - \u001b[33mCREATE_IN_PROGRESS\u001b[39m - AWS::Lambda::Version - PredictLambdaVersionhCa1nBOwGnP4kdOMgOuj4I3jY3GHBk8wvbJPIi0\n",
      "CloudFormation - \u001b[32mCREATE_COMPLETE\u001b[39m - AWS::ApiGateway::Method - ApiGatewayMethodInferPost\n",
      "CloudFormation - \u001b[32mCREATE_COMPLETE\u001b[39m - AWS::Lambda::Version - PredictLambdaVersionhCa1nBOwGnP4kdOMgOuj4I3jY3GHBk8wvbJPIi0\n",
      "CloudFormation - \u001b[33mCREATE_IN_PROGRESS\u001b[39m - AWS::ApiGateway::Deployment - ApiGatewayDeployment1609918352199\n",
      "CloudFormation - \u001b[33mCREATE_IN_PROGRESS\u001b[39m - AWS::ApiGateway::Deployment - ApiGatewayDeployment1609918352199\n",
      "CloudFormation - \u001b[32mCREATE_COMPLETE\u001b[39m - AWS::ApiGateway::Deployment - ApiGatewayDeployment1609918352199\n",
      "CloudFormation - \u001b[32mCREATE_COMPLETE\u001b[39m - AWS::Lambda::Permission - PredictLambdaPermissionApiGateway\n",
      "CloudFormation - \u001b[33mUPDATE_COMPLETE_CLEANUP_IN_PROGRESS\u001b[39m - AWS::CloudFormation::Stack - tensorflow-lite-on-aws-lambda-kr-dev\n",
      "CloudFormation - \u001b[32mUPDATE_COMPLETE\u001b[39m - AWS::CloudFormation::Stack - tensorflow-lite-on-aws-lambda-kr-dev\n",
      "Serverless: \u001b[33mStack update finished...\u001b[39m\n",
      "\u001b[33m\u001b[4mService Information\u001b[24m\u001b[39m\n",
      "\u001b[33mservice:\u001b[39m tensorflow-lite-on-aws-lambda-kr\n",
      "\u001b[33mstage:\u001b[39m dev\n",
      "\u001b[33mregion:\u001b[39m us-east-2\n",
      "\u001b[33mstack:\u001b[39m tensorflow-lite-on-aws-lambda-kr-dev\n",
      "\u001b[33mresources:\u001b[39m 11\n",
      "\u001b[33mapi keys:\u001b[39m\n",
      "  None\n",
      "\u001b[33mendpoints:\u001b[39m\n",
      "  POST - https://hauojq3o6f.execute-api.us-east-2.amazonaws.com/dev/infer\n",
      "\u001b[33mfunctions:\u001b[39m\n",
      "  predict: tensorflow-lite-on-aws-lambda-kr-dev-predict\n",
      "\u001b[33mlayers:\u001b[39m\n",
      "  None\n",
      "\u001b[33m\u001b[4m\u001b[24m\u001b[39m\n",
      "\u001b[33m\u001b[4mStack Outputs\u001b[24m\u001b[39m\n",
      "\u001b[33m\u001b[4m\u001b[24m\u001b[39m\u001b[33mPredictLambdaFunctionQualifiedArn\u001b[39m: arn:aws:lambda:us-east-2:324466407431:function:tensorflow-lite-on-aws-lambda-kr-dev-predict:1\n",
      "\u001b[33mServiceEndpoint\u001b[39m: https://hauojq3o6f.execute-api.us-east-2.amazonaws.com/dev\n",
      "\u001b[33mServerlessDeploymentBucketName\u001b[39m: tensorflow-lite-on-aws-l-serverlessdeploymentbuck-rj02mbrirkhj\n",
      "\n",
      "\n",
      "********************************************************************************\n",
      "Serverless: \u001b[33mAnnouncing Metrics, CI/CD, Secrets and more built into Serverless Framework. Run \"serverless login\" to activate for free..\u001b[39m\n",
      "********************************************************************************\n",
      "\n",
      "\n",
      "\u001b[33m\u001b[39m\n",
      "\u001b[33m   ╭───────────────────────────────────────╮\u001b[39m\n",
      "   \u001b[33m│\u001b[39m                                       \u001b[33m│\u001b[39m\n",
      "   \u001b[33m│\u001b[39m   Update available \u001b[2m1.79.0\u001b[22m\u001b[0m → \u001b[0m\u001b[32m2.9.0\u001b[39m     \u001b[33m│\u001b[39m\n",
      "   \u001b[33m│\u001b[39m   Run \u001b[36mnpm i -g serverless\u001b[39m to update   \u001b[33m│\u001b[39m\n",
      "   \u001b[33m│\u001b[39m                                       \u001b[33m│\u001b[39m\n",
      "\u001b[33m   ╰───────────────────────────────────────╯\u001b[39m\n",
      "\u001b[33m\u001b[39m\n"
     ]
    }
   ],
   "source": [
    "!./deploy_serverless_kr.sh"
   ]
  },
  {
   "cell_type": "markdown",
   "metadata": {},
   "source": [
    "### API AWS real Test"
   ]
  },
  {
   "cell_type": "markdown",
   "metadata": {},
   "source": [
    "#### Past days"
   ]
  },
  {
   "cell_type": "code",
   "execution_count": 22,
   "metadata": {},
   "outputs": [
    {
     "name": "stdout",
     "output_type": "stream",
     "text": [
      "[200 - 214]\n",
      "[207 - 221]\n",
      "[214 - 228]\n",
      "[221 - 235]\n",
      "[228 - 242]\n",
      "[235 - 249]\n",
      "[242 - 256]\n",
      "[249 - 263]\n",
      "[256 - 270]\n",
      "status code :  200\n",
      "[[[-0.15347374975681305, -0.13623425364494324, -0.1257818043231964, -0.11385174840688705, -0.10230839252471924, -0.08902892470359802, -0.06974571198225021]], [[-0.05643804371356964, -0.023024436086416245, 0.022753160446882248, 0.0807759016752243, 0.12169484794139862, 0.15142346918582916, 0.17971910536289215]], [[0.41074591875076294, 0.46504896879196167, 0.5364894866943359, 0.6202563047409058, 0.677946150302887, 0.7112287282943726, 0.7310119867324829]], [[0.5985623002052307, 0.6616596579551697, 0.7219488620758057, 0.7847498655319214, 0.8379120230674744, 0.8763771653175354, 0.90543532371521]], [[1.0820403099060059, 1.1689966917037964, 1.2808270454406738, 1.3996115922927856, 1.4896198511123657, 1.538809061050415, 1.571757197380066]], [[1.7918179035186768, 1.8636888265609741, 2.0073015689849854, 2.163635492324829, 2.2795426845550537, 2.337704658508301, 2.373615026473999]], [[2.3361518383026123, 2.5088515281677246, 2.6640822887420654, 2.767822504043579, 2.8435301780700684, 2.864927291870117, 2.8781144618988037]], [[2.6231558322906494, 2.7239761352539062, 2.850811243057251, 2.9361274242401123, 3.007678508758545, 3.031285524368286, 3.0534145832061768]], [[2.615084648132324, 2.713789701461792, 2.7701175212860107, 2.7547404766082764, 2.7587947845458984, 2.7584476470947266, 2.771989107131958]]]\n"
     ]
    }
   ],
   "source": [
    "# prepare input\n",
    "json_list_list_x = prepare_to_lambda(dataset)\n",
    "# REQUEST\n",
    "resp = requests.post(URL_PREDICT_KR, json=json_list_list_x)\n",
    "print(\"status code : \", resp.status_code) \n",
    "print(resp.json())"
   ]
  },
  {
   "cell_type": "code",
   "execution_count": 23,
   "metadata": {},
   "outputs": [
    {
     "data": {
      "text/plain": [
       "20902"
      ]
     },
     "execution_count": 23,
     "metadata": {},
     "output_type": "execute_result"
    }
   ],
   "source": [
    "len(json_list_list_x)"
   ]
  },
  {
   "cell_type": "code",
   "execution_count": 24,
   "metadata": {},
   "outputs": [
    {
     "data": {
      "text/plain": [
       "[[[-0.15347374975681305,\n",
       "   -0.13623425364494324,\n",
       "   -0.1257818043231964,\n",
       "   -0.11385174840688705,\n",
       "   -0.10230839252471924,\n",
       "   -0.08902892470359802,\n",
       "   -0.06974571198225021]],\n",
       " [[-0.05643804371356964,\n",
       "   -0.023024436086416245,\n",
       "   0.022753160446882248,\n",
       "   0.0807759016752243,\n",
       "   0.12169484794139862,\n",
       "   0.15142346918582916,\n",
       "   0.17971910536289215]],\n",
       " [[0.41074591875076294,\n",
       "   0.46504896879196167,\n",
       "   0.5364894866943359,\n",
       "   0.6202563047409058,\n",
       "   0.677946150302887,\n",
       "   0.7112287282943726,\n",
       "   0.7310119867324829]],\n",
       " [[0.5985623002052307,\n",
       "   0.6616596579551697,\n",
       "   0.7219488620758057,\n",
       "   0.7847498655319214,\n",
       "   0.8379120230674744,\n",
       "   0.8763771653175354,\n",
       "   0.90543532371521]],\n",
       " [[1.0820403099060059,\n",
       "   1.1689966917037964,\n",
       "   1.2808270454406738,\n",
       "   1.3996115922927856,\n",
       "   1.4896198511123657,\n",
       "   1.538809061050415,\n",
       "   1.571757197380066]],\n",
       " [[1.7918179035186768,\n",
       "   1.8636888265609741,\n",
       "   2.0073015689849854,\n",
       "   2.163635492324829,\n",
       "   2.2795426845550537,\n",
       "   2.337704658508301,\n",
       "   2.373615026473999]],\n",
       " [[2.3361518383026123,\n",
       "   2.5088515281677246,\n",
       "   2.6640822887420654,\n",
       "   2.767822504043579,\n",
       "   2.8435301780700684,\n",
       "   2.864927291870117,\n",
       "   2.8781144618988037]],\n",
       " [[2.6231558322906494,\n",
       "   2.7239761352539062,\n",
       "   2.850811243057251,\n",
       "   2.9361274242401123,\n",
       "   3.007678508758545,\n",
       "   3.031285524368286,\n",
       "   3.0534145832061768]],\n",
       " [[2.615084648132324,\n",
       "   2.713789701461792,\n",
       "   2.7701175212860107,\n",
       "   2.7547404766082764,\n",
       "   2.7587947845458984,\n",
       "   2.7584476470947266,\n",
       "   2.771989107131958]]]"
      ]
     },
     "execution_count": 24,
     "metadata": {},
     "output_type": "execute_result"
    }
   ],
   "source": [
    "resp.json()"
   ]
  },
  {
   "cell_type": "code",
   "execution_count": 25,
   "metadata": {},
   "outputs": [
    {
     "data": {
      "text/plain": [
       "(1, 63)"
      ]
     },
     "execution_count": 25,
     "metadata": {},
     "output_type": "execute_result"
    }
   ],
   "source": [
    "y_multi_pred_out = retrieve_from_lambda(resp)      \n",
    "y_multi_pred_out.shape"
   ]
  },
  {
   "cell_type": "code",
   "execution_count": 26,
   "metadata": {},
   "outputs": [
    {
     "data": {
      "text/plain": [
       "array([[-0.15347375, -0.13623425, -0.1257818 , -0.11385175, -0.10230839,\n",
       "        -0.08902892, -0.06974571, -0.05643804, -0.02302444,  0.02275316,\n",
       "         0.0807759 ,  0.12169485,  0.15142347,  0.17971911,  0.41074592,\n",
       "         0.46504897,  0.53648949,  0.6202563 ,  0.67794615,  0.71122873,\n",
       "         0.73101199,  0.5985623 ,  0.66165966,  0.72194886,  0.78474987,\n",
       "         0.83791202,  0.87637717,  0.90543532,  1.08204031,  1.16899669,\n",
       "         1.28082705,  1.39961159,  1.48961985,  1.53880906,  1.5717572 ,\n",
       "         1.7918179 ,  1.86368883,  2.00730157,  2.16363549,  2.27954268,\n",
       "         2.33770466,  2.37361503,  2.33615184,  2.50885153,  2.66408229,\n",
       "         2.7678225 ,  2.84353018,  2.86492729,  2.87811446,  2.62315583,\n",
       "         2.72397614,  2.85081124,  2.93612742,  3.00767851,  3.03128552,\n",
       "         3.05341458,  2.61508465,  2.7137897 ,  2.77011752,  2.75474048,\n",
       "         2.75879478,  2.75844765,  2.77198911]])"
      ]
     },
     "execution_count": 26,
     "metadata": {},
     "output_type": "execute_result"
    }
   ],
   "source": [
    "y_multi_pred_out"
   ]
  },
  {
   "cell_type": "code",
   "execution_count": 27,
   "metadata": {},
   "outputs": [
    {
     "data": {
      "text/plain": [
       "array([[-0.15347373, -0.13623424, -0.12578179, -0.11385173, -0.10230839,\n",
       "        -0.08902889, -0.0697457 , -0.05643804, -0.02302444,  0.02275314,\n",
       "         0.0807759 ,  0.12169483,  0.15142345,  0.17971909,  0.41074586,\n",
       "         0.4650489 ,  0.5364894 ,  0.62025625,  0.67794603,  0.7112286 ,\n",
       "         0.73101187,  0.5985623 ,  0.66165966,  0.7219488 ,  0.7847498 ,\n",
       "         0.8379121 ,  0.8763771 ,  0.9054353 ,  1.0820402 ,  1.1689968 ,\n",
       "         1.280827  ,  1.3996115 ,  1.4896199 ,  1.538809  ,  1.5717573 ,\n",
       "         1.7918179 ,  1.863689  ,  2.0073018 ,  2.1636355 ,  2.2795427 ,\n",
       "         2.3377047 ,  2.3736153 ,  2.3361518 ,  2.5088515 ,  2.664082  ,\n",
       "         2.7678225 ,  2.8435302 ,  2.8649275 ,  2.8781142 ,  2.6231558 ,\n",
       "         2.723976  ,  2.8508112 ,  2.9361274 ,  3.0076787 ,  3.0312858 ,\n",
       "         3.0534148 ,  2.6150846 ,  2.71379   ,  2.7701173 ,  2.7547405 ,\n",
       "         2.758795  ,  2.7584474 ,  2.7719889 ]], dtype=float32)"
      ]
     },
     "execution_count": 27,
     "metadata": {},
     "output_type": "execute_result"
    }
   ],
   "source": [
    "y_multi_pred"
   ]
  },
  {
   "cell_type": "code",
   "execution_count": 28,
   "metadata": {},
   "outputs": [
    {
     "name": "stdout",
     "output_type": "stream",
     "text": [
      "Done. The result of TensorFlow matches the result of TensorFlow Lite.\n"
     ]
    }
   ],
   "source": [
    "# Assert if the result of TFLite model is consistent with the TF model.\n",
    "np.testing.assert_almost_equal(y_multi_pred, y_multi_pred_out, decimal=3)\n",
    "print(\"Done. The result of TensorFlow matches the result of TensorFlow Lite.\")"
   ]
  },
  {
   "cell_type": "markdown",
   "metadata": {},
   "source": [
    "#### future days"
   ]
  },
  {
   "cell_type": "code",
   "execution_count": 29,
   "metadata": {},
   "outputs": [
    {
     "name": "stdout",
     "output_type": "stream",
     "text": [
      "status code :  200\n",
      "[[[2.6548848152160645, 2.72560715675354, 2.7877538204193115, 2.79731822013855, 2.825672149658203, 2.8490941524505615, 2.879729986190796]]]\n"
     ]
    }
   ],
   "source": [
    "# prepare input\n",
    "json_list_list_x = prepare_to_lambda_future(dataset)\n",
    "resp = requests.post(URL_PREDICT_KR, json=json_list_list_x)\n",
    "print(\"status code : \", resp.status_code) \n",
    "print(resp.json())"
   ]
  },
  {
   "cell_type": "code",
   "execution_count": 30,
   "metadata": {},
   "outputs": [
    {
     "data": {
      "text/plain": [
       "array([[2.65488482, 2.72560716, 2.78775382, 2.79731822, 2.82567215,\n",
       "        2.84909415, 2.87972999]])"
      ]
     },
     "execution_count": 30,
     "metadata": {},
     "output_type": "execute_result"
    }
   ],
   "source": [
    "y_future_pred_out = retrieve_from_lambda(resp)      \n",
    "y_future_pred_out"
   ]
  },
  {
   "cell_type": "code",
   "execution_count": 31,
   "metadata": {},
   "outputs": [
    {
     "data": {
      "text/plain": [
       "array([[2.6548848, 2.7256072, 2.7877536, 2.7973182, 2.8256721, 2.8490942,\n",
       "        2.8797302]], dtype=float32)"
      ]
     },
     "execution_count": 31,
     "metadata": {},
     "output_type": "execute_result"
    }
   ],
   "source": [
    "y_future_pred"
   ]
  },
  {
   "cell_type": "code",
   "execution_count": 32,
   "metadata": {},
   "outputs": [
    {
     "name": "stdout",
     "output_type": "stream",
     "text": [
      "Done. The result of TensorFlow matches the result of TensorFlow Lite.\n"
     ]
    }
   ],
   "source": [
    "# Assert if the result of TFLite model is consistent with the TF model.\n",
    "np.testing.assert_almost_equal(y_future_pred, y_future_pred_out, decimal=3)\n",
    "print(\"Done. The result of TensorFlow matches the result of TensorFlow Lite.\")"
   ]
  },
  {
   "cell_type": "code",
   "execution_count": null,
   "metadata": {},
   "outputs": [],
   "source": []
  }
 ],
 "metadata": {
  "kernelspec": {
   "display_name": "Python 3",
   "language": "python",
   "name": "python3"
  },
  "language_info": {
   "codemirror_mode": {
    "name": "ipython",
    "version": 3
   },
   "file_extension": ".py",
   "mimetype": "text/x-python",
   "name": "python",
   "nbconvert_exporter": "python",
   "pygments_lexer": "ipython3",
   "version": "3.7.6"
  },
  "toc": {
   "base_numbering": 1,
   "nav_menu": {
    "height": "260px",
    "width": "258px"
   },
   "number_sections": true,
   "sideBar": true,
   "skip_h1_title": false,
   "title_cell": "Table of Contents",
   "title_sidebar": "Contents",
   "toc_cell": false,
   "toc_position": {
    "height": "calc(100% - 180px)",
    "left": "10px",
    "top": "150px",
    "width": "205px"
   },
   "toc_section_display": true,
   "toc_window_display": true
  }
 },
 "nbformat": 4,
 "nbformat_minor": 4
}
