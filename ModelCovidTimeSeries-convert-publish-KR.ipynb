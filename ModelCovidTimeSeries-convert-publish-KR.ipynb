{
 "cells": [
  {
   "cell_type": "markdown",
   "metadata": {},
   "source": [
    "# Model South Korea Time Series for COVID: Publish for app\n",
    "\n",
    "This notebook use multistep time serie model  (predicting number of cases future next days).\n",
    "\n",
    "It converts Tensorflow model into TensorFlow Lite to be able to use it in a Lambda fonction on AWS.\n",
    "\n",
    "After that, the lite model is tested and publish on AWS\n",
    "\n",
    "Finally, the lambda function is tested"
   ]
  },
  {
   "cell_type": "markdown",
   "metadata": {},
   "source": [
    "## Convert model in TFlite"
   ]
  },
  {
   "cell_type": "markdown",
   "metadata": {},
   "source": [
    "**IMPORTANT TO DO manually:**\n",
    "- **Update TRAIN_SPLIT in my_helpers.model module**"
   ]
  },
  {
   "cell_type": "markdown",
   "metadata": {},
   "source": [
    "### import"
   ]
  },
  {
   "cell_type": "code",
   "execution_count": 1,
   "metadata": {},
   "outputs": [],
   "source": [
    "# data useful lib\n",
    "import pandas as pd\n",
    "import numpy as np\n",
    "\n",
    "# helper lib\n",
    "import shutil\n",
    "import os, stat\n",
    "import re\n",
    "import datetime\n",
    "import math\n",
    "\n",
    "# read json from http\n",
    "import json\n",
    "import urllib.request\n",
    "\n",
    "# read csv from http\n",
    "import io\n",
    "import requests\n",
    "\n",
    "# model lib\n",
    "import tensorflow as tf\n",
    "\n",
    "# from project\n",
    "from my_helpers.data_plots_kr import load_df_feat_kr\n",
    "from my_helpers.model import prepare_to_lambda, retrieve_from_lambda\n",
    "from my_helpers.model import prepare_to_lambda_future\n",
    "from my_helpers.model import create_list_past_hist, predict_list\n",
    "\n",
    "from my_helpers.model_kr import prepare_data_features_kr\n",
    "from my_helpers.model_kr import prepare_dataset_kr\n",
    "\n",
    "from my_helpers.utils import clean_file\n",
    "\n",
    "import settings"
   ]
  },
  {
   "cell_type": "code",
   "execution_count": 2,
   "metadata": {},
   "outputs": [
    {
     "data": {
      "text/plain": [
       "'2.3.0'"
      ]
     },
     "execution_count": 2,
     "metadata": {},
     "output_type": "execute_result"
    }
   ],
   "source": [
    "tf.__version__"
   ]
  },
  {
   "cell_type": "markdown",
   "metadata": {},
   "source": [
    "### Definitions"
   ]
  },
  {
   "cell_type": "code",
   "execution_count": 3,
   "metadata": {},
   "outputs": [
    {
     "name": "stdout",
     "output_type": "stream",
     "text": [
      "TRAIN_SPLIT = 383\n"
     ]
    }
   ],
   "source": [
    "PATH_TO_SAVE_DATA = settings.PATH_TO_SAVE_DATA\n",
    "\n",
    "from my_helpers.model_kr import PATH_MDL_MULTI_STEP_KR\n",
    "from my_helpers.model_kr import PATH_MDL_MULTI_TFLITE_KR \n",
    "from my_helpers.model_kr import PATH_MDL_MULTI_TFLITE_FILE_KR\n",
    "from my_helpers.model_kr import PATH_SERVERLESS_KR\n",
    "from my_helpers.model_kr import URL_PREDICT_KR\n",
    "from my_helpers.model_kr import PAST_HISTORY # days used to predict next values in future\n",
    "from my_helpers.model_kr import FUTURE_TARGET  # predict 3 days later\n",
    "from my_helpers.model_kr import STEP \n",
    "\n",
    "from my_helpers.data_plots_kr import PATH_DF_FEAT_KR\n",
    "\n",
    "date_format = \"%Y-%m-%d\"\n",
    "\n",
    "#NB_POS_DATE_MIN_DF_FEAT = 140227 # on 12/05/2020\n",
    "\n",
    "# plot\n",
    "NB_DAY_PLOT = FUTURE_TARGET*9\n",
    "\n",
    "# train split\n",
    "from my_helpers.model_kr import TRAIN_SPLIT\n",
    "print(f\"TRAIN_SPLIT = {TRAIN_SPLIT}\")\n"
   ]
  },
  {
   "cell_type": "markdown",
   "metadata": {},
   "source": [
    "### helper functions"
   ]
  },
  {
   "cell_type": "markdown",
   "metadata": {},
   "source": [
    "### load data"
   ]
  },
  {
   "cell_type": "code",
   "execution_count": 4,
   "metadata": {},
   "outputs": [
    {
     "data": {
      "text/html": [
       "<div>\n",
       "<style scoped>\n",
       "    .dataframe tbody tr th:only-of-type {\n",
       "        vertical-align: middle;\n",
       "    }\n",
       "\n",
       "    .dataframe tbody tr th {\n",
       "        vertical-align: top;\n",
       "    }\n",
       "\n",
       "    .dataframe thead th {\n",
       "        text-align: right;\n",
       "    }\n",
       "</style>\n",
       "<table border=\"1\" class=\"dataframe\">\n",
       "  <thead>\n",
       "    <tr style=\"text-align: right;\">\n",
       "      <th></th>\n",
       "      <th>nb_cases</th>\n",
       "      <th>nb_tests</th>\n",
       "      <th>nb_deaths</th>\n",
       "      <th>date</th>\n",
       "      <th>day_num</th>\n",
       "      <th>Jeju</th>\n",
       "      <th>Gyeongnam</th>\n",
       "      <th>Gyeongbuk</th>\n",
       "      <th>Jeonnam</th>\n",
       "      <th>Jeonbuk</th>\n",
       "      <th>...</th>\n",
       "      <th>Rt_Jeonbuk</th>\n",
       "      <th>sum_Jeonnam</th>\n",
       "      <th>Rt_Jeonnam</th>\n",
       "      <th>sum_Gyeongbuk</th>\n",
       "      <th>Rt_Gyeongbuk</th>\n",
       "      <th>sum_Gyeongnam</th>\n",
       "      <th>Rt_Gyeongnam</th>\n",
       "      <th>sum_Jeju</th>\n",
       "      <th>Rt_Jeju</th>\n",
       "      <th>train</th>\n",
       "    </tr>\n",
       "    <tr>\n",
       "      <th>date</th>\n",
       "      <th></th>\n",
       "      <th></th>\n",
       "      <th></th>\n",
       "      <th></th>\n",
       "      <th></th>\n",
       "      <th></th>\n",
       "      <th></th>\n",
       "      <th></th>\n",
       "      <th></th>\n",
       "      <th></th>\n",
       "      <th></th>\n",
       "      <th></th>\n",
       "      <th></th>\n",
       "      <th></th>\n",
       "      <th></th>\n",
       "      <th></th>\n",
       "      <th></th>\n",
       "      <th></th>\n",
       "      <th></th>\n",
       "      <th></th>\n",
       "      <th></th>\n",
       "    </tr>\n",
       "  </thead>\n",
       "  <tbody>\n",
       "    <tr>\n",
       "      <th>2020-04-03</th>\n",
       "      <td>10062.0</td>\n",
       "      <td>424365.0</td>\n",
       "      <td>174.0</td>\n",
       "      <td>2020-04-03</td>\n",
       "      <td>5.0</td>\n",
       "      <td>0.0</td>\n",
       "      <td>1.0</td>\n",
       "      <td>5.0</td>\n",
       "      <td>1.0</td>\n",
       "      <td>1.0</td>\n",
       "      <td>...</td>\n",
       "      <td>5.000000</td>\n",
       "      <td>10.0</td>\n",
       "      <td>inf</td>\n",
       "      <td>106.0</td>\n",
       "      <td>4.240000</td>\n",
       "      <td>20.0</td>\n",
       "      <td>20.000000</td>\n",
       "      <td>5.0</td>\n",
       "      <td>inf</td>\n",
       "      <td>True</td>\n",
       "    </tr>\n",
       "    <tr>\n",
       "      <th>2020-04-04</th>\n",
       "      <td>10156.0</td>\n",
       "      <td>434888.0</td>\n",
       "      <td>177.0</td>\n",
       "      <td>2020-04-04</td>\n",
       "      <td>6.0</td>\n",
       "      <td>0.0</td>\n",
       "      <td>1.0</td>\n",
       "      <td>1.0</td>\n",
       "      <td>0.0</td>\n",
       "      <td>0.0</td>\n",
       "      <td>...</td>\n",
       "      <td>5.000000</td>\n",
       "      <td>10.0</td>\n",
       "      <td>inf</td>\n",
       "      <td>67.0</td>\n",
       "      <td>1.030769</td>\n",
       "      <td>21.0</td>\n",
       "      <td>21.000000</td>\n",
       "      <td>5.0</td>\n",
       "      <td>inf</td>\n",
       "      <td>True</td>\n",
       "    </tr>\n",
       "    <tr>\n",
       "      <th>2020-04-05</th>\n",
       "      <td>10237.0</td>\n",
       "      <td>441662.0</td>\n",
       "      <td>183.0</td>\n",
       "      <td>2020-04-05</td>\n",
       "      <td>0.0</td>\n",
       "      <td>3.0</td>\n",
       "      <td>1.0</td>\n",
       "      <td>4.0</td>\n",
       "      <td>0.0</td>\n",
       "      <td>1.0</td>\n",
       "      <td>...</td>\n",
       "      <td>6.000000</td>\n",
       "      <td>9.0</td>\n",
       "      <td>9.000000</td>\n",
       "      <td>60.0</td>\n",
       "      <td>0.789474</td>\n",
       "      <td>21.0</td>\n",
       "      <td>10.500000</td>\n",
       "      <td>8.0</td>\n",
       "      <td>inf</td>\n",
       "      <td>True</td>\n",
       "    </tr>\n",
       "    <tr>\n",
       "      <th>2020-04-06</th>\n",
       "      <td>10284.0</td>\n",
       "      <td>447509.0</td>\n",
       "      <td>186.0</td>\n",
       "      <td>2020-04-06</td>\n",
       "      <td>1.0</td>\n",
       "      <td>0.0</td>\n",
       "      <td>2.0</td>\n",
       "      <td>2.0</td>\n",
       "      <td>0.0</td>\n",
       "      <td>0.0</td>\n",
       "      <td>...</td>\n",
       "      <td>6.000000</td>\n",
       "      <td>9.0</td>\n",
       "      <td>9.000000</td>\n",
       "      <td>60.0</td>\n",
       "      <td>0.769231</td>\n",
       "      <td>22.0</td>\n",
       "      <td>7.333333</td>\n",
       "      <td>8.0</td>\n",
       "      <td>inf</td>\n",
       "      <td>True</td>\n",
       "    </tr>\n",
       "    <tr>\n",
       "      <th>2020-04-07</th>\n",
       "      <td>10331.0</td>\n",
       "      <td>456654.0</td>\n",
       "      <td>192.0</td>\n",
       "      <td>2020-04-07</td>\n",
       "      <td>2.0</td>\n",
       "      <td>0.0</td>\n",
       "      <td>1.0</td>\n",
       "      <td>1.0</td>\n",
       "      <td>0.0</td>\n",
       "      <td>0.0</td>\n",
       "      <td>...</td>\n",
       "      <td>6.000000</td>\n",
       "      <td>9.0</td>\n",
       "      <td>9.000000</td>\n",
       "      <td>60.0</td>\n",
       "      <td>0.759494</td>\n",
       "      <td>22.0</td>\n",
       "      <td>5.500000</td>\n",
       "      <td>8.0</td>\n",
       "      <td>inf</td>\n",
       "      <td>True</td>\n",
       "    </tr>\n",
       "    <tr>\n",
       "      <th>...</th>\n",
       "      <td>...</td>\n",
       "      <td>...</td>\n",
       "      <td>...</td>\n",
       "      <td>...</td>\n",
       "      <td>...</td>\n",
       "      <td>...</td>\n",
       "      <td>...</td>\n",
       "      <td>...</td>\n",
       "      <td>...</td>\n",
       "      <td>...</td>\n",
       "      <td>...</td>\n",
       "      <td>...</td>\n",
       "      <td>...</td>\n",
       "      <td>...</td>\n",
       "      <td>...</td>\n",
       "      <td>...</td>\n",
       "      <td>...</td>\n",
       "      <td>...</td>\n",
       "      <td>...</td>\n",
       "      <td>...</td>\n",
       "      <td>...</td>\n",
       "    </tr>\n",
       "    <tr>\n",
       "      <th>2021-04-30</th>\n",
       "      <td>122007.0</td>\n",
       "      <td>8765781.0</td>\n",
       "      <td>1828.0</td>\n",
       "      <td>2021-04-30</td>\n",
       "      <td>5.0</td>\n",
       "      <td>1.0</td>\n",
       "      <td>37.0</td>\n",
       "      <td>29.0</td>\n",
       "      <td>5.0</td>\n",
       "      <td>21.0</td>\n",
       "      <td>...</td>\n",
       "      <td>0.498328</td>\n",
       "      <td>57.0</td>\n",
       "      <td>0.703704</td>\n",
       "      <td>344.0</td>\n",
       "      <td>1.522124</td>\n",
       "      <td>615.0</td>\n",
       "      <td>2.043189</td>\n",
       "      <td>36.0</td>\n",
       "      <td>0.900000</td>\n",
       "      <td>False</td>\n",
       "    </tr>\n",
       "    <tr>\n",
       "      <th>2021-05-01</th>\n",
       "      <td>122634.0</td>\n",
       "      <td>8798176.0</td>\n",
       "      <td>1831.0</td>\n",
       "      <td>2021-05-01</td>\n",
       "      <td>6.0</td>\n",
       "      <td>7.0</td>\n",
       "      <td>43.0</td>\n",
       "      <td>12.0</td>\n",
       "      <td>2.0</td>\n",
       "      <td>10.0</td>\n",
       "      <td>...</td>\n",
       "      <td>0.484746</td>\n",
       "      <td>53.0</td>\n",
       "      <td>0.616279</td>\n",
       "      <td>327.0</td>\n",
       "      <td>1.373950</td>\n",
       "      <td>620.0</td>\n",
       "      <td>1.993569</td>\n",
       "      <td>42.0</td>\n",
       "      <td>1.050000</td>\n",
       "      <td>False</td>\n",
       "    </tr>\n",
       "    <tr>\n",
       "      <th>2021-05-02</th>\n",
       "      <td>123240.0</td>\n",
       "      <td>8811627.0</td>\n",
       "      <td>1833.0</td>\n",
       "      <td>2021-05-02</td>\n",
       "      <td>0.0</td>\n",
       "      <td>1.0</td>\n",
       "      <td>61.0</td>\n",
       "      <td>30.0</td>\n",
       "      <td>1.0</td>\n",
       "      <td>12.0</td>\n",
       "      <td>...</td>\n",
       "      <td>0.458904</td>\n",
       "      <td>52.0</td>\n",
       "      <td>0.597701</td>\n",
       "      <td>329.0</td>\n",
       "      <td>1.316000</td>\n",
       "      <td>614.0</td>\n",
       "      <td>1.686813</td>\n",
       "      <td>42.0</td>\n",
       "      <td>1.076923</td>\n",
       "      <td>False</td>\n",
       "    </tr>\n",
       "    <tr>\n",
       "      <th>2021-05-03</th>\n",
       "      <td>123728.0</td>\n",
       "      <td>8826304.0</td>\n",
       "      <td>1834.0</td>\n",
       "      <td>2021-05-03</td>\n",
       "      <td>1.0</td>\n",
       "      <td>1.0</td>\n",
       "      <td>44.0</td>\n",
       "      <td>32.0</td>\n",
       "      <td>24.0</td>\n",
       "      <td>12.0</td>\n",
       "      <td>...</td>\n",
       "      <td>0.445205</td>\n",
       "      <td>73.0</td>\n",
       "      <td>0.858824</td>\n",
       "      <td>342.0</td>\n",
       "      <td>1.373494</td>\n",
       "      <td>623.0</td>\n",
       "      <td>1.609819</td>\n",
       "      <td>41.0</td>\n",
       "      <td>1.051282</td>\n",
       "      <td>False</td>\n",
       "    </tr>\n",
       "    <tr>\n",
       "      <th>2021-05-04</th>\n",
       "      <td>124269.0</td>\n",
       "      <td>8879059.0</td>\n",
       "      <td>1840.0</td>\n",
       "      <td>2021-05-04</td>\n",
       "      <td>2.0</td>\n",
       "      <td>8.0</td>\n",
       "      <td>36.0</td>\n",
       "      <td>22.0</td>\n",
       "      <td>9.0</td>\n",
       "      <td>12.0</td>\n",
       "      <td>...</td>\n",
       "      <td>0.522556</td>\n",
       "      <td>78.0</td>\n",
       "      <td>1.054054</td>\n",
       "      <td>343.0</td>\n",
       "      <td>1.400000</td>\n",
       "      <td>630.0</td>\n",
       "      <td>1.540342</td>\n",
       "      <td>48.0</td>\n",
       "      <td>1.200000</td>\n",
       "      <td>False</td>\n",
       "    </tr>\n",
       "  </tbody>\n",
       "</table>\n",
       "<p>397 rows × 88 columns</p>\n",
       "</div>"
      ],
      "text/plain": [
       "            nb_cases   nb_tests  nb_deaths        date  day_num  Jeju  \\\n",
       "date                                                                    \n",
       "2020-04-03   10062.0   424365.0      174.0  2020-04-03      5.0   0.0   \n",
       "2020-04-04   10156.0   434888.0      177.0  2020-04-04      6.0   0.0   \n",
       "2020-04-05   10237.0   441662.0      183.0  2020-04-05      0.0   3.0   \n",
       "2020-04-06   10284.0   447509.0      186.0  2020-04-06      1.0   0.0   \n",
       "2020-04-07   10331.0   456654.0      192.0  2020-04-07      2.0   0.0   \n",
       "...              ...        ...        ...         ...      ...   ...   \n",
       "2021-04-30  122007.0  8765781.0     1828.0  2021-04-30      5.0   1.0   \n",
       "2021-05-01  122634.0  8798176.0     1831.0  2021-05-01      6.0   7.0   \n",
       "2021-05-02  123240.0  8811627.0     1833.0  2021-05-02      0.0   1.0   \n",
       "2021-05-03  123728.0  8826304.0     1834.0  2021-05-03      1.0   1.0   \n",
       "2021-05-04  124269.0  8879059.0     1840.0  2021-05-04      2.0   8.0   \n",
       "\n",
       "            Gyeongnam  Gyeongbuk  Jeonnam  Jeonbuk  ...  Rt_Jeonbuk  \\\n",
       "date                                                ...               \n",
       "2020-04-03        1.0        5.0      1.0      1.0  ...    5.000000   \n",
       "2020-04-04        1.0        1.0      0.0      0.0  ...    5.000000   \n",
       "2020-04-05        1.0        4.0      0.0      1.0  ...    6.000000   \n",
       "2020-04-06        2.0        2.0      0.0      0.0  ...    6.000000   \n",
       "2020-04-07        1.0        1.0      0.0      0.0  ...    6.000000   \n",
       "...               ...        ...      ...      ...  ...         ...   \n",
       "2021-04-30       37.0       29.0      5.0     21.0  ...    0.498328   \n",
       "2021-05-01       43.0       12.0      2.0     10.0  ...    0.484746   \n",
       "2021-05-02       61.0       30.0      1.0     12.0  ...    0.458904   \n",
       "2021-05-03       44.0       32.0     24.0     12.0  ...    0.445205   \n",
       "2021-05-04       36.0       22.0      9.0     12.0  ...    0.522556   \n",
       "\n",
       "            sum_Jeonnam  Rt_Jeonnam  sum_Gyeongbuk  Rt_Gyeongbuk  \\\n",
       "date                                                               \n",
       "2020-04-03         10.0         inf          106.0      4.240000   \n",
       "2020-04-04         10.0         inf           67.0      1.030769   \n",
       "2020-04-05          9.0    9.000000           60.0      0.789474   \n",
       "2020-04-06          9.0    9.000000           60.0      0.769231   \n",
       "2020-04-07          9.0    9.000000           60.0      0.759494   \n",
       "...                 ...         ...            ...           ...   \n",
       "2021-04-30         57.0    0.703704          344.0      1.522124   \n",
       "2021-05-01         53.0    0.616279          327.0      1.373950   \n",
       "2021-05-02         52.0    0.597701          329.0      1.316000   \n",
       "2021-05-03         73.0    0.858824          342.0      1.373494   \n",
       "2021-05-04         78.0    1.054054          343.0      1.400000   \n",
       "\n",
       "            sum_Gyeongnam  Rt_Gyeongnam  sum_Jeju   Rt_Jeju  train  \n",
       "date                                                                \n",
       "2020-04-03           20.0     20.000000       5.0       inf   True  \n",
       "2020-04-04           21.0     21.000000       5.0       inf   True  \n",
       "2020-04-05           21.0     10.500000       8.0       inf   True  \n",
       "2020-04-06           22.0      7.333333       8.0       inf   True  \n",
       "2020-04-07           22.0      5.500000       8.0       inf   True  \n",
       "...                   ...           ...       ...       ...    ...  \n",
       "2021-04-30          615.0      2.043189      36.0  0.900000  False  \n",
       "2021-05-01          620.0      1.993569      42.0  1.050000  False  \n",
       "2021-05-02          614.0      1.686813      42.0  1.076923  False  \n",
       "2021-05-03          623.0      1.609819      41.0  1.051282  False  \n",
       "2021-05-04          630.0      1.540342      48.0  1.200000  False  \n",
       "\n",
       "[397 rows x 88 columns]"
      ]
     },
     "execution_count": 4,
     "metadata": {},
     "output_type": "execute_result"
    }
   ],
   "source": [
    "# load\n",
    "df_feat_kr = load_df_feat_kr()\n",
    "# clean\n",
    "df_feat_kr = prepare_data_features_kr(df_feat_kr)\n",
    "# split train/test\n",
    "df_feat_kr[\"train\"] = [True if I <= TRAIN_SPLIT else False \\\n",
    "                       for I in range(df_feat_kr.shape[0])]\n",
    "df_feat_kr"
   ]
  },
  {
   "cell_type": "code",
   "execution_count": 5,
   "metadata": {},
   "outputs": [
    {
     "data": {
      "text/html": [
       "<div>\n",
       "<style scoped>\n",
       "    .dataframe tbody tr th:only-of-type {\n",
       "        vertical-align: middle;\n",
       "    }\n",
       "\n",
       "    .dataframe tbody tr th {\n",
       "        vertical-align: top;\n",
       "    }\n",
       "\n",
       "    .dataframe thead th {\n",
       "        text-align: right;\n",
       "    }\n",
       "</style>\n",
       "<table border=\"1\" class=\"dataframe\">\n",
       "  <thead>\n",
       "    <tr style=\"text-align: right;\">\n",
       "      <th></th>\n",
       "      <th>nb_cases</th>\n",
       "      <th>nb_tests</th>\n",
       "      <th>nb_deaths</th>\n",
       "      <th>date</th>\n",
       "      <th>day_num</th>\n",
       "      <th>Jeju</th>\n",
       "      <th>Gyeongnam</th>\n",
       "      <th>Gyeongbuk</th>\n",
       "      <th>Jeonnam</th>\n",
       "      <th>Jeonbuk</th>\n",
       "      <th>...</th>\n",
       "      <th>Rt_Jeonbuk</th>\n",
       "      <th>sum_Jeonnam</th>\n",
       "      <th>Rt_Jeonnam</th>\n",
       "      <th>sum_Gyeongbuk</th>\n",
       "      <th>Rt_Gyeongbuk</th>\n",
       "      <th>sum_Gyeongnam</th>\n",
       "      <th>Rt_Gyeongnam</th>\n",
       "      <th>sum_Jeju</th>\n",
       "      <th>Rt_Jeju</th>\n",
       "      <th>train</th>\n",
       "    </tr>\n",
       "    <tr>\n",
       "      <th>date</th>\n",
       "      <th></th>\n",
       "      <th></th>\n",
       "      <th></th>\n",
       "      <th></th>\n",
       "      <th></th>\n",
       "      <th></th>\n",
       "      <th></th>\n",
       "      <th></th>\n",
       "      <th></th>\n",
       "      <th></th>\n",
       "      <th></th>\n",
       "      <th></th>\n",
       "      <th></th>\n",
       "      <th></th>\n",
       "      <th></th>\n",
       "      <th></th>\n",
       "      <th></th>\n",
       "      <th></th>\n",
       "      <th></th>\n",
       "      <th></th>\n",
       "      <th></th>\n",
       "    </tr>\n",
       "  </thead>\n",
       "  <tbody>\n",
       "    <tr>\n",
       "      <th>2021-04-22</th>\n",
       "      <td>116661.0</td>\n",
       "      <td>8470366.0</td>\n",
       "      <td>1808.0</td>\n",
       "      <td>2021-04-22</td>\n",
       "      <td>4.0</td>\n",
       "      <td>4.0</td>\n",
       "      <td>58.0</td>\n",
       "      <td>23.0</td>\n",
       "      <td>8.0</td>\n",
       "      <td>6.0</td>\n",
       "      <td>...</td>\n",
       "      <td>1.088496</td>\n",
       "      <td>78.0</td>\n",
       "      <td>2.166667</td>\n",
       "      <td>264.0</td>\n",
       "      <td>1.466667</td>\n",
       "      <td>472.0</td>\n",
       "      <td>1.794677</td>\n",
       "      <td>43.0</td>\n",
       "      <td>1.592593</td>\n",
       "      <td>False</td>\n",
       "    </tr>\n",
       "    <tr>\n",
       "      <th>2021-04-23</th>\n",
       "      <td>117458.0</td>\n",
       "      <td>8513591.0</td>\n",
       "      <td>1811.0</td>\n",
       "      <td>2021-04-23</td>\n",
       "      <td>5.0</td>\n",
       "      <td>3.0</td>\n",
       "      <td>63.0</td>\n",
       "      <td>22.0</td>\n",
       "      <td>6.0</td>\n",
       "      <td>9.0</td>\n",
       "      <td>...</td>\n",
       "      <td>0.951020</td>\n",
       "      <td>73.0</td>\n",
       "      <td>1.622222</td>\n",
       "      <td>279.0</td>\n",
       "      <td>1.603448</td>\n",
       "      <td>520.0</td>\n",
       "      <td>2.157676</td>\n",
       "      <td>44.0</td>\n",
       "      <td>1.692308</td>\n",
       "      <td>False</td>\n",
       "    </tr>\n",
       "    <tr>\n",
       "      <th>2021-04-24</th>\n",
       "      <td>118243.0</td>\n",
       "      <td>8554654.0</td>\n",
       "      <td>1812.0</td>\n",
       "      <td>2021-04-24</td>\n",
       "      <td>6.0</td>\n",
       "      <td>3.0</td>\n",
       "      <td>52.0</td>\n",
       "      <td>32.0</td>\n",
       "      <td>1.0</td>\n",
       "      <td>9.0</td>\n",
       "      <td>...</td>\n",
       "      <td>0.832700</td>\n",
       "      <td>67.0</td>\n",
       "      <td>1.288462</td>\n",
       "      <td>285.0</td>\n",
       "      <td>1.507937</td>\n",
       "      <td>526.0</td>\n",
       "      <td>1.962687</td>\n",
       "      <td>40.0</td>\n",
       "      <td>1.290323</td>\n",
       "      <td>False</td>\n",
       "    </tr>\n",
       "    <tr>\n",
       "      <th>2021-04-25</th>\n",
       "      <td>118887.0</td>\n",
       "      <td>8577231.0</td>\n",
       "      <td>1813.0</td>\n",
       "      <td>2021-04-25</td>\n",
       "      <td>0.0</td>\n",
       "      <td>3.0</td>\n",
       "      <td>45.0</td>\n",
       "      <td>24.0</td>\n",
       "      <td>9.0</td>\n",
       "      <td>7.0</td>\n",
       "      <td>...</td>\n",
       "      <td>0.624161</td>\n",
       "      <td>70.0</td>\n",
       "      <td>1.228070</td>\n",
       "      <td>296.0</td>\n",
       "      <td>1.517949</td>\n",
       "      <td>555.0</td>\n",
       "      <td>2.047970</td>\n",
       "      <td>36.0</td>\n",
       "      <td>0.947368</td>\n",
       "      <td>False</td>\n",
       "    </tr>\n",
       "    <tr>\n",
       "      <th>2021-04-26</th>\n",
       "      <td>119386.0</td>\n",
       "      <td>8594894.0</td>\n",
       "      <td>1817.0</td>\n",
       "      <td>2021-04-26</td>\n",
       "      <td>1.0</td>\n",
       "      <td>1.0</td>\n",
       "      <td>29.0</td>\n",
       "      <td>25.0</td>\n",
       "      <td>0.0</td>\n",
       "      <td>6.0</td>\n",
       "      <td>...</td>\n",
       "      <td>0.535032</td>\n",
       "      <td>67.0</td>\n",
       "      <td>1.135593</td>\n",
       "      <td>306.0</td>\n",
       "      <td>1.478261</td>\n",
       "      <td>567.0</td>\n",
       "      <td>2.115672</td>\n",
       "      <td>34.0</td>\n",
       "      <td>0.850000</td>\n",
       "      <td>False</td>\n",
       "    </tr>\n",
       "  </tbody>\n",
       "</table>\n",
       "<p>5 rows × 88 columns</p>\n",
       "</div>"
      ],
      "text/plain": [
       "            nb_cases   nb_tests  nb_deaths        date  day_num  Jeju  \\\n",
       "date                                                                    \n",
       "2021-04-22  116661.0  8470366.0     1808.0  2021-04-22      4.0   4.0   \n",
       "2021-04-23  117458.0  8513591.0     1811.0  2021-04-23      5.0   3.0   \n",
       "2021-04-24  118243.0  8554654.0     1812.0  2021-04-24      6.0   3.0   \n",
       "2021-04-25  118887.0  8577231.0     1813.0  2021-04-25      0.0   3.0   \n",
       "2021-04-26  119386.0  8594894.0     1817.0  2021-04-26      1.0   1.0   \n",
       "\n",
       "            Gyeongnam  Gyeongbuk  Jeonnam  Jeonbuk  ...  Rt_Jeonbuk  \\\n",
       "date                                                ...               \n",
       "2021-04-22       58.0       23.0      8.0      6.0  ...    1.088496   \n",
       "2021-04-23       63.0       22.0      6.0      9.0  ...    0.951020   \n",
       "2021-04-24       52.0       32.0      1.0      9.0  ...    0.832700   \n",
       "2021-04-25       45.0       24.0      9.0      7.0  ...    0.624161   \n",
       "2021-04-26       29.0       25.0      0.0      6.0  ...    0.535032   \n",
       "\n",
       "            sum_Jeonnam  Rt_Jeonnam  sum_Gyeongbuk  Rt_Gyeongbuk  \\\n",
       "date                                                               \n",
       "2021-04-22         78.0    2.166667          264.0      1.466667   \n",
       "2021-04-23         73.0    1.622222          279.0      1.603448   \n",
       "2021-04-24         67.0    1.288462          285.0      1.507937   \n",
       "2021-04-25         70.0    1.228070          296.0      1.517949   \n",
       "2021-04-26         67.0    1.135593          306.0      1.478261   \n",
       "\n",
       "            sum_Gyeongnam  Rt_Gyeongnam  sum_Jeju   Rt_Jeju  train  \n",
       "date                                                                \n",
       "2021-04-22          472.0      1.794677      43.0  1.592593  False  \n",
       "2021-04-23          520.0      2.157676      44.0  1.692308  False  \n",
       "2021-04-24          526.0      1.962687      40.0  1.290323  False  \n",
       "2021-04-25          555.0      2.047970      36.0  0.947368  False  \n",
       "2021-04-26          567.0      2.115672      34.0  0.850000  False  \n",
       "\n",
       "[5 rows x 88 columns]"
      ]
     },
     "execution_count": 5,
     "metadata": {},
     "output_type": "execute_result"
    }
   ],
   "source": [
    "df_feat_kr[df_feat_kr[\"train\"] == False].head(5)"
   ]
  },
  {
   "cell_type": "markdown",
   "metadata": {},
   "source": [
    "### Prepare dataset"
   ]
  },
  {
   "cell_type": "code",
   "execution_count": 6,
   "metadata": {},
   "outputs": [
    {
     "name": "stdout",
     "output_type": "stream",
     "text": [
      "[[-0.43550547 -0.02694187 -1.0880055  ... -0.62770085  0.99902656\n",
      "  -0.37290234]\n",
      " [-0.43212007 -0.11983649 -1.25851332 ... -0.62672801  1.49788859\n",
      "  -0.37290234]\n",
      " [-0.69956656 -0.48398342 -1.7681605  ... -0.85467525 -1.49528356\n",
      "  -0.37290234]\n",
      " ...\n",
      " [-0.0800386  -0.01207873 -0.20216225 ... -0.44869934 -1.49528356\n",
      "   0.17858476]\n",
      " [-0.25946473  0.32234192 -0.3041855  ... -0.37415591 -0.99642154\n",
      "  -0.11459922]\n",
      " [ 0.28219906 -0.08267864  0.66538718 ...  1.9410681  -0.49755951\n",
      "  -0.11459922]]\n",
      "data_mean :  [9.52140992e+00 1.90750218e+01 6.21032202e+01 1.85167102e+01\n",
      " 2.74723238e+02 2.08306632e+04 2.99738903e+00 4.41071316e+01]\n",
      "data_std :  [9.84620612e+00 8.97073797e+00 1.42124467e+01 6.12912827e+00\n",
      " 3.16381923e+02 1.64467886e+04 2.00456228e+00 5.92371312e+00]\n"
     ]
    }
   ],
   "source": [
    "dataset, data_std, data_mean = prepare_dataset_kr(df_feat_kr)\n",
    "print(dataset)\n",
    "print(\"data_mean : \", data_mean)\n",
    "print(\"data_std : \", data_std)"
   ]
  },
  {
   "cell_type": "code",
   "execution_count": 7,
   "metadata": {},
   "outputs": [
    {
     "data": {
      "text/plain": [
       "8"
      ]
     },
     "execution_count": 7,
     "metadata": {},
     "output_type": "execute_result"
    }
   ],
   "source": [
    "dataset.shape[1]"
   ]
  },
  {
   "cell_type": "code",
   "execution_count": 8,
   "metadata": {},
   "outputs": [
    {
     "data": {
      "text/plain": [
       "14"
      ]
     },
     "execution_count": 8,
     "metadata": {},
     "output_type": "execute_result"
    }
   ],
   "source": [
    "PAST_HISTORY"
   ]
  },
  {
   "cell_type": "code",
   "execution_count": 9,
   "metadata": {},
   "outputs": [
    {
     "data": {
      "text/plain": [
       "8"
      ]
     },
     "execution_count": 9,
     "metadata": {},
     "output_type": "execute_result"
    }
   ],
   "source": [
    "dataset.shape[1]"
   ]
  },
  {
   "cell_type": "markdown",
   "metadata": {},
   "source": [
    "### Load model"
   ]
  },
  {
   "cell_type": "code",
   "execution_count": 10,
   "metadata": {},
   "outputs": [
    {
     "name": "stdout",
     "output_type": "stream",
     "text": [
      "CPU times: user 2.42 s, sys: 171 ms, total: 2.59 s\n",
      "Wall time: 2.94 s\n"
     ]
    }
   ],
   "source": [
    "%%time\n",
    "# reload best model\n",
    "multi_step_model = tf.keras.models.load_model(PATH_MDL_MULTI_STEP_KR)"
   ]
  },
  {
   "cell_type": "code",
   "execution_count": 11,
   "metadata": {},
   "outputs": [
    {
     "data": {
      "text/plain": [
       "tf.float32"
      ]
     },
     "execution_count": 11,
     "metadata": {},
     "output_type": "execute_result"
    }
   ],
   "source": [
    "multi_step_model.inputs[0].dtype"
   ]
  },
  {
   "cell_type": "code",
   "execution_count": 13,
   "metadata": {
    "scrolled": false
   },
   "outputs": [
    {
     "name": "stdout",
     "output_type": "stream",
     "text": [
      "WARNING:tensorflow:From /anaconda3/envs/coronavirusModel/lib/python3.7/site-packages/tensorflow/python/training/tracking/tracking.py:111: Model.state_updates (from tensorflow.python.keras.engine.training) is deprecated and will be removed in a future version.\n",
      "Instructions for updating:\n",
      "This property should not be used in TensorFlow 2.0, as updates are applied automatically.\n",
      "WARNING:tensorflow:From /anaconda3/envs/coronavirusModel/lib/python3.7/site-packages/tensorflow/python/training/tracking/tracking.py:111: Layer.updates (from tensorflow.python.keras.engine.base_layer) is deprecated and will be removed in a future version.\n",
      "Instructions for updating:\n",
      "This property should not be used in TensorFlow 2.0, as updates are applied automatically.\n",
      "INFO:tensorflow:Assets written to: /Users/gregory/Documents/CloudStationSinchon/Applications/python/CoronaVirus/code/coronavirusModel/keras_lstm/assets\n"
     ]
    }
   ],
   "source": [
    "run_model = tf.function(lambda x: multi_step_model(x))\n",
    "# This is important, let's fix the input size.\n",
    "INPUT_SIZE = dataset.shape[1]\n",
    "concrete_func = run_model.get_concrete_function(\n",
    "    tf.TensorSpec([1, PAST_HISTORY, INPUT_SIZE],\n",
    "                  multi_step_model.inputs[0].dtype))\n",
    "\n",
    "# model directory.\n",
    "MODEL_DIR = PATH_TO_SAVE_DATA + \"/\" + \"keras_lstm\"\n",
    "multi_step_model.save(MODEL_DIR, save_format=\"tf\", signatures=concrete_func)\n",
    "\n",
    "converter = tf.lite.TFLiteConverter.from_saved_model(MODEL_DIR)\n",
    "\n",
    "'''converter.target_spec.supported_ops = [\n",
    "  tf.lite.OpsSet.TFLITE_BUILTINS, # enable TensorFlow Lite ops.\n",
    "  tf.lite.OpsSet.SELECT_TF_OPS # enable TensorFlow ops.\n",
    "]\n",
    "converter.allow_custom_ops=True'''\n",
    "\n",
    "tflite_model = converter.convert()"
   ]
  },
  {
   "cell_type": "markdown",
   "metadata": {},
   "source": [
    "### Save model TFlite"
   ]
  },
  {
   "cell_type": "code",
   "execution_count": 14,
   "metadata": {},
   "outputs": [
    {
     "name": "stdout",
     "output_type": "stream",
     "text": [
      "File /Users/gregory/Documents/CloudStationSinchon/Applications/python/CoronaVirus/code/coronavirusModel/serverless/tensorflow_lite_on_aws_lambda_kr/converted_model_20210511_15_05_47.tflite moved!\n"
     ]
    }
   ],
   "source": [
    "clean_file(PATH_MDL_MULTI_TFLITE_FILE_KR)"
   ]
  },
  {
   "cell_type": "code",
   "execution_count": 15,
   "metadata": {},
   "outputs": [
    {
     "data": {
      "text/plain": [
       "5500"
      ]
     },
     "execution_count": 15,
     "metadata": {},
     "output_type": "execute_result"
    }
   ],
   "source": [
    "open(PATH_MDL_MULTI_TFLITE_FILE_KR, \"wb\").write(tflite_model)"
   ]
  },
  {
   "cell_type": "markdown",
   "metadata": {},
   "source": [
    "## Test converted model"
   ]
  },
  {
   "cell_type": "markdown",
   "metadata": {},
   "source": [
    "### Predict with TF model (not-converted one)"
   ]
  },
  {
   "cell_type": "markdown",
   "metadata": {},
   "source": [
    "#### Past days"
   ]
  },
  {
   "cell_type": "code",
   "execution_count": 16,
   "metadata": {},
   "outputs": [
    {
     "name": "stdout",
     "output_type": "stream",
     "text": [
      "[320 - 334]\n",
      "[327 - 341]\n",
      "[334 - 348]\n",
      "[341 - 355]\n",
      "[348 - 362]\n",
      "[355 - 369]\n",
      "[362 - 376]\n",
      "[369 - 383]\n",
      "[376 - 390]\n",
      "9\n"
     ]
    },
    {
     "data": {
      "text/plain": [
       "array([[387.82007, 411.9751 , 430.24475, 439.15607, 441.3852 , 437.75293,\n",
       "        439.79294, 424.04526, 428.22974, 430.51733, 432.63434, 432.86108,\n",
       "        428.59088, 428.1844 , 460.5235 , 478.85693, 489.43683, 489.61658,\n",
       "        482.63538, 475.30728, 472.8897 , 448.33148, 464.00012, 472.22394,\n",
       "        472.36066, 465.88385, 461.7871 , 461.26175, 506.49487, 511.87335,\n",
       "        512.8555 , 512.31903, 505.591  , 503.0622 , 501.0896 , 544.46594,\n",
       "        552.7407 , 555.1989 , 554.0486 , 546.1938 , 541.2438 , 538.40924,\n",
       "        627.0459 , 632.6356 , 630.8204 , 626.328  , 615.32556, 610.3817 ,\n",
       "        607.37024, 630.21423, 649.6271 , 657.74915, 652.0238 , 634.5901 ,\n",
       "        623.003  , 615.7429 , 654.47375, 670.02765, 675.46375, 669.5513 ,\n",
       "        652.5901 , 641.9247 , 634.3913 ]], dtype=float32)"
      ]
     },
     "execution_count": 16,
     "metadata": {},
     "output_type": "execute_result"
    }
   ],
   "source": [
    "# TENSORFLOW MODEL :\n",
    "# prepare list of past histories\n",
    "list_x = create_list_past_hist(dataset)\n",
    "# predict\n",
    "y_multi_pred = predict_list(list_x, multi_step_model)\n",
    "# convert in positive cases\n",
    "y_pos_pred = (y_multi_pred * data_std[4]) + data_mean[4] \n",
    "y_pos_pred"
   ]
  },
  {
   "cell_type": "markdown",
   "metadata": {},
   "source": [
    "#### Future days"
   ]
  },
  {
   "cell_type": "code",
   "execution_count": 17,
   "metadata": {},
   "outputs": [],
   "source": [
    "# prepare data : very last days\n",
    "x_for_future = np.array([dataset[-PAST_HISTORY:,:]]) \n",
    "# predict next days\n",
    "y_future_pred = multi_step_model.predict(x_for_future)"
   ]
  },
  {
   "cell_type": "markdown",
   "metadata": {},
   "source": [
    "### Predict with TFlite & Compare "
   ]
  },
  {
   "cell_type": "markdown",
   "metadata": {},
   "source": [
    "#### Past days"
   ]
  },
  {
   "cell_type": "code",
   "execution_count": 18,
   "metadata": {},
   "outputs": [
    {
     "name": "stdout",
     "output_type": "stream",
     "text": [
      "Done. The result of TensorFlow matches the result of TensorFlow Lite.\n",
      "Done. The result of TensorFlow matches the result of TensorFlow Lite.\n",
      "Done. The result of TensorFlow matches the result of TensorFlow Lite.\n",
      "Done. The result of TensorFlow matches the result of TensorFlow Lite.\n",
      "Done. The result of TensorFlow matches the result of TensorFlow Lite.\n",
      "Done. The result of TensorFlow matches the result of TensorFlow Lite.\n",
      "Done. The result of TensorFlow matches the result of TensorFlow Lite.\n",
      "Done. The result of TensorFlow matches the result of TensorFlow Lite.\n",
      "Done. The result of TensorFlow matches the result of TensorFlow Lite.\n"
     ]
    }
   ],
   "source": [
    "# CONVERTED LITE MODEL\n",
    "# load \n",
    "interpreter = tf.lite.Interpreter(model_content=tflite_model)\n",
    "\n",
    "# Run the model with TensorFlow Lite\n",
    "interpreter.allocate_tensors()\n",
    "input_details = interpreter.get_input_details()\n",
    "output_details = interpreter.get_output_details()\n",
    "\n",
    "# check if same results \n",
    "for x_multi in list_x:\n",
    "    # predict with tensorflow model\n",
    "    expected = multi_step_model.predict(x_multi)\n",
    "    # predict with TFlite model\n",
    "    interpreter.set_tensor(input_details[0][\"index\"], \n",
    "                           x_multi.astype(np.float32))\n",
    "    interpreter.invoke()\n",
    "    result = interpreter.get_tensor(output_details[0][\"index\"])\n",
    "\n",
    "    # Assert if the result of TFLite model is consistent with the TF model.\n",
    "    np.testing.assert_almost_equal(expected, result, decimal=3)\n",
    "    print(\"Done. The result of TensorFlow matches the result of TensorFlow Lite.\")\n",
    "\n",
    "    # Please note: TfLite fused Lstm kernel is stateful, so we need to reset\n",
    "    # the states.\n",
    "    # Clean up internal states.\n",
    "    interpreter.reset_all_variables()"
   ]
  },
  {
   "cell_type": "markdown",
   "metadata": {},
   "source": [
    "### Reload Tlite model"
   ]
  },
  {
   "cell_type": "code",
   "execution_count": 19,
   "metadata": {},
   "outputs": [],
   "source": [
    "interpreter = tf.lite.Interpreter(model_path=PATH_MDL_MULTI_TFLITE_FILE_KR)"
   ]
  },
  {
   "cell_type": "code",
   "execution_count": 20,
   "metadata": {},
   "outputs": [
    {
     "data": {
      "text/plain": [
       "'/Users/gregory/Documents/CloudStationSinchon/Applications/python/CoronaVirus/code/coronavirusModel/serverless/tensorflow_lite_on_aws_lambda_kr/converted_model.tflite'"
      ]
     },
     "execution_count": 20,
     "metadata": {},
     "output_type": "execute_result"
    }
   ],
   "source": [
    "PATH_MDL_MULTI_TFLITE_FILE_KR"
   ]
  },
  {
   "cell_type": "markdown",
   "metadata": {},
   "source": [
    "### Predict reloaded model"
   ]
  },
  {
   "cell_type": "markdown",
   "metadata": {},
   "source": [
    "#### Past days"
   ]
  },
  {
   "cell_type": "code",
   "execution_count": 21,
   "metadata": {},
   "outputs": [
    {
     "name": "stdout",
     "output_type": "stream",
     "text": [
      "Done. The result of TensorFlow matches the result of TensorFlow Lite.\n",
      "Done. The result of TensorFlow matches the result of TensorFlow Lite.\n",
      "Done. The result of TensorFlow matches the result of TensorFlow Lite.\n",
      "Done. The result of TensorFlow matches the result of TensorFlow Lite.\n",
      "Done. The result of TensorFlow matches the result of TensorFlow Lite.\n",
      "Done. The result of TensorFlow matches the result of TensorFlow Lite.\n",
      "Done. The result of TensorFlow matches the result of TensorFlow Lite.\n",
      "Done. The result of TensorFlow matches the result of TensorFlow Lite.\n",
      "Done. The result of TensorFlow matches the result of TensorFlow Lite.\n"
     ]
    }
   ],
   "source": [
    "# Run the model with TensorFlow Lite\n",
    "interpreter.allocate_tensors()\n",
    "input_details = interpreter.get_input_details()\n",
    "output_details = interpreter.get_output_details()\n",
    "\n",
    "# check if same results \n",
    "for x_multi in list_x:\n",
    "    \n",
    "    expected = multi_step_model.predict(x_multi)\n",
    "    \n",
    "    interpreter.set_tensor(input_details[0][\"index\"], \n",
    "                           x_multi.astype(np.float32))\n",
    "    interpreter.invoke()\n",
    "    result = interpreter.get_tensor(output_details[0][\"index\"])\n",
    "\n",
    "    # Assert if the result of TFLite model is consistent with the TF model.\n",
    "    np.testing.assert_almost_equal(expected, result, decimal=3)\n",
    "    print(\"Done. The result of TensorFlow matches the result of TensorFlow Lite.\")\n",
    "\n",
    "    # Please note: TfLite fused Lstm kernel is stateful, so we need to reset\n",
    "    # the states.\n",
    "    # Clean up internal states.\n",
    "    interpreter.reset_all_variables()"
   ]
  },
  {
   "cell_type": "code",
   "execution_count": 22,
   "metadata": {},
   "outputs": [
    {
     "data": {
      "text/plain": [
       "(1, 14, 8)"
      ]
     },
     "execution_count": 22,
     "metadata": {},
     "output_type": "execute_result"
    }
   ],
   "source": [
    "x_multi.shape"
   ]
  },
  {
   "cell_type": "code",
   "execution_count": 23,
   "metadata": {},
   "outputs": [
    {
     "data": {
      "text/plain": [
       "9"
      ]
     },
     "execution_count": 23,
     "metadata": {},
     "output_type": "execute_result"
    }
   ],
   "source": [
    "len(list_x)"
   ]
  },
  {
   "cell_type": "markdown",
   "metadata": {},
   "source": [
    "## Update API lambda AWS"
   ]
  },
  {
   "cell_type": "markdown",
   "metadata": {},
   "source": [
    "### API lambda simulate"
   ]
  },
  {
   "cell_type": "markdown",
   "metadata": {},
   "source": [
    "#### Past days"
   ]
  },
  {
   "cell_type": "code",
   "execution_count": 24,
   "metadata": {},
   "outputs": [
    {
     "data": {
      "text/plain": [
       "(397, 8)"
      ]
     },
     "execution_count": 24,
     "metadata": {},
     "output_type": "execute_result"
    }
   ],
   "source": [
    "dataset.shape"
   ]
  },
  {
   "cell_type": "code",
   "execution_count": 25,
   "metadata": {},
   "outputs": [
    {
     "name": "stdout",
     "output_type": "stream",
     "text": [
      "[320 - 334]\n",
      "[327 - 341]\n",
      "[334 - 348]\n",
      "[341 - 355]\n",
      "[348 - 362]\n",
      "[355 - 369]\n",
      "[362 - 376]\n",
      "[369 - 383]\n",
      "[376 - 390]\n"
     ]
    }
   ],
   "source": [
    "json_list_list_x = prepare_to_lambda(dataset)\n",
    "# simulate input to lambda (double dumps ? why ? i don't know yet)\n",
    "json_list_list_x = json.dumps(json_list_list_x)\n",
    "# simulate lambda\n",
    "\n",
    "event = {\"body\": json_list_list_x}"
   ]
  },
  {
   "cell_type": "code",
   "execution_count": 26,
   "metadata": {},
   "outputs": [
    {
     "name": "stdout",
     "output_type": "stream",
     "text": [
      "INPUT : nb. arrays : 9 / arrays shape: (1, 14, 8)\n",
      "OUTPUT : nb. arrays : 9 / arrays shape in list: (1, 7)\n"
     ]
    }
   ],
   "source": [
    "# lambda code (file ./serverless/tensorflow-lite-on-aws-lambda/handler.py)\n",
    "from serverless.tensorflow_lite_on_aws_lambda_kr.handler import predict\n",
    "context = None\n",
    "response = predict(event, context)\n"
   ]
  },
  {
   "cell_type": "code",
   "execution_count": 27,
   "metadata": {},
   "outputs": [
    {
     "data": {
      "text/plain": [
       "(1, 63)"
      ]
     },
     "execution_count": 27,
     "metadata": {},
     "output_type": "execute_result"
    }
   ],
   "source": [
    "# Retrieve from lambda in App code\n",
    "# input : response\n",
    "y_multi_pred_out = retrieve_from_lambda(response)      \n",
    "y_multi_pred_out.shape"
   ]
  },
  {
   "cell_type": "code",
   "execution_count": 28,
   "metadata": {},
   "outputs": [
    {
     "data": {
      "text/plain": [
       "array([[0.35746935, 0.43381694, 0.49156258, 0.5197289 , 0.52677464,\n",
       "        0.515294  , 0.52174187, 0.4719676 , 0.48519358, 0.49242413,\n",
       "        0.49911538, 0.49983218, 0.4863352 , 0.48505032, 0.58726573,\n",
       "        0.6452128 , 0.6786532 , 0.67922133, 0.6571556 , 0.6339934 ,\n",
       "        0.62635213, 0.54872996, 0.5982544 , 0.62424767, 0.62467986,\n",
       "        0.60420835, 0.59125966, 0.58959913, 0.73256916, 0.74956906,\n",
       "        0.75267357, 0.7509778 , 0.7297123 , 0.7217194 , 0.7154845 ,\n",
       "        0.8525857 , 0.87874   , 0.88650984, 0.8828738 , 0.85804695,\n",
       "        0.8424012 , 0.83344203, 1.1135993 , 1.1312668 , 1.1255293 ,\n",
       "        1.1113302 , 1.0765544 , 1.0609282 , 1.0514095 , 1.1236134 ,\n",
       "        1.1849723 , 1.210644  , 1.1925477 , 1.1374444 , 1.1008207 ,\n",
       "        1.0778733 , 1.2002915 , 1.2494532 , 1.2666353 , 1.2479476 ,\n",
       "        1.1943376 , 1.160627  , 1.136816  ]], dtype=float32)"
      ]
     },
     "execution_count": 28,
     "metadata": {},
     "output_type": "execute_result"
    }
   ],
   "source": [
    "y_multi_pred"
   ]
  },
  {
   "cell_type": "code",
   "execution_count": 29,
   "metadata": {},
   "outputs": [
    {
     "data": {
      "text/plain": [
       "array([[0.35746935, 0.43381694, 0.4915626 , 0.5197289 , 0.52677464,\n",
       "        0.51529396, 0.52174187, 0.47196758, 0.48519352, 0.49242413,\n",
       "        0.49911538, 0.49983218, 0.48633516, 0.48505032, 0.58726579,\n",
       "        0.64521283, 0.67865318, 0.67922139, 0.65715557, 0.63399351,\n",
       "        0.62635219, 0.54872996, 0.59825432, 0.62424761, 0.62467992,\n",
       "        0.60420835, 0.59125966, 0.58959913, 0.73256922, 0.74956912,\n",
       "        0.75267363, 0.75097775, 0.72971237, 0.72171944, 0.71548456,\n",
       "        0.85258555, 0.87873995, 0.88650972, 0.88287377, 0.85804695,\n",
       "        0.84240115, 0.83344191, 1.1135993 , 1.13126695, 1.12552941,\n",
       "        1.11133027, 1.07655454, 1.06092823, 1.0514096 , 1.12361324,\n",
       "        1.18497252, 1.21064413, 1.1925478 , 1.13744438, 1.10082078,\n",
       "        1.07787335, 1.20029151, 1.24945331, 1.26663542, 1.24794769,\n",
       "        1.19433773, 1.16062725, 1.13681626]])"
      ]
     },
     "execution_count": 29,
     "metadata": {},
     "output_type": "execute_result"
    }
   ],
   "source": [
    "y_multi_pred_out"
   ]
  },
  {
   "cell_type": "code",
   "execution_count": 30,
   "metadata": {},
   "outputs": [
    {
     "name": "stdout",
     "output_type": "stream",
     "text": [
      "Done. The result of TensorFlow matches the result of TensorFlow Lite.\n"
     ]
    }
   ],
   "source": [
    "# Assert if the result of TFLite model is consistent with the TF model.\n",
    "np.testing.assert_almost_equal(y_multi_pred, y_multi_pred_out, decimal=3)\n",
    "print(\"Done. The result of TensorFlow matches the result of TensorFlow Lite.\")"
   ]
  },
  {
   "cell_type": "markdown",
   "metadata": {},
   "source": [
    "#### Future days"
   ]
  },
  {
   "cell_type": "code",
   "execution_count": 31,
   "metadata": {},
   "outputs": [
    {
     "name": "stdout",
     "output_type": "stream",
     "text": [
      "INPUT : nb. arrays : 1 / arrays shape: (1, 14, 8)\n",
      "OUTPUT : nb. arrays : 1 / arrays shape in list: (1, 7)\n"
     ]
    },
    {
     "data": {
      "text/plain": [
       "(1, 7)"
      ]
     },
     "execution_count": 31,
     "metadata": {},
     "output_type": "execute_result"
    }
   ],
   "source": [
    "# Prepare data to lambda (future)\n",
    "json_list_list_x = prepare_to_lambda_future(dataset)\n",
    "\n",
    "# simulate lambda\n",
    "json_list_list_x = json.dumps(json_list_list_x) # dumps again : I dont know why\n",
    "event = {\"body\": json_list_list_x}\n",
    "context = None\n",
    "response = predict(event, context)\n",
    "y_future_pred_out = retrieve_from_lambda(response)      \n",
    "y_future_pred_out.shape"
   ]
  },
  {
   "cell_type": "code",
   "execution_count": 32,
   "metadata": {},
   "outputs": [
    {
     "data": {
      "text/plain": [
       "array([[1.02913344, 1.10524964, 1.14445782, 1.13605237, 1.0905273 ,\n",
       "        1.0564965 , 1.03692591]])"
      ]
     },
     "execution_count": 32,
     "metadata": {},
     "output_type": "execute_result"
    }
   ],
   "source": [
    "y_future_pred_out"
   ]
  },
  {
   "cell_type": "code",
   "execution_count": 33,
   "metadata": {},
   "outputs": [
    {
     "data": {
      "text/plain": [
       "array([[1.0291334, 1.1052498, 1.1444578, 1.1360524, 1.0905273, 1.0564965,\n",
       "        1.0369258]], dtype=float32)"
      ]
     },
     "execution_count": 33,
     "metadata": {},
     "output_type": "execute_result"
    }
   ],
   "source": [
    "y_future_pred"
   ]
  },
  {
   "cell_type": "code",
   "execution_count": 34,
   "metadata": {},
   "outputs": [
    {
     "name": "stdout",
     "output_type": "stream",
     "text": [
      "Done. The result of TensorFlow matches the result of TensorFlow Lite.\n"
     ]
    }
   ],
   "source": [
    "# Assert if the result of TFLite model is consistent with the TF model.\n",
    "np.testing.assert_almost_equal(y_future_pred, y_future_pred_out, decimal=3)\n",
    "print(\"Done. The result of TensorFlow matches the result of TensorFlow Lite.\")"
   ]
  },
  {
   "cell_type": "markdown",
   "metadata": {},
   "source": [
    "### Update AWS Lambda with new model\n"
   ]
  },
  {
   "cell_type": "markdown",
   "metadata": {},
   "source": [
    "This part does:\n",
    "- Go to : ./serverless//tensorflow-lite-on-aws-lambda-kr\n",
    "    \n",
    "- Execute : sls deploy -v"
   ]
  },
  {
   "cell_type": "code",
   "execution_count": 50,
   "metadata": {},
   "outputs": [
    {
     "data": {
      "text/plain": [
       "'#!/bin/bash\\nexport PATH=\"/usr/local/bin:$PATH\"\\ncd /Users/gregory/Documents/CloudStationSinchon/Applications/python/CoronaVirus/code/coronavirusModel/serverless/tensorflow_lite_on_aws_lambda_kr\\nserverless deploy -v'"
      ]
     },
     "execution_count": 50,
     "metadata": {},
     "output_type": "execute_result"
    }
   ],
   "source": [
    "str_exe = '#!/bin/bash\\n' + \\\n",
    "    'export PATH=\"/usr/local/bin:$PATH\"\\n' + \\\n",
    "    f'cd {PATH_MDL_MULTI_TFLITE_KR}\\n' + \\\n",
    "    'serverless deploy -v'\n",
    "str_exe"
   ]
  },
  {
   "cell_type": "code",
   "execution_count": 51,
   "metadata": {},
   "outputs": [],
   "source": [
    "open('deploy_serverless_kr.sh', \"w\").write(str_exe)\n",
    "os.chmod('deploy_serverless_kr.sh', stat.S_IRWXU)"
   ]
  },
  {
   "cell_type": "code",
   "execution_count": 52,
   "metadata": {},
   "outputs": [
    {
     "name": "stdout",
     "output_type": "stream",
     "text": [
      "#!/bin/bash\r\n",
      "export PATH=\"/usr/local/bin:$PATH\"\r\n",
      "cd /Users/gregory/Documents/CloudStationSinchon/Applications/python/CoronaVirus/code/coronavirusModel/serverless/tensorflow_lite_on_aws_lambda_kr\r\n",
      "serverless deploy -v"
     ]
    }
   ],
   "source": [
    "!cat ./deploy_serverless_kr.sh"
   ]
  },
  {
   "cell_type": "code",
   "execution_count": 54,
   "metadata": {},
   "outputs": [
    {
     "name": "stdout",
     "output_type": "stream",
     "text": [
      "Serverless: \u001b[93mDeprecation warning: Resolution of lambda version hashes was improved with better algorithm, which will be used in next major release.\u001b[39m\n",
      "\u001b[93m            Switch to it now by setting \"provider.lambdaHashingVersion\" to \"20201221\"\u001b[39m\n",
      "            \u001b[93mMore Info: https://www.serverless.com/framework/docs/deprecations/#LAMBDA_HASHING_VERSION_V2\u001b[39m\n",
      "Serverless: \u001b[33mGenerated requirements from /Users/gregory/Documents/CloudStationSinchon/Applications/python/CoronaVirus/code/coronavirusModel/serverless/tensorflow_lite_on_aws_lambda_kr/requirements.txt in /Users/gregory/Documents/CloudStationSinchon/Applications/python/CoronaVirus/code/coronavirusModel/serverless/tensorflow_lite_on_aws_lambda_kr/.serverless/requirements.txt...\u001b[39m\n",
      "Serverless: \u001b[33mUsing static cache of requirements found at /Users/gregory/Library/Caches/serverless-python-requirements/ef4e42eb03bbad46f74fee99a3c01f994e8119e7a557f947779093ab37b248d3_slspyc ...\u001b[39m\n",
      "Serverless: \u001b[33mPackaging service...\u001b[39m\n",
      "Serverless: \u001b[33mExcluding development dependencies...\u001b[39m\n",
      "Serverless: \u001b[33mInjecting required Python packages to package...\u001b[39m\n",
      "Serverless: \u001b[33mUploading CloudFormation file to S3...\u001b[39m\n",
      "Serverless: \u001b[33mUploading artifacts...\u001b[39m\n",
      "Serverless: \u001b[33mUploading service tensorflow-lite-on-aws-lambda-kr.zip file to S3 (19.22 MB)...\u001b[39m\n",
      "Serverless: \u001b[33mValidating template...\u001b[39m\n",
      "Serverless: \u001b[33mUpdating Stack...\u001b[39m\n",
      "Serverless: \u001b[33mChecking Stack update progress...\u001b[39m\n",
      "CloudFormation - \u001b[33mUPDATE_IN_PROGRESS\u001b[39m - AWS::CloudFormation::Stack - tensorflow-lite-on-aws-lambda-kr-dev\n",
      "CloudFormation - \u001b[33mUPDATE_IN_PROGRESS\u001b[39m - AWS::Lambda::Function - PredictLambdaFunction\n",
      "CloudFormation - \u001b[33mUPDATE_IN_PROGRESS\u001b[39m - AWS::S3::BucketPolicy - ServerlessDeploymentBucketPolicy\n",
      "CloudFormation - \u001b[32mUPDATE_COMPLETE\u001b[39m - AWS::S3::BucketPolicy - ServerlessDeploymentBucketPolicy\n",
      "CloudFormation - \u001b[32mUPDATE_COMPLETE\u001b[39m - AWS::Lambda::Function - PredictLambdaFunction\n",
      "CloudFormation - \u001b[33mCREATE_IN_PROGRESS\u001b[39m - AWS::Lambda::Version - PredictLambdaVersionaABJdX5f28x1yFiBGtMaSIZy1OZZkm4SaWR8gXhxtmY\n",
      "CloudFormation - \u001b[33mCREATE_IN_PROGRESS\u001b[39m - AWS::Lambda::Version - PredictLambdaVersionaABJdX5f28x1yFiBGtMaSIZy1OZZkm4SaWR8gXhxtmY\n",
      "CloudFormation - \u001b[32mCREATE_COMPLETE\u001b[39m - AWS::Lambda::Version - PredictLambdaVersionaABJdX5f28x1yFiBGtMaSIZy1OZZkm4SaWR8gXhxtmY\n",
      "CloudFormation - \u001b[33mCREATE_IN_PROGRESS\u001b[39m - AWS::ApiGateway::Deployment - ApiGatewayDeployment1620741290691\n",
      "CloudFormation - \u001b[33mCREATE_IN_PROGRESS\u001b[39m - AWS::ApiGateway::Deployment - ApiGatewayDeployment1620741290691\n",
      "CloudFormation - \u001b[32mCREATE_COMPLETE\u001b[39m - AWS::ApiGateway::Deployment - ApiGatewayDeployment1620741290691\n",
      "CloudFormation - \u001b[33mUPDATE_COMPLETE_CLEANUP_IN_PROGRESS\u001b[39m - AWS::CloudFormation::Stack - tensorflow-lite-on-aws-lambda-kr-dev\n",
      "CloudFormation - \u001b[33mDELETE_IN_PROGRESS\u001b[39m - AWS::ApiGateway::Deployment - ApiGatewayDeployment1620739707303\n",
      "CloudFormation - DELETE_SKIPPED - AWS::Lambda::Version - PredictLambdaVersionO7yTv2ApBPu1yNqysEzQVimaKjQ3Rb2m3tNWNXfBB0\n",
      "CloudFormation - \u001b[32mDELETE_COMPLETE\u001b[39m - AWS::ApiGateway::Deployment - ApiGatewayDeployment1620739707303\n",
      "CloudFormation - \u001b[32mUPDATE_COMPLETE\u001b[39m - AWS::CloudFormation::Stack - tensorflow-lite-on-aws-lambda-kr-dev\n",
      "Serverless: \u001b[33mStack update finished...\u001b[39m\n",
      "\u001b[33m\u001b[4mService Information\u001b[24m\u001b[39m\n",
      "\u001b[33mservice:\u001b[39m tensorflow-lite-on-aws-lambda-kr\n",
      "\u001b[33mstage:\u001b[39m dev\n",
      "\u001b[33mregion:\u001b[39m us-east-2\n",
      "\u001b[33mstack:\u001b[39m tensorflow-lite-on-aws-lambda-kr-dev\n",
      "\u001b[33mresources:\u001b[39m 11\n",
      "\u001b[33mapi keys:\u001b[39m\n",
      "  None\n",
      "\u001b[33mendpoints:\u001b[39m\n",
      "  POST - https://hauojq3o6f.execute-api.us-east-2.amazonaws.com/dev/infer\n",
      "\u001b[33mfunctions:\u001b[39m\n",
      "  predict: tensorflow-lite-on-aws-lambda-kr-dev-predict\n",
      "\u001b[33mlayers:\u001b[39m\n",
      "  None\n",
      "\u001b[33m\u001b[4m\u001b[24m\u001b[39m\n",
      "\u001b[33m\u001b[4mStack Outputs\u001b[24m\u001b[39m\n",
      "\u001b[33m\u001b[4m\u001b[24m\u001b[39m\u001b[33mPredictLambdaFunctionQualifiedArn\u001b[39m: arn:aws:lambda:us-east-2:324466407431:function:tensorflow-lite-on-aws-lambda-kr-dev-predict:5\n",
      "\u001b[33mServiceEndpoint\u001b[39m: https://hauojq3o6f.execute-api.us-east-2.amazonaws.com/dev\n",
      "\u001b[33mServerlessDeploymentBucketName\u001b[39m: tensorflow-lite-on-aws-l-serverlessdeploymentbuck-rj02mbrirkhj\n",
      "\n",
      "Serverless: \u001b[33mRemoving old service artifacts from S3...\u001b[39m\n"
     ]
    }
   ],
   "source": [
    "!./deploy_serverless_kr.sh"
   ]
  },
  {
   "cell_type": "markdown",
   "metadata": {},
   "source": [
    "### API AWS real Test"
   ]
  },
  {
   "cell_type": "markdown",
   "metadata": {},
   "source": [
    "#### Past days"
   ]
  },
  {
   "cell_type": "code",
   "execution_count": 55,
   "metadata": {},
   "outputs": [
    {
     "name": "stdout",
     "output_type": "stream",
     "text": [
      "[320 - 334]\n",
      "[327 - 341]\n",
      "[334 - 348]\n",
      "[341 - 355]\n",
      "[348 - 362]\n",
      "[355 - 369]\n",
      "[362 - 376]\n",
      "[369 - 383]\n",
      "[376 - 390]\n",
      "status code :  200\n",
      "[[[0.3574693202972412, 0.43381690979003906, 0.4915626049041748, 0.5197288990020752, 0.5267746448516846, 0.5152939558029175, 0.5217418670654297]], [[0.4719676375389099, 0.48519352078437805, 0.4924241304397583, 0.49911537766456604, 0.4998321831226349, 0.4863351881504059, 0.4850503206253052]], [[0.5872657299041748, 0.6452127695083618, 0.6786531805992126, 0.6792213320732117, 0.6571555733680725, 0.63399338722229, 0.626352071762085]], [[0.5487300157546997, 0.598254382610321, 0.624247670173645, 0.6246799230575562, 0.6042083501815796, 0.5912597179412842, 0.5895991325378418]], [[0.73256915807724, 0.7495690584182739, 0.7526736259460449, 0.7509777545928955, 0.7297123074531555, 0.7217193841934204, 0.7154844999313354]], [[0.8525856137275696, 0.8787400126457214, 0.8865097165107727, 0.8828737735748291, 0.8580468893051147, 0.8424011468887329, 0.833441972732544]], [[1.1135993003845215, 1.1312669515609741, 1.125529408454895, 1.111330270767212, 1.076554536819458, 1.060928225517273, 1.0514096021652222]], [[1.1236132383346558, 1.1849724054336548, 1.2106441259384155, 1.1925477981567383, 1.1374443769454956, 1.1008206605911255, 1.0778733491897583]], [[1.200291395187378, 1.249453067779541, 1.2666352987289429, 1.2479476928710938, 1.1943374872207642, 1.1606271266937256, 1.136816143989563]]]\n"
     ]
    }
   ],
   "source": [
    "# prepare input\n",
    "json_list_list_x = prepare_to_lambda(dataset)\n",
    "# REQUEST\n",
    "resp = requests.post(URL_PREDICT_KR, json=json_list_list_x)\n",
    "print(\"status code : \", resp.status_code) \n",
    "print(resp.json())"
   ]
  },
  {
   "cell_type": "code",
   "execution_count": 56,
   "metadata": {},
   "outputs": [
    {
     "data": {
      "text/plain": [
       "21254"
      ]
     },
     "execution_count": 56,
     "metadata": {},
     "output_type": "execute_result"
    }
   ],
   "source": [
    "len(json_list_list_x)"
   ]
  },
  {
   "cell_type": "code",
   "execution_count": 57,
   "metadata": {},
   "outputs": [
    {
     "data": {
      "text/plain": [
       "[[[0.3574693202972412,\n",
       "   0.43381690979003906,\n",
       "   0.4915626049041748,\n",
       "   0.5197288990020752,\n",
       "   0.5267746448516846,\n",
       "   0.5152939558029175,\n",
       "   0.5217418670654297]],\n",
       " [[0.4719676375389099,\n",
       "   0.48519352078437805,\n",
       "   0.4924241304397583,\n",
       "   0.49911537766456604,\n",
       "   0.4998321831226349,\n",
       "   0.4863351881504059,\n",
       "   0.4850503206253052]],\n",
       " [[0.5872657299041748,\n",
       "   0.6452127695083618,\n",
       "   0.6786531805992126,\n",
       "   0.6792213320732117,\n",
       "   0.6571555733680725,\n",
       "   0.63399338722229,\n",
       "   0.626352071762085]],\n",
       " [[0.5487300157546997,\n",
       "   0.598254382610321,\n",
       "   0.624247670173645,\n",
       "   0.6246799230575562,\n",
       "   0.6042083501815796,\n",
       "   0.5912597179412842,\n",
       "   0.5895991325378418]],\n",
       " [[0.73256915807724,\n",
       "   0.7495690584182739,\n",
       "   0.7526736259460449,\n",
       "   0.7509777545928955,\n",
       "   0.7297123074531555,\n",
       "   0.7217193841934204,\n",
       "   0.7154844999313354]],\n",
       " [[0.8525856137275696,\n",
       "   0.8787400126457214,\n",
       "   0.8865097165107727,\n",
       "   0.8828737735748291,\n",
       "   0.8580468893051147,\n",
       "   0.8424011468887329,\n",
       "   0.833441972732544]],\n",
       " [[1.1135993003845215,\n",
       "   1.1312669515609741,\n",
       "   1.125529408454895,\n",
       "   1.111330270767212,\n",
       "   1.076554536819458,\n",
       "   1.060928225517273,\n",
       "   1.0514096021652222]],\n",
       " [[1.1236132383346558,\n",
       "   1.1849724054336548,\n",
       "   1.2106441259384155,\n",
       "   1.1925477981567383,\n",
       "   1.1374443769454956,\n",
       "   1.1008206605911255,\n",
       "   1.0778733491897583]],\n",
       " [[1.200291395187378,\n",
       "   1.249453067779541,\n",
       "   1.2666352987289429,\n",
       "   1.2479476928710938,\n",
       "   1.1943374872207642,\n",
       "   1.1606271266937256,\n",
       "   1.136816143989563]]]"
      ]
     },
     "execution_count": 57,
     "metadata": {},
     "output_type": "execute_result"
    }
   ],
   "source": [
    "resp.json()"
   ]
  },
  {
   "cell_type": "code",
   "execution_count": 58,
   "metadata": {},
   "outputs": [
    {
     "data": {
      "text/plain": [
       "(1, 63)"
      ]
     },
     "execution_count": 58,
     "metadata": {},
     "output_type": "execute_result"
    }
   ],
   "source": [
    "y_multi_pred_out = retrieve_from_lambda(resp)      \n",
    "y_multi_pred_out.shape"
   ]
  },
  {
   "cell_type": "code",
   "execution_count": 59,
   "metadata": {},
   "outputs": [
    {
     "data": {
      "text/plain": [
       "array([[0.35746932, 0.43381691, 0.4915626 , 0.5197289 , 0.52677464,\n",
       "        0.51529396, 0.52174187, 0.47196764, 0.48519352, 0.49242413,\n",
       "        0.49911538, 0.49983218, 0.48633519, 0.48505032, 0.58726573,\n",
       "        0.64521277, 0.67865318, 0.67922133, 0.65715557, 0.63399339,\n",
       "        0.62635207, 0.54873002, 0.59825438, 0.62424767, 0.62467992,\n",
       "        0.60420835, 0.59125972, 0.58959913, 0.73256916, 0.74956906,\n",
       "        0.75267363, 0.75097775, 0.72971231, 0.72171938, 0.7154845 ,\n",
       "        0.85258561, 0.87874001, 0.88650972, 0.88287377, 0.85804689,\n",
       "        0.84240115, 0.83344197, 1.1135993 , 1.13126695, 1.12552941,\n",
       "        1.11133027, 1.07655454, 1.06092823, 1.0514096 , 1.12361324,\n",
       "        1.18497241, 1.21064413, 1.1925478 , 1.13744438, 1.10082066,\n",
       "        1.07787335, 1.2002914 , 1.24945307, 1.2666353 , 1.24794769,\n",
       "        1.19433749, 1.16062713, 1.13681614]])"
      ]
     },
     "execution_count": 59,
     "metadata": {},
     "output_type": "execute_result"
    }
   ],
   "source": [
    "y_multi_pred_out"
   ]
  },
  {
   "cell_type": "code",
   "execution_count": 60,
   "metadata": {},
   "outputs": [
    {
     "data": {
      "text/plain": [
       "array([[0.35746935, 0.43381694, 0.49156258, 0.5197289 , 0.52677464,\n",
       "        0.515294  , 0.52174187, 0.4719676 , 0.48519358, 0.49242413,\n",
       "        0.49911538, 0.49983218, 0.4863352 , 0.48505032, 0.58726573,\n",
       "        0.6452128 , 0.6786532 , 0.67922133, 0.6571556 , 0.6339934 ,\n",
       "        0.62635213, 0.54872996, 0.5982544 , 0.62424767, 0.62467986,\n",
       "        0.60420835, 0.59125966, 0.58959913, 0.73256916, 0.74956906,\n",
       "        0.75267357, 0.7509778 , 0.7297123 , 0.7217194 , 0.7154845 ,\n",
       "        0.8525857 , 0.87874   , 0.88650984, 0.8828738 , 0.85804695,\n",
       "        0.8424012 , 0.83344203, 1.1135993 , 1.1312668 , 1.1255293 ,\n",
       "        1.1113302 , 1.0765544 , 1.0609282 , 1.0514095 , 1.1236134 ,\n",
       "        1.1849723 , 1.210644  , 1.1925477 , 1.1374444 , 1.1008207 ,\n",
       "        1.0778733 , 1.2002915 , 1.2494532 , 1.2666353 , 1.2479476 ,\n",
       "        1.1943376 , 1.160627  , 1.136816  ]], dtype=float32)"
      ]
     },
     "execution_count": 60,
     "metadata": {},
     "output_type": "execute_result"
    }
   ],
   "source": [
    "y_multi_pred"
   ]
  },
  {
   "cell_type": "code",
   "execution_count": 61,
   "metadata": {},
   "outputs": [
    {
     "name": "stdout",
     "output_type": "stream",
     "text": [
      "Done. The result of TensorFlow matches the result of TensorFlow Lite.\n"
     ]
    }
   ],
   "source": [
    "# Assert if the result of TFLite model is consistent with the TF model.\n",
    "np.testing.assert_almost_equal(y_multi_pred, y_multi_pred_out, decimal=3)\n",
    "print(\"Done. The result of TensorFlow matches the result of TensorFlow Lite.\")"
   ]
  },
  {
   "cell_type": "markdown",
   "metadata": {},
   "source": [
    "#### future days"
   ]
  },
  {
   "cell_type": "code",
   "execution_count": 62,
   "metadata": {},
   "outputs": [
    {
     "name": "stdout",
     "output_type": "stream",
     "text": [
      "status code :  200\n",
      "[[[1.0291334390640259, 1.1052496433258057, 1.1444578170776367, 1.1360523700714111, 1.0905272960662842, 1.056496500968933, 1.0369259119033813]]]\n"
     ]
    }
   ],
   "source": [
    "# prepare input\n",
    "json_list_list_x = prepare_to_lambda_future(dataset)\n",
    "resp = requests.post(URL_PREDICT_KR, json=json_list_list_x)\n",
    "print(\"status code : \", resp.status_code) \n",
    "print(resp.json())"
   ]
  },
  {
   "cell_type": "code",
   "execution_count": 63,
   "metadata": {},
   "outputs": [
    {
     "data": {
      "text/plain": [
       "array([[1.02913344, 1.10524964, 1.14445782, 1.13605237, 1.0905273 ,\n",
       "        1.0564965 , 1.03692591]])"
      ]
     },
     "execution_count": 63,
     "metadata": {},
     "output_type": "execute_result"
    }
   ],
   "source": [
    "y_future_pred_out = retrieve_from_lambda(resp)      \n",
    "y_future_pred_out"
   ]
  },
  {
   "cell_type": "code",
   "execution_count": 64,
   "metadata": {},
   "outputs": [
    {
     "data": {
      "text/plain": [
       "array([[1.0291334, 1.1052498, 1.1444578, 1.1360524, 1.0905273, 1.0564965,\n",
       "        1.0369258]], dtype=float32)"
      ]
     },
     "execution_count": 64,
     "metadata": {},
     "output_type": "execute_result"
    }
   ],
   "source": [
    "y_future_pred"
   ]
  },
  {
   "cell_type": "code",
   "execution_count": 65,
   "metadata": {},
   "outputs": [
    {
     "name": "stdout",
     "output_type": "stream",
     "text": [
      "Done. The result of TensorFlow matches the result of TensorFlow Lite.\n"
     ]
    }
   ],
   "source": [
    "# Assert if the result of TFLite model is consistent with the TF model.\n",
    "np.testing.assert_almost_equal(y_future_pred, y_future_pred_out, decimal=3)\n",
    "print(\"Done. The result of TensorFlow matches the result of TensorFlow Lite.\")"
   ]
  }
 ],
 "metadata": {
  "kernelspec": {
   "display_name": "Python 3",
   "language": "python",
   "name": "python3"
  },
  "language_info": {
   "codemirror_mode": {
    "name": "ipython",
    "version": 3
   },
   "file_extension": ".py",
   "mimetype": "text/x-python",
   "name": "python",
   "nbconvert_exporter": "python",
   "pygments_lexer": "ipython3",
   "version": "3.8.6"
  },
  "toc": {
   "base_numbering": 1,
   "nav_menu": {
    "height": "260px",
    "width": "258px"
   },
   "number_sections": true,
   "sideBar": true,
   "skip_h1_title": false,
   "title_cell": "Table of Contents",
   "title_sidebar": "Contents",
   "toc_cell": false,
   "toc_position": {
    "height": "calc(100% - 180px)",
    "left": "10px",
    "top": "150px",
    "width": "205px"
   },
   "toc_section_display": true,
   "toc_window_display": true
  }
 },
 "nbformat": 4,
 "nbformat_minor": 4
}
